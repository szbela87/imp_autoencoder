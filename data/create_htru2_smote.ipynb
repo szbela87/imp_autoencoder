{
 "cells": [
  {
   "cell_type": "code",
   "execution_count": 1,
   "id": "e27cb616-63e9-451d-a523-c91ccea09fb4",
   "metadata": {},
   "outputs": [],
   "source": [
    "import pandas as pd\n",
    "import numpy as np\n",
    "from sklearn.model_selection import train_test_split\n",
    "from sklearn.preprocessing import MinMaxScaler, RobustScaler, StandardScaler"
   ]
  },
  {
   "cell_type": "code",
   "execution_count": 2,
   "id": "db232402-0829-493f-b8e0-d9cf4122602f",
   "metadata": {},
   "outputs": [],
   "source": [
    "SEED = 2024\n"
   ]
  },
  {
   "cell_type": "code",
   "execution_count": 3,
   "id": "8785d44a-2506-4718-9dc6-a6ff0684e87a",
   "metadata": {},
   "outputs": [],
   "source": [
    "df = pd.read_csv(\"HTRU_2.csv\",sep=\",\",header=None)"
   ]
  },
  {
   "cell_type": "code",
   "execution_count": 4,
   "id": "b83dc42d-85c6-46f5-9f15-eb68c81640ae",
   "metadata": {},
   "outputs": [
    {
     "data": {
      "text/html": [
       "<div>\n",
       "<style scoped>\n",
       "    .dataframe tbody tr th:only-of-type {\n",
       "        vertical-align: middle;\n",
       "    }\n",
       "\n",
       "    .dataframe tbody tr th {\n",
       "        vertical-align: top;\n",
       "    }\n",
       "\n",
       "    .dataframe thead th {\n",
       "        text-align: right;\n",
       "    }\n",
       "</style>\n",
       "<table border=\"1\" class=\"dataframe\">\n",
       "  <thead>\n",
       "    <tr style=\"text-align: right;\">\n",
       "      <th></th>\n",
       "      <th>0</th>\n",
       "      <th>1</th>\n",
       "      <th>2</th>\n",
       "      <th>3</th>\n",
       "      <th>4</th>\n",
       "      <th>5</th>\n",
       "      <th>6</th>\n",
       "      <th>7</th>\n",
       "      <th>8</th>\n",
       "    </tr>\n",
       "  </thead>\n",
       "  <tbody>\n",
       "    <tr>\n",
       "      <th>0</th>\n",
       "      <td>140.562500</td>\n",
       "      <td>55.683782</td>\n",
       "      <td>-0.234571</td>\n",
       "      <td>-0.699648</td>\n",
       "      <td>3.199833</td>\n",
       "      <td>19.110426</td>\n",
       "      <td>7.975532</td>\n",
       "      <td>74.242225</td>\n",
       "      <td>0</td>\n",
       "    </tr>\n",
       "    <tr>\n",
       "      <th>1</th>\n",
       "      <td>102.507812</td>\n",
       "      <td>58.882430</td>\n",
       "      <td>0.465318</td>\n",
       "      <td>-0.515088</td>\n",
       "      <td>1.677258</td>\n",
       "      <td>14.860146</td>\n",
       "      <td>10.576487</td>\n",
       "      <td>127.393580</td>\n",
       "      <td>0</td>\n",
       "    </tr>\n",
       "    <tr>\n",
       "      <th>2</th>\n",
       "      <td>103.015625</td>\n",
       "      <td>39.341649</td>\n",
       "      <td>0.323328</td>\n",
       "      <td>1.051164</td>\n",
       "      <td>3.121237</td>\n",
       "      <td>21.744669</td>\n",
       "      <td>7.735822</td>\n",
       "      <td>63.171909</td>\n",
       "      <td>0</td>\n",
       "    </tr>\n",
       "    <tr>\n",
       "      <th>3</th>\n",
       "      <td>136.750000</td>\n",
       "      <td>57.178449</td>\n",
       "      <td>-0.068415</td>\n",
       "      <td>-0.636238</td>\n",
       "      <td>3.642977</td>\n",
       "      <td>20.959280</td>\n",
       "      <td>6.896499</td>\n",
       "      <td>53.593661</td>\n",
       "      <td>0</td>\n",
       "    </tr>\n",
       "    <tr>\n",
       "      <th>4</th>\n",
       "      <td>88.726562</td>\n",
       "      <td>40.672225</td>\n",
       "      <td>0.600866</td>\n",
       "      <td>1.123492</td>\n",
       "      <td>1.178930</td>\n",
       "      <td>11.468720</td>\n",
       "      <td>14.269573</td>\n",
       "      <td>252.567306</td>\n",
       "      <td>0</td>\n",
       "    </tr>\n",
       "  </tbody>\n",
       "</table>\n",
       "</div>"
      ],
      "text/plain": [
       "            0          1         2         3         4          5          6  \\\n",
       "0  140.562500  55.683782 -0.234571 -0.699648  3.199833  19.110426   7.975532   \n",
       "1  102.507812  58.882430  0.465318 -0.515088  1.677258  14.860146  10.576487   \n",
       "2  103.015625  39.341649  0.323328  1.051164  3.121237  21.744669   7.735822   \n",
       "3  136.750000  57.178449 -0.068415 -0.636238  3.642977  20.959280   6.896499   \n",
       "4   88.726562  40.672225  0.600866  1.123492  1.178930  11.468720  14.269573   \n",
       "\n",
       "            7  8  \n",
       "0   74.242225  0  \n",
       "1  127.393580  0  \n",
       "2   63.171909  0  \n",
       "3   53.593661  0  \n",
       "4  252.567306  0  "
      ]
     },
     "execution_count": 4,
     "metadata": {},
     "output_type": "execute_result"
    }
   ],
   "source": [
    "df.head()"
   ]
  },
  {
   "cell_type": "code",
   "execution_count": 5,
   "id": "a32a0976-267a-46e5-868a-996782196381",
   "metadata": {},
   "outputs": [
    {
     "data": {
      "text/plain": [
       "17898"
      ]
     },
     "execution_count": 5,
     "metadata": {},
     "output_type": "execute_result"
    }
   ],
   "source": [
    "len(df)"
   ]
  },
  {
   "cell_type": "code",
   "execution_count": 6,
   "id": "cf93efb8-f857-46f0-9745-81db5de23ada",
   "metadata": {},
   "outputs": [
    {
     "data": {
      "text/plain": [
       "0    16259\n",
       "1     1639\n",
       "Name: 8, dtype: int64"
      ]
     },
     "execution_count": 6,
     "metadata": {},
     "output_type": "execute_result"
    }
   ],
   "source": [
    "df[8].value_counts()"
   ]
  },
  {
   "cell_type": "code",
   "execution_count": 7,
   "id": "931917a5-a46c-4a99-88fc-452e37eba0b8",
   "metadata": {},
   "outputs": [],
   "source": [
    "labels = df[8]"
   ]
  },
  {
   "cell_type": "code",
   "execution_count": 8,
   "id": "510eb050-14cf-4529-834a-1c16f7b5f0a2",
   "metadata": {},
   "outputs": [
    {
     "data": {
      "text/plain": [
       "0        0\n",
       "1        0\n",
       "2        0\n",
       "3        0\n",
       "4        0\n",
       "        ..\n",
       "17893    0\n",
       "17894    0\n",
       "17895    0\n",
       "17896    0\n",
       "17897    0\n",
       "Name: 8, Length: 17898, dtype: int64"
      ]
     },
     "execution_count": 8,
     "metadata": {},
     "output_type": "execute_result"
    }
   ],
   "source": [
    "labels"
   ]
  },
  {
   "cell_type": "code",
   "execution_count": 9,
   "id": "9fa400ec-0c1b-4784-89cf-d6240f271a1a",
   "metadata": {},
   "outputs": [
    {
     "data": {
      "text/html": [
       "<div>\n",
       "<style scoped>\n",
       "    .dataframe tbody tr th:only-of-type {\n",
       "        vertical-align: middle;\n",
       "    }\n",
       "\n",
       "    .dataframe tbody tr th {\n",
       "        vertical-align: top;\n",
       "    }\n",
       "\n",
       "    .dataframe thead th {\n",
       "        text-align: right;\n",
       "    }\n",
       "</style>\n",
       "<table border=\"1\" class=\"dataframe\">\n",
       "  <thead>\n",
       "    <tr style=\"text-align: right;\">\n",
       "      <th></th>\n",
       "      <th>0</th>\n",
       "      <th>1</th>\n",
       "      <th>2</th>\n",
       "      <th>3</th>\n",
       "      <th>4</th>\n",
       "      <th>5</th>\n",
       "      <th>6</th>\n",
       "      <th>7</th>\n",
       "      <th>Labels</th>\n",
       "    </tr>\n",
       "  </thead>\n",
       "  <tbody>\n",
       "    <tr>\n",
       "      <th>0</th>\n",
       "      <td>140.562500</td>\n",
       "      <td>55.683782</td>\n",
       "      <td>-0.234571</td>\n",
       "      <td>-0.699648</td>\n",
       "      <td>3.199833</td>\n",
       "      <td>19.110426</td>\n",
       "      <td>7.975532</td>\n",
       "      <td>74.242225</td>\n",
       "      <td>0</td>\n",
       "    </tr>\n",
       "    <tr>\n",
       "      <th>1</th>\n",
       "      <td>102.507812</td>\n",
       "      <td>58.882430</td>\n",
       "      <td>0.465318</td>\n",
       "      <td>-0.515088</td>\n",
       "      <td>1.677258</td>\n",
       "      <td>14.860146</td>\n",
       "      <td>10.576487</td>\n",
       "      <td>127.393580</td>\n",
       "      <td>0</td>\n",
       "    </tr>\n",
       "    <tr>\n",
       "      <th>2</th>\n",
       "      <td>103.015625</td>\n",
       "      <td>39.341649</td>\n",
       "      <td>0.323328</td>\n",
       "      <td>1.051164</td>\n",
       "      <td>3.121237</td>\n",
       "      <td>21.744669</td>\n",
       "      <td>7.735822</td>\n",
       "      <td>63.171909</td>\n",
       "      <td>0</td>\n",
       "    </tr>\n",
       "    <tr>\n",
       "      <th>3</th>\n",
       "      <td>136.750000</td>\n",
       "      <td>57.178449</td>\n",
       "      <td>-0.068415</td>\n",
       "      <td>-0.636238</td>\n",
       "      <td>3.642977</td>\n",
       "      <td>20.959280</td>\n",
       "      <td>6.896499</td>\n",
       "      <td>53.593661</td>\n",
       "      <td>0</td>\n",
       "    </tr>\n",
       "    <tr>\n",
       "      <th>4</th>\n",
       "      <td>88.726562</td>\n",
       "      <td>40.672225</td>\n",
       "      <td>0.600866</td>\n",
       "      <td>1.123492</td>\n",
       "      <td>1.178930</td>\n",
       "      <td>11.468720</td>\n",
       "      <td>14.269573</td>\n",
       "      <td>252.567306</td>\n",
       "      <td>0</td>\n",
       "    </tr>\n",
       "    <tr>\n",
       "      <th>...</th>\n",
       "      <td>...</td>\n",
       "      <td>...</td>\n",
       "      <td>...</td>\n",
       "      <td>...</td>\n",
       "      <td>...</td>\n",
       "      <td>...</td>\n",
       "      <td>...</td>\n",
       "      <td>...</td>\n",
       "      <td>...</td>\n",
       "    </tr>\n",
       "    <tr>\n",
       "      <th>17893</th>\n",
       "      <td>136.429688</td>\n",
       "      <td>59.847421</td>\n",
       "      <td>-0.187846</td>\n",
       "      <td>-0.738123</td>\n",
       "      <td>1.296823</td>\n",
       "      <td>12.166062</td>\n",
       "      <td>15.450260</td>\n",
       "      <td>285.931022</td>\n",
       "      <td>0</td>\n",
       "    </tr>\n",
       "    <tr>\n",
       "      <th>17894</th>\n",
       "      <td>122.554688</td>\n",
       "      <td>49.485605</td>\n",
       "      <td>0.127978</td>\n",
       "      <td>0.323061</td>\n",
       "      <td>16.409699</td>\n",
       "      <td>44.626893</td>\n",
       "      <td>2.945244</td>\n",
       "      <td>8.297092</td>\n",
       "      <td>0</td>\n",
       "    </tr>\n",
       "    <tr>\n",
       "      <th>17895</th>\n",
       "      <td>119.335938</td>\n",
       "      <td>59.935939</td>\n",
       "      <td>0.159363</td>\n",
       "      <td>-0.743025</td>\n",
       "      <td>21.430602</td>\n",
       "      <td>58.872000</td>\n",
       "      <td>2.499517</td>\n",
       "      <td>4.595173</td>\n",
       "      <td>0</td>\n",
       "    </tr>\n",
       "    <tr>\n",
       "      <th>17896</th>\n",
       "      <td>114.507812</td>\n",
       "      <td>53.902400</td>\n",
       "      <td>0.201161</td>\n",
       "      <td>-0.024789</td>\n",
       "      <td>1.946488</td>\n",
       "      <td>13.381731</td>\n",
       "      <td>10.007967</td>\n",
       "      <td>134.238910</td>\n",
       "      <td>0</td>\n",
       "    </tr>\n",
       "    <tr>\n",
       "      <th>17897</th>\n",
       "      <td>57.062500</td>\n",
       "      <td>85.797340</td>\n",
       "      <td>1.406391</td>\n",
       "      <td>0.089520</td>\n",
       "      <td>188.306020</td>\n",
       "      <td>64.712562</td>\n",
       "      <td>-1.597527</td>\n",
       "      <td>1.429475</td>\n",
       "      <td>0</td>\n",
       "    </tr>\n",
       "  </tbody>\n",
       "</table>\n",
       "<p>17898 rows × 9 columns</p>\n",
       "</div>"
      ],
      "text/plain": [
       "                0          1         2         3           4          5  \\\n",
       "0      140.562500  55.683782 -0.234571 -0.699648    3.199833  19.110426   \n",
       "1      102.507812  58.882430  0.465318 -0.515088    1.677258  14.860146   \n",
       "2      103.015625  39.341649  0.323328  1.051164    3.121237  21.744669   \n",
       "3      136.750000  57.178449 -0.068415 -0.636238    3.642977  20.959280   \n",
       "4       88.726562  40.672225  0.600866  1.123492    1.178930  11.468720   \n",
       "...           ...        ...       ...       ...         ...        ...   \n",
       "17893  136.429688  59.847421 -0.187846 -0.738123    1.296823  12.166062   \n",
       "17894  122.554688  49.485605  0.127978  0.323061   16.409699  44.626893   \n",
       "17895  119.335938  59.935939  0.159363 -0.743025   21.430602  58.872000   \n",
       "17896  114.507812  53.902400  0.201161 -0.024789    1.946488  13.381731   \n",
       "17897   57.062500  85.797340  1.406391  0.089520  188.306020  64.712562   \n",
       "\n",
       "               6           7  Labels  \n",
       "0       7.975532   74.242225       0  \n",
       "1      10.576487  127.393580       0  \n",
       "2       7.735822   63.171909       0  \n",
       "3       6.896499   53.593661       0  \n",
       "4      14.269573  252.567306       0  \n",
       "...          ...         ...     ...  \n",
       "17893  15.450260  285.931022       0  \n",
       "17894   2.945244    8.297092       0  \n",
       "17895   2.499517    4.595173       0  \n",
       "17896  10.007967  134.238910       0  \n",
       "17897  -1.597527    1.429475       0  \n",
       "\n",
       "[17898 rows x 9 columns]"
      ]
     },
     "execution_count": 9,
     "metadata": {},
     "output_type": "execute_result"
    }
   ],
   "source": [
    "df = df.drop([8],axis=1)\n",
    "df[\"Labels\"] = labels\n",
    "df"
   ]
  },
  {
   "cell_type": "code",
   "execution_count": 10,
   "id": "d16dc780-4e5a-48af-9e63-2d6505377859",
   "metadata": {},
   "outputs": [
    {
     "data": {
      "text/plain": [
       "0    16259\n",
       "1     1639\n",
       "Name: Labels, dtype: int64"
      ]
     },
     "execution_count": 10,
     "metadata": {},
     "output_type": "execute_result"
    }
   ],
   "source": [
    "df[\"Labels\"].value_counts()"
   ]
  },
  {
   "cell_type": "code",
   "execution_count": 11,
   "id": "efac330c-fc4b-4255-bacf-2093216cdb9b",
   "metadata": {},
   "outputs": [
    {
     "name": "stdout",
     "output_type": "stream",
     "text": [
      "<class 'pandas.core.frame.DataFrame'>\n",
      "RangeIndex: 17898 entries, 0 to 17897\n",
      "Data columns (total 9 columns):\n",
      " #   Column  Non-Null Count  Dtype  \n",
      "---  ------  --------------  -----  \n",
      " 0   0       17898 non-null  float64\n",
      " 1   1       17898 non-null  float64\n",
      " 2   2       17898 non-null  float64\n",
      " 3   3       17898 non-null  float64\n",
      " 4   4       17898 non-null  float64\n",
      " 5   5       17898 non-null  float64\n",
      " 6   6       17898 non-null  float64\n",
      " 7   7       17898 non-null  float64\n",
      " 8   Labels  17898 non-null  int64  \n",
      "dtypes: float64(8), int64(1)\n",
      "memory usage: 1.2 MB\n"
     ]
    }
   ],
   "source": [
    "df.info()"
   ]
  },
  {
   "cell_type": "code",
   "execution_count": 12,
   "id": "7801a4a8-b32d-4f46-a1f3-d209e0b912d4",
   "metadata": {},
   "outputs": [],
   "source": [
    "X_train_, X_test = train_test_split(df, test_size=0.1, random_state=SEED) "
   ]
  },
  {
   "cell_type": "code",
   "execution_count": 13,
   "id": "63b95994-7846-480a-aa6f-b558106856fe",
   "metadata": {},
   "outputs": [
    {
     "data": {
      "text/html": [
       "<div>\n",
       "<style scoped>\n",
       "    .dataframe tbody tr th:only-of-type {\n",
       "        vertical-align: middle;\n",
       "    }\n",
       "\n",
       "    .dataframe tbody tr th {\n",
       "        vertical-align: top;\n",
       "    }\n",
       "\n",
       "    .dataframe thead th {\n",
       "        text-align: right;\n",
       "    }\n",
       "</style>\n",
       "<table border=\"1\" class=\"dataframe\">\n",
       "  <thead>\n",
       "    <tr style=\"text-align: right;\">\n",
       "      <th></th>\n",
       "      <th>0</th>\n",
       "      <th>1</th>\n",
       "      <th>2</th>\n",
       "      <th>3</th>\n",
       "      <th>4</th>\n",
       "      <th>5</th>\n",
       "      <th>6</th>\n",
       "      <th>7</th>\n",
       "      <th>Labels</th>\n",
       "    </tr>\n",
       "  </thead>\n",
       "  <tbody>\n",
       "    <tr>\n",
       "      <th>11583</th>\n",
       "      <td>93.734375</td>\n",
       "      <td>50.264221</td>\n",
       "      <td>0.437706</td>\n",
       "      <td>0.207748</td>\n",
       "      <td>24.388796</td>\n",
       "      <td>56.341590</td>\n",
       "      <td>2.145113</td>\n",
       "      <td>3.177422</td>\n",
       "      <td>0</td>\n",
       "    </tr>\n",
       "    <tr>\n",
       "      <th>15516</th>\n",
       "      <td>114.054688</td>\n",
       "      <td>52.423204</td>\n",
       "      <td>0.149742</td>\n",
       "      <td>-0.286647</td>\n",
       "      <td>2.520903</td>\n",
       "      <td>16.242839</td>\n",
       "      <td>9.467739</td>\n",
       "      <td>109.048145</td>\n",
       "      <td>0</td>\n",
       "    </tr>\n",
       "    <tr>\n",
       "      <th>3462</th>\n",
       "      <td>87.804688</td>\n",
       "      <td>39.197827</td>\n",
       "      <td>0.721681</td>\n",
       "      <td>2.058747</td>\n",
       "      <td>2.642977</td>\n",
       "      <td>14.066688</td>\n",
       "      <td>8.387087</td>\n",
       "      <td>103.761808</td>\n",
       "      <td>0</td>\n",
       "    </tr>\n",
       "    <tr>\n",
       "      <th>16313</th>\n",
       "      <td>142.265625</td>\n",
       "      <td>49.541095</td>\n",
       "      <td>-0.188452</td>\n",
       "      <td>-0.241917</td>\n",
       "      <td>2.411371</td>\n",
       "      <td>14.191170</td>\n",
       "      <td>10.187500</td>\n",
       "      <td>139.921849</td>\n",
       "      <td>0</td>\n",
       "    </tr>\n",
       "    <tr>\n",
       "      <th>2483</th>\n",
       "      <td>116.031250</td>\n",
       "      <td>56.691178</td>\n",
       "      <td>0.092955</td>\n",
       "      <td>-0.493398</td>\n",
       "      <td>4.192308</td>\n",
       "      <td>25.302976</td>\n",
       "      <td>6.420555</td>\n",
       "      <td>42.167027</td>\n",
       "      <td>0</td>\n",
       "    </tr>\n",
       "    <tr>\n",
       "      <th>...</th>\n",
       "      <td>...</td>\n",
       "      <td>...</td>\n",
       "      <td>...</td>\n",
       "      <td>...</td>\n",
       "      <td>...</td>\n",
       "      <td>...</td>\n",
       "      <td>...</td>\n",
       "      <td>...</td>\n",
       "      <td>...</td>\n",
       "    </tr>\n",
       "    <tr>\n",
       "      <th>16567</th>\n",
       "      <td>128.125000</td>\n",
       "      <td>48.357555</td>\n",
       "      <td>-0.005863</td>\n",
       "      <td>-0.100869</td>\n",
       "      <td>2.019231</td>\n",
       "      <td>15.440807</td>\n",
       "      <td>10.652478</td>\n",
       "      <td>137.918490</td>\n",
       "      <td>0</td>\n",
       "    </tr>\n",
       "    <tr>\n",
       "      <th>2494</th>\n",
       "      <td>135.554688</td>\n",
       "      <td>41.715706</td>\n",
       "      <td>-0.047587</td>\n",
       "      <td>0.910534</td>\n",
       "      <td>2.617893</td>\n",
       "      <td>17.409786</td>\n",
       "      <td>8.831467</td>\n",
       "      <td>89.780556</td>\n",
       "      <td>0</td>\n",
       "    </tr>\n",
       "    <tr>\n",
       "      <th>14875</th>\n",
       "      <td>124.976562</td>\n",
       "      <td>45.683946</td>\n",
       "      <td>-0.209657</td>\n",
       "      <td>0.109942</td>\n",
       "      <td>4.981605</td>\n",
       "      <td>26.593647</td>\n",
       "      <td>5.563959</td>\n",
       "      <td>31.319089</td>\n",
       "      <td>0</td>\n",
       "    </tr>\n",
       "    <tr>\n",
       "      <th>2688</th>\n",
       "      <td>125.304688</td>\n",
       "      <td>49.947873</td>\n",
       "      <td>0.053109</td>\n",
       "      <td>-0.068939</td>\n",
       "      <td>1.628763</td>\n",
       "      <td>12.247147</td>\n",
       "      <td>12.262394</td>\n",
       "      <td>195.921439</td>\n",
       "      <td>0</td>\n",
       "    </tr>\n",
       "    <tr>\n",
       "      <th>7816</th>\n",
       "      <td>120.867188</td>\n",
       "      <td>39.129267</td>\n",
       "      <td>0.068661</td>\n",
       "      <td>1.005908</td>\n",
       "      <td>2.090301</td>\n",
       "      <td>13.255599</td>\n",
       "      <td>10.760405</td>\n",
       "      <td>152.782160</td>\n",
       "      <td>0</td>\n",
       "    </tr>\n",
       "  </tbody>\n",
       "</table>\n",
       "<p>16108 rows × 9 columns</p>\n",
       "</div>"
      ],
      "text/plain": [
       "                0          1         2         3          4          5  \\\n",
       "11583   93.734375  50.264221  0.437706  0.207748  24.388796  56.341590   \n",
       "15516  114.054688  52.423204  0.149742 -0.286647   2.520903  16.242839   \n",
       "3462    87.804688  39.197827  0.721681  2.058747   2.642977  14.066688   \n",
       "16313  142.265625  49.541095 -0.188452 -0.241917   2.411371  14.191170   \n",
       "2483   116.031250  56.691178  0.092955 -0.493398   4.192308  25.302976   \n",
       "...           ...        ...       ...       ...        ...        ...   \n",
       "16567  128.125000  48.357555 -0.005863 -0.100869   2.019231  15.440807   \n",
       "2494   135.554688  41.715706 -0.047587  0.910534   2.617893  17.409786   \n",
       "14875  124.976562  45.683946 -0.209657  0.109942   4.981605  26.593647   \n",
       "2688   125.304688  49.947873  0.053109 -0.068939   1.628763  12.247147   \n",
       "7816   120.867188  39.129267  0.068661  1.005908   2.090301  13.255599   \n",
       "\n",
       "               6           7  Labels  \n",
       "11583   2.145113    3.177422       0  \n",
       "15516   9.467739  109.048145       0  \n",
       "3462    8.387087  103.761808       0  \n",
       "16313  10.187500  139.921849       0  \n",
       "2483    6.420555   42.167027       0  \n",
       "...          ...         ...     ...  \n",
       "16567  10.652478  137.918490       0  \n",
       "2494    8.831467   89.780556       0  \n",
       "14875   5.563959   31.319089       0  \n",
       "2688   12.262394  195.921439       0  \n",
       "7816   10.760405  152.782160       0  \n",
       "\n",
       "[16108 rows x 9 columns]"
      ]
     },
     "execution_count": 13,
     "metadata": {},
     "output_type": "execute_result"
    }
   ],
   "source": [
    "X_train_"
   ]
  },
  {
   "cell_type": "code",
   "execution_count": 14,
   "id": "98e52a4c-1203-48b6-8262-3b0beaec9a2b",
   "metadata": {},
   "outputs": [],
   "source": [
    "# Smote on X_train_"
   ]
  },
  {
   "cell_type": "code",
   "execution_count": 15,
   "id": "647b5036-1dcd-468c-92b7-6a0f8a415bd5",
   "metadata": {},
   "outputs": [],
   "source": [
    "#!pip install imblearn"
   ]
  },
  {
   "cell_type": "code",
   "execution_count": 16,
   "id": "fada0ddb-374d-44bc-af3e-368ee3599624",
   "metadata": {},
   "outputs": [],
   "source": [
    "#!pip install scikit-learn==1.1"
   ]
  },
  {
   "cell_type": "code",
   "execution_count": 17,
   "id": "79638ddc-3723-40b1-bae3-2fc29ac2f68a",
   "metadata": {},
   "outputs": [],
   "source": [
    "from imblearn.over_sampling import SMOTE\n"
   ]
  },
  {
   "cell_type": "code",
   "execution_count": 18,
   "id": "c9f02c10-9ea7-44e4-916b-ee528c27ffa5",
   "metadata": {},
   "outputs": [],
   "source": [
    "y_train_= X_train_[\"Labels\"]\n",
    "X_train_ = X_train_.drop(\"Labels\",axis=1)"
   ]
  },
  {
   "cell_type": "code",
   "execution_count": 19,
   "id": "9e662299-e266-4ff0-b9fe-49bdfe31cd82",
   "metadata": {},
   "outputs": [],
   "source": [
    "sm = SMOTE(random_state=SEED)\n",
    "X_resampled,y_resampled= sm.fit_resample(X_train_, y_train_)"
   ]
  },
  {
   "cell_type": "code",
   "execution_count": 20,
   "id": "502680ee-2149-4646-ae47-fb92f22eeaa1",
   "metadata": {},
   "outputs": [
    {
     "data": {
      "text/plain": [
       "(29282, 29282)"
      ]
     },
     "execution_count": 20,
     "metadata": {},
     "output_type": "execute_result"
    }
   ],
   "source": [
    "len(X_resampled), len(y_resampled)"
   ]
  },
  {
   "cell_type": "code",
   "execution_count": 21,
   "id": "a92d570c-f9af-4d75-81ae-fc4694376d93",
   "metadata": {},
   "outputs": [],
   "source": [
    "X_resampled[\"Labels\"] = y_resampled"
   ]
  },
  {
   "cell_type": "code",
   "execution_count": 22,
   "id": "10521387-fa3e-4167-92d3-a3b9db1d029d",
   "metadata": {},
   "outputs": [
    {
     "data": {
      "text/html": [
       "<div>\n",
       "<style scoped>\n",
       "    .dataframe tbody tr th:only-of-type {\n",
       "        vertical-align: middle;\n",
       "    }\n",
       "\n",
       "    .dataframe tbody tr th {\n",
       "        vertical-align: top;\n",
       "    }\n",
       "\n",
       "    .dataframe thead th {\n",
       "        text-align: right;\n",
       "    }\n",
       "</style>\n",
       "<table border=\"1\" class=\"dataframe\">\n",
       "  <thead>\n",
       "    <tr style=\"text-align: right;\">\n",
       "      <th></th>\n",
       "      <th>0</th>\n",
       "      <th>1</th>\n",
       "      <th>2</th>\n",
       "      <th>3</th>\n",
       "      <th>4</th>\n",
       "      <th>5</th>\n",
       "      <th>6</th>\n",
       "      <th>7</th>\n",
       "      <th>Labels</th>\n",
       "    </tr>\n",
       "  </thead>\n",
       "  <tbody>\n",
       "    <tr>\n",
       "      <th>0</th>\n",
       "      <td>93.734375</td>\n",
       "      <td>50.264221</td>\n",
       "      <td>0.437706</td>\n",
       "      <td>0.207748</td>\n",
       "      <td>24.388796</td>\n",
       "      <td>56.341590</td>\n",
       "      <td>2.145113</td>\n",
       "      <td>3.177422</td>\n",
       "      <td>0</td>\n",
       "    </tr>\n",
       "    <tr>\n",
       "      <th>1</th>\n",
       "      <td>114.054688</td>\n",
       "      <td>52.423204</td>\n",
       "      <td>0.149742</td>\n",
       "      <td>-0.286647</td>\n",
       "      <td>2.520903</td>\n",
       "      <td>16.242839</td>\n",
       "      <td>9.467739</td>\n",
       "      <td>109.048145</td>\n",
       "      <td>0</td>\n",
       "    </tr>\n",
       "    <tr>\n",
       "      <th>2</th>\n",
       "      <td>87.804688</td>\n",
       "      <td>39.197827</td>\n",
       "      <td>0.721681</td>\n",
       "      <td>2.058747</td>\n",
       "      <td>2.642977</td>\n",
       "      <td>14.066688</td>\n",
       "      <td>8.387087</td>\n",
       "      <td>103.761808</td>\n",
       "      <td>0</td>\n",
       "    </tr>\n",
       "    <tr>\n",
       "      <th>3</th>\n",
       "      <td>142.265625</td>\n",
       "      <td>49.541095</td>\n",
       "      <td>-0.188452</td>\n",
       "      <td>-0.241917</td>\n",
       "      <td>2.411371</td>\n",
       "      <td>14.191170</td>\n",
       "      <td>10.187500</td>\n",
       "      <td>139.921849</td>\n",
       "      <td>0</td>\n",
       "    </tr>\n",
       "    <tr>\n",
       "      <th>4</th>\n",
       "      <td>116.031250</td>\n",
       "      <td>56.691178</td>\n",
       "      <td>0.092955</td>\n",
       "      <td>-0.493398</td>\n",
       "      <td>4.192308</td>\n",
       "      <td>25.302976</td>\n",
       "      <td>6.420555</td>\n",
       "      <td>42.167027</td>\n",
       "      <td>0</td>\n",
       "    </tr>\n",
       "    <tr>\n",
       "      <th>...</th>\n",
       "      <td>...</td>\n",
       "      <td>...</td>\n",
       "      <td>...</td>\n",
       "      <td>...</td>\n",
       "      <td>...</td>\n",
       "      <td>...</td>\n",
       "      <td>...</td>\n",
       "      <td>...</td>\n",
       "      <td>...</td>\n",
       "    </tr>\n",
       "    <tr>\n",
       "      <th>29277</th>\n",
       "      <td>32.428985</td>\n",
       "      <td>43.313465</td>\n",
       "      <td>3.631580</td>\n",
       "      <td>13.337052</td>\n",
       "      <td>74.835336</td>\n",
       "      <td>68.294569</td>\n",
       "      <td>0.685239</td>\n",
       "      <td>-0.319316</td>\n",
       "      <td>1</td>\n",
       "    </tr>\n",
       "    <tr>\n",
       "      <th>29278</th>\n",
       "      <td>98.556740</td>\n",
       "      <td>47.392817</td>\n",
       "      <td>0.834697</td>\n",
       "      <td>1.011664</td>\n",
       "      <td>25.996273</td>\n",
       "      <td>61.087576</td>\n",
       "      <td>2.240735</td>\n",
       "      <td>3.662472</td>\n",
       "      <td>1</td>\n",
       "    </tr>\n",
       "    <tr>\n",
       "      <th>29279</th>\n",
       "      <td>14.774589</td>\n",
       "      <td>37.268951</td>\n",
       "      <td>5.033660</td>\n",
       "      <td>25.876964</td>\n",
       "      <td>124.954390</td>\n",
       "      <td>70.719016</td>\n",
       "      <td>0.156804</td>\n",
       "      <td>-1.141779</td>\n",
       "      <td>1</td>\n",
       "    </tr>\n",
       "    <tr>\n",
       "      <th>29280</th>\n",
       "      <td>62.970407</td>\n",
       "      <td>34.027488</td>\n",
       "      <td>2.622132</td>\n",
       "      <td>10.989636</td>\n",
       "      <td>48.789219</td>\n",
       "      <td>65.535087</td>\n",
       "      <td>1.432364</td>\n",
       "      <td>1.132814</td>\n",
       "      <td>1</td>\n",
       "    </tr>\n",
       "    <tr>\n",
       "      <th>29281</th>\n",
       "      <td>97.323310</td>\n",
       "      <td>44.317509</td>\n",
       "      <td>0.723723</td>\n",
       "      <td>1.447003</td>\n",
       "      <td>2.460795</td>\n",
       "      <td>17.673520</td>\n",
       "      <td>9.631126</td>\n",
       "      <td>109.535099</td>\n",
       "      <td>1</td>\n",
       "    </tr>\n",
       "  </tbody>\n",
       "</table>\n",
       "<p>29282 rows × 9 columns</p>\n",
       "</div>"
      ],
      "text/plain": [
       "                0          1         2          3           4          5  \\\n",
       "0       93.734375  50.264221  0.437706   0.207748   24.388796  56.341590   \n",
       "1      114.054688  52.423204  0.149742  -0.286647    2.520903  16.242839   \n",
       "2       87.804688  39.197827  0.721681   2.058747    2.642977  14.066688   \n",
       "3      142.265625  49.541095 -0.188452  -0.241917    2.411371  14.191170   \n",
       "4      116.031250  56.691178  0.092955  -0.493398    4.192308  25.302976   \n",
       "...           ...        ...       ...        ...         ...        ...   \n",
       "29277   32.428985  43.313465  3.631580  13.337052   74.835336  68.294569   \n",
       "29278   98.556740  47.392817  0.834697   1.011664   25.996273  61.087576   \n",
       "29279   14.774589  37.268951  5.033660  25.876964  124.954390  70.719016   \n",
       "29280   62.970407  34.027488  2.622132  10.989636   48.789219  65.535087   \n",
       "29281   97.323310  44.317509  0.723723   1.447003    2.460795  17.673520   \n",
       "\n",
       "               6           7  Labels  \n",
       "0       2.145113    3.177422       0  \n",
       "1       9.467739  109.048145       0  \n",
       "2       8.387087  103.761808       0  \n",
       "3      10.187500  139.921849       0  \n",
       "4       6.420555   42.167027       0  \n",
       "...          ...         ...     ...  \n",
       "29277   0.685239   -0.319316       1  \n",
       "29278   2.240735    3.662472       1  \n",
       "29279   0.156804   -1.141779       1  \n",
       "29280   1.432364    1.132814       1  \n",
       "29281   9.631126  109.535099       1  \n",
       "\n",
       "[29282 rows x 9 columns]"
      ]
     },
     "execution_count": 22,
     "metadata": {},
     "output_type": "execute_result"
    }
   ],
   "source": [
    "X_resampled"
   ]
  },
  {
   "cell_type": "code",
   "execution_count": 23,
   "id": "7abfe458-53b7-45e9-a834-6fffe20ec10c",
   "metadata": {},
   "outputs": [
    {
     "data": {
      "text/plain": [
       "0    14641\n",
       "1    14641\n",
       "Name: Labels, dtype: int64"
      ]
     },
     "execution_count": 23,
     "metadata": {},
     "output_type": "execute_result"
    }
   ],
   "source": [
    "X_resampled[\"Labels\"].value_counts()"
   ]
  },
  {
   "cell_type": "code",
   "execution_count": 24,
   "id": "6ebaf165-f1c9-4052-8d31-ed618128f66c",
   "metadata": {},
   "outputs": [
    {
     "data": {
      "text/plain": [
       "1790"
      ]
     },
     "execution_count": 24,
     "metadata": {},
     "output_type": "execute_result"
    }
   ],
   "source": [
    "len(X_test)"
   ]
  },
  {
   "cell_type": "code",
   "execution_count": 25,
   "id": "ae2f994f-a17c-4696-aa42-9245a277c993",
   "metadata": {},
   "outputs": [],
   "source": [
    "X_train, X_valid = train_test_split(X_resampled, test_size=0.1, random_state=SEED) "
   ]
  },
  {
   "cell_type": "code",
   "execution_count": 26,
   "id": "0d571e41-17b1-4f8b-b124-c8461739ccfd",
   "metadata": {},
   "outputs": [
    {
     "data": {
      "text/plain": [
       "Index([0, 1, 2, 3, 4, 5, 6, 7, 'Labels'], dtype='object')"
      ]
     },
     "execution_count": 26,
     "metadata": {},
     "output_type": "execute_result"
    }
   ],
   "source": [
    "X_train.columns"
   ]
  },
  {
   "cell_type": "code",
   "execution_count": 27,
   "id": "af6ffd2f-56ad-428d-bb65-f1339e4d5b75",
   "metadata": {},
   "outputs": [
    {
     "data": {
      "text/plain": [
       "Index([0, 1, 2, 3, 4, 5, 6, 7], dtype='object')"
      ]
     },
     "execution_count": 27,
     "metadata": {},
     "output_type": "execute_result"
    }
   ],
   "source": [
    "cols = X_train.columns[:-1]\n",
    "cols"
   ]
  },
  {
   "cell_type": "code",
   "execution_count": 28,
   "id": "a5b1dfa5-ed3b-41bb-8f44-9b71a5a336d9",
   "metadata": {},
   "outputs": [
    {
     "data": {
      "text/plain": [
       "(26353, 2929, 1790)"
      ]
     },
     "execution_count": 28,
     "metadata": {},
     "output_type": "execute_result"
    }
   ],
   "source": [
    "len(X_train), len(X_valid), len(X_test)"
   ]
  },
  {
   "cell_type": "code",
   "execution_count": 29,
   "id": "0b875c13-fc4e-4ae5-afb2-065e0c2d7e6c",
   "metadata": {},
   "outputs": [
    {
     "data": {
      "text/plain": [
       "1    13189\n",
       "0    13164\n",
       "Name: Labels, dtype: int64"
      ]
     },
     "execution_count": 29,
     "metadata": {},
     "output_type": "execute_result"
    }
   ],
   "source": [
    "X_train[\"Labels\"].value_counts()"
   ]
  },
  {
   "cell_type": "code",
   "execution_count": 30,
   "id": "36bc6865-db8c-4415-adfc-d5f443ee2cdd",
   "metadata": {},
   "outputs": [
    {
     "data": {
      "text/plain": [
       "0    1477\n",
       "1    1452\n",
       "Name: Labels, dtype: int64"
      ]
     },
     "execution_count": 30,
     "metadata": {},
     "output_type": "execute_result"
    }
   ],
   "source": [
    "X_valid[\"Labels\"].value_counts()"
   ]
  },
  {
   "cell_type": "code",
   "execution_count": 31,
   "id": "1d03d44e-3eb4-4400-b381-0addad85e39c",
   "metadata": {},
   "outputs": [
    {
     "data": {
      "text/plain": [
       "0    1618\n",
       "1     172\n",
       "Name: Labels, dtype: int64"
      ]
     },
     "execution_count": 31,
     "metadata": {},
     "output_type": "execute_result"
    }
   ],
   "source": [
    "X_test[\"Labels\"].value_counts()"
   ]
  },
  {
   "cell_type": "code",
   "execution_count": null,
   "id": "76b6da36-22c1-477b-8639-9c4191275f24",
   "metadata": {},
   "outputs": [],
   "source": []
  },
  {
   "cell_type": "code",
   "execution_count": 32,
   "id": "48c8c47c-162a-41bb-b0b2-8b18443cd00a",
   "metadata": {},
   "outputs": [],
   "source": [
    "X_train = X_train[X_train[\"Labels\"]==0]"
   ]
  },
  {
   "cell_type": "code",
   "execution_count": 33,
   "id": "4c2dd36a-6afb-4ae0-abb8-61ed484d5a8f",
   "metadata": {},
   "outputs": [
    {
     "data": {
      "text/html": [
       "<div>\n",
       "<style scoped>\n",
       "    .dataframe tbody tr th:only-of-type {\n",
       "        vertical-align: middle;\n",
       "    }\n",
       "\n",
       "    .dataframe tbody tr th {\n",
       "        vertical-align: top;\n",
       "    }\n",
       "\n",
       "    .dataframe thead th {\n",
       "        text-align: right;\n",
       "    }\n",
       "</style>\n",
       "<table border=\"1\" class=\"dataframe\">\n",
       "  <thead>\n",
       "    <tr style=\"text-align: right;\">\n",
       "      <th></th>\n",
       "      <th>0</th>\n",
       "      <th>1</th>\n",
       "      <th>2</th>\n",
       "      <th>3</th>\n",
       "      <th>4</th>\n",
       "      <th>5</th>\n",
       "      <th>6</th>\n",
       "      <th>7</th>\n",
       "      <th>Labels</th>\n",
       "    </tr>\n",
       "  </thead>\n",
       "  <tbody>\n",
       "    <tr>\n",
       "      <th>15502</th>\n",
       "      <td>146.093750</td>\n",
       "      <td>46.782148</td>\n",
       "      <td>-0.182414</td>\n",
       "      <td>0.083016</td>\n",
       "      <td>1.823579</td>\n",
       "      <td>18.376583</td>\n",
       "      <td>10.816643</td>\n",
       "      <td>120.463003</td>\n",
       "      <td>0</td>\n",
       "    </tr>\n",
       "    <tr>\n",
       "      <th>15513</th>\n",
       "      <td>114.156250</td>\n",
       "      <td>41.541289</td>\n",
       "      <td>0.577129</td>\n",
       "      <td>1.516991</td>\n",
       "      <td>1.039298</td>\n",
       "      <td>12.752767</td>\n",
       "      <td>14.106027</td>\n",
       "      <td>217.465501</td>\n",
       "      <td>0</td>\n",
       "    </tr>\n",
       "    <tr>\n",
       "      <th>7707</th>\n",
       "      <td>132.398438</td>\n",
       "      <td>49.090213</td>\n",
       "      <td>0.035531</td>\n",
       "      <td>-0.455355</td>\n",
       "      <td>1.646321</td>\n",
       "      <td>14.152697</td>\n",
       "      <td>10.596625</td>\n",
       "      <td>133.474216</td>\n",
       "      <td>0</td>\n",
       "    </tr>\n",
       "    <tr>\n",
       "      <th>1714</th>\n",
       "      <td>101.968750</td>\n",
       "      <td>46.316327</td>\n",
       "      <td>0.439814</td>\n",
       "      <td>0.294261</td>\n",
       "      <td>1.748328</td>\n",
       "      <td>16.486623</td>\n",
       "      <td>10.810393</td>\n",
       "      <td>127.733366</td>\n",
       "      <td>0</td>\n",
       "    </tr>\n",
       "    <tr>\n",
       "      <th>13332</th>\n",
       "      <td>168.062500</td>\n",
       "      <td>44.009720</td>\n",
       "      <td>-0.653927</td>\n",
       "      <td>1.132875</td>\n",
       "      <td>1.256689</td>\n",
       "      <td>12.826805</td>\n",
       "      <td>13.073273</td>\n",
       "      <td>197.136651</td>\n",
       "      <td>0</td>\n",
       "    </tr>\n",
       "    <tr>\n",
       "      <th>...</th>\n",
       "      <td>...</td>\n",
       "      <td>...</td>\n",
       "      <td>...</td>\n",
       "      <td>...</td>\n",
       "      <td>...</td>\n",
       "      <td>...</td>\n",
       "      <td>...</td>\n",
       "      <td>...</td>\n",
       "      <td>...</td>\n",
       "    </tr>\n",
       "    <tr>\n",
       "      <th>7977</th>\n",
       "      <td>103.921875</td>\n",
       "      <td>47.645109</td>\n",
       "      <td>0.197722</td>\n",
       "      <td>0.181032</td>\n",
       "      <td>4.494983</td>\n",
       "      <td>25.651950</td>\n",
       "      <td>6.819495</td>\n",
       "      <td>50.263754</td>\n",
       "      <td>0</td>\n",
       "    </tr>\n",
       "    <tr>\n",
       "      <th>2494</th>\n",
       "      <td>121.664062</td>\n",
       "      <td>55.256402</td>\n",
       "      <td>0.014271</td>\n",
       "      <td>-0.608809</td>\n",
       "      <td>4.677258</td>\n",
       "      <td>28.250454</td>\n",
       "      <td>6.604769</td>\n",
       "      <td>44.817260</td>\n",
       "      <td>0</td>\n",
       "    </tr>\n",
       "    <tr>\n",
       "      <th>14875</th>\n",
       "      <td>126.125000</td>\n",
       "      <td>42.971284</td>\n",
       "      <td>-0.059258</td>\n",
       "      <td>0.265109</td>\n",
       "      <td>2.623746</td>\n",
       "      <td>19.325817</td>\n",
       "      <td>8.561876</td>\n",
       "      <td>80.169221</td>\n",
       "      <td>0</td>\n",
       "    </tr>\n",
       "    <tr>\n",
       "      <th>2688</th>\n",
       "      <td>113.398438</td>\n",
       "      <td>40.149397</td>\n",
       "      <td>0.322763</td>\n",
       "      <td>0.532786</td>\n",
       "      <td>2.985786</td>\n",
       "      <td>16.622323</td>\n",
       "      <td>8.176916</td>\n",
       "      <td>83.887394</td>\n",
       "      <td>0</td>\n",
       "    </tr>\n",
       "    <tr>\n",
       "      <th>7816</th>\n",
       "      <td>108.382812</td>\n",
       "      <td>49.396850</td>\n",
       "      <td>0.611931</td>\n",
       "      <td>0.044871</td>\n",
       "      <td>2.535117</td>\n",
       "      <td>16.391620</td>\n",
       "      <td>8.444314</td>\n",
       "      <td>86.724906</td>\n",
       "      <td>0</td>\n",
       "    </tr>\n",
       "  </tbody>\n",
       "</table>\n",
       "<p>13164 rows × 9 columns</p>\n",
       "</div>"
      ],
      "text/plain": [
       "                0          1         2         3         4          5  \\\n",
       "15502  146.093750  46.782148 -0.182414  0.083016  1.823579  18.376583   \n",
       "15513  114.156250  41.541289  0.577129  1.516991  1.039298  12.752767   \n",
       "7707   132.398438  49.090213  0.035531 -0.455355  1.646321  14.152697   \n",
       "1714   101.968750  46.316327  0.439814  0.294261  1.748328  16.486623   \n",
       "13332  168.062500  44.009720 -0.653927  1.132875  1.256689  12.826805   \n",
       "...           ...        ...       ...       ...       ...        ...   \n",
       "7977   103.921875  47.645109  0.197722  0.181032  4.494983  25.651950   \n",
       "2494   121.664062  55.256402  0.014271 -0.608809  4.677258  28.250454   \n",
       "14875  126.125000  42.971284 -0.059258  0.265109  2.623746  19.325817   \n",
       "2688   113.398438  40.149397  0.322763  0.532786  2.985786  16.622323   \n",
       "7816   108.382812  49.396850  0.611931  0.044871  2.535117  16.391620   \n",
       "\n",
       "               6           7  Labels  \n",
       "15502  10.816643  120.463003       0  \n",
       "15513  14.106027  217.465501       0  \n",
       "7707   10.596625  133.474216       0  \n",
       "1714   10.810393  127.733366       0  \n",
       "13332  13.073273  197.136651       0  \n",
       "...          ...         ...     ...  \n",
       "7977    6.819495   50.263754       0  \n",
       "2494    6.604769   44.817260       0  \n",
       "14875   8.561876   80.169221       0  \n",
       "2688    8.176916   83.887394       0  \n",
       "7816    8.444314   86.724906       0  \n",
       "\n",
       "[13164 rows x 9 columns]"
      ]
     },
     "execution_count": 33,
     "metadata": {},
     "output_type": "execute_result"
    }
   ],
   "source": [
    "X_train"
   ]
  },
  {
   "cell_type": "code",
   "execution_count": null,
   "id": "7213e73a-c5f6-4587-9386-92e9b4875087",
   "metadata": {},
   "outputs": [],
   "source": []
  },
  {
   "cell_type": "code",
   "execution_count": null,
   "id": "be96ae4a-4733-47be-bbc1-38dda594e85b",
   "metadata": {},
   "outputs": [],
   "source": []
  },
  {
   "cell_type": "code",
   "execution_count": 34,
   "id": "a0580dea-21aa-4508-ac37-866d51692f9c",
   "metadata": {},
   "outputs": [],
   "source": [
    "#scaler = MinMaxScaler()\n",
    "#scaler = RobustScaler()\n",
    "scaler = StandardScaler()"
   ]
  },
  {
   "cell_type": "code",
   "execution_count": 35,
   "id": "3e095beb-4f02-4059-b158-31dbc255c593",
   "metadata": {},
   "outputs": [
    {
     "data": {
      "text/html": [
       "<style>#sk-container-id-1 {color: black;background-color: white;}#sk-container-id-1 pre{padding: 0;}#sk-container-id-1 div.sk-toggleable {background-color: white;}#sk-container-id-1 label.sk-toggleable__label {cursor: pointer;display: block;width: 100%;margin-bottom: 0;padding: 0.3em;box-sizing: border-box;text-align: center;}#sk-container-id-1 label.sk-toggleable__label-arrow:before {content: \"▸\";float: left;margin-right: 0.25em;color: #696969;}#sk-container-id-1 label.sk-toggleable__label-arrow:hover:before {color: black;}#sk-container-id-1 div.sk-estimator:hover label.sk-toggleable__label-arrow:before {color: black;}#sk-container-id-1 div.sk-toggleable__content {max-height: 0;max-width: 0;overflow: hidden;text-align: left;background-color: #f0f8ff;}#sk-container-id-1 div.sk-toggleable__content pre {margin: 0.2em;color: black;border-radius: 0.25em;background-color: #f0f8ff;}#sk-container-id-1 input.sk-toggleable__control:checked~div.sk-toggleable__content {max-height: 200px;max-width: 100%;overflow: auto;}#sk-container-id-1 input.sk-toggleable__control:checked~label.sk-toggleable__label-arrow:before {content: \"▾\";}#sk-container-id-1 div.sk-estimator input.sk-toggleable__control:checked~label.sk-toggleable__label {background-color: #d4ebff;}#sk-container-id-1 div.sk-label input.sk-toggleable__control:checked~label.sk-toggleable__label {background-color: #d4ebff;}#sk-container-id-1 input.sk-hidden--visually {border: 0;clip: rect(1px 1px 1px 1px);clip: rect(1px, 1px, 1px, 1px);height: 1px;margin: -1px;overflow: hidden;padding: 0;position: absolute;width: 1px;}#sk-container-id-1 div.sk-estimator {font-family: monospace;background-color: #f0f8ff;border: 1px dotted black;border-radius: 0.25em;box-sizing: border-box;margin-bottom: 0.5em;}#sk-container-id-1 div.sk-estimator:hover {background-color: #d4ebff;}#sk-container-id-1 div.sk-parallel-item::after {content: \"\";width: 100%;border-bottom: 1px solid gray;flex-grow: 1;}#sk-container-id-1 div.sk-label:hover label.sk-toggleable__label {background-color: #d4ebff;}#sk-container-id-1 div.sk-serial::before {content: \"\";position: absolute;border-left: 1px solid gray;box-sizing: border-box;top: 0;bottom: 0;left: 50%;z-index: 0;}#sk-container-id-1 div.sk-serial {display: flex;flex-direction: column;align-items: center;background-color: white;padding-right: 0.2em;padding-left: 0.2em;position: relative;}#sk-container-id-1 div.sk-item {position: relative;z-index: 1;}#sk-container-id-1 div.sk-parallel {display: flex;align-items: stretch;justify-content: center;background-color: white;position: relative;}#sk-container-id-1 div.sk-item::before, #sk-container-id-1 div.sk-parallel-item::before {content: \"\";position: absolute;border-left: 1px solid gray;box-sizing: border-box;top: 0;bottom: 0;left: 50%;z-index: -1;}#sk-container-id-1 div.sk-parallel-item {display: flex;flex-direction: column;z-index: 1;position: relative;background-color: white;}#sk-container-id-1 div.sk-parallel-item:first-child::after {align-self: flex-end;width: 50%;}#sk-container-id-1 div.sk-parallel-item:last-child::after {align-self: flex-start;width: 50%;}#sk-container-id-1 div.sk-parallel-item:only-child::after {width: 0;}#sk-container-id-1 div.sk-dashed-wrapped {border: 1px dashed gray;margin: 0 0.4em 0.5em 0.4em;box-sizing: border-box;padding-bottom: 0.4em;background-color: white;}#sk-container-id-1 div.sk-label label {font-family: monospace;font-weight: bold;display: inline-block;line-height: 1.2em;}#sk-container-id-1 div.sk-label-container {text-align: center;}#sk-container-id-1 div.sk-container {/* jupyter's `normalize.less` sets `[hidden] { display: none; }` but bootstrap.min.css set `[hidden] { display: none !important; }` so we also need the `!important` here to be able to override the default hidden behavior on the sphinx rendered scikit-learn.org. See: https://github.com/scikit-learn/scikit-learn/issues/21755 */display: inline-block !important;position: relative;}#sk-container-id-1 div.sk-text-repr-fallback {display: none;}</style><div id=\"sk-container-id-1\" class=\"sk-top-container\"><div class=\"sk-text-repr-fallback\"><pre>StandardScaler()</pre><b>In a Jupyter environment, please rerun this cell to show the HTML representation or trust the notebook. <br />On GitHub, the HTML representation is unable to render, please try loading this page with nbviewer.org.</b></div><div class=\"sk-container\" hidden><div class=\"sk-item\"><div class=\"sk-estimator sk-toggleable\"><input class=\"sk-toggleable__control sk-hidden--visually\" id=\"sk-estimator-id-1\" type=\"checkbox\" checked><label for=\"sk-estimator-id-1\" class=\"sk-toggleable__label sk-toggleable__label-arrow\">StandardScaler</label><div class=\"sk-toggleable__content\"><pre>StandardScaler()</pre></div></div></div></div></div>"
      ],
      "text/plain": [
       "StandardScaler()"
      ]
     },
     "execution_count": 35,
     "metadata": {},
     "output_type": "execute_result"
    }
   ],
   "source": [
    "scaler.fit(X_train[cols])"
   ]
  },
  {
   "cell_type": "code",
   "execution_count": 36,
   "id": "dbe69bf1-6784-4ff0-b666-bd89357c9d8b",
   "metadata": {},
   "outputs": [],
   "source": [
    "X_train[cols] = scaler.transform(X_train[cols])\n",
    "X_valid[cols] = scaler.transform(X_valid[cols])\n",
    "X_test[cols]  = scaler.transform(X_test[cols])"
   ]
  },
  {
   "cell_type": "code",
   "execution_count": 37,
   "id": "6b3a1de7-7175-4062-b6d9-ab57eca3cbdf",
   "metadata": {},
   "outputs": [
    {
     "data": {
      "text/html": [
       "<div>\n",
       "<style scoped>\n",
       "    .dataframe tbody tr th:only-of-type {\n",
       "        vertical-align: middle;\n",
       "    }\n",
       "\n",
       "    .dataframe tbody tr th {\n",
       "        vertical-align: top;\n",
       "    }\n",
       "\n",
       "    .dataframe thead th {\n",
       "        text-align: right;\n",
       "    }\n",
       "</style>\n",
       "<table border=\"1\" class=\"dataframe\">\n",
       "  <thead>\n",
       "    <tr style=\"text-align: right;\">\n",
       "      <th></th>\n",
       "      <th>0</th>\n",
       "      <th>1</th>\n",
       "      <th>2</th>\n",
       "      <th>3</th>\n",
       "      <th>4</th>\n",
       "      <th>5</th>\n",
       "      <th>6</th>\n",
       "      <th>7</th>\n",
       "      <th>Labels</th>\n",
       "    </tr>\n",
       "  </thead>\n",
       "  <tbody>\n",
       "    <tr>\n",
       "      <th>15502</th>\n",
       "      <td>1.689952</td>\n",
       "      <td>-0.095750</td>\n",
       "      <td>-1.168010</td>\n",
       "      <td>-0.283883</td>\n",
       "      <td>-0.287683</td>\n",
       "      <td>-0.293165</td>\n",
       "      <td>0.459327</td>\n",
       "      <td>0.062829</td>\n",
       "      <td>0</td>\n",
       "    </tr>\n",
       "    <tr>\n",
       "      <th>15513</th>\n",
       "      <td>-0.139220</td>\n",
       "      <td>-0.945737</td>\n",
       "      <td>1.091967</td>\n",
       "      <td>1.101706</td>\n",
       "      <td>-0.319768</td>\n",
       "      <td>-0.631810</td>\n",
       "      <td>1.235442</td>\n",
       "      <td>0.970907</td>\n",
       "      <td>0</td>\n",
       "    </tr>\n",
       "    <tr>\n",
       "      <th>7707</th>\n",
       "      <td>0.905573</td>\n",
       "      <td>0.278584</td>\n",
       "      <td>-0.519527</td>\n",
       "      <td>-0.804088</td>\n",
       "      <td>-0.294935</td>\n",
       "      <td>-0.547511</td>\n",
       "      <td>0.407414</td>\n",
       "      <td>0.184632</td>\n",
       "      <td>0</td>\n",
       "    </tr>\n",
       "    <tr>\n",
       "      <th>1714</th>\n",
       "      <td>-0.837241</td>\n",
       "      <td>-0.171299</td>\n",
       "      <td>0.683395</td>\n",
       "      <td>-0.079765</td>\n",
       "      <td>-0.290762</td>\n",
       "      <td>-0.406971</td>\n",
       "      <td>0.457852</td>\n",
       "      <td>0.130890</td>\n",
       "      <td>0</td>\n",
       "    </tr>\n",
       "    <tr>\n",
       "      <th>13332</th>\n",
       "      <td>2.948178</td>\n",
       "      <td>-0.545395</td>\n",
       "      <td>-2.570969</td>\n",
       "      <td>0.730551</td>\n",
       "      <td>-0.310874</td>\n",
       "      <td>-0.627352</td>\n",
       "      <td>0.991769</td>\n",
       "      <td>0.780600</td>\n",
       "      <td>0</td>\n",
       "    </tr>\n",
       "    <tr>\n",
       "      <th>...</th>\n",
       "      <td>...</td>\n",
       "      <td>...</td>\n",
       "      <td>...</td>\n",
       "      <td>...</td>\n",
       "      <td>...</td>\n",
       "      <td>...</td>\n",
       "      <td>...</td>\n",
       "      <td>...</td>\n",
       "      <td>...</td>\n",
       "    </tr>\n",
       "    <tr>\n",
       "      <th>7977</th>\n",
       "      <td>-0.725379</td>\n",
       "      <td>0.044210</td>\n",
       "      <td>-0.036938</td>\n",
       "      <td>-0.189175</td>\n",
       "      <td>-0.178397</td>\n",
       "      <td>0.144931</td>\n",
       "      <td>-0.483783</td>\n",
       "      <td>-0.594333</td>\n",
       "      <td>0</td>\n",
       "    </tr>\n",
       "    <tr>\n",
       "      <th>2494</th>\n",
       "      <td>0.290778</td>\n",
       "      <td>1.278646</td>\n",
       "      <td>-0.582783</td>\n",
       "      <td>-0.952364</td>\n",
       "      <td>-0.170940</td>\n",
       "      <td>0.301403</td>\n",
       "      <td>-0.534447</td>\n",
       "      <td>-0.645320</td>\n",
       "      <td>0</td>\n",
       "    </tr>\n",
       "    <tr>\n",
       "      <th>14875</th>\n",
       "      <td>0.546272</td>\n",
       "      <td>-0.713814</td>\n",
       "      <td>-0.801567</td>\n",
       "      <td>-0.107934</td>\n",
       "      <td>-0.254949</td>\n",
       "      <td>-0.236005</td>\n",
       "      <td>-0.072676</td>\n",
       "      <td>-0.314377</td>\n",
       "      <td>0</td>\n",
       "    </tr>\n",
       "    <tr>\n",
       "      <th>2688</th>\n",
       "      <td>-0.182623</td>\n",
       "      <td>-1.171481</td>\n",
       "      <td>0.335114</td>\n",
       "      <td>0.150711</td>\n",
       "      <td>-0.240138</td>\n",
       "      <td>-0.398800</td>\n",
       "      <td>-0.163506</td>\n",
       "      <td>-0.279569</td>\n",
       "      <td>0</td>\n",
       "    </tr>\n",
       "    <tr>\n",
       "      <th>7816</th>\n",
       "      <td>-0.469885</td>\n",
       "      <td>0.328315</td>\n",
       "      <td>1.195517</td>\n",
       "      <td>-0.320741</td>\n",
       "      <td>-0.258574</td>\n",
       "      <td>-0.412692</td>\n",
       "      <td>-0.100414</td>\n",
       "      <td>-0.253006</td>\n",
       "      <td>0</td>\n",
       "    </tr>\n",
       "  </tbody>\n",
       "</table>\n",
       "<p>13164 rows × 9 columns</p>\n",
       "</div>"
      ],
      "text/plain": [
       "              0         1         2         3         4         5         6  \\\n",
       "15502  1.689952 -0.095750 -1.168010 -0.283883 -0.287683 -0.293165  0.459327   \n",
       "15513 -0.139220 -0.945737  1.091967  1.101706 -0.319768 -0.631810  1.235442   \n",
       "7707   0.905573  0.278584 -0.519527 -0.804088 -0.294935 -0.547511  0.407414   \n",
       "1714  -0.837241 -0.171299  0.683395 -0.079765 -0.290762 -0.406971  0.457852   \n",
       "13332  2.948178 -0.545395 -2.570969  0.730551 -0.310874 -0.627352  0.991769   \n",
       "...         ...       ...       ...       ...       ...       ...       ...   \n",
       "7977  -0.725379  0.044210 -0.036938 -0.189175 -0.178397  0.144931 -0.483783   \n",
       "2494   0.290778  1.278646 -0.582783 -0.952364 -0.170940  0.301403 -0.534447   \n",
       "14875  0.546272 -0.713814 -0.801567 -0.107934 -0.254949 -0.236005 -0.072676   \n",
       "2688  -0.182623 -1.171481  0.335114  0.150711 -0.240138 -0.398800 -0.163506   \n",
       "7816  -0.469885  0.328315  1.195517 -0.320741 -0.258574 -0.412692 -0.100414   \n",
       "\n",
       "              7  Labels  \n",
       "15502  0.062829       0  \n",
       "15513  0.970907       0  \n",
       "7707   0.184632       0  \n",
       "1714   0.130890       0  \n",
       "13332  0.780600       0  \n",
       "...         ...     ...  \n",
       "7977  -0.594333       0  \n",
       "2494  -0.645320       0  \n",
       "14875 -0.314377       0  \n",
       "2688  -0.279569       0  \n",
       "7816  -0.253006       0  \n",
       "\n",
       "[13164 rows x 9 columns]"
      ]
     },
     "execution_count": 37,
     "metadata": {},
     "output_type": "execute_result"
    }
   ],
   "source": [
    "X_train"
   ]
  },
  {
   "cell_type": "code",
   "execution_count": 38,
   "id": "f71f3a22-02bf-488a-8157-0d105f424700",
   "metadata": {},
   "outputs": [
    {
     "data": {
      "text/plain": [
       "(0    13164\n",
       " Name: Labels, dtype: int64,\n",
       " 0    1477\n",
       " 1    1452\n",
       " Name: Labels, dtype: int64,\n",
       " 0    1618\n",
       " 1     172\n",
       " Name: Labels, dtype: int64)"
      ]
     },
     "execution_count": 38,
     "metadata": {},
     "output_type": "execute_result"
    }
   ],
   "source": [
    "X_train[\"Labels\"].value_counts(), X_valid[\"Labels\"].value_counts(), X_test[\"Labels\"].value_counts()"
   ]
  },
  {
   "cell_type": "code",
   "execution_count": 39,
   "id": "25ba155c-7910-4ef0-a51e-00f5762f6060",
   "metadata": {},
   "outputs": [
    {
     "data": {
      "text/plain": [
       "(13164, 2929, 1790)"
      ]
     },
     "execution_count": 39,
     "metadata": {},
     "output_type": "execute_result"
    }
   ],
   "source": [
    "len(X_train), len(X_valid), len(X_test)"
   ]
  },
  {
   "cell_type": "code",
   "execution_count": 40,
   "id": "fb985272-2516-4f3b-bbf4-ac61fe3a342c",
   "metadata": {},
   "outputs": [],
   "source": [
    "#X_train = X_train[X_train[\"Labels\"]==0]"
   ]
  },
  {
   "cell_type": "code",
   "execution_count": 41,
   "id": "d6eda10e-4895-4d9a-9966-67c7fcbee735",
   "metadata": {},
   "outputs": [],
   "source": [
    "X_train = X_train.drop(\"Labels\",axis=1)"
   ]
  },
  {
   "cell_type": "code",
   "execution_count": 42,
   "id": "c12ba18e-dc39-4dc8-9123-93050e309c2c",
   "metadata": {},
   "outputs": [
    {
     "data": {
      "text/plain": [
       "(13164, 2929, 1790, 8)"
      ]
     },
     "execution_count": 42,
     "metadata": {},
     "output_type": "execute_result"
    }
   ],
   "source": [
    "X_train.to_csv(\"htru2smote_train.csv\",header=None,index=False,sep=\" \")\n",
    "X_valid.to_csv(\"htru2smote_valid.csv\",header=None,index=False,sep=\" \")\n",
    "X_test.to_csv(\"htru2smote_test.csv\",header=None,index=False,sep=\" \")\n",
    "len(X_train), len(X_valid), len(X_test), len(X_train.columns)"
   ]
  },
  {
   "cell_type": "code",
   "execution_count": 43,
   "id": "5cd3a33f-e050-40b2-8ebe-15208bca0872",
   "metadata": {},
   "outputs": [
    {
     "data": {
      "text/plain": [
       "(Index([0, 1, 2, 3, 4, 5, 6, 7, 'Labels'], dtype='object'),\n",
       " Index([0, 1, 2, 3, 4, 5, 6, 7, 'Labels'], dtype='object'))"
      ]
     },
     "execution_count": 43,
     "metadata": {},
     "output_type": "execute_result"
    }
   ],
   "source": [
    "X_valid.columns, X_test.columns"
   ]
  },
  {
   "cell_type": "code",
   "execution_count": null,
   "id": "9ae0928e-52fb-4ae3-a3b5-bd7589bbe5f9",
   "metadata": {},
   "outputs": [],
   "source": []
  }
 ],
 "metadata": {
  "kernelspec": {
   "display_name": "Python 3",
   "language": "python",
   "name": "python3"
  },
  "language_info": {
   "codemirror_mode": {
    "name": "ipython",
    "version": 3
   },
   "file_extension": ".py",
   "mimetype": "text/x-python",
   "name": "python",
   "nbconvert_exporter": "python",
   "pygments_lexer": "ipython3",
   "version": "3.8.8"
  }
 },
 "nbformat": 4,
 "nbformat_minor": 5
}
