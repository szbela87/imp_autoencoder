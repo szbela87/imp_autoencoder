{
 "cells": [
  {
   "cell_type": "code",
   "execution_count": 1,
   "id": "e27cb616-63e9-451d-a523-c91ccea09fb4",
   "metadata": {},
   "outputs": [],
   "source": [
    "import pandas as pd\n",
    "import numpy as np\n",
    "from sklearn.model_selection import train_test_split\n",
    "from sklearn.preprocessing import MinMaxScaler, RobustScaler, StandardScaler"
   ]
  },
  {
   "cell_type": "code",
   "execution_count": 2,
   "id": "db232402-0829-493f-b8e0-d9cf4122602f",
   "metadata": {},
   "outputs": [],
   "source": [
    "SEED = 2024"
   ]
  },
  {
   "cell_type": "code",
   "execution_count": 3,
   "id": "8785d44a-2506-4718-9dc6-a6ff0684e87a",
   "metadata": {},
   "outputs": [],
   "source": [
    "# Loading the data\n",
    "df = pd.read_csv(\"HTRU_2.csv\",sep=\",\",header=None)"
   ]
  },
  {
   "cell_type": "code",
   "execution_count": 4,
   "id": "b83dc42d-85c6-46f5-9f15-eb68c81640ae",
   "metadata": {},
   "outputs": [
    {
     "data": {
      "text/html": [
       "<div>\n",
       "<style scoped>\n",
       "    .dataframe tbody tr th:only-of-type {\n",
       "        vertical-align: middle;\n",
       "    }\n",
       "\n",
       "    .dataframe tbody tr th {\n",
       "        vertical-align: top;\n",
       "    }\n",
       "\n",
       "    .dataframe thead th {\n",
       "        text-align: right;\n",
       "    }\n",
       "</style>\n",
       "<table border=\"1\" class=\"dataframe\">\n",
       "  <thead>\n",
       "    <tr style=\"text-align: right;\">\n",
       "      <th></th>\n",
       "      <th>0</th>\n",
       "      <th>1</th>\n",
       "      <th>2</th>\n",
       "      <th>3</th>\n",
       "      <th>4</th>\n",
       "      <th>5</th>\n",
       "      <th>6</th>\n",
       "      <th>7</th>\n",
       "      <th>8</th>\n",
       "    </tr>\n",
       "  </thead>\n",
       "  <tbody>\n",
       "    <tr>\n",
       "      <th>0</th>\n",
       "      <td>140.562500</td>\n",
       "      <td>55.683782</td>\n",
       "      <td>-0.234571</td>\n",
       "      <td>-0.699648</td>\n",
       "      <td>3.199833</td>\n",
       "      <td>19.110426</td>\n",
       "      <td>7.975532</td>\n",
       "      <td>74.242225</td>\n",
       "      <td>0</td>\n",
       "    </tr>\n",
       "    <tr>\n",
       "      <th>1</th>\n",
       "      <td>102.507812</td>\n",
       "      <td>58.882430</td>\n",
       "      <td>0.465318</td>\n",
       "      <td>-0.515088</td>\n",
       "      <td>1.677258</td>\n",
       "      <td>14.860146</td>\n",
       "      <td>10.576487</td>\n",
       "      <td>127.393580</td>\n",
       "      <td>0</td>\n",
       "    </tr>\n",
       "    <tr>\n",
       "      <th>2</th>\n",
       "      <td>103.015625</td>\n",
       "      <td>39.341649</td>\n",
       "      <td>0.323328</td>\n",
       "      <td>1.051164</td>\n",
       "      <td>3.121237</td>\n",
       "      <td>21.744669</td>\n",
       "      <td>7.735822</td>\n",
       "      <td>63.171909</td>\n",
       "      <td>0</td>\n",
       "    </tr>\n",
       "    <tr>\n",
       "      <th>3</th>\n",
       "      <td>136.750000</td>\n",
       "      <td>57.178449</td>\n",
       "      <td>-0.068415</td>\n",
       "      <td>-0.636238</td>\n",
       "      <td>3.642977</td>\n",
       "      <td>20.959280</td>\n",
       "      <td>6.896499</td>\n",
       "      <td>53.593661</td>\n",
       "      <td>0</td>\n",
       "    </tr>\n",
       "    <tr>\n",
       "      <th>4</th>\n",
       "      <td>88.726562</td>\n",
       "      <td>40.672225</td>\n",
       "      <td>0.600866</td>\n",
       "      <td>1.123492</td>\n",
       "      <td>1.178930</td>\n",
       "      <td>11.468720</td>\n",
       "      <td>14.269573</td>\n",
       "      <td>252.567306</td>\n",
       "      <td>0</td>\n",
       "    </tr>\n",
       "  </tbody>\n",
       "</table>\n",
       "</div>"
      ],
      "text/plain": [
       "            0          1         2         3         4          5          6  \\\n",
       "0  140.562500  55.683782 -0.234571 -0.699648  3.199833  19.110426   7.975532   \n",
       "1  102.507812  58.882430  0.465318 -0.515088  1.677258  14.860146  10.576487   \n",
       "2  103.015625  39.341649  0.323328  1.051164  3.121237  21.744669   7.735822   \n",
       "3  136.750000  57.178449 -0.068415 -0.636238  3.642977  20.959280   6.896499   \n",
       "4   88.726562  40.672225  0.600866  1.123492  1.178930  11.468720  14.269573   \n",
       "\n",
       "            7  8  \n",
       "0   74.242225  0  \n",
       "1  127.393580  0  \n",
       "2   63.171909  0  \n",
       "3   53.593661  0  \n",
       "4  252.567306  0  "
      ]
     },
     "execution_count": 4,
     "metadata": {},
     "output_type": "execute_result"
    }
   ],
   "source": [
    "df.head()"
   ]
  },
  {
   "cell_type": "code",
   "execution_count": 5,
   "id": "a32a0976-267a-46e5-868a-996782196381",
   "metadata": {},
   "outputs": [
    {
     "data": {
      "text/plain": [
       "17898"
      ]
     },
     "execution_count": 5,
     "metadata": {},
     "output_type": "execute_result"
    }
   ],
   "source": [
    "len(df)"
   ]
  },
  {
   "cell_type": "code",
   "execution_count": 6,
   "id": "cf93efb8-f857-46f0-9745-81db5de23ada",
   "metadata": {},
   "outputs": [
    {
     "data": {
      "text/plain": [
       "0    16259\n",
       "1     1639\n",
       "Name: 8, dtype: int64"
      ]
     },
     "execution_count": 6,
     "metadata": {},
     "output_type": "execute_result"
    }
   ],
   "source": [
    "df[8].value_counts()"
   ]
  },
  {
   "cell_type": "code",
   "execution_count": 7,
   "id": "931917a5-a46c-4a99-88fc-452e37eba0b8",
   "metadata": {},
   "outputs": [],
   "source": [
    "labels = df[8]"
   ]
  },
  {
   "cell_type": "code",
   "execution_count": 8,
   "id": "510eb050-14cf-4529-834a-1c16f7b5f0a2",
   "metadata": {},
   "outputs": [
    {
     "data": {
      "text/plain": [
       "0        0\n",
       "1        0\n",
       "2        0\n",
       "3        0\n",
       "4        0\n",
       "        ..\n",
       "17893    0\n",
       "17894    0\n",
       "17895    0\n",
       "17896    0\n",
       "17897    0\n",
       "Name: 8, Length: 17898, dtype: int64"
      ]
     },
     "execution_count": 8,
     "metadata": {},
     "output_type": "execute_result"
    }
   ],
   "source": [
    "labels"
   ]
  },
  {
   "cell_type": "code",
   "execution_count": 9,
   "id": "9fa400ec-0c1b-4784-89cf-d6240f271a1a",
   "metadata": {},
   "outputs": [
    {
     "data": {
      "text/html": [
       "<div>\n",
       "<style scoped>\n",
       "    .dataframe tbody tr th:only-of-type {\n",
       "        vertical-align: middle;\n",
       "    }\n",
       "\n",
       "    .dataframe tbody tr th {\n",
       "        vertical-align: top;\n",
       "    }\n",
       "\n",
       "    .dataframe thead th {\n",
       "        text-align: right;\n",
       "    }\n",
       "</style>\n",
       "<table border=\"1\" class=\"dataframe\">\n",
       "  <thead>\n",
       "    <tr style=\"text-align: right;\">\n",
       "      <th></th>\n",
       "      <th>0</th>\n",
       "      <th>1</th>\n",
       "      <th>2</th>\n",
       "      <th>3</th>\n",
       "      <th>4</th>\n",
       "      <th>5</th>\n",
       "      <th>6</th>\n",
       "      <th>7</th>\n",
       "      <th>Labels</th>\n",
       "    </tr>\n",
       "  </thead>\n",
       "  <tbody>\n",
       "    <tr>\n",
       "      <th>0</th>\n",
       "      <td>140.562500</td>\n",
       "      <td>55.683782</td>\n",
       "      <td>-0.234571</td>\n",
       "      <td>-0.699648</td>\n",
       "      <td>3.199833</td>\n",
       "      <td>19.110426</td>\n",
       "      <td>7.975532</td>\n",
       "      <td>74.242225</td>\n",
       "      <td>0</td>\n",
       "    </tr>\n",
       "    <tr>\n",
       "      <th>1</th>\n",
       "      <td>102.507812</td>\n",
       "      <td>58.882430</td>\n",
       "      <td>0.465318</td>\n",
       "      <td>-0.515088</td>\n",
       "      <td>1.677258</td>\n",
       "      <td>14.860146</td>\n",
       "      <td>10.576487</td>\n",
       "      <td>127.393580</td>\n",
       "      <td>0</td>\n",
       "    </tr>\n",
       "    <tr>\n",
       "      <th>2</th>\n",
       "      <td>103.015625</td>\n",
       "      <td>39.341649</td>\n",
       "      <td>0.323328</td>\n",
       "      <td>1.051164</td>\n",
       "      <td>3.121237</td>\n",
       "      <td>21.744669</td>\n",
       "      <td>7.735822</td>\n",
       "      <td>63.171909</td>\n",
       "      <td>0</td>\n",
       "    </tr>\n",
       "    <tr>\n",
       "      <th>3</th>\n",
       "      <td>136.750000</td>\n",
       "      <td>57.178449</td>\n",
       "      <td>-0.068415</td>\n",
       "      <td>-0.636238</td>\n",
       "      <td>3.642977</td>\n",
       "      <td>20.959280</td>\n",
       "      <td>6.896499</td>\n",
       "      <td>53.593661</td>\n",
       "      <td>0</td>\n",
       "    </tr>\n",
       "    <tr>\n",
       "      <th>4</th>\n",
       "      <td>88.726562</td>\n",
       "      <td>40.672225</td>\n",
       "      <td>0.600866</td>\n",
       "      <td>1.123492</td>\n",
       "      <td>1.178930</td>\n",
       "      <td>11.468720</td>\n",
       "      <td>14.269573</td>\n",
       "      <td>252.567306</td>\n",
       "      <td>0</td>\n",
       "    </tr>\n",
       "    <tr>\n",
       "      <th>...</th>\n",
       "      <td>...</td>\n",
       "      <td>...</td>\n",
       "      <td>...</td>\n",
       "      <td>...</td>\n",
       "      <td>...</td>\n",
       "      <td>...</td>\n",
       "      <td>...</td>\n",
       "      <td>...</td>\n",
       "      <td>...</td>\n",
       "    </tr>\n",
       "    <tr>\n",
       "      <th>17893</th>\n",
       "      <td>136.429688</td>\n",
       "      <td>59.847421</td>\n",
       "      <td>-0.187846</td>\n",
       "      <td>-0.738123</td>\n",
       "      <td>1.296823</td>\n",
       "      <td>12.166062</td>\n",
       "      <td>15.450260</td>\n",
       "      <td>285.931022</td>\n",
       "      <td>0</td>\n",
       "    </tr>\n",
       "    <tr>\n",
       "      <th>17894</th>\n",
       "      <td>122.554688</td>\n",
       "      <td>49.485605</td>\n",
       "      <td>0.127978</td>\n",
       "      <td>0.323061</td>\n",
       "      <td>16.409699</td>\n",
       "      <td>44.626893</td>\n",
       "      <td>2.945244</td>\n",
       "      <td>8.297092</td>\n",
       "      <td>0</td>\n",
       "    </tr>\n",
       "    <tr>\n",
       "      <th>17895</th>\n",
       "      <td>119.335938</td>\n",
       "      <td>59.935939</td>\n",
       "      <td>0.159363</td>\n",
       "      <td>-0.743025</td>\n",
       "      <td>21.430602</td>\n",
       "      <td>58.872000</td>\n",
       "      <td>2.499517</td>\n",
       "      <td>4.595173</td>\n",
       "      <td>0</td>\n",
       "    </tr>\n",
       "    <tr>\n",
       "      <th>17896</th>\n",
       "      <td>114.507812</td>\n",
       "      <td>53.902400</td>\n",
       "      <td>0.201161</td>\n",
       "      <td>-0.024789</td>\n",
       "      <td>1.946488</td>\n",
       "      <td>13.381731</td>\n",
       "      <td>10.007967</td>\n",
       "      <td>134.238910</td>\n",
       "      <td>0</td>\n",
       "    </tr>\n",
       "    <tr>\n",
       "      <th>17897</th>\n",
       "      <td>57.062500</td>\n",
       "      <td>85.797340</td>\n",
       "      <td>1.406391</td>\n",
       "      <td>0.089520</td>\n",
       "      <td>188.306020</td>\n",
       "      <td>64.712562</td>\n",
       "      <td>-1.597527</td>\n",
       "      <td>1.429475</td>\n",
       "      <td>0</td>\n",
       "    </tr>\n",
       "  </tbody>\n",
       "</table>\n",
       "<p>17898 rows × 9 columns</p>\n",
       "</div>"
      ],
      "text/plain": [
       "                0          1         2         3           4          5  \\\n",
       "0      140.562500  55.683782 -0.234571 -0.699648    3.199833  19.110426   \n",
       "1      102.507812  58.882430  0.465318 -0.515088    1.677258  14.860146   \n",
       "2      103.015625  39.341649  0.323328  1.051164    3.121237  21.744669   \n",
       "3      136.750000  57.178449 -0.068415 -0.636238    3.642977  20.959280   \n",
       "4       88.726562  40.672225  0.600866  1.123492    1.178930  11.468720   \n",
       "...           ...        ...       ...       ...         ...        ...   \n",
       "17893  136.429688  59.847421 -0.187846 -0.738123    1.296823  12.166062   \n",
       "17894  122.554688  49.485605  0.127978  0.323061   16.409699  44.626893   \n",
       "17895  119.335938  59.935939  0.159363 -0.743025   21.430602  58.872000   \n",
       "17896  114.507812  53.902400  0.201161 -0.024789    1.946488  13.381731   \n",
       "17897   57.062500  85.797340  1.406391  0.089520  188.306020  64.712562   \n",
       "\n",
       "               6           7  Labels  \n",
       "0       7.975532   74.242225       0  \n",
       "1      10.576487  127.393580       0  \n",
       "2       7.735822   63.171909       0  \n",
       "3       6.896499   53.593661       0  \n",
       "4      14.269573  252.567306       0  \n",
       "...          ...         ...     ...  \n",
       "17893  15.450260  285.931022       0  \n",
       "17894   2.945244    8.297092       0  \n",
       "17895   2.499517    4.595173       0  \n",
       "17896  10.007967  134.238910       0  \n",
       "17897  -1.597527    1.429475       0  \n",
       "\n",
       "[17898 rows x 9 columns]"
      ]
     },
     "execution_count": 9,
     "metadata": {},
     "output_type": "execute_result"
    }
   ],
   "source": [
    "df = df.drop([8],axis=1)\n",
    "df[\"Labels\"] = labels\n",
    "df"
   ]
  },
  {
   "cell_type": "code",
   "execution_count": 10,
   "id": "d16dc780-4e5a-48af-9e63-2d6505377859",
   "metadata": {},
   "outputs": [
    {
     "data": {
      "text/plain": [
       "0    16259\n",
       "1     1639\n",
       "Name: Labels, dtype: int64"
      ]
     },
     "execution_count": 10,
     "metadata": {},
     "output_type": "execute_result"
    }
   ],
   "source": [
    "df[\"Labels\"].value_counts()"
   ]
  },
  {
   "cell_type": "code",
   "execution_count": 11,
   "id": "efac330c-fc4b-4255-bacf-2093216cdb9b",
   "metadata": {},
   "outputs": [
    {
     "name": "stdout",
     "output_type": "stream",
     "text": [
      "<class 'pandas.core.frame.DataFrame'>\n",
      "RangeIndex: 17898 entries, 0 to 17897\n",
      "Data columns (total 9 columns):\n",
      " #   Column  Non-Null Count  Dtype  \n",
      "---  ------  --------------  -----  \n",
      " 0   0       17898 non-null  float64\n",
      " 1   1       17898 non-null  float64\n",
      " 2   2       17898 non-null  float64\n",
      " 3   3       17898 non-null  float64\n",
      " 4   4       17898 non-null  float64\n",
      " 5   5       17898 non-null  float64\n",
      " 6   6       17898 non-null  float64\n",
      " 7   7       17898 non-null  float64\n",
      " 8   Labels  17898 non-null  int64  \n",
      "dtypes: float64(8), int64(1)\n",
      "memory usage: 1.2 MB\n"
     ]
    }
   ],
   "source": [
    "df.info()"
   ]
  },
  {
   "cell_type": "code",
   "execution_count": null,
   "id": "7797a8d6-6442-4ab2-b7ab-6bc9d3e67f5a",
   "metadata": {},
   "outputs": [],
   "source": [
    "# Splitting to learning and testing sets"
   ]
  },
  {
   "cell_type": "code",
   "execution_count": 12,
   "id": "7801a4a8-b32d-4f46-a1f3-d209e0b912d4",
   "metadata": {},
   "outputs": [],
   "source": [
    "X_train_, X_test = train_test_split(df, test_size=0.1, random_state=SEED) "
   ]
  },
  {
   "cell_type": "code",
   "execution_count": 13,
   "id": "63b95994-7846-480a-aa6f-b558106856fe",
   "metadata": {},
   "outputs": [
    {
     "data": {
      "text/html": [
       "<div>\n",
       "<style scoped>\n",
       "    .dataframe tbody tr th:only-of-type {\n",
       "        vertical-align: middle;\n",
       "    }\n",
       "\n",
       "    .dataframe tbody tr th {\n",
       "        vertical-align: top;\n",
       "    }\n",
       "\n",
       "    .dataframe thead th {\n",
       "        text-align: right;\n",
       "    }\n",
       "</style>\n",
       "<table border=\"1\" class=\"dataframe\">\n",
       "  <thead>\n",
       "    <tr style=\"text-align: right;\">\n",
       "      <th></th>\n",
       "      <th>0</th>\n",
       "      <th>1</th>\n",
       "      <th>2</th>\n",
       "      <th>3</th>\n",
       "      <th>4</th>\n",
       "      <th>5</th>\n",
       "      <th>6</th>\n",
       "      <th>7</th>\n",
       "      <th>Labels</th>\n",
       "    </tr>\n",
       "  </thead>\n",
       "  <tbody>\n",
       "    <tr>\n",
       "      <th>11583</th>\n",
       "      <td>93.734375</td>\n",
       "      <td>50.264221</td>\n",
       "      <td>0.437706</td>\n",
       "      <td>0.207748</td>\n",
       "      <td>24.388796</td>\n",
       "      <td>56.341590</td>\n",
       "      <td>2.145113</td>\n",
       "      <td>3.177422</td>\n",
       "      <td>0</td>\n",
       "    </tr>\n",
       "    <tr>\n",
       "      <th>15516</th>\n",
       "      <td>114.054688</td>\n",
       "      <td>52.423204</td>\n",
       "      <td>0.149742</td>\n",
       "      <td>-0.286647</td>\n",
       "      <td>2.520903</td>\n",
       "      <td>16.242839</td>\n",
       "      <td>9.467739</td>\n",
       "      <td>109.048145</td>\n",
       "      <td>0</td>\n",
       "    </tr>\n",
       "    <tr>\n",
       "      <th>3462</th>\n",
       "      <td>87.804688</td>\n",
       "      <td>39.197827</td>\n",
       "      <td>0.721681</td>\n",
       "      <td>2.058747</td>\n",
       "      <td>2.642977</td>\n",
       "      <td>14.066688</td>\n",
       "      <td>8.387087</td>\n",
       "      <td>103.761808</td>\n",
       "      <td>0</td>\n",
       "    </tr>\n",
       "    <tr>\n",
       "      <th>16313</th>\n",
       "      <td>142.265625</td>\n",
       "      <td>49.541095</td>\n",
       "      <td>-0.188452</td>\n",
       "      <td>-0.241917</td>\n",
       "      <td>2.411371</td>\n",
       "      <td>14.191170</td>\n",
       "      <td>10.187500</td>\n",
       "      <td>139.921849</td>\n",
       "      <td>0</td>\n",
       "    </tr>\n",
       "    <tr>\n",
       "      <th>2483</th>\n",
       "      <td>116.031250</td>\n",
       "      <td>56.691178</td>\n",
       "      <td>0.092955</td>\n",
       "      <td>-0.493398</td>\n",
       "      <td>4.192308</td>\n",
       "      <td>25.302976</td>\n",
       "      <td>6.420555</td>\n",
       "      <td>42.167027</td>\n",
       "      <td>0</td>\n",
       "    </tr>\n",
       "    <tr>\n",
       "      <th>...</th>\n",
       "      <td>...</td>\n",
       "      <td>...</td>\n",
       "      <td>...</td>\n",
       "      <td>...</td>\n",
       "      <td>...</td>\n",
       "      <td>...</td>\n",
       "      <td>...</td>\n",
       "      <td>...</td>\n",
       "      <td>...</td>\n",
       "    </tr>\n",
       "    <tr>\n",
       "      <th>16567</th>\n",
       "      <td>128.125000</td>\n",
       "      <td>48.357555</td>\n",
       "      <td>-0.005863</td>\n",
       "      <td>-0.100869</td>\n",
       "      <td>2.019231</td>\n",
       "      <td>15.440807</td>\n",
       "      <td>10.652478</td>\n",
       "      <td>137.918490</td>\n",
       "      <td>0</td>\n",
       "    </tr>\n",
       "    <tr>\n",
       "      <th>2494</th>\n",
       "      <td>135.554688</td>\n",
       "      <td>41.715706</td>\n",
       "      <td>-0.047587</td>\n",
       "      <td>0.910534</td>\n",
       "      <td>2.617893</td>\n",
       "      <td>17.409786</td>\n",
       "      <td>8.831467</td>\n",
       "      <td>89.780556</td>\n",
       "      <td>0</td>\n",
       "    </tr>\n",
       "    <tr>\n",
       "      <th>14875</th>\n",
       "      <td>124.976562</td>\n",
       "      <td>45.683946</td>\n",
       "      <td>-0.209657</td>\n",
       "      <td>0.109942</td>\n",
       "      <td>4.981605</td>\n",
       "      <td>26.593647</td>\n",
       "      <td>5.563959</td>\n",
       "      <td>31.319089</td>\n",
       "      <td>0</td>\n",
       "    </tr>\n",
       "    <tr>\n",
       "      <th>2688</th>\n",
       "      <td>125.304688</td>\n",
       "      <td>49.947873</td>\n",
       "      <td>0.053109</td>\n",
       "      <td>-0.068939</td>\n",
       "      <td>1.628763</td>\n",
       "      <td>12.247147</td>\n",
       "      <td>12.262394</td>\n",
       "      <td>195.921439</td>\n",
       "      <td>0</td>\n",
       "    </tr>\n",
       "    <tr>\n",
       "      <th>7816</th>\n",
       "      <td>120.867188</td>\n",
       "      <td>39.129267</td>\n",
       "      <td>0.068661</td>\n",
       "      <td>1.005908</td>\n",
       "      <td>2.090301</td>\n",
       "      <td>13.255599</td>\n",
       "      <td>10.760405</td>\n",
       "      <td>152.782160</td>\n",
       "      <td>0</td>\n",
       "    </tr>\n",
       "  </tbody>\n",
       "</table>\n",
       "<p>16108 rows × 9 columns</p>\n",
       "</div>"
      ],
      "text/plain": [
       "                0          1         2         3          4          5  \\\n",
       "11583   93.734375  50.264221  0.437706  0.207748  24.388796  56.341590   \n",
       "15516  114.054688  52.423204  0.149742 -0.286647   2.520903  16.242839   \n",
       "3462    87.804688  39.197827  0.721681  2.058747   2.642977  14.066688   \n",
       "16313  142.265625  49.541095 -0.188452 -0.241917   2.411371  14.191170   \n",
       "2483   116.031250  56.691178  0.092955 -0.493398   4.192308  25.302976   \n",
       "...           ...        ...       ...       ...        ...        ...   \n",
       "16567  128.125000  48.357555 -0.005863 -0.100869   2.019231  15.440807   \n",
       "2494   135.554688  41.715706 -0.047587  0.910534   2.617893  17.409786   \n",
       "14875  124.976562  45.683946 -0.209657  0.109942   4.981605  26.593647   \n",
       "2688   125.304688  49.947873  0.053109 -0.068939   1.628763  12.247147   \n",
       "7816   120.867188  39.129267  0.068661  1.005908   2.090301  13.255599   \n",
       "\n",
       "               6           7  Labels  \n",
       "11583   2.145113    3.177422       0  \n",
       "15516   9.467739  109.048145       0  \n",
       "3462    8.387087  103.761808       0  \n",
       "16313  10.187500  139.921849       0  \n",
       "2483    6.420555   42.167027       0  \n",
       "...          ...         ...     ...  \n",
       "16567  10.652478  137.918490       0  \n",
       "2494    8.831467   89.780556       0  \n",
       "14875   5.563959   31.319089       0  \n",
       "2688   12.262394  195.921439       0  \n",
       "7816   10.760405  152.782160       0  \n",
       "\n",
       "[16108 rows x 9 columns]"
      ]
     },
     "execution_count": 13,
     "metadata": {},
     "output_type": "execute_result"
    }
   ],
   "source": [
    "X_train_"
   ]
  },
  {
   "cell_type": "code",
   "execution_count": 14,
   "id": "ae2f994f-a17c-4696-aa42-9245a277c993",
   "metadata": {},
   "outputs": [],
   "source": [
    "# Splitting the learning set to training and validation set\n",
    "X_train, X_valid = train_test_split(X_train_, test_size=0.1/0.9, random_state=SEED) "
   ]
  },
  {
   "cell_type": "code",
   "execution_count": 15,
   "id": "0d571e41-17b1-4f8b-b124-c8461739ccfd",
   "metadata": {},
   "outputs": [
    {
     "data": {
      "text/plain": [
       "Index([0, 1, 2, 3, 4, 5, 6, 7, 'Labels'], dtype='object')"
      ]
     },
     "execution_count": 15,
     "metadata": {},
     "output_type": "execute_result"
    }
   ],
   "source": [
    "X_train.columns"
   ]
  },
  {
   "cell_type": "code",
   "execution_count": 16,
   "id": "af6ffd2f-56ad-428d-bb65-f1339e4d5b75",
   "metadata": {},
   "outputs": [
    {
     "data": {
      "text/plain": [
       "Index([0, 1, 2, 3, 4, 5, 6, 7], dtype='object')"
      ]
     },
     "execution_count": 16,
     "metadata": {},
     "output_type": "execute_result"
    }
   ],
   "source": [
    "cols = X_train.columns[:-1]\n",
    "cols"
   ]
  },
  {
   "cell_type": "code",
   "execution_count": 17,
   "id": "a5b1dfa5-ed3b-41bb-8f44-9b71a5a336d9",
   "metadata": {},
   "outputs": [
    {
     "data": {
      "text/plain": [
       "(14318, 1790, 1790)"
      ]
     },
     "execution_count": 17,
     "metadata": {},
     "output_type": "execute_result"
    }
   ],
   "source": [
    "len(X_train), len(X_valid), len(X_test)"
   ]
  },
  {
   "cell_type": "code",
   "execution_count": 18,
   "id": "0b875c13-fc4e-4ae5-afb2-065e0c2d7e6c",
   "metadata": {},
   "outputs": [
    {
     "data": {
      "text/plain": [
       "0    13014\n",
       "1     1304\n",
       "Name: Labels, dtype: int64"
      ]
     },
     "execution_count": 18,
     "metadata": {},
     "output_type": "execute_result"
    }
   ],
   "source": [
    "X_train[\"Labels\"].value_counts()"
   ]
  },
  {
   "cell_type": "code",
   "execution_count": 19,
   "id": "36bc6865-db8c-4415-adfc-d5f443ee2cdd",
   "metadata": {},
   "outputs": [
    {
     "data": {
      "text/plain": [
       "0    1627\n",
       "1     163\n",
       "Name: Labels, dtype: int64"
      ]
     },
     "execution_count": 19,
     "metadata": {},
     "output_type": "execute_result"
    }
   ],
   "source": [
    "X_valid[\"Labels\"].value_counts()"
   ]
  },
  {
   "cell_type": "code",
   "execution_count": 20,
   "id": "1d03d44e-3eb4-4400-b381-0addad85e39c",
   "metadata": {},
   "outputs": [
    {
     "data": {
      "text/plain": [
       "0    1618\n",
       "1     172\n",
       "Name: Labels, dtype: int64"
      ]
     },
     "execution_count": 20,
     "metadata": {},
     "output_type": "execute_result"
    }
   ],
   "source": [
    "X_test[\"Labels\"].value_counts()"
   ]
  },
  {
   "cell_type": "code",
   "execution_count": null,
   "id": "76b6da36-22c1-477b-8639-9c4191275f24",
   "metadata": {},
   "outputs": [],
   "source": []
  },
  {
   "cell_type": "code",
   "execution_count": 17,
   "id": "48c8c47c-162a-41bb-b0b2-8b18443cd00a",
   "metadata": {},
   "outputs": [],
   "source": [
    "# Remove the pulsar elements from the training set\n",
    "X_train = X_train[X_train[\"Labels\"]==0]"
   ]
  },
  {
   "cell_type": "code",
   "execution_count": 18,
   "id": "4c2dd36a-6afb-4ae0-abb8-61ed484d5a8f",
   "metadata": {},
   "outputs": [
    {
     "data": {
      "text/html": [
       "<div>\n",
       "<style scoped>\n",
       "    .dataframe tbody tr th:only-of-type {\n",
       "        vertical-align: middle;\n",
       "    }\n",
       "\n",
       "    .dataframe tbody tr th {\n",
       "        vertical-align: top;\n",
       "    }\n",
       "\n",
       "    .dataframe thead th {\n",
       "        text-align: right;\n",
       "    }\n",
       "</style>\n",
       "<table border=\"1\" class=\"dataframe\">\n",
       "  <thead>\n",
       "    <tr style=\"text-align: right;\">\n",
       "      <th></th>\n",
       "      <th>0</th>\n",
       "      <th>1</th>\n",
       "      <th>2</th>\n",
       "      <th>3</th>\n",
       "      <th>4</th>\n",
       "      <th>5</th>\n",
       "      <th>6</th>\n",
       "      <th>7</th>\n",
       "      <th>Labels</th>\n",
       "    </tr>\n",
       "  </thead>\n",
       "  <tbody>\n",
       "    <tr>\n",
       "      <th>10814</th>\n",
       "      <td>134.507812</td>\n",
       "      <td>48.756089</td>\n",
       "      <td>-0.031636</td>\n",
       "      <td>-0.131966</td>\n",
       "      <td>0.764214</td>\n",
       "      <td>11.915867</td>\n",
       "      <td>18.587707</td>\n",
       "      <td>369.896839</td>\n",
       "      <td>0</td>\n",
       "    </tr>\n",
       "    <tr>\n",
       "      <th>8686</th>\n",
       "      <td>113.007812</td>\n",
       "      <td>55.334847</td>\n",
       "      <td>0.127174</td>\n",
       "      <td>0.012195</td>\n",
       "      <td>2.903010</td>\n",
       "      <td>16.116651</td>\n",
       "      <td>7.873506</td>\n",
       "      <td>79.343598</td>\n",
       "      <td>0</td>\n",
       "    </tr>\n",
       "    <tr>\n",
       "      <th>6211</th>\n",
       "      <td>141.195312</td>\n",
       "      <td>41.906529</td>\n",
       "      <td>0.042273</td>\n",
       "      <td>0.392180</td>\n",
       "      <td>2.548495</td>\n",
       "      <td>16.650554</td>\n",
       "      <td>8.976223</td>\n",
       "      <td>95.091538</td>\n",
       "      <td>0</td>\n",
       "    </tr>\n",
       "    <tr>\n",
       "      <th>1162</th>\n",
       "      <td>120.062500</td>\n",
       "      <td>48.030386</td>\n",
       "      <td>-0.028265</td>\n",
       "      <td>0.028709</td>\n",
       "      <td>30.127926</td>\n",
       "      <td>62.095604</td>\n",
       "      <td>1.827059</td>\n",
       "      <td>1.878257</td>\n",
       "      <td>0</td>\n",
       "    </tr>\n",
       "    <tr>\n",
       "      <th>2750</th>\n",
       "      <td>125.609375</td>\n",
       "      <td>51.790780</td>\n",
       "      <td>-0.016635</td>\n",
       "      <td>-0.091361</td>\n",
       "      <td>18.428094</td>\n",
       "      <td>52.283802</td>\n",
       "      <td>2.765830</td>\n",
       "      <td>6.372460</td>\n",
       "      <td>0</td>\n",
       "    </tr>\n",
       "    <tr>\n",
       "      <th>...</th>\n",
       "      <td>...</td>\n",
       "      <td>...</td>\n",
       "      <td>...</td>\n",
       "      <td>...</td>\n",
       "      <td>...</td>\n",
       "      <td>...</td>\n",
       "      <td>...</td>\n",
       "      <td>...</td>\n",
       "      <td>...</td>\n",
       "    </tr>\n",
       "    <tr>\n",
       "      <th>8685</th>\n",
       "      <td>126.125000</td>\n",
       "      <td>42.971284</td>\n",
       "      <td>-0.059258</td>\n",
       "      <td>0.265109</td>\n",
       "      <td>2.623746</td>\n",
       "      <td>19.325817</td>\n",
       "      <td>8.561876</td>\n",
       "      <td>80.169221</td>\n",
       "      <td>0</td>\n",
       "    </tr>\n",
       "    <tr>\n",
       "      <th>1354</th>\n",
       "      <td>113.398438</td>\n",
       "      <td>40.149397</td>\n",
       "      <td>0.322763</td>\n",
       "      <td>0.532786</td>\n",
       "      <td>2.985786</td>\n",
       "      <td>16.622323</td>\n",
       "      <td>8.176916</td>\n",
       "      <td>83.887394</td>\n",
       "      <td>0</td>\n",
       "    </tr>\n",
       "    <tr>\n",
       "      <th>15039</th>\n",
       "      <td>147.390625</td>\n",
       "      <td>43.347296</td>\n",
       "      <td>-0.142813</td>\n",
       "      <td>0.241722</td>\n",
       "      <td>2.954849</td>\n",
       "      <td>18.619306</td>\n",
       "      <td>8.543222</td>\n",
       "      <td>83.139408</td>\n",
       "      <td>0</td>\n",
       "    </tr>\n",
       "    <tr>\n",
       "      <th>16869</th>\n",
       "      <td>121.476562</td>\n",
       "      <td>46.342469</td>\n",
       "      <td>0.148239</td>\n",
       "      <td>0.185344</td>\n",
       "      <td>12.081940</td>\n",
       "      <td>38.737798</td>\n",
       "      <td>3.231075</td>\n",
       "      <td>9.644188</td>\n",
       "      <td>0</td>\n",
       "    </tr>\n",
       "    <tr>\n",
       "      <th>15860</th>\n",
       "      <td>108.382812</td>\n",
       "      <td>49.396850</td>\n",
       "      <td>0.611931</td>\n",
       "      <td>0.044871</td>\n",
       "      <td>2.535117</td>\n",
       "      <td>16.391620</td>\n",
       "      <td>8.444314</td>\n",
       "      <td>86.724906</td>\n",
       "      <td>0</td>\n",
       "    </tr>\n",
       "  </tbody>\n",
       "</table>\n",
       "<p>13014 rows × 9 columns</p>\n",
       "</div>"
      ],
      "text/plain": [
       "                0          1         2         3          4          5  \\\n",
       "10814  134.507812  48.756089 -0.031636 -0.131966   0.764214  11.915867   \n",
       "8686   113.007812  55.334847  0.127174  0.012195   2.903010  16.116651   \n",
       "6211   141.195312  41.906529  0.042273  0.392180   2.548495  16.650554   \n",
       "1162   120.062500  48.030386 -0.028265  0.028709  30.127926  62.095604   \n",
       "2750   125.609375  51.790780 -0.016635 -0.091361  18.428094  52.283802   \n",
       "...           ...        ...       ...       ...        ...        ...   \n",
       "8685   126.125000  42.971284 -0.059258  0.265109   2.623746  19.325817   \n",
       "1354   113.398438  40.149397  0.322763  0.532786   2.985786  16.622323   \n",
       "15039  147.390625  43.347296 -0.142813  0.241722   2.954849  18.619306   \n",
       "16869  121.476562  46.342469  0.148239  0.185344  12.081940  38.737798   \n",
       "15860  108.382812  49.396850  0.611931  0.044871   2.535117  16.391620   \n",
       "\n",
       "               6           7  Labels  \n",
       "10814  18.587707  369.896839       0  \n",
       "8686    7.873506   79.343598       0  \n",
       "6211    8.976223   95.091538       0  \n",
       "1162    1.827059    1.878257       0  \n",
       "2750    2.765830    6.372460       0  \n",
       "...          ...         ...     ...  \n",
       "8685    8.561876   80.169221       0  \n",
       "1354    8.176916   83.887394       0  \n",
       "15039   8.543222   83.139408       0  \n",
       "16869   3.231075    9.644188       0  \n",
       "15860   8.444314   86.724906       0  \n",
       "\n",
       "[13014 rows x 9 columns]"
      ]
     },
     "execution_count": 18,
     "metadata": {},
     "output_type": "execute_result"
    }
   ],
   "source": [
    "X_train"
   ]
  },
  {
   "cell_type": "code",
   "execution_count": 19,
   "id": "a0580dea-21aa-4508-ac37-866d51692f9c",
   "metadata": {},
   "outputs": [],
   "source": [
    "# Scaling\n",
    "scaler = StandardScaler()"
   ]
  },
  {
   "cell_type": "code",
   "execution_count": 20,
   "id": "3e095beb-4f02-4059-b158-31dbc255c593",
   "metadata": {},
   "outputs": [
    {
     "data": {
      "text/plain": [
       "StandardScaler()"
      ]
     },
     "execution_count": 20,
     "metadata": {},
     "output_type": "execute_result"
    }
   ],
   "source": [
    "scaler.fit(X_train[cols])"
   ]
  },
  {
   "cell_type": "code",
   "execution_count": 21,
   "id": "dbe69bf1-6784-4ff0-b666-bd89357c9d8b",
   "metadata": {},
   "outputs": [],
   "source": [
    "X_train[cols] = scaler.transform(X_train[cols])\n",
    "X_valid[cols] = scaler.transform(X_valid[cols])\n",
    "X_test[cols]  = scaler.transform(X_test[cols])"
   ]
  },
  {
   "cell_type": "code",
   "execution_count": 22,
   "id": "6b3a1de7-7175-4062-b6d9-ab57eca3cbdf",
   "metadata": {},
   "outputs": [
    {
     "data": {
      "text/html": [
       "<div>\n",
       "<style scoped>\n",
       "    .dataframe tbody tr th:only-of-type {\n",
       "        vertical-align: middle;\n",
       "    }\n",
       "\n",
       "    .dataframe tbody tr th {\n",
       "        vertical-align: top;\n",
       "    }\n",
       "\n",
       "    .dataframe thead th {\n",
       "        text-align: right;\n",
       "    }\n",
       "</style>\n",
       "<table border=\"1\" class=\"dataframe\">\n",
       "  <thead>\n",
       "    <tr style=\"text-align: right;\">\n",
       "      <th></th>\n",
       "      <th>0</th>\n",
       "      <th>1</th>\n",
       "      <th>2</th>\n",
       "      <th>3</th>\n",
       "      <th>4</th>\n",
       "      <th>5</th>\n",
       "      <th>6</th>\n",
       "      <th>7</th>\n",
       "      <th>Labels</th>\n",
       "    </tr>\n",
       "  </thead>\n",
       "  <tbody>\n",
       "    <tr>\n",
       "      <th>10814</th>\n",
       "      <td>1.026617</td>\n",
       "      <td>0.224251</td>\n",
       "      <td>-0.721116</td>\n",
       "      <td>-0.491003</td>\n",
       "      <td>-0.331863</td>\n",
       "      <td>-0.681371</td>\n",
       "      <td>2.305363</td>\n",
       "      <td>2.426766</td>\n",
       "      <td>0</td>\n",
       "    </tr>\n",
       "    <tr>\n",
       "      <th>8686</th>\n",
       "      <td>-0.204894</td>\n",
       "      <td>1.294407</td>\n",
       "      <td>-0.247401</td>\n",
       "      <td>-0.351706</td>\n",
       "      <td>-0.243892</td>\n",
       "      <td>-0.428786</td>\n",
       "      <td>-0.234857</td>\n",
       "      <td>-0.323333</td>\n",
       "      <td>0</td>\n",
       "    </tr>\n",
       "    <tr>\n",
       "      <th>6211</th>\n",
       "      <td>1.409674</td>\n",
       "      <td>-0.889956</td>\n",
       "      <td>-0.500653</td>\n",
       "      <td>0.015460</td>\n",
       "      <td>-0.258474</td>\n",
       "      <td>-0.396684</td>\n",
       "      <td>0.026585</td>\n",
       "      <td>-0.174278</td>\n",
       "      <td>0</td>\n",
       "    </tr>\n",
       "    <tr>\n",
       "      <th>1162</th>\n",
       "      <td>0.199196</td>\n",
       "      <td>0.106202</td>\n",
       "      <td>-0.711063</td>\n",
       "      <td>-0.335749</td>\n",
       "      <td>0.875893</td>\n",
       "      <td>2.335835</td>\n",
       "      <td>-1.668404</td>\n",
       "      <td>-1.056546</td>\n",
       "      <td>0</td>\n",
       "    </tr>\n",
       "    <tr>\n",
       "      <th>2750</th>\n",
       "      <td>0.516919</td>\n",
       "      <td>0.717899</td>\n",
       "      <td>-0.676371</td>\n",
       "      <td>-0.451768</td>\n",
       "      <td>0.394668</td>\n",
       "      <td>1.745871</td>\n",
       "      <td>-1.445831</td>\n",
       "      <td>-1.014008</td>\n",
       "      <td>0</td>\n",
       "    </tr>\n",
       "    <tr>\n",
       "      <th>...</th>\n",
       "      <td>...</td>\n",
       "      <td>...</td>\n",
       "      <td>...</td>\n",
       "      <td>...</td>\n",
       "      <td>...</td>\n",
       "      <td>...</td>\n",
       "      <td>...</td>\n",
       "      <td>...</td>\n",
       "      <td>...</td>\n",
       "    </tr>\n",
       "    <tr>\n",
       "      <th>8685</th>\n",
       "      <td>0.546453</td>\n",
       "      <td>-0.716754</td>\n",
       "      <td>-0.803512</td>\n",
       "      <td>-0.107324</td>\n",
       "      <td>-0.255379</td>\n",
       "      <td>-0.235826</td>\n",
       "      <td>-0.071652</td>\n",
       "      <td>-0.315519</td>\n",
       "      <td>0</td>\n",
       "    </tr>\n",
       "    <tr>\n",
       "      <th>1354</th>\n",
       "      <td>-0.182519</td>\n",
       "      <td>-1.175786</td>\n",
       "      <td>0.336025</td>\n",
       "      <td>0.151322</td>\n",
       "      <td>-0.240488</td>\n",
       "      <td>-0.398381</td>\n",
       "      <td>-0.162922</td>\n",
       "      <td>-0.280326</td>\n",
       "      <td>0</td>\n",
       "    </tr>\n",
       "    <tr>\n",
       "      <th>15039</th>\n",
       "      <td>1.764539</td>\n",
       "      <td>-0.655589</td>\n",
       "      <td>-1.052749</td>\n",
       "      <td>-0.129923</td>\n",
       "      <td>-0.241760</td>\n",
       "      <td>-0.278307</td>\n",
       "      <td>-0.076075</td>\n",
       "      <td>-0.287406</td>\n",
       "      <td>0</td>\n",
       "    </tr>\n",
       "    <tr>\n",
       "      <th>16869</th>\n",
       "      <td>0.280193</td>\n",
       "      <td>-0.168369</td>\n",
       "      <td>-0.184564</td>\n",
       "      <td>-0.184398</td>\n",
       "      <td>0.133645</td>\n",
       "      <td>0.931377</td>\n",
       "      <td>-1.335527</td>\n",
       "      <td>-0.983041</td>\n",
       "      <td>0</td>\n",
       "    </tr>\n",
       "    <tr>\n",
       "      <th>15860</th>\n",
       "      <td>-0.469812</td>\n",
       "      <td>0.328483</td>\n",
       "      <td>1.198589</td>\n",
       "      <td>-0.320132</td>\n",
       "      <td>-0.259024</td>\n",
       "      <td>-0.412253</td>\n",
       "      <td>-0.099525</td>\n",
       "      <td>-0.253469</td>\n",
       "      <td>0</td>\n",
       "    </tr>\n",
       "  </tbody>\n",
       "</table>\n",
       "<p>13014 rows × 9 columns</p>\n",
       "</div>"
      ],
      "text/plain": [
       "              0         1         2         3         4         5         6  \\\n",
       "10814  1.026617  0.224251 -0.721116 -0.491003 -0.331863 -0.681371  2.305363   \n",
       "8686  -0.204894  1.294407 -0.247401 -0.351706 -0.243892 -0.428786 -0.234857   \n",
       "6211   1.409674 -0.889956 -0.500653  0.015460 -0.258474 -0.396684  0.026585   \n",
       "1162   0.199196  0.106202 -0.711063 -0.335749  0.875893  2.335835 -1.668404   \n",
       "2750   0.516919  0.717899 -0.676371 -0.451768  0.394668  1.745871 -1.445831   \n",
       "...         ...       ...       ...       ...       ...       ...       ...   \n",
       "8685   0.546453 -0.716754 -0.803512 -0.107324 -0.255379 -0.235826 -0.071652   \n",
       "1354  -0.182519 -1.175786  0.336025  0.151322 -0.240488 -0.398381 -0.162922   \n",
       "15039  1.764539 -0.655589 -1.052749 -0.129923 -0.241760 -0.278307 -0.076075   \n",
       "16869  0.280193 -0.168369 -0.184564 -0.184398  0.133645  0.931377 -1.335527   \n",
       "15860 -0.469812  0.328483  1.198589 -0.320132 -0.259024 -0.412253 -0.099525   \n",
       "\n",
       "              7  Labels  \n",
       "10814  2.426766       0  \n",
       "8686  -0.323333       0  \n",
       "6211  -0.174278       0  \n",
       "1162  -1.056546       0  \n",
       "2750  -1.014008       0  \n",
       "...         ...     ...  \n",
       "8685  -0.315519       0  \n",
       "1354  -0.280326       0  \n",
       "15039 -0.287406       0  \n",
       "16869 -0.983041       0  \n",
       "15860 -0.253469       0  \n",
       "\n",
       "[13014 rows x 9 columns]"
      ]
     },
     "execution_count": 22,
     "metadata": {},
     "output_type": "execute_result"
    }
   ],
   "source": [
    "X_train"
   ]
  },
  {
   "cell_type": "code",
   "execution_count": 23,
   "id": "f71f3a22-02bf-488a-8157-0d105f424700",
   "metadata": {},
   "outputs": [
    {
     "data": {
      "text/plain": [
       "(0    13014\n",
       " Name: Labels, dtype: int64,\n",
       " 0    1627\n",
       " 1     163\n",
       " Name: Labels, dtype: int64,\n",
       " 0    1618\n",
       " 1     172\n",
       " Name: Labels, dtype: int64)"
      ]
     },
     "execution_count": 23,
     "metadata": {},
     "output_type": "execute_result"
    }
   ],
   "source": [
    "# Class sizes\n",
    "X_train[\"Labels\"].value_counts(), X_valid[\"Labels\"].value_counts(), X_test[\"Labels\"].value_counts()"
   ]
  },
  {
   "cell_type": "code",
   "execution_count": 24,
   "id": "25ba155c-7910-4ef0-a51e-00f5762f6060",
   "metadata": {},
   "outputs": [
    {
     "data": {
      "text/plain": [
       "(13014, 1790, 1790)"
      ]
     },
     "execution_count": 24,
     "metadata": {},
     "output_type": "execute_result"
    }
   ],
   "source": [
    "# Element numbers\n",
    "len(X_train), len(X_valid), len(X_test)"
   ]
  },
  {
   "cell_type": "code",
   "execution_count": 26,
   "id": "d6eda10e-4895-4d9a-9966-67c7fcbee735",
   "metadata": {},
   "outputs": [],
   "source": [
    "# Dropping the label column from the training set\n",
    "X_train = X_train.drop(\"Labels\",axis=1)"
   ]
  },
  {
   "cell_type": "code",
   "execution_count": 27,
   "id": "c12ba18e-dc39-4dc8-9123-93050e309c2c",
   "metadata": {},
   "outputs": [
    {
     "data": {
      "text/plain": [
       "(13014, 1790, 1790, 8)"
      ]
     },
     "execution_count": 27,
     "metadata": {},
     "output_type": "execute_result"
    }
   ],
   "source": [
    "# Saving to disk in the required format \n",
    "X_train.to_csv(\"htru2_train.csv\",header=None,index=False,sep=\" \")\n",
    "X_valid.to_csv(\"htru2_valid.csv\",header=None,index=False,sep=\" \")\n",
    "X_test.to_csv(\"htru2_test.csv\",header=None,index=False,sep=\" \")\n",
    "len(X_train), len(X_valid), len(X_test), len(X_train.columns)"
   ]
  },
  {
   "cell_type": "code",
   "execution_count": 28,
   "id": "5cd3a33f-e050-40b2-8ebe-15208bca0872",
   "metadata": {},
   "outputs": [
    {
     "data": {
      "text/plain": [
       "(Index([0, 1, 2, 3, 4, 5, 6, 7, 'Labels'], dtype='object'),\n",
       " Index([0, 1, 2, 3, 4, 5, 6, 7, 'Labels'], dtype='object'))"
      ]
     },
     "execution_count": 28,
     "metadata": {},
     "output_type": "execute_result"
    }
   ],
   "source": [
    "X_valid.columns, X_test.columns"
   ]
  },
  {
   "cell_type": "code",
   "execution_count": null,
   "id": "9ae0928e-52fb-4ae3-a3b5-bd7589bbe5f9",
   "metadata": {},
   "outputs": [],
   "source": []
  }
 ],
 "metadata": {
  "kernelspec": {
   "display_name": "Python 3",
   "language": "python",
   "name": "python3"
  },
  "language_info": {
   "codemirror_mode": {
    "name": "ipython",
    "version": 3
   },
   "file_extension": ".py",
   "mimetype": "text/x-python",
   "name": "python",
   "nbconvert_exporter": "python",
   "pygments_lexer": "ipython3",
   "version": "3.8.8"
  }
 },
 "nbformat": 4,
 "nbformat_minor": 5
}
