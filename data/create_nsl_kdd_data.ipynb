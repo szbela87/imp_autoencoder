{
 "cells": [
  {
   "cell_type": "code",
   "execution_count": 1,
   "id": "798ee9df-5d3b-483f-9f02-7f92f881a61a",
   "metadata": {},
   "outputs": [
    {
     "name": "stdout",
     "output_type": "stream",
     "text": [
      "Notebook last run (end-to-end): 2024-03-13 16:09:33.447583\n"
     ]
    }
   ],
   "source": [
    "import pandas as pd\n",
    "import numpy as np\n",
    "from sklearn.model_selection import train_test_split\n",
    "from sklearn.preprocessing import MinMaxScaler, RobustScaler, StandardScaler\n",
    "from sklearn.metrics import recall_score\n",
    "from sklearn.model_selection import RandomizedSearchCV\n",
    "from timeit import default_timer\n",
    "import datetime\n",
    "from xgboost import XGBClassifier\n",
    "from sklearn.metrics import matthews_corrcoef, accuracy_score, precision_score, f1_score\n",
    "from imblearn.over_sampling import SMOTE\n",
    "from hyperopt import tpe, STATUS_OK, Trials, hp, fmin, STATUS_OK, space_eval\n",
    "from sklearn.model_selection import PredefinedSplit\n",
    "from sklearn.preprocessing import LabelEncoder\n",
    "import matplotlib.pyplot as plt\n",
    "from sklearn.decomposition import PCA\n",
    "print(f\"Notebook last run (end-to-end): {datetime.datetime.now()}\")"
   ]
  },
  {
   "cell_type": "markdown",
   "id": "974592ee-709a-4fd2-8451-52eb6fbb8366",
   "metadata": {},
   "source": [
    "https://www.kaggle.com/datasets/hassan06/nslkdd/data"
   ]
  },
  {
   "cell_type": "code",
   "execution_count": 2,
   "id": "99eeb535-e30f-445a-a7e6-b14830bfacbf",
   "metadata": {},
   "outputs": [],
   "source": [
    "SEED_ORIG = 2024\n",
    "SEED_NP = 2023\n",
    "SEED = SEED_ORIG\n",
    "NUM_SIMS = 10\n",
    "rstate = np.random.default_rng(SEED_NP)"
   ]
  },
  {
   "cell_type": "markdown",
   "id": "2278707c-e909-45ea-8ae9-1e20eec30eb7",
   "metadata": {},
   "source": [
    "# Loading the dataset"
   ]
  },
  {
   "cell_type": "code",
   "execution_count": 3,
   "id": "932cb952-d455-4190-be8d-b9d924f64286",
   "metadata": {},
   "outputs": [],
   "source": [
    "train_data = pd.read_csv(\"KDDTrain+.txt\" , header = None)\n",
    "test_data  = pd.read_csv(\"KDDTest+.txt\" , header = None)"
   ]
  },
  {
   "cell_type": "code",
   "execution_count": 4,
   "id": "f5b62a1b-0f81-42ed-9e59-d7d048a3324d",
   "metadata": {},
   "outputs": [],
   "source": [
    "Columns = (['duration','protocol_type','service','flag','src_bytes','dst_bytes','land','wrong_fragment','urgent','hot',\n",
    "            'num_failed_logins','logged_in','num_compromised','root_shell','su_attempted','num_root','num_file_creations',\n",
    "            'num_shells','num_access_files','num_outbound_cmds','is_host_login','is_guest_login','count','srv_count',\n",
    "            'serror_rate','srv_serror_rate','rerror_rate','srv_rerror_rate','same_srv_rate','diff_srv_rate','srv_diff_host_rate',\n",
    "            'dst_host_count','dst_host_srv_count','dst_host_same_srv_rate','dst_host_diff_srv_rate','dst_host_same_src_port_rate',\n",
    "            'dst_host_srv_diff_host_rate','dst_host_serror_rate','dst_host_srv_serror_rate','dst_host_rerror_rate',\n",
    "            'dst_host_srv_rerror_rate','attack','level'])\n",
    "train_data.columns = Columns\n",
    "test_data.columns  = Columns"
   ]
  },
  {
   "cell_type": "code",
   "execution_count": 5,
   "id": "8befbde8-2ffd-4ac1-aa04-8b3232b1fa6a",
   "metadata": {},
   "outputs": [
    {
     "data": {
      "text/plain": [
       "0.1517940707124437"
      ]
     },
     "execution_count": 5,
     "metadata": {},
     "output_type": "execute_result"
    }
   ],
   "source": [
    "len(test_data)/(len(train_data)+len(test_data))"
   ]
  },
  {
   "cell_type": "code",
   "execution_count": 6,
   "id": "6ecea7eb-7d62-4903-b99c-77e84ca008d2",
   "metadata": {},
   "outputs": [],
   "source": [
    "train_attack = train_data.attack.map(lambda a: 0 if a == 'normal' else 1)\n",
    "test_attack = test_data.attack.map(lambda a: 0 if a == 'normal' else 1)\n",
    "\n",
    "train_data['attack'] = train_attack\n",
    "test_data['attack'] = test_attack"
   ]
  },
  {
   "cell_type": "code",
   "execution_count": 7,
   "id": "56775999-9ec6-44c8-b1f3-cb26c5b1b7a6",
   "metadata": {},
   "outputs": [
    {
     "data": {
      "text/plain": [
       "duration                       0\n",
       "protocol_type                  0\n",
       "service                        0\n",
       "flag                           0\n",
       "src_bytes                      0\n",
       "dst_bytes                      0\n",
       "land                           0\n",
       "wrong_fragment                 0\n",
       "urgent                         0\n",
       "hot                            0\n",
       "num_failed_logins              0\n",
       "logged_in                      0\n",
       "num_compromised                0\n",
       "root_shell                     0\n",
       "su_attempted                   0\n",
       "num_root                       0\n",
       "num_file_creations             0\n",
       "num_shells                     0\n",
       "num_access_files               0\n",
       "num_outbound_cmds              0\n",
       "is_host_login                  0\n",
       "is_guest_login                 0\n",
       "count                          0\n",
       "srv_count                      0\n",
       "serror_rate                    0\n",
       "srv_serror_rate                0\n",
       "rerror_rate                    0\n",
       "srv_rerror_rate                0\n",
       "same_srv_rate                  0\n",
       "diff_srv_rate                  0\n",
       "srv_diff_host_rate             0\n",
       "dst_host_count                 0\n",
       "dst_host_srv_count             0\n",
       "dst_host_same_srv_rate         0\n",
       "dst_host_diff_srv_rate         0\n",
       "dst_host_same_src_port_rate    0\n",
       "dst_host_srv_diff_host_rate    0\n",
       "dst_host_serror_rate           0\n",
       "dst_host_srv_serror_rate       0\n",
       "dst_host_rerror_rate           0\n",
       "dst_host_srv_rerror_rate       0\n",
       "attack                         0\n",
       "level                          0\n",
       "dtype: int64"
      ]
     },
     "execution_count": 7,
     "metadata": {},
     "output_type": "execute_result"
    }
   ],
   "source": [
    "train_data.isnull().sum()\n"
   ]
  },
  {
   "cell_type": "code",
   "execution_count": 8,
   "id": "ad1dc148-696b-4ac6-90f5-7a2a3819b30c",
   "metadata": {},
   "outputs": [
    {
     "data": {
      "text/plain": [
       "(9, 3)"
      ]
     },
     "execution_count": 8,
     "metadata": {},
     "output_type": "execute_result"
    }
   ],
   "source": [
    "# duplicates\n",
    "train_data.duplicated().sum(), test_data.duplicated().sum()\n",
    "\n"
   ]
  },
  {
   "cell_type": "code",
   "execution_count": 9,
   "id": "6f9e974d-8518-4646-a9ff-c8aa7d2465a6",
   "metadata": {},
   "outputs": [],
   "source": [
    "cat_columns = ['protocol_type','service','flag']"
   ]
  },
  {
   "cell_type": "code",
   "execution_count": 10,
   "id": "686f44e6-cb05-43d5-ae0b-b50319f52838",
   "metadata": {},
   "outputs": [
    {
     "data": {
      "text/plain": [
       "tcp     102689\n",
       "udp      14993\n",
       "icmp      8291\n",
       "Name: protocol_type, dtype: int64"
      ]
     },
     "execution_count": 10,
     "metadata": {},
     "output_type": "execute_result"
    }
   ],
   "source": [
    "train_data[\"protocol_type\"].value_counts()"
   ]
  },
  {
   "cell_type": "code",
   "execution_count": 11,
   "id": "6fc9b7b1-1614-4b64-917e-fa713cbd37ab",
   "metadata": {},
   "outputs": [
    {
     "data": {
      "text/plain": [
       "http         40338\n",
       "private      21853\n",
       "domain_u      9043\n",
       "smtp          7313\n",
       "ftp_data      6860\n",
       "             ...  \n",
       "tftp_u           3\n",
       "http_8001        2\n",
       "aol              2\n",
       "harvest          2\n",
       "http_2784        1\n",
       "Name: service, Length: 70, dtype: int64"
      ]
     },
     "execution_count": 11,
     "metadata": {},
     "output_type": "execute_result"
    }
   ],
   "source": [
    "train_data[\"service\"].value_counts()"
   ]
  },
  {
   "cell_type": "code",
   "execution_count": 12,
   "id": "da918b97-dc79-41be-8a64-e31d735a2f52",
   "metadata": {},
   "outputs": [
    {
     "data": {
      "text/plain": [
       "SF        74945\n",
       "S0        34851\n",
       "REJ       11233\n",
       "RSTR       2421\n",
       "RSTO       1562\n",
       "S1          365\n",
       "SH          271\n",
       "S2          127\n",
       "RSTOS0      103\n",
       "S3           49\n",
       "OTH          46\n",
       "Name: flag, dtype: int64"
      ]
     },
     "execution_count": 12,
     "metadata": {},
     "output_type": "execute_result"
    }
   ],
   "source": [
    "train_data[\"flag\"].value_counts()"
   ]
  },
  {
   "cell_type": "code",
   "execution_count": 13,
   "id": "d1227287-f083-4471-b553-9e5fe7dae0b7",
   "metadata": {},
   "outputs": [
    {
     "data": {
      "text/plain": [
       "11"
      ]
     },
     "execution_count": 13,
     "metadata": {},
     "output_type": "execute_result"
    }
   ],
   "source": [
    "len(train_data[\"flag\"].value_counts())"
   ]
  },
  {
   "cell_type": "code",
   "execution_count": 14,
   "id": "afc45658-d2fa-449d-a41c-ddce6ad0b2ae",
   "metadata": {},
   "outputs": [
    {
     "data": {
      "text/plain": [
       "(125973,\n",
       " 0    67343\n",
       " 1    58630\n",
       " Name: attack, dtype: int64)"
      ]
     },
     "execution_count": 14,
     "metadata": {},
     "output_type": "execute_result"
    }
   ],
   "source": [
    "len(train_data), train_data[\"attack\"].value_counts()"
   ]
  },
  {
   "cell_type": "code",
   "execution_count": null,
   "id": "0d108e90-2f04-4801-bd67-d3a0838bc890",
   "metadata": {},
   "outputs": [],
   "source": []
  },
  {
   "cell_type": "code",
   "execution_count": null,
   "id": "090c273e-4df1-4599-8fd7-5e33643cb8b7",
   "metadata": {},
   "outputs": [],
   "source": []
  },
  {
   "cell_type": "code",
   "execution_count": null,
   "id": "3d9bddf2-2d2f-4daf-b00f-2d71ececdd89",
   "metadata": {},
   "outputs": [],
   "source": []
  },
  {
   "cell_type": "code",
   "execution_count": 15,
   "id": "86258de5-2bb6-4f75-9f05-354d841a59cc",
   "metadata": {},
   "outputs": [],
   "source": [
    "train_data = pd.get_dummies(train_data,columns=cat_columns,prefix=\"\",prefix_sep=\"\")\n",
    "test_data = pd.get_dummies(test_data,columns=cat_columns,prefix=\"\",prefix_sep=\"\")"
   ]
  },
  {
   "cell_type": "code",
   "execution_count": 16,
   "id": "1527b2d9-5c55-4451-895d-159ede64500a",
   "metadata": {},
   "outputs": [
    {
     "data": {
      "text/plain": [
       "0         0\n",
       "1         0\n",
       "2         1\n",
       "3         0\n",
       "4         0\n",
       "         ..\n",
       "125968    1\n",
       "125969    0\n",
       "125970    0\n",
       "125971    1\n",
       "125972    0\n",
       "Name: attack, Length: 125973, dtype: int64"
      ]
     },
     "execution_count": 16,
     "metadata": {},
     "output_type": "execute_result"
    }
   ],
   "source": [
    "train_data[\"attack\"]"
   ]
  },
  {
   "cell_type": "code",
   "execution_count": 17,
   "id": "fa6b2171-10cf-45b2-8f40-6bbd1fdaecaf",
   "metadata": {},
   "outputs": [],
   "source": [
    "X_test = test_data.drop(\"attack\",axis=1)\n",
    "y_test = test_data['attack']"
   ]
  },
  {
   "cell_type": "code",
   "execution_count": 18,
   "id": "e17136cb-3964-4360-96af-3528f49168fc",
   "metadata": {},
   "outputs": [],
   "source": [
    "X_train_ = train_data.drop(\"attack\", axis = 1)\n",
    "y_train_ = train_data[\"attack\"]"
   ]
  },
  {
   "cell_type": "code",
   "execution_count": 19,
   "id": "983c93c6-94ef-4fb4-97cd-ca1dcfc50d24",
   "metadata": {},
   "outputs": [],
   "source": [
    "X_train, X_valid, y_train, y_valid = train_test_split(X_train_, y_train_, test_size= 0.25 , random_state=SEED)"
   ]
  },
  {
   "cell_type": "code",
   "execution_count": null,
   "id": "f5e6ca1e-e9be-4d4a-bcbf-9f49fe556465",
   "metadata": {},
   "outputs": [],
   "source": [
    "num_columns = []\n",
    "for col_name in train_data.drop(\"attack\",axis=1).columns:\n",
    "    if col_name not in cat_columns:\n",
    "        num_columns.append(col_name)\n",
    "num_columns"
   ]
  },
  {
   "cell_type": "code",
   "execution_count": 21,
   "id": "ab139221-d33a-41c0-970f-1e1d4bbd9627",
   "metadata": {},
   "outputs": [
    {
     "data": {
      "text/plain": [
       "False"
      ]
     },
     "execution_count": 21,
     "metadata": {},
     "output_type": "execute_result"
    }
   ],
   "source": [
    "\"attack\" in num_columns"
   ]
  },
  {
   "cell_type": "code",
   "execution_count": 22,
   "id": "7ec48724-1c10-415c-864f-7b4c192ba894",
   "metadata": {},
   "outputs": [
    {
     "data": {
      "text/plain": [
       "(94479, 31494, 22544, 123, 123, 117)"
      ]
     },
     "execution_count": 22,
     "metadata": {},
     "output_type": "execute_result"
    }
   ],
   "source": [
    "len(X_train), len(X_valid), len(X_test), len(X_train.columns), len(X_valid.columns), len(X_test.columns)"
   ]
  },
  {
   "cell_type": "code",
   "execution_count": 24,
   "id": "a1776801-7442-4983-8547-a09e324d3217",
   "metadata": {},
   "outputs": [
    {
     "data": {
      "text/plain": [
       "(94479,\n",
       " 0    50528\n",
       " 1    43951\n",
       " Name: attack, dtype: int64)"
      ]
     },
     "execution_count": 24,
     "metadata": {},
     "output_type": "execute_result"
    }
   ],
   "source": [
    "len(X_train), y_train.value_counts()"
   ]
  },
  {
   "cell_type": "code",
   "execution_count": 25,
   "id": "10cc6e78-2c1d-4b4e-8834-774b7f995475",
   "metadata": {},
   "outputs": [
    {
     "data": {
      "text/plain": [
       "(31494,\n",
       " 0    16815\n",
       " 1    14679\n",
       " Name: attack, dtype: int64)"
      ]
     },
     "execution_count": 25,
     "metadata": {},
     "output_type": "execute_result"
    }
   ],
   "source": [
    "len(X_valid), y_valid.value_counts()"
   ]
  },
  {
   "cell_type": "code",
   "execution_count": 26,
   "id": "d7ac640a-72b8-4c04-a19a-f798e244efeb",
   "metadata": {},
   "outputs": [
    {
     "data": {
      "text/plain": [
       "(22544,\n",
       " 1    12833\n",
       " 0     9711\n",
       " Name: attack, dtype: int64)"
      ]
     },
     "execution_count": 26,
     "metadata": {},
     "output_type": "execute_result"
    }
   ],
   "source": [
    "len(X_test), y_test.value_counts()"
   ]
  },
  {
   "cell_type": "code",
   "execution_count": null,
   "id": "33fb6bf0-edd1-4a40-84ba-62497b2b74e5",
   "metadata": {},
   "outputs": [],
   "source": []
  },
  {
   "cell_type": "code",
   "execution_count": 20,
   "id": "1bbcad46-3d3e-4150-b997-1b3d0e1f3410",
   "metadata": {},
   "outputs": [],
   "source": [
    "notintestcols = [col for col in X_train.columns if col not in X_test.columns]"
   ]
  },
  {
   "cell_type": "code",
   "execution_count": 21,
   "id": "5992acf0-7dee-494b-b7b3-dbb437190d4f",
   "metadata": {},
   "outputs": [],
   "source": [
    "X_train = X_train.drop(notintestcols,axis=1)\n",
    "X_valid = X_valid.drop(notintestcols,axis=1)"
   ]
  },
  {
   "cell_type": "code",
   "execution_count": 22,
   "id": "3e19d3b1-45f1-47e6-8772-92433c06e733",
   "metadata": {},
   "outputs": [],
   "source": [
    "notintestcols = [col for col in X_train.columns if col not in X_test.columns]"
   ]
  },
  {
   "cell_type": "code",
   "execution_count": 23,
   "id": "c9996a55-9449-4608-85fb-8f2ba0fe5965",
   "metadata": {},
   "outputs": [
    {
     "data": {
      "text/plain": [
       "[]"
      ]
     },
     "execution_count": 23,
     "metadata": {},
     "output_type": "execute_result"
    }
   ],
   "source": [
    "notintestcols"
   ]
  },
  {
   "cell_type": "code",
   "execution_count": 24,
   "id": "28a6ccc0-3a80-4a0f-ab37-f20d408dd7e5",
   "metadata": {},
   "outputs": [
    {
     "data": {
      "text/plain": [
       "94479"
      ]
     },
     "execution_count": 24,
     "metadata": {},
     "output_type": "execute_result"
    }
   ],
   "source": [
    "len(X_train)"
   ]
  },
  {
   "cell_type": "code",
   "execution_count": 25,
   "id": "97160289-806f-4194-a495-badf6295e6a4",
   "metadata": {},
   "outputs": [
    {
     "data": {
      "text/plain": [
       "(117, 117, 117)"
      ]
     },
     "execution_count": 25,
     "metadata": {},
     "output_type": "execute_result"
    }
   ],
   "source": [
    "len(X_train.columns), len(X_valid.columns), len(X_test.columns)"
   ]
  },
  {
   "cell_type": "code",
   "execution_count": null,
   "id": "6d264c91-1601-46ce-8663-e1e74039bdc7",
   "metadata": {},
   "outputs": [],
   "source": []
  },
  {
   "cell_type": "code",
   "execution_count": null,
   "id": "d1ea5d46-0d3b-4590-be24-99f620d8cbc7",
   "metadata": {},
   "outputs": [],
   "source": []
  },
  {
   "cell_type": "code",
   "execution_count": 25,
   "id": "0b8771de-4653-4c9e-b204-4c6cb213616d",
   "metadata": {},
   "outputs": [
    {
     "data": {
      "text/plain": [
       "['duration',\n",
       " 'src_bytes',\n",
       " 'dst_bytes',\n",
       " 'land',\n",
       " 'wrong_fragment',\n",
       " 'urgent',\n",
       " 'hot',\n",
       " 'num_failed_logins',\n",
       " 'logged_in',\n",
       " 'num_compromised',\n",
       " 'root_shell',\n",
       " 'su_attempted',\n",
       " 'num_root',\n",
       " 'num_file_creations',\n",
       " 'num_shells',\n",
       " 'num_access_files',\n",
       " 'num_outbound_cmds',\n",
       " 'is_host_login',\n",
       " 'is_guest_login',\n",
       " 'count',\n",
       " 'srv_count',\n",
       " 'serror_rate',\n",
       " 'srv_serror_rate',\n",
       " 'rerror_rate',\n",
       " 'srv_rerror_rate',\n",
       " 'same_srv_rate',\n",
       " 'diff_srv_rate',\n",
       " 'srv_diff_host_rate',\n",
       " 'dst_host_count',\n",
       " 'dst_host_srv_count',\n",
       " 'dst_host_same_srv_rate',\n",
       " 'dst_host_diff_srv_rate',\n",
       " 'dst_host_same_src_port_rate',\n",
       " 'dst_host_srv_diff_host_rate',\n",
       " 'dst_host_serror_rate',\n",
       " 'dst_host_srv_serror_rate',\n",
       " 'dst_host_rerror_rate',\n",
       " 'dst_host_srv_rerror_rate',\n",
       " 'level',\n",
       " 'icmp',\n",
       " 'tcp',\n",
       " 'udp',\n",
       " 'IRC',\n",
       " 'X11',\n",
       " 'Z39_50',\n",
       " 'auth',\n",
       " 'bgp',\n",
       " 'courier',\n",
       " 'csnet_ns',\n",
       " 'ctf',\n",
       " 'daytime',\n",
       " 'discard',\n",
       " 'domain',\n",
       " 'domain_u',\n",
       " 'echo',\n",
       " 'eco_i',\n",
       " 'ecr_i',\n",
       " 'efs',\n",
       " 'exec',\n",
       " 'finger',\n",
       " 'ftp',\n",
       " 'ftp_data',\n",
       " 'gopher',\n",
       " 'hostnames',\n",
       " 'http',\n",
       " 'http_443',\n",
       " 'imap4',\n",
       " 'iso_tsap',\n",
       " 'klogin',\n",
       " 'kshell',\n",
       " 'ldap',\n",
       " 'link',\n",
       " 'login',\n",
       " 'mtp',\n",
       " 'name',\n",
       " 'netbios_dgm',\n",
       " 'netbios_ns',\n",
       " 'netbios_ssn',\n",
       " 'netstat',\n",
       " 'nnsp',\n",
       " 'nntp',\n",
       " 'ntp_u',\n",
       " 'other',\n",
       " 'pm_dump',\n",
       " 'pop_2',\n",
       " 'pop_3',\n",
       " 'printer',\n",
       " 'private',\n",
       " 'remote_job',\n",
       " 'rje',\n",
       " 'shell',\n",
       " 'smtp',\n",
       " 'sql_net',\n",
       " 'ssh',\n",
       " 'sunrpc',\n",
       " 'supdup',\n",
       " 'systat',\n",
       " 'telnet',\n",
       " 'tftp_u',\n",
       " 'tim_i',\n",
       " 'time',\n",
       " 'urp_i',\n",
       " 'uucp',\n",
       " 'uucp_path',\n",
       " 'vmnet',\n",
       " 'whois',\n",
       " 'OTH',\n",
       " 'REJ',\n",
       " 'RSTO',\n",
       " 'RSTOS0',\n",
       " 'RSTR',\n",
       " 'S0',\n",
       " 'S1',\n",
       " 'S2',\n",
       " 'S3',\n",
       " 'SF',\n",
       " 'SH']"
      ]
     },
     "execution_count": 25,
     "metadata": {},
     "output_type": "execute_result"
    }
   ],
   "source": [
    "num_columns = [col for col in num_columns if col in X_test.columns]\n",
    "num_columns"
   ]
  },
  {
   "cell_type": "code",
   "execution_count": 26,
   "id": "cea55469-fee5-49a5-aa5d-ea9731e3eb4c",
   "metadata": {},
   "outputs": [
    {
     "data": {
      "text/plain": [
       "117"
      ]
     },
     "execution_count": 26,
     "metadata": {},
     "output_type": "execute_result"
    }
   ],
   "source": [
    "len(num_columns)"
   ]
  },
  {
   "cell_type": "code",
   "execution_count": 27,
   "id": "93c2783b-3155-4459-81a1-33902a2b699c",
   "metadata": {},
   "outputs": [
    {
     "data": {
      "text/plain": [
       "('http_8001', 'http_2784', 'red_i', 'harvest', 'aol', 'urh_i')"
      ]
     },
     "execution_count": 27,
     "metadata": {},
     "output_type": "execute_result"
    }
   ],
   "source": [
    "'http_8001', 'http_2784', 'red_i', 'harvest', 'aol', 'urh_i'"
   ]
  },
  {
   "cell_type": "code",
   "execution_count": null,
   "id": "0a201270-6820-489a-9551-8cb906c83d0a",
   "metadata": {},
   "outputs": [],
   "source": []
  },
  {
   "cell_type": "code",
   "execution_count": 24,
   "id": "aacf0b39-02d1-4079-93dc-7ad864faf4ac",
   "metadata": {},
   "outputs": [],
   "source": [
    "X_train = X_train[y_train==0].copy()"
   ]
  },
  {
   "cell_type": "code",
   "execution_count": 25,
   "id": "396fc0cb-8029-4d3a-9778-2d0a87c67842",
   "metadata": {},
   "outputs": [
    {
     "data": {
      "text/plain": [
       "50528"
      ]
     },
     "execution_count": 25,
     "metadata": {},
     "output_type": "execute_result"
    }
   ],
   "source": [
    "len(X_train)"
   ]
  },
  {
   "cell_type": "code",
   "execution_count": null,
   "id": "4c6d504c-3092-42ec-b9eb-435330734ddf",
   "metadata": {},
   "outputs": [],
   "source": []
  },
  {
   "cell_type": "code",
   "execution_count": null,
   "id": "eb545f0f-dc41-4ecf-afed-06cace885893",
   "metadata": {},
   "outputs": [],
   "source": []
  },
  {
   "cell_type": "code",
   "execution_count": 26,
   "id": "aaba0ee1-acb3-4b11-ba1b-3af6ff92eae8",
   "metadata": {},
   "outputs": [],
   "source": [
    "scaler = StandardScaler()\n",
    "#scaler = RobustScaler()\n",
    "#scaler = MinMaxScaler()"
   ]
  },
  {
   "cell_type": "code",
   "execution_count": 27,
   "id": "035d8e0c-fc7c-4ed4-999e-c9a0905e45c9",
   "metadata": {},
   "outputs": [],
   "source": [
    "#X_train = X_train.astype(float)\n"
   ]
  },
  {
   "cell_type": "code",
   "execution_count": 28,
   "id": "a287d144-f96b-479e-a41a-64502c84f602",
   "metadata": {},
   "outputs": [
    {
     "data": {
      "text/html": [
       "<style>#sk-container-id-1 {color: black;background-color: white;}#sk-container-id-1 pre{padding: 0;}#sk-container-id-1 div.sk-toggleable {background-color: white;}#sk-container-id-1 label.sk-toggleable__label {cursor: pointer;display: block;width: 100%;margin-bottom: 0;padding: 0.3em;box-sizing: border-box;text-align: center;}#sk-container-id-1 label.sk-toggleable__label-arrow:before {content: \"▸\";float: left;margin-right: 0.25em;color: #696969;}#sk-container-id-1 label.sk-toggleable__label-arrow:hover:before {color: black;}#sk-container-id-1 div.sk-estimator:hover label.sk-toggleable__label-arrow:before {color: black;}#sk-container-id-1 div.sk-toggleable__content {max-height: 0;max-width: 0;overflow: hidden;text-align: left;background-color: #f0f8ff;}#sk-container-id-1 div.sk-toggleable__content pre {margin: 0.2em;color: black;border-radius: 0.25em;background-color: #f0f8ff;}#sk-container-id-1 input.sk-toggleable__control:checked~div.sk-toggleable__content {max-height: 200px;max-width: 100%;overflow: auto;}#sk-container-id-1 input.sk-toggleable__control:checked~label.sk-toggleable__label-arrow:before {content: \"▾\";}#sk-container-id-1 div.sk-estimator input.sk-toggleable__control:checked~label.sk-toggleable__label {background-color: #d4ebff;}#sk-container-id-1 div.sk-label input.sk-toggleable__control:checked~label.sk-toggleable__label {background-color: #d4ebff;}#sk-container-id-1 input.sk-hidden--visually {border: 0;clip: rect(1px 1px 1px 1px);clip: rect(1px, 1px, 1px, 1px);height: 1px;margin: -1px;overflow: hidden;padding: 0;position: absolute;width: 1px;}#sk-container-id-1 div.sk-estimator {font-family: monospace;background-color: #f0f8ff;border: 1px dotted black;border-radius: 0.25em;box-sizing: border-box;margin-bottom: 0.5em;}#sk-container-id-1 div.sk-estimator:hover {background-color: #d4ebff;}#sk-container-id-1 div.sk-parallel-item::after {content: \"\";width: 100%;border-bottom: 1px solid gray;flex-grow: 1;}#sk-container-id-1 div.sk-label:hover label.sk-toggleable__label {background-color: #d4ebff;}#sk-container-id-1 div.sk-serial::before {content: \"\";position: absolute;border-left: 1px solid gray;box-sizing: border-box;top: 0;bottom: 0;left: 50%;z-index: 0;}#sk-container-id-1 div.sk-serial {display: flex;flex-direction: column;align-items: center;background-color: white;padding-right: 0.2em;padding-left: 0.2em;position: relative;}#sk-container-id-1 div.sk-item {position: relative;z-index: 1;}#sk-container-id-1 div.sk-parallel {display: flex;align-items: stretch;justify-content: center;background-color: white;position: relative;}#sk-container-id-1 div.sk-item::before, #sk-container-id-1 div.sk-parallel-item::before {content: \"\";position: absolute;border-left: 1px solid gray;box-sizing: border-box;top: 0;bottom: 0;left: 50%;z-index: -1;}#sk-container-id-1 div.sk-parallel-item {display: flex;flex-direction: column;z-index: 1;position: relative;background-color: white;}#sk-container-id-1 div.sk-parallel-item:first-child::after {align-self: flex-end;width: 50%;}#sk-container-id-1 div.sk-parallel-item:last-child::after {align-self: flex-start;width: 50%;}#sk-container-id-1 div.sk-parallel-item:only-child::after {width: 0;}#sk-container-id-1 div.sk-dashed-wrapped {border: 1px dashed gray;margin: 0 0.4em 0.5em 0.4em;box-sizing: border-box;padding-bottom: 0.4em;background-color: white;}#sk-container-id-1 div.sk-label label {font-family: monospace;font-weight: bold;display: inline-block;line-height: 1.2em;}#sk-container-id-1 div.sk-label-container {text-align: center;}#sk-container-id-1 div.sk-container {/* jupyter's `normalize.less` sets `[hidden] { display: none; }` but bootstrap.min.css set `[hidden] { display: none !important; }` so we also need the `!important` here to be able to override the default hidden behavior on the sphinx rendered scikit-learn.org. See: https://github.com/scikit-learn/scikit-learn/issues/21755 */display: inline-block !important;position: relative;}#sk-container-id-1 div.sk-text-repr-fallback {display: none;}</style><div id=\"sk-container-id-1\" class=\"sk-top-container\"><div class=\"sk-text-repr-fallback\"><pre>StandardScaler()</pre><b>In a Jupyter environment, please rerun this cell to show the HTML representation or trust the notebook. <br />On GitHub, the HTML representation is unable to render, please try loading this page with nbviewer.org.</b></div><div class=\"sk-container\" hidden><div class=\"sk-item\"><div class=\"sk-estimator sk-toggleable\"><input class=\"sk-toggleable__control sk-hidden--visually\" id=\"sk-estimator-id-1\" type=\"checkbox\" checked><label for=\"sk-estimator-id-1\" class=\"sk-toggleable__label sk-toggleable__label-arrow\">StandardScaler</label><div class=\"sk-toggleable__content\"><pre>StandardScaler()</pre></div></div></div></div></div>"
      ],
      "text/plain": [
       "StandardScaler()"
      ]
     },
     "execution_count": 28,
     "metadata": {},
     "output_type": "execute_result"
    }
   ],
   "source": [
    "scaler.fit(X_train)"
   ]
  },
  {
   "cell_type": "code",
   "execution_count": 29,
   "id": "14cc487d-c3eb-4daa-ab58-f1db83647791",
   "metadata": {},
   "outputs": [
    {
     "data": {
      "text/html": [
       "<div>\n",
       "<style scoped>\n",
       "    .dataframe tbody tr th:only-of-type {\n",
       "        vertical-align: middle;\n",
       "    }\n",
       "\n",
       "    .dataframe tbody tr th {\n",
       "        vertical-align: top;\n",
       "    }\n",
       "\n",
       "    .dataframe thead th {\n",
       "        text-align: right;\n",
       "    }\n",
       "</style>\n",
       "<table border=\"1\" class=\"dataframe\">\n",
       "  <thead>\n",
       "    <tr style=\"text-align: right;\">\n",
       "      <th></th>\n",
       "      <th>duration</th>\n",
       "      <th>src_bytes</th>\n",
       "      <th>dst_bytes</th>\n",
       "      <th>land</th>\n",
       "      <th>wrong_fragment</th>\n",
       "      <th>urgent</th>\n",
       "      <th>hot</th>\n",
       "      <th>num_failed_logins</th>\n",
       "      <th>logged_in</th>\n",
       "      <th>num_compromised</th>\n",
       "      <th>...</th>\n",
       "      <th>REJ</th>\n",
       "      <th>RSTO</th>\n",
       "      <th>RSTOS0</th>\n",
       "      <th>RSTR</th>\n",
       "      <th>S0</th>\n",
       "      <th>S1</th>\n",
       "      <th>S2</th>\n",
       "      <th>S3</th>\n",
       "      <th>SF</th>\n",
       "      <th>SH</th>\n",
       "    </tr>\n",
       "  </thead>\n",
       "  <tbody>\n",
       "    <tr>\n",
       "      <th>115556</th>\n",
       "      <td>0</td>\n",
       "      <td>0</td>\n",
       "      <td>0</td>\n",
       "      <td>0</td>\n",
       "      <td>0</td>\n",
       "      <td>0</td>\n",
       "      <td>0</td>\n",
       "      <td>0</td>\n",
       "      <td>0</td>\n",
       "      <td>0</td>\n",
       "      <td>...</td>\n",
       "      <td>0</td>\n",
       "      <td>0</td>\n",
       "      <td>0</td>\n",
       "      <td>0</td>\n",
       "      <td>1</td>\n",
       "      <td>0</td>\n",
       "      <td>0</td>\n",
       "      <td>0</td>\n",
       "      <td>0</td>\n",
       "      <td>0</td>\n",
       "    </tr>\n",
       "    <tr>\n",
       "      <th>53585</th>\n",
       "      <td>0</td>\n",
       "      <td>0</td>\n",
       "      <td>0</td>\n",
       "      <td>0</td>\n",
       "      <td>0</td>\n",
       "      <td>0</td>\n",
       "      <td>0</td>\n",
       "      <td>0</td>\n",
       "      <td>0</td>\n",
       "      <td>0</td>\n",
       "      <td>...</td>\n",
       "      <td>0</td>\n",
       "      <td>0</td>\n",
       "      <td>0</td>\n",
       "      <td>0</td>\n",
       "      <td>1</td>\n",
       "      <td>0</td>\n",
       "      <td>0</td>\n",
       "      <td>0</td>\n",
       "      <td>0</td>\n",
       "      <td>0</td>\n",
       "    </tr>\n",
       "    <tr>\n",
       "      <th>22976</th>\n",
       "      <td>0</td>\n",
       "      <td>0</td>\n",
       "      <td>0</td>\n",
       "      <td>0</td>\n",
       "      <td>0</td>\n",
       "      <td>0</td>\n",
       "      <td>0</td>\n",
       "      <td>0</td>\n",
       "      <td>0</td>\n",
       "      <td>0</td>\n",
       "      <td>...</td>\n",
       "      <td>0</td>\n",
       "      <td>0</td>\n",
       "      <td>0</td>\n",
       "      <td>0</td>\n",
       "      <td>1</td>\n",
       "      <td>0</td>\n",
       "      <td>0</td>\n",
       "      <td>0</td>\n",
       "      <td>0</td>\n",
       "      <td>0</td>\n",
       "    </tr>\n",
       "    <tr>\n",
       "      <th>103860</th>\n",
       "      <td>0</td>\n",
       "      <td>0</td>\n",
       "      <td>0</td>\n",
       "      <td>0</td>\n",
       "      <td>0</td>\n",
       "      <td>0</td>\n",
       "      <td>0</td>\n",
       "      <td>0</td>\n",
       "      <td>0</td>\n",
       "      <td>0</td>\n",
       "      <td>...</td>\n",
       "      <td>0</td>\n",
       "      <td>0</td>\n",
       "      <td>0</td>\n",
       "      <td>0</td>\n",
       "      <td>1</td>\n",
       "      <td>0</td>\n",
       "      <td>0</td>\n",
       "      <td>0</td>\n",
       "      <td>0</td>\n",
       "      <td>0</td>\n",
       "    </tr>\n",
       "    <tr>\n",
       "      <th>108379</th>\n",
       "      <td>0</td>\n",
       "      <td>30</td>\n",
       "      <td>0</td>\n",
       "      <td>0</td>\n",
       "      <td>0</td>\n",
       "      <td>0</td>\n",
       "      <td>0</td>\n",
       "      <td>0</td>\n",
       "      <td>0</td>\n",
       "      <td>0</td>\n",
       "      <td>...</td>\n",
       "      <td>0</td>\n",
       "      <td>0</td>\n",
       "      <td>0</td>\n",
       "      <td>0</td>\n",
       "      <td>0</td>\n",
       "      <td>0</td>\n",
       "      <td>0</td>\n",
       "      <td>0</td>\n",
       "      <td>1</td>\n",
       "      <td>0</td>\n",
       "    </tr>\n",
       "    <tr>\n",
       "      <th>...</th>\n",
       "      <td>...</td>\n",
       "      <td>...</td>\n",
       "      <td>...</td>\n",
       "      <td>...</td>\n",
       "      <td>...</td>\n",
       "      <td>...</td>\n",
       "      <td>...</td>\n",
       "      <td>...</td>\n",
       "      <td>...</td>\n",
       "      <td>...</td>\n",
       "      <td>...</td>\n",
       "      <td>...</td>\n",
       "      <td>...</td>\n",
       "      <td>...</td>\n",
       "      <td>...</td>\n",
       "      <td>...</td>\n",
       "      <td>...</td>\n",
       "      <td>...</td>\n",
       "      <td>...</td>\n",
       "      <td>...</td>\n",
       "      <td>...</td>\n",
       "    </tr>\n",
       "    <tr>\n",
       "      <th>52453</th>\n",
       "      <td>0</td>\n",
       "      <td>187</td>\n",
       "      <td>13920</td>\n",
       "      <td>0</td>\n",
       "      <td>0</td>\n",
       "      <td>0</td>\n",
       "      <td>0</td>\n",
       "      <td>0</td>\n",
       "      <td>1</td>\n",
       "      <td>0</td>\n",
       "      <td>...</td>\n",
       "      <td>0</td>\n",
       "      <td>0</td>\n",
       "      <td>0</td>\n",
       "      <td>0</td>\n",
       "      <td>0</td>\n",
       "      <td>0</td>\n",
       "      <td>0</td>\n",
       "      <td>0</td>\n",
       "      <td>1</td>\n",
       "      <td>0</td>\n",
       "    </tr>\n",
       "    <tr>\n",
       "      <th>5905</th>\n",
       "      <td>0</td>\n",
       "      <td>1032</td>\n",
       "      <td>0</td>\n",
       "      <td>0</td>\n",
       "      <td>0</td>\n",
       "      <td>0</td>\n",
       "      <td>0</td>\n",
       "      <td>0</td>\n",
       "      <td>0</td>\n",
       "      <td>0</td>\n",
       "      <td>...</td>\n",
       "      <td>0</td>\n",
       "      <td>0</td>\n",
       "      <td>0</td>\n",
       "      <td>0</td>\n",
       "      <td>0</td>\n",
       "      <td>0</td>\n",
       "      <td>0</td>\n",
       "      <td>0</td>\n",
       "      <td>1</td>\n",
       "      <td>0</td>\n",
       "    </tr>\n",
       "    <tr>\n",
       "      <th>7519</th>\n",
       "      <td>0</td>\n",
       "      <td>235</td>\n",
       "      <td>1840</td>\n",
       "      <td>0</td>\n",
       "      <td>0</td>\n",
       "      <td>0</td>\n",
       "      <td>0</td>\n",
       "      <td>0</td>\n",
       "      <td>1</td>\n",
       "      <td>0</td>\n",
       "      <td>...</td>\n",
       "      <td>0</td>\n",
       "      <td>0</td>\n",
       "      <td>0</td>\n",
       "      <td>0</td>\n",
       "      <td>0</td>\n",
       "      <td>0</td>\n",
       "      <td>0</td>\n",
       "      <td>0</td>\n",
       "      <td>1</td>\n",
       "      <td>0</td>\n",
       "    </tr>\n",
       "    <tr>\n",
       "      <th>109059</th>\n",
       "      <td>0</td>\n",
       "      <td>325</td>\n",
       "      <td>362</td>\n",
       "      <td>0</td>\n",
       "      <td>0</td>\n",
       "      <td>0</td>\n",
       "      <td>0</td>\n",
       "      <td>0</td>\n",
       "      <td>1</td>\n",
       "      <td>0</td>\n",
       "      <td>...</td>\n",
       "      <td>0</td>\n",
       "      <td>0</td>\n",
       "      <td>0</td>\n",
       "      <td>0</td>\n",
       "      <td>0</td>\n",
       "      <td>0</td>\n",
       "      <td>0</td>\n",
       "      <td>0</td>\n",
       "      <td>1</td>\n",
       "      <td>0</td>\n",
       "    </tr>\n",
       "    <tr>\n",
       "      <th>38024</th>\n",
       "      <td>0</td>\n",
       "      <td>1241</td>\n",
       "      <td>400</td>\n",
       "      <td>0</td>\n",
       "      <td>0</td>\n",
       "      <td>0</td>\n",
       "      <td>0</td>\n",
       "      <td>0</td>\n",
       "      <td>1</td>\n",
       "      <td>0</td>\n",
       "      <td>...</td>\n",
       "      <td>0</td>\n",
       "      <td>0</td>\n",
       "      <td>0</td>\n",
       "      <td>0</td>\n",
       "      <td>0</td>\n",
       "      <td>0</td>\n",
       "      <td>0</td>\n",
       "      <td>0</td>\n",
       "      <td>1</td>\n",
       "      <td>0</td>\n",
       "    </tr>\n",
       "  </tbody>\n",
       "</table>\n",
       "<p>31494 rows × 117 columns</p>\n",
       "</div>"
      ],
      "text/plain": [
       "        duration  src_bytes  dst_bytes  land  wrong_fragment  urgent  hot  \\\n",
       "115556         0          0          0     0               0       0    0   \n",
       "53585          0          0          0     0               0       0    0   \n",
       "22976          0          0          0     0               0       0    0   \n",
       "103860         0          0          0     0               0       0    0   \n",
       "108379         0         30          0     0               0       0    0   \n",
       "...          ...        ...        ...   ...             ...     ...  ...   \n",
       "52453          0        187      13920     0               0       0    0   \n",
       "5905           0       1032          0     0               0       0    0   \n",
       "7519           0        235       1840     0               0       0    0   \n",
       "109059         0        325        362     0               0       0    0   \n",
       "38024          0       1241        400     0               0       0    0   \n",
       "\n",
       "        num_failed_logins  logged_in  num_compromised  ...  REJ  RSTO  RSTOS0  \\\n",
       "115556                  0          0                0  ...    0     0       0   \n",
       "53585                   0          0                0  ...    0     0       0   \n",
       "22976                   0          0                0  ...    0     0       0   \n",
       "103860                  0          0                0  ...    0     0       0   \n",
       "108379                  0          0                0  ...    0     0       0   \n",
       "...                   ...        ...              ...  ...  ...   ...     ...   \n",
       "52453                   0          1                0  ...    0     0       0   \n",
       "5905                    0          0                0  ...    0     0       0   \n",
       "7519                    0          1                0  ...    0     0       0   \n",
       "109059                  0          1                0  ...    0     0       0   \n",
       "38024                   0          1                0  ...    0     0       0   \n",
       "\n",
       "        RSTR  S0  S1  S2  S3  SF  SH  \n",
       "115556     0   1   0   0   0   0   0  \n",
       "53585      0   1   0   0   0   0   0  \n",
       "22976      0   1   0   0   0   0   0  \n",
       "103860     0   1   0   0   0   0   0  \n",
       "108379     0   0   0   0   0   1   0  \n",
       "...      ...  ..  ..  ..  ..  ..  ..  \n",
       "52453      0   0   0   0   0   1   0  \n",
       "5905       0   0   0   0   0   1   0  \n",
       "7519       0   0   0   0   0   1   0  \n",
       "109059     0   0   0   0   0   1   0  \n",
       "38024      0   0   0   0   0   1   0  \n",
       "\n",
       "[31494 rows x 117 columns]"
      ]
     },
     "execution_count": 29,
     "metadata": {},
     "output_type": "execute_result"
    }
   ],
   "source": [
    "X_valid"
   ]
  },
  {
   "cell_type": "code",
   "execution_count": 30,
   "id": "ad9d4d3f-d1d5-4c4d-ae94-ac3bfb74d9f3",
   "metadata": {},
   "outputs": [],
   "source": [
    "X_train[num_columns] = scaler.transform(X_train[num_columns])"
   ]
  },
  {
   "cell_type": "code",
   "execution_count": 31,
   "id": "89916fea-f1b6-4032-9c06-730c6855a97a",
   "metadata": {},
   "outputs": [],
   "source": [
    "X_valid[num_columns] = scaler.transform(X_valid[num_columns])"
   ]
  },
  {
   "cell_type": "code",
   "execution_count": 32,
   "id": "39872f6f-2028-41fc-a7f1-f381397c3b57",
   "metadata": {},
   "outputs": [],
   "source": [
    "X_test[num_columns] = scaler.transform(X_test[num_columns])"
   ]
  },
  {
   "cell_type": "code",
   "execution_count": 33,
   "id": "1616f062-b69b-4788-980c-868b49adc8d9",
   "metadata": {},
   "outputs": [],
   "source": [
    "#X_train = pd.DataFrame(X_train)\n",
    "#X_valid = pd.DataFrame(X_valid)\n",
    "#X_test = pd.DataFrame(X_test)\n",
    "X_valid['target'] = y_valid\n",
    "X_test[\"target\"] = y_test"
   ]
  },
  {
   "cell_type": "code",
   "execution_count": 34,
   "id": "feef55b9-755e-49b2-b5b5-852285162752",
   "metadata": {},
   "outputs": [
    {
     "data": {
      "text/plain": [
       "(0    16815\n",
       " 1    14679\n",
       " Name: target, dtype: int64,\n",
       " 1    12833\n",
       " 0     9711\n",
       " Name: target, dtype: int64)"
      ]
     },
     "execution_count": 34,
     "metadata": {},
     "output_type": "execute_result"
    }
   ],
   "source": [
    "X_valid[\"target\"].value_counts(), X_test[\"target\"].value_counts()"
   ]
  },
  {
   "cell_type": "code",
   "execution_count": 35,
   "id": "b42f1ea4-1c44-48fc-8657-07f7e6085d35",
   "metadata": {},
   "outputs": [
    {
     "data": {
      "text/plain": [
       "(50528, 31494, 22544, 117)"
      ]
     },
     "execution_count": 35,
     "metadata": {},
     "output_type": "execute_result"
    }
   ],
   "source": [
    "X_train.to_csv(\"nsl-kdd_train.csv\",header=None,index=False,sep=\" \")\n",
    "X_valid.to_csv(\"nsl-kdd_valid.csv\",header=None,index=False,sep=\" \")\n",
    "X_test.to_csv(\"nsl-kdd_test.csv\",header=None,index=False,sep=\" \")\n",
    "len(X_train), len(X_valid), len(X_test), len(X_train.columns)"
   ]
  },
  {
   "cell_type": "code",
   "execution_count": 36,
   "id": "cce94a02-e12f-4576-b0f8-00c57c220ad9",
   "metadata": {},
   "outputs": [
    {
     "data": {
      "text/plain": [
       "(118, 118)"
      ]
     },
     "execution_count": 36,
     "metadata": {},
     "output_type": "execute_result"
    }
   ],
   "source": [
    "len(X_valid.columns), len(X_test.columns)"
   ]
  },
  {
   "cell_type": "code",
   "execution_count": 37,
   "id": "65ca0eaf-52f5-4f52-bdd3-9ffdad447bc0",
   "metadata": {},
   "outputs": [],
   "source": [
    "import os\n"
   ]
  },
  {
   "cell_type": "code",
   "execution_count": 38,
   "id": "900c9fcd-4696-4f6f-9b23-9168a819cde7",
   "metadata": {},
   "outputs": [
    {
     "data": {
      "text/plain": [
       "'/home/szekeres/Letöltések/nsl_kdd'"
      ]
     },
     "execution_count": 38,
     "metadata": {},
     "output_type": "execute_result"
    }
   ],
   "source": [
    "os.getcwd()"
   ]
  },
  {
   "cell_type": "code",
   "execution_count": null,
   "id": "107795fa-bbcf-4407-abd2-cdf3399fa305",
   "metadata": {},
   "outputs": [],
   "source": []
  }
 ],
 "metadata": {
  "kernelspec": {
   "display_name": "Python 3",
   "language": "python",
   "name": "python3"
  },
  "language_info": {
   "codemirror_mode": {
    "name": "ipython",
    "version": 3
   },
   "file_extension": ".py",
   "mimetype": "text/x-python",
   "name": "python",
   "nbconvert_exporter": "python",
   "pygments_lexer": "ipython3",
   "version": "3.8.8"
  }
 },
 "nbformat": 4,
 "nbformat_minor": 5
}
