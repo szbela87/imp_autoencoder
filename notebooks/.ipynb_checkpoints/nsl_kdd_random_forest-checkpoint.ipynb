{
 "cells": [
  {
   "cell_type": "code",
   "execution_count": 1,
   "id": "798ee9df-5d3b-483f-9f02-7f92f881a61a",
   "metadata": {},
   "outputs": [
    {
     "name": "stdout",
     "output_type": "stream",
     "text": [
      "Notebook last run (end-to-end): 2024-03-11 21:25:55.628090\n"
     ]
    }
   ],
   "source": [
    "import pandas as pd\n",
    "import numpy as np\n",
    "from sklearn.model_selection import train_test_split\n",
    "from sklearn.preprocessing import MinMaxScaler, RobustScaler, StandardScaler\n",
    "from sklearn.metrics import recall_score\n",
    "from sklearn.model_selection import RandomizedSearchCV\n",
    "from timeit import default_timer\n",
    "import datetime\n",
    "from xgboost import XGBClassifier\n",
    "from sklearn.ensemble import RandomForestClassifier\n",
    "\n",
    "from sklearn.metrics import matthews_corrcoef, accuracy_score, precision_score, f1_score\n",
    "from imblearn.over_sampling import SMOTE\n",
    "from hyperopt import tpe, STATUS_OK, Trials, hp, fmin, STATUS_OK, space_eval\n",
    "from sklearn.model_selection import PredefinedSplit\n",
    "from sklearn.preprocessing import LabelEncoder\n",
    "import matplotlib.pyplot as plt\n",
    "from sklearn.decomposition import PCA\n",
    "print(f\"Notebook last run (end-to-end): {datetime.datetime.now()}\")"
   ]
  },
  {
   "cell_type": "code",
   "execution_count": 2,
   "id": "99eeb535-e30f-445a-a7e6-b14830bfacbf",
   "metadata": {},
   "outputs": [],
   "source": [
    "SEED_ORIG = 2024\n",
    "SEED_NP = 2023\n",
    "SEED = SEED_ORIG\n",
    "NUM_SIMS = 10\n",
    "rstate = np.random.default_rng(SEED_NP)"
   ]
  },
  {
   "cell_type": "markdown",
   "id": "2278707c-e909-45ea-8ae9-1e20eec30eb7",
   "metadata": {},
   "source": [
    "# Loading the dataset"
   ]
  },
  {
   "cell_type": "code",
   "execution_count": 3,
   "id": "932cb952-d455-4190-be8d-b9d924f64286",
   "metadata": {},
   "outputs": [],
   "source": [
    "Trained_Data = pd.read_csv(\"../data/KDDTrain+.txt\" , header = None)\n",
    "Tested_Data  = pd.read_csv(\"../data/KDDTest+.txt\" , header = None)"
   ]
  },
  {
   "cell_type": "code",
   "execution_count": 4,
   "id": "f5b62a1b-0f81-42ed-9e59-d7d048a3324d",
   "metadata": {},
   "outputs": [],
   "source": [
    "Columns = (['duration','protocol_type','service','flag','src_bytes','dst_bytes','land','wrong_fragment','urgent','hot',\n",
    "            'num_failed_logins','logged_in','num_compromised','root_shell','su_attempted','num_root','num_file_creations',\n",
    "            'num_shells','num_access_files','num_outbound_cmds','is_host_login','is_guest_login','count','srv_count',\n",
    "            'serror_rate','srv_serror_rate','rerror_rate','srv_rerror_rate','same_srv_rate','diff_srv_rate','srv_diff_host_rate',\n",
    "            'dst_host_count','dst_host_srv_count','dst_host_same_srv_rate','dst_host_diff_srv_rate','dst_host_same_src_port_rate',\n",
    "            'dst_host_srv_diff_host_rate','dst_host_serror_rate','dst_host_srv_serror_rate','dst_host_rerror_rate',\n",
    "            'dst_host_srv_rerror_rate','attack','level'])\n",
    "Trained_Data.columns = Columns\n",
    "Tested_Data.columns  = Columns"
   ]
  },
  {
   "cell_type": "code",
   "execution_count": 5,
   "id": "6ecea7eb-7d62-4903-b99c-77e84ca008d2",
   "metadata": {},
   "outputs": [],
   "source": [
    "Trained_attack = Trained_Data.attack.map(lambda a: 0 if a == 'normal' else 1)\n",
    "Tested_attack = Tested_Data.attack.map(lambda a: 0 if a == 'normal' else 1)\n",
    "\n",
    "Trained_Data['attack'] = Trained_attack\n",
    "Tested_Data['attack'] = Tested_attack"
   ]
  },
  {
   "cell_type": "code",
   "execution_count": 6,
   "id": "56775999-9ec6-44c8-b1f3-cb26c5b1b7a6",
   "metadata": {},
   "outputs": [
    {
     "data": {
      "text/plain": [
       "duration                       0\n",
       "protocol_type                  0\n",
       "service                        0\n",
       "flag                           0\n",
       "src_bytes                      0\n",
       "dst_bytes                      0\n",
       "land                           0\n",
       "wrong_fragment                 0\n",
       "urgent                         0\n",
       "hot                            0\n",
       "num_failed_logins              0\n",
       "logged_in                      0\n",
       "num_compromised                0\n",
       "root_shell                     0\n",
       "su_attempted                   0\n",
       "num_root                       0\n",
       "num_file_creations             0\n",
       "num_shells                     0\n",
       "num_access_files               0\n",
       "num_outbound_cmds              0\n",
       "is_host_login                  0\n",
       "is_guest_login                 0\n",
       "count                          0\n",
       "srv_count                      0\n",
       "serror_rate                    0\n",
       "srv_serror_rate                0\n",
       "rerror_rate                    0\n",
       "srv_rerror_rate                0\n",
       "same_srv_rate                  0\n",
       "diff_srv_rate                  0\n",
       "srv_diff_host_rate             0\n",
       "dst_host_count                 0\n",
       "dst_host_srv_count             0\n",
       "dst_host_same_srv_rate         0\n",
       "dst_host_diff_srv_rate         0\n",
       "dst_host_same_src_port_rate    0\n",
       "dst_host_srv_diff_host_rate    0\n",
       "dst_host_serror_rate           0\n",
       "dst_host_srv_serror_rate       0\n",
       "dst_host_rerror_rate           0\n",
       "dst_host_srv_rerror_rate       0\n",
       "attack                         0\n",
       "level                          0\n",
       "dtype: int64"
      ]
     },
     "execution_count": 6,
     "metadata": {},
     "output_type": "execute_result"
    }
   ],
   "source": [
    "Trained_Data.isnull().sum()\n"
   ]
  },
  {
   "cell_type": "code",
   "execution_count": 7,
   "id": "ad1dc148-696b-4ac6-90f5-7a2a3819b30c",
   "metadata": {},
   "outputs": [
    {
     "data": {
      "text/plain": [
       "(9, 3)"
      ]
     },
     "execution_count": 7,
     "metadata": {},
     "output_type": "execute_result"
    }
   ],
   "source": [
    "# duplicates\n",
    "Trained_Data.duplicated().sum(), Tested_Data.duplicated().sum()\n",
    "\n"
   ]
  },
  {
   "cell_type": "code",
   "execution_count": 8,
   "id": "6f9e974d-8518-4646-a9ff-c8aa7d2465a6",
   "metadata": {},
   "outputs": [],
   "source": [
    "cat_columns = ['protocol_type','service','flag']"
   ]
  },
  {
   "cell_type": "code",
   "execution_count": 9,
   "id": "86258de5-2bb6-4f75-9f05-354d841a59cc",
   "metadata": {},
   "outputs": [],
   "source": [
    "Trained_Data = pd.get_dummies(Trained_Data,columns=cat_columns,prefix=\"\",prefix_sep=\"\")\n",
    "Tested_Data = pd.get_dummies(Tested_Data,columns=cat_columns,prefix=\"\",prefix_sep=\"\")"
   ]
  },
  {
   "cell_type": "code",
   "execution_count": 10,
   "id": "1527b2d9-5c55-4451-895d-159ede64500a",
   "metadata": {},
   "outputs": [
    {
     "data": {
      "text/plain": [
       "0         0\n",
       "1         0\n",
       "2         1\n",
       "3         0\n",
       "4         0\n",
       "         ..\n",
       "125968    1\n",
       "125969    0\n",
       "125970    0\n",
       "125971    1\n",
       "125972    0\n",
       "Name: attack, Length: 125973, dtype: int64"
      ]
     },
     "execution_count": 10,
     "metadata": {},
     "output_type": "execute_result"
    }
   ],
   "source": [
    "Trained_Data[\"attack\"]"
   ]
  },
  {
   "cell_type": "code",
   "execution_count": 11,
   "id": "fa6b2171-10cf-45b2-8f40-6bbd1fdaecaf",
   "metadata": {},
   "outputs": [],
   "source": [
    "X_test = Tested_Data.drop(\"attack\",axis=1)\n",
    "y_test = Tested_Data['attack']"
   ]
  },
  {
   "cell_type": "code",
   "execution_count": 12,
   "id": "e17136cb-3964-4360-96af-3528f49168fc",
   "metadata": {},
   "outputs": [],
   "source": [
    "X_train_ = Trained_Data.drop(\"attack\", axis = 1)\n",
    "y_train_ = Trained_Data[\"attack\"]"
   ]
  },
  {
   "cell_type": "code",
   "execution_count": 13,
   "id": "983c93c6-94ef-4fb4-97cd-ca1dcfc50d24",
   "metadata": {},
   "outputs": [],
   "source": [
    "X_train, X_valid, y_train, y_valid = train_test_split(X_train_, y_train_, test_size= 0.25 , random_state=SEED)"
   ]
  },
  {
   "cell_type": "code",
   "execution_count": 14,
   "id": "a0f07d62-b55b-4bca-bc90-b87d8dca6fdb",
   "metadata": {},
   "outputs": [
    {
     "data": {
      "text/html": [
       "<div>\n",
       "<style scoped>\n",
       "    .dataframe tbody tr th:only-of-type {\n",
       "        vertical-align: middle;\n",
       "    }\n",
       "\n",
       "    .dataframe tbody tr th {\n",
       "        vertical-align: top;\n",
       "    }\n",
       "\n",
       "    .dataframe thead th {\n",
       "        text-align: right;\n",
       "    }\n",
       "</style>\n",
       "<table border=\"1\" class=\"dataframe\">\n",
       "  <thead>\n",
       "    <tr style=\"text-align: right;\">\n",
       "      <th></th>\n",
       "      <th>duration</th>\n",
       "      <th>src_bytes</th>\n",
       "      <th>dst_bytes</th>\n",
       "      <th>land</th>\n",
       "      <th>wrong_fragment</th>\n",
       "      <th>urgent</th>\n",
       "      <th>hot</th>\n",
       "      <th>num_failed_logins</th>\n",
       "      <th>logged_in</th>\n",
       "      <th>num_compromised</th>\n",
       "      <th>...</th>\n",
       "      <th>REJ</th>\n",
       "      <th>RSTO</th>\n",
       "      <th>RSTOS0</th>\n",
       "      <th>RSTR</th>\n",
       "      <th>S0</th>\n",
       "      <th>S1</th>\n",
       "      <th>S2</th>\n",
       "      <th>S3</th>\n",
       "      <th>SF</th>\n",
       "      <th>SH</th>\n",
       "    </tr>\n",
       "  </thead>\n",
       "  <tbody>\n",
       "    <tr>\n",
       "      <th>0</th>\n",
       "      <td>0</td>\n",
       "      <td>491</td>\n",
       "      <td>0</td>\n",
       "      <td>0</td>\n",
       "      <td>0</td>\n",
       "      <td>0</td>\n",
       "      <td>0</td>\n",
       "      <td>0</td>\n",
       "      <td>0</td>\n",
       "      <td>0</td>\n",
       "      <td>...</td>\n",
       "      <td>0</td>\n",
       "      <td>0</td>\n",
       "      <td>0</td>\n",
       "      <td>0</td>\n",
       "      <td>0</td>\n",
       "      <td>0</td>\n",
       "      <td>0</td>\n",
       "      <td>0</td>\n",
       "      <td>1</td>\n",
       "      <td>0</td>\n",
       "    </tr>\n",
       "    <tr>\n",
       "      <th>1</th>\n",
       "      <td>0</td>\n",
       "      <td>146</td>\n",
       "      <td>0</td>\n",
       "      <td>0</td>\n",
       "      <td>0</td>\n",
       "      <td>0</td>\n",
       "      <td>0</td>\n",
       "      <td>0</td>\n",
       "      <td>0</td>\n",
       "      <td>0</td>\n",
       "      <td>...</td>\n",
       "      <td>0</td>\n",
       "      <td>0</td>\n",
       "      <td>0</td>\n",
       "      <td>0</td>\n",
       "      <td>0</td>\n",
       "      <td>0</td>\n",
       "      <td>0</td>\n",
       "      <td>0</td>\n",
       "      <td>1</td>\n",
       "      <td>0</td>\n",
       "    </tr>\n",
       "    <tr>\n",
       "      <th>2</th>\n",
       "      <td>0</td>\n",
       "      <td>0</td>\n",
       "      <td>0</td>\n",
       "      <td>0</td>\n",
       "      <td>0</td>\n",
       "      <td>0</td>\n",
       "      <td>0</td>\n",
       "      <td>0</td>\n",
       "      <td>0</td>\n",
       "      <td>0</td>\n",
       "      <td>...</td>\n",
       "      <td>0</td>\n",
       "      <td>0</td>\n",
       "      <td>0</td>\n",
       "      <td>0</td>\n",
       "      <td>1</td>\n",
       "      <td>0</td>\n",
       "      <td>0</td>\n",
       "      <td>0</td>\n",
       "      <td>0</td>\n",
       "      <td>0</td>\n",
       "    </tr>\n",
       "    <tr>\n",
       "      <th>3</th>\n",
       "      <td>0</td>\n",
       "      <td>232</td>\n",
       "      <td>8153</td>\n",
       "      <td>0</td>\n",
       "      <td>0</td>\n",
       "      <td>0</td>\n",
       "      <td>0</td>\n",
       "      <td>0</td>\n",
       "      <td>1</td>\n",
       "      <td>0</td>\n",
       "      <td>...</td>\n",
       "      <td>0</td>\n",
       "      <td>0</td>\n",
       "      <td>0</td>\n",
       "      <td>0</td>\n",
       "      <td>0</td>\n",
       "      <td>0</td>\n",
       "      <td>0</td>\n",
       "      <td>0</td>\n",
       "      <td>1</td>\n",
       "      <td>0</td>\n",
       "    </tr>\n",
       "    <tr>\n",
       "      <th>4</th>\n",
       "      <td>0</td>\n",
       "      <td>199</td>\n",
       "      <td>420</td>\n",
       "      <td>0</td>\n",
       "      <td>0</td>\n",
       "      <td>0</td>\n",
       "      <td>0</td>\n",
       "      <td>0</td>\n",
       "      <td>1</td>\n",
       "      <td>0</td>\n",
       "      <td>...</td>\n",
       "      <td>0</td>\n",
       "      <td>0</td>\n",
       "      <td>0</td>\n",
       "      <td>0</td>\n",
       "      <td>0</td>\n",
       "      <td>0</td>\n",
       "      <td>0</td>\n",
       "      <td>0</td>\n",
       "      <td>1</td>\n",
       "      <td>0</td>\n",
       "    </tr>\n",
       "    <tr>\n",
       "      <th>...</th>\n",
       "      <td>...</td>\n",
       "      <td>...</td>\n",
       "      <td>...</td>\n",
       "      <td>...</td>\n",
       "      <td>...</td>\n",
       "      <td>...</td>\n",
       "      <td>...</td>\n",
       "      <td>...</td>\n",
       "      <td>...</td>\n",
       "      <td>...</td>\n",
       "      <td>...</td>\n",
       "      <td>...</td>\n",
       "      <td>...</td>\n",
       "      <td>...</td>\n",
       "      <td>...</td>\n",
       "      <td>...</td>\n",
       "      <td>...</td>\n",
       "      <td>...</td>\n",
       "      <td>...</td>\n",
       "      <td>...</td>\n",
       "      <td>...</td>\n",
       "    </tr>\n",
       "    <tr>\n",
       "      <th>125968</th>\n",
       "      <td>0</td>\n",
       "      <td>0</td>\n",
       "      <td>0</td>\n",
       "      <td>0</td>\n",
       "      <td>0</td>\n",
       "      <td>0</td>\n",
       "      <td>0</td>\n",
       "      <td>0</td>\n",
       "      <td>0</td>\n",
       "      <td>0</td>\n",
       "      <td>...</td>\n",
       "      <td>0</td>\n",
       "      <td>0</td>\n",
       "      <td>0</td>\n",
       "      <td>0</td>\n",
       "      <td>1</td>\n",
       "      <td>0</td>\n",
       "      <td>0</td>\n",
       "      <td>0</td>\n",
       "      <td>0</td>\n",
       "      <td>0</td>\n",
       "    </tr>\n",
       "    <tr>\n",
       "      <th>125969</th>\n",
       "      <td>8</td>\n",
       "      <td>105</td>\n",
       "      <td>145</td>\n",
       "      <td>0</td>\n",
       "      <td>0</td>\n",
       "      <td>0</td>\n",
       "      <td>0</td>\n",
       "      <td>0</td>\n",
       "      <td>0</td>\n",
       "      <td>0</td>\n",
       "      <td>...</td>\n",
       "      <td>0</td>\n",
       "      <td>0</td>\n",
       "      <td>0</td>\n",
       "      <td>0</td>\n",
       "      <td>0</td>\n",
       "      <td>0</td>\n",
       "      <td>0</td>\n",
       "      <td>0</td>\n",
       "      <td>1</td>\n",
       "      <td>0</td>\n",
       "    </tr>\n",
       "    <tr>\n",
       "      <th>125970</th>\n",
       "      <td>0</td>\n",
       "      <td>2231</td>\n",
       "      <td>384</td>\n",
       "      <td>0</td>\n",
       "      <td>0</td>\n",
       "      <td>0</td>\n",
       "      <td>0</td>\n",
       "      <td>0</td>\n",
       "      <td>1</td>\n",
       "      <td>0</td>\n",
       "      <td>...</td>\n",
       "      <td>0</td>\n",
       "      <td>0</td>\n",
       "      <td>0</td>\n",
       "      <td>0</td>\n",
       "      <td>0</td>\n",
       "      <td>0</td>\n",
       "      <td>0</td>\n",
       "      <td>0</td>\n",
       "      <td>1</td>\n",
       "      <td>0</td>\n",
       "    </tr>\n",
       "    <tr>\n",
       "      <th>125971</th>\n",
       "      <td>0</td>\n",
       "      <td>0</td>\n",
       "      <td>0</td>\n",
       "      <td>0</td>\n",
       "      <td>0</td>\n",
       "      <td>0</td>\n",
       "      <td>0</td>\n",
       "      <td>0</td>\n",
       "      <td>0</td>\n",
       "      <td>0</td>\n",
       "      <td>...</td>\n",
       "      <td>0</td>\n",
       "      <td>0</td>\n",
       "      <td>0</td>\n",
       "      <td>0</td>\n",
       "      <td>1</td>\n",
       "      <td>0</td>\n",
       "      <td>0</td>\n",
       "      <td>0</td>\n",
       "      <td>0</td>\n",
       "      <td>0</td>\n",
       "    </tr>\n",
       "    <tr>\n",
       "      <th>125972</th>\n",
       "      <td>0</td>\n",
       "      <td>151</td>\n",
       "      <td>0</td>\n",
       "      <td>0</td>\n",
       "      <td>0</td>\n",
       "      <td>0</td>\n",
       "      <td>0</td>\n",
       "      <td>0</td>\n",
       "      <td>1</td>\n",
       "      <td>0</td>\n",
       "      <td>...</td>\n",
       "      <td>0</td>\n",
       "      <td>0</td>\n",
       "      <td>0</td>\n",
       "      <td>0</td>\n",
       "      <td>0</td>\n",
       "      <td>0</td>\n",
       "      <td>0</td>\n",
       "      <td>0</td>\n",
       "      <td>1</td>\n",
       "      <td>0</td>\n",
       "    </tr>\n",
       "  </tbody>\n",
       "</table>\n",
       "<p>125973 rows × 124 columns</p>\n",
       "</div>"
      ],
      "text/plain": [
       "        duration  src_bytes  dst_bytes  land  wrong_fragment  urgent  hot  \\\n",
       "0              0        491          0     0               0       0    0   \n",
       "1              0        146          0     0               0       0    0   \n",
       "2              0          0          0     0               0       0    0   \n",
       "3              0        232       8153     0               0       0    0   \n",
       "4              0        199        420     0               0       0    0   \n",
       "...          ...        ...        ...   ...             ...     ...  ...   \n",
       "125968         0          0          0     0               0       0    0   \n",
       "125969         8        105        145     0               0       0    0   \n",
       "125970         0       2231        384     0               0       0    0   \n",
       "125971         0          0          0     0               0       0    0   \n",
       "125972         0        151          0     0               0       0    0   \n",
       "\n",
       "        num_failed_logins  logged_in  num_compromised  ...  REJ  RSTO  RSTOS0  \\\n",
       "0                       0          0                0  ...    0     0       0   \n",
       "1                       0          0                0  ...    0     0       0   \n",
       "2                       0          0                0  ...    0     0       0   \n",
       "3                       0          1                0  ...    0     0       0   \n",
       "4                       0          1                0  ...    0     0       0   \n",
       "...                   ...        ...              ...  ...  ...   ...     ...   \n",
       "125968                  0          0                0  ...    0     0       0   \n",
       "125969                  0          0                0  ...    0     0       0   \n",
       "125970                  0          1                0  ...    0     0       0   \n",
       "125971                  0          0                0  ...    0     0       0   \n",
       "125972                  0          1                0  ...    0     0       0   \n",
       "\n",
       "        RSTR  S0  S1  S2  S3  SF  SH  \n",
       "0          0   0   0   0   0   1   0  \n",
       "1          0   0   0   0   0   1   0  \n",
       "2          0   1   0   0   0   0   0  \n",
       "3          0   0   0   0   0   1   0  \n",
       "4          0   0   0   0   0   1   0  \n",
       "...      ...  ..  ..  ..  ..  ..  ..  \n",
       "125968     0   1   0   0   0   0   0  \n",
       "125969     0   0   0   0   0   1   0  \n",
       "125970     0   0   0   0   0   1   0  \n",
       "125971     0   1   0   0   0   0   0  \n",
       "125972     0   0   0   0   0   1   0  \n",
       "\n",
       "[125973 rows x 124 columns]"
      ]
     },
     "execution_count": 14,
     "metadata": {},
     "output_type": "execute_result"
    }
   ],
   "source": [
    "Trained_Data"
   ]
  },
  {
   "cell_type": "code",
   "execution_count": 15,
   "id": "f5e6ca1e-e9be-4d4a-bcbf-9f49fe556465",
   "metadata": {},
   "outputs": [
    {
     "data": {
      "text/plain": [
       "['duration',\n",
       " 'src_bytes',\n",
       " 'dst_bytes',\n",
       " 'land',\n",
       " 'wrong_fragment',\n",
       " 'urgent',\n",
       " 'hot',\n",
       " 'num_failed_logins',\n",
       " 'logged_in',\n",
       " 'num_compromised',\n",
       " 'root_shell',\n",
       " 'su_attempted',\n",
       " 'num_root',\n",
       " 'num_file_creations',\n",
       " 'num_shells',\n",
       " 'num_access_files',\n",
       " 'num_outbound_cmds',\n",
       " 'is_host_login',\n",
       " 'is_guest_login',\n",
       " 'count',\n",
       " 'srv_count',\n",
       " 'serror_rate',\n",
       " 'srv_serror_rate',\n",
       " 'rerror_rate',\n",
       " 'srv_rerror_rate',\n",
       " 'same_srv_rate',\n",
       " 'diff_srv_rate',\n",
       " 'srv_diff_host_rate',\n",
       " 'dst_host_count',\n",
       " 'dst_host_srv_count',\n",
       " 'dst_host_same_srv_rate',\n",
       " 'dst_host_diff_srv_rate',\n",
       " 'dst_host_same_src_port_rate',\n",
       " 'dst_host_srv_diff_host_rate',\n",
       " 'dst_host_serror_rate',\n",
       " 'dst_host_srv_serror_rate',\n",
       " 'dst_host_rerror_rate',\n",
       " 'dst_host_srv_rerror_rate',\n",
       " 'level',\n",
       " 'icmp',\n",
       " 'tcp',\n",
       " 'udp',\n",
       " 'IRC',\n",
       " 'X11',\n",
       " 'Z39_50',\n",
       " 'aol',\n",
       " 'auth',\n",
       " 'bgp',\n",
       " 'courier',\n",
       " 'csnet_ns',\n",
       " 'ctf',\n",
       " 'daytime',\n",
       " 'discard',\n",
       " 'domain',\n",
       " 'domain_u',\n",
       " 'echo',\n",
       " 'eco_i',\n",
       " 'ecr_i',\n",
       " 'efs',\n",
       " 'exec',\n",
       " 'finger',\n",
       " 'ftp',\n",
       " 'ftp_data',\n",
       " 'gopher',\n",
       " 'harvest',\n",
       " 'hostnames',\n",
       " 'http',\n",
       " 'http_2784',\n",
       " 'http_443',\n",
       " 'http_8001',\n",
       " 'imap4',\n",
       " 'iso_tsap',\n",
       " 'klogin',\n",
       " 'kshell',\n",
       " 'ldap',\n",
       " 'link',\n",
       " 'login',\n",
       " 'mtp',\n",
       " 'name',\n",
       " 'netbios_dgm',\n",
       " 'netbios_ns',\n",
       " 'netbios_ssn',\n",
       " 'netstat',\n",
       " 'nnsp',\n",
       " 'nntp',\n",
       " 'ntp_u',\n",
       " 'other',\n",
       " 'pm_dump',\n",
       " 'pop_2',\n",
       " 'pop_3',\n",
       " 'printer',\n",
       " 'private',\n",
       " 'red_i',\n",
       " 'remote_job',\n",
       " 'rje',\n",
       " 'shell',\n",
       " 'smtp',\n",
       " 'sql_net',\n",
       " 'ssh',\n",
       " 'sunrpc',\n",
       " 'supdup',\n",
       " 'systat',\n",
       " 'telnet',\n",
       " 'tftp_u',\n",
       " 'tim_i',\n",
       " 'time',\n",
       " 'urh_i',\n",
       " 'urp_i',\n",
       " 'uucp',\n",
       " 'uucp_path',\n",
       " 'vmnet',\n",
       " 'whois',\n",
       " 'OTH',\n",
       " 'REJ',\n",
       " 'RSTO',\n",
       " 'RSTOS0',\n",
       " 'RSTR',\n",
       " 'S0',\n",
       " 'S1',\n",
       " 'S2',\n",
       " 'S3',\n",
       " 'SF',\n",
       " 'SH']"
      ]
     },
     "execution_count": 15,
     "metadata": {},
     "output_type": "execute_result"
    }
   ],
   "source": [
    "num_columns = []\n",
    "for col_name in Trained_Data.drop(\"attack\",axis=1).columns:\n",
    "    if col_name not in cat_columns:\n",
    "        num_columns.append(col_name)\n",
    "num_columns"
   ]
  },
  {
   "cell_type": "code",
   "execution_count": 16,
   "id": "ab139221-d33a-41c0-970f-1e1d4bbd9627",
   "metadata": {},
   "outputs": [
    {
     "data": {
      "text/plain": [
       "False"
      ]
     },
     "execution_count": 16,
     "metadata": {},
     "output_type": "execute_result"
    }
   ],
   "source": [
    "\"attack\" in num_columns"
   ]
  },
  {
   "cell_type": "code",
   "execution_count": 17,
   "id": "36473454-4141-4307-9ca5-3ec6c6d4cf9e",
   "metadata": {},
   "outputs": [],
   "source": [
    "#scaler = StandardScaler()"
   ]
  },
  {
   "cell_type": "code",
   "execution_count": 18,
   "id": "fd9efaa7-6abe-477f-95a8-d0323976895d",
   "metadata": {},
   "outputs": [],
   "source": [
    "#scaler.fit(X_train[num_columns])"
   ]
  },
  {
   "cell_type": "code",
   "execution_count": 19,
   "id": "7ec48724-1c10-415c-864f-7b4c192ba894",
   "metadata": {},
   "outputs": [
    {
     "data": {
      "text/plain": [
       "(94479, 31494, 22544, 123, 123, 117)"
      ]
     },
     "execution_count": 19,
     "metadata": {},
     "output_type": "execute_result"
    }
   ],
   "source": [
    "len(X_train), len(X_valid), len(X_test), len(X_train.columns), len(X_valid.columns), len(X_test.columns)"
   ]
  },
  {
   "cell_type": "code",
   "execution_count": 20,
   "id": "1bbcad46-3d3e-4150-b997-1b3d0e1f3410",
   "metadata": {},
   "outputs": [],
   "source": [
    "notintestcols = [col for col in X_train.columns if col not in X_test.columns]"
   ]
  },
  {
   "cell_type": "code",
   "execution_count": 21,
   "id": "5992acf0-7dee-494b-b7b3-dbb437190d4f",
   "metadata": {},
   "outputs": [],
   "source": [
    "X_train = X_train.drop(notintestcols,axis=1)\n",
    "X_valid = X_valid.drop(notintestcols,axis=1)"
   ]
  },
  {
   "cell_type": "code",
   "execution_count": 22,
   "id": "3e19d3b1-45f1-47e6-8772-92433c06e733",
   "metadata": {},
   "outputs": [],
   "source": [
    "notintestcols = [col for col in X_train.columns if col not in X_test.columns]"
   ]
  },
  {
   "cell_type": "code",
   "execution_count": 23,
   "id": "c9996a55-9449-4608-85fb-8f2ba0fe5965",
   "metadata": {},
   "outputs": [
    {
     "data": {
      "text/plain": [
       "[]"
      ]
     },
     "execution_count": 23,
     "metadata": {},
     "output_type": "execute_result"
    }
   ],
   "source": [
    "notintestcols"
   ]
  },
  {
   "cell_type": "code",
   "execution_count": null,
   "id": "eb545f0f-dc41-4ecf-afed-06cace885893",
   "metadata": {},
   "outputs": [],
   "source": []
  },
  {
   "cell_type": "markdown",
   "id": "020be194-42b6-4258-b4f6-0f7e849b8c9b",
   "metadata": {},
   "source": [
    "# Random Forest"
   ]
  },
  {
   "cell_type": "code",
   "execution_count": null,
   "id": "07ea4daf-4918-4fd0-a020-873673cdfd8b",
   "metadata": {},
   "outputs": [],
   "source": []
  },
  {
   "cell_type": "code",
   "execution_count": 24,
   "id": "73924f08-e743-4095-83f5-e5aa5c2a2d92",
   "metadata": {},
   "outputs": [],
   "source": [
    "# Space\n",
    "space = {\n",
    "    'n_estimators': hp.choice('n_estimators', [int(x) for x in np.linspace(start = 50, stop = 1000, num = 10)]),\n",
    "    'max_depth' : hp.choice('max_depth', range(3,21,3)),\n",
    "    'min_samples_split' : hp.choice('min_samples_split', [2, 5, 10, 14]),\n",
    "    'min_samples_leaf' : hp.choice('min_samples_leaf', [1, 2, 4, 6, 8]),\n",
    "}"
   ]
  },
  {
   "cell_type": "code",
   "execution_count": null,
   "id": "533da1e0-02cf-4577-9345-d89852a69d39",
   "metadata": {},
   "outputs": [],
   "source": []
  },
  {
   "cell_type": "code",
   "execution_count": 25,
   "id": "f63acfb2-9b7d-47e0-9ce3-ebfdf554fc2a",
   "metadata": {},
   "outputs": [],
   "source": [
    "# Objective function\n",
    "def objective(params):\n",
    "\n",
    "    rf=RandomForestClassifier(random_state=SEED,**params)\n",
    "\n",
    "    \"\"\"\n",
    "    score = cross_val_score(estimator=xgboost,\n",
    "                            X=X_train_,\n",
    "                            y=y_train_,\n",
    "                            cv=ps,\n",
    "                            scoring='f1',\n",
    "                            n_jobs=-1).mean()\n",
    "    \"\"\"\n",
    "    rf.fit(X_train,y_train)\n",
    "    y_pred = rf.predict(X_valid)\n",
    "    score = f1_score(y_valid,y_pred)\n",
    "    #score = recall_score(y_valid, y_pred)\n",
    "\n",
    "    # Loss is negative score\n",
    "    loss = - score\n",
    "\n",
    "    # Dictionary with information for evaluation\n",
    "    return {'loss': loss, 'params': params, 'status': STATUS_OK}"
   ]
  },
  {
   "cell_type": "code",
   "execution_count": null,
   "id": "ce51dd2e-742b-47c1-9249-965927e545f2",
   "metadata": {},
   "outputs": [],
   "source": [
    "\n"
   ]
  },
  {
   "cell_type": "code",
   "execution_count": 26,
   "id": "8561d1de-a31d-4cfc-b96d-ea248969a96f",
   "metadata": {},
   "outputs": [
    {
     "name": "stdout",
     "output_type": "stream",
     "text": [
      "--------------------------------------------------------------------------------\n",
      "--------------------------------------------------------------------------------\n",
      "Sim id: 0\n",
      "--------------------------------------------------------------------------------\n",
      "100%|██████████| 10/10 [04:03<00:00, 24.31s/trial, best loss: -0.9994551522168494]\n",
      "Training time: 243.16s\n",
      "--------------------------------------------------------------------------------\n",
      "--------------------------------------------------------------------------------\n",
      "Sim id: 1\n",
      "--------------------------------------------------------------------------------\n",
      "100%|██████████| 10/10 [04:59<00:00, 29.99s/trial, best loss: -0.9990804127924798]\n",
      "Training time: 299.96s\n",
      "--------------------------------------------------------------------------------\n",
      "--------------------------------------------------------------------------------\n",
      "Sim id: 2\n",
      "--------------------------------------------------------------------------------\n",
      "100%|██████████| 10/10 [02:09<00:00, 12.93s/trial, best loss: -0.9979222725569673]\n",
      "Training time: 129.26s\n",
      "--------------------------------------------------------------------------------\n",
      "--------------------------------------------------------------------------------\n",
      "Sim id: 3\n",
      "--------------------------------------------------------------------------------\n",
      "100%|██████████| 10/10 [06:03<00:00, 36.39s/trial, best loss: -0.9995231932429671]\n",
      "Training time: 363.90s\n",
      "--------------------------------------------------------------------------------\n",
      "--------------------------------------------------------------------------------\n",
      "Sim id: 4\n",
      "--------------------------------------------------------------------------------\n",
      "100%|██████████| 10/10 [05:34<00:00, 33.44s/trial, best loss: -0.9986032092120055]\n",
      "Training time: 334.45s\n",
      "--------------------------------------------------------------------------------\n",
      "--------------------------------------------------------------------------------\n",
      "Sim id: 5\n",
      "--------------------------------------------------------------------------------\n",
      "100%|██████████| 10/10 [05:15<00:00, 31.55s/trial, best loss: -0.9996253533598992]\n",
      "Training time: 315.54s\n",
      "--------------------------------------------------------------------------------\n",
      "--------------------------------------------------------------------------------\n",
      "Sim id: 6\n",
      "--------------------------------------------------------------------------------\n",
      "100%|██████████| 10/10 [05:39<00:00, 33.90s/trial, best loss: -0.9994209612044006]\n",
      "Training time: 339.02s\n",
      "--------------------------------------------------------------------------------\n",
      "--------------------------------------------------------------------------------\n",
      "Sim id: 7\n",
      "--------------------------------------------------------------------------------\n",
      "100%|██████████| 10/10 [04:57<00:00, 29.70s/trial, best loss: -0.9994210006471169]\n",
      "Training time: 297.05s\n",
      "--------------------------------------------------------------------------------\n",
      "--------------------------------------------------------------------------------\n",
      "Sim id: 8\n",
      "--------------------------------------------------------------------------------\n",
      "100%|██████████| 10/10 [07:33<00:00, 45.32s/trial, best loss: -0.9994891530157]  \n",
      "Training time: 453.18s\n",
      "--------------------------------------------------------------------------------\n",
      "--------------------------------------------------------------------------------\n",
      "Sim id: 9\n",
      "--------------------------------------------------------------------------------\n",
      "100%|██████████| 10/10 [07:08<00:00, 42.90s/trial, best loss: -0.9985015665440675]\n",
      "Training time: 428.98s\n"
     ]
    }
   ],
   "source": [
    "best_models = []\n",
    "times_train = []\n",
    "for i in range(NUM_SIMS):\n",
    "    print(80*\"-\")\n",
    "    print(80*\"-\")\n",
    "    print(f\"Sim id: {i}\")\n",
    "    print(80*\"-\")\n",
    "    start_time = default_timer()\n",
    "    SEED = SEED_ORIG + i\n",
    "    best = fmin(fn = objective, space = space, algo = tpe.suggest, max_evals = 10, trials = Trials(), rstate=rstate)\n",
    "    best_models.append(best)\n",
    "    end_time = default_timer()\n",
    "    times_train.append(end_time-start_time)\n",
    "    print(f\"Training time: {end_time-start_time:.2f}s\")"
   ]
  },
  {
   "cell_type": "code",
   "execution_count": 27,
   "id": "64478897-cff4-4e43-ac1e-0952b46f3477",
   "metadata": {},
   "outputs": [
    {
     "data": {
      "text/plain": [
       "{'max_depth': 5,\n",
       " 'min_samples_leaf': 3,\n",
       " 'min_samples_split': 3,\n",
       " 'n_estimators': 6}"
      ]
     },
     "execution_count": 27,
     "metadata": {},
     "output_type": "execute_result"
    }
   ],
   "source": [
    "# best hyperparameters\n",
    "best"
   ]
  },
  {
   "cell_type": "code",
   "execution_count": 28,
   "id": "1a7c5580-9e8c-41dd-88c5-eb701c393d2a",
   "metadata": {},
   "outputs": [
    {
     "name": "stdout",
     "output_type": "stream",
     "text": [
      "--------------------------------------------------------------------------------\n",
      "--------------------------------------------------------------------------------\n",
      "Sim id: 0\n",
      "--------------------------------------------------------------------------------\n",
      "Evaluation time: 1.47s\n",
      "--------------------------------------------------------------------------------\n",
      "--------------------------------------------------------------------------------\n",
      "Sim id: 1\n",
      "--------------------------------------------------------------------------------\n",
      "Evaluation time: 2.82s\n",
      "--------------------------------------------------------------------------------\n",
      "--------------------------------------------------------------------------------\n",
      "Sim id: 2\n",
      "--------------------------------------------------------------------------------\n",
      "Evaluation time: 0.84s\n",
      "--------------------------------------------------------------------------------\n",
      "--------------------------------------------------------------------------------\n",
      "Sim id: 3\n",
      "--------------------------------------------------------------------------------\n",
      "Evaluation time: 2.15s\n",
      "--------------------------------------------------------------------------------\n",
      "--------------------------------------------------------------------------------\n",
      "Sim id: 4\n",
      "--------------------------------------------------------------------------------\n",
      "Evaluation time: 5.50s\n",
      "--------------------------------------------------------------------------------\n",
      "--------------------------------------------------------------------------------\n",
      "Sim id: 5\n",
      "--------------------------------------------------------------------------------\n",
      "Evaluation time: 1.89s\n",
      "--------------------------------------------------------------------------------\n",
      "--------------------------------------------------------------------------------\n",
      "Sim id: 6\n",
      "--------------------------------------------------------------------------------\n",
      "Evaluation time: 0.87s\n",
      "--------------------------------------------------------------------------------\n",
      "--------------------------------------------------------------------------------\n",
      "Sim id: 7\n",
      "--------------------------------------------------------------------------------\n",
      "Evaluation time: 2.91s\n",
      "--------------------------------------------------------------------------------\n",
      "--------------------------------------------------------------------------------\n",
      "Sim id: 8\n",
      "--------------------------------------------------------------------------------\n",
      "Evaluation time: 4.67s\n",
      "--------------------------------------------------------------------------------\n",
      "--------------------------------------------------------------------------------\n",
      "Sim id: 9\n",
      "--------------------------------------------------------------------------------\n",
      "Evaluation time: 3.34s\n"
     ]
    }
   ],
   "source": [
    "results_valid = []\n",
    "results_test = []\n",
    "times_eval = []\n",
    "for i in range(NUM_SIMS):\n",
    "    print(80*\"-\")\n",
    "    print(80*\"-\")\n",
    "    print(f\"Sim id: {i}\")\n",
    "    print(80*\"-\")\n",
    "    \n",
    "    SEED = SEED_ORIG + i\n",
    "    \n",
    "    # Train model using the best parameters\n",
    "    rf_bo = RandomForestClassifier(random_state=SEED,\n",
    "                               n_estimators=space_eval(space, best_models[i])[\"n_estimators\"],\n",
    "                               max_depth=space_eval(space,best_models[i])[\"max_depth\"],\n",
    "                               min_samples_split=space_eval(space,best_models[i])[\"min_samples_split\"],\n",
    "                               min_samples_leaf=space_eval(space,best_models[i])[\"min_samples_leaf\"]\n",
    "                              ).fit(X_train,y_train)\n",
    "    \n",
    "    start_time = default_timer()\n",
    "    y_pred = rf_bo.predict(X_valid)\n",
    "    recall = recall_score(y_valid, y_pred)\n",
    "    f1score = f1_score(y_valid,y_pred)\n",
    "    mcc = matthews_corrcoef(y_valid, y_pred)\n",
    "    acc = accuracy_score(y_valid, y_pred)\n",
    "    precision = precision_score(y_valid, y_pred, average='macro')\n",
    "    results_temp = {}\n",
    "    results_temp[\"recall\"] = recall\n",
    "    results_temp[\"f1score\"] = f1score\n",
    "    results_temp[\"mcc\"] = mcc\n",
    "    results_temp[\"accuracy\"] = acc\n",
    "    results_temp[\"precision\"] = precision\n",
    "    results_valid.append(results_temp)\n",
    "    \n",
    "    y_pred = rf_bo.predict(X_test)\n",
    "    recall = recall_score(y_test, y_pred)\n",
    "    f1score = f1_score(y_test,y_pred)\n",
    "    mcc = matthews_corrcoef(y_test, y_pred)\n",
    "    acc = accuracy_score(y_test, y_pred)\n",
    "    precision = precision_score(y_test, y_pred, average='macro')\n",
    "    results_temp = {}\n",
    "    results_temp[\"recall\"] = recall\n",
    "    results_temp[\"f1score\"] = f1score\n",
    "    results_temp[\"mcc\"] = mcc\n",
    "    results_temp[\"accuracy\"] = acc\n",
    "    results_temp[\"precision\"] = precision\n",
    "    results_test.append(results_temp)\n",
    "    \n",
    "    end_time = default_timer()\n",
    "    times_eval.append(end_time-start_time)\n",
    "    print(f\"Evaluation time: {end_time-start_time:.2f}s\")"
   ]
  },
  {
   "cell_type": "code",
   "execution_count": 29,
   "id": "08b0422d-2949-4ea2-bbcc-4eb281eb6c7c",
   "metadata": {},
   "outputs": [
    {
     "data": {
      "text/plain": [
       "[{'recall': 0.6481726798098651,\n",
       "  'f1score': 0.776874941626973,\n",
       "  'mcc': 0.6334207469966896,\n",
       "  'accuracy': 0.7880589070262598,\n",
       "  'precision': 0.8229981557715802},\n",
       " {'recall': 0.618717369282319,\n",
       "  'f1score': 0.7548604839093026,\n",
       "  'mcc': 0.6088168988369279,\n",
       "  'accuracy': 0.7712473385379702,\n",
       "  'precision': 0.8133035931038843},\n",
       " {'recall': 0.6319644666095223,\n",
       "  'f1score': 0.764409255855601,\n",
       "  'mcc': 0.618338050408607,\n",
       "  'accuracy': 0.7782558552164656,\n",
       "  'precision': 0.8167478442585563},\n",
       " {'recall': 0.6329774799345438,\n",
       "  'f1score': 0.76559849198869,\n",
       "  'mcc': 0.6206268169091727,\n",
       "  'accuracy': 0.7793647977288858,\n",
       "  'precision': 0.8179125541493708},\n",
       " {'recall': 0.628925426634458,\n",
       "  'f1score': 0.7624580794483019,\n",
       "  'mcc': 0.6169002019996122,\n",
       "  'accuracy': 0.7769251242015613,\n",
       "  'precision': 0.8163837289552315},\n",
       " {'recall': 0.6618873217486169,\n",
       "  'f1score': 0.7869551118728865,\n",
       "  'mcc': 0.6453005796817237,\n",
       "  'accuracy': 0.7959989354151881,\n",
       "  'precision': 0.8278254979428858},\n",
       " {'recall': 0.6597054468947245,\n",
       "  'f1score': 0.7853432282003711,\n",
       "  'mcc': 0.6433434456372981,\n",
       "  'accuracy': 0.7947125621007807,\n",
       "  'precision': 0.8270164446112922},\n",
       " {'recall': 0.6418608275539625,\n",
       "  'f1score': 0.77212223472066,\n",
       "  'mcc': 0.6277852257866806,\n",
       "  'accuracy': 0.7843328601845281,\n",
       "  'precision': 0.8206949049926643},\n",
       " {'recall': 0.6372633055404037,\n",
       "  'f1score': 0.7687896592244419,\n",
       "  'mcc': 0.6241919348897906,\n",
       "  'accuracy': 0.7818044712562101,\n",
       "  'precision': 0.8193163838203072},\n",
       " {'recall': 0.6309514532845009,\n",
       "  'f1score': 0.7637598453049097,\n",
       "  'mcc': 0.6178577154247088,\n",
       "  'accuracy': 0.7778122782114976,\n",
       "  'precision': 0.8166252965574303}]"
      ]
     },
     "execution_count": 29,
     "metadata": {},
     "output_type": "execute_result"
    }
   ],
   "source": [
    "results_test"
   ]
  },
  {
   "cell_type": "code",
   "execution_count": 30,
   "id": "5592ccba-91ba-4caf-9997-0cfc5dce9d49",
   "metadata": {},
   "outputs": [
    {
     "data": {
      "text/plain": [
       "[243.1589326510002,\n",
       " 299.95735767899987,\n",
       " 129.26237598299986,\n",
       " 363.8975365030001,\n",
       " 334.44866005899985,\n",
       " 315.53638669400016,\n",
       " 339.015356332,\n",
       " 297.04506189400036,\n",
       " 453.1774042020006,\n",
       " 428.9848075030004]"
      ]
     },
     "execution_count": 30,
     "metadata": {},
     "output_type": "execute_result"
    }
   ],
   "source": [
    "times_train"
   ]
  },
  {
   "cell_type": "code",
   "execution_count": 31,
   "id": "361a294a-d8b6-42a9-86ae-53686031b53d",
   "metadata": {},
   "outputs": [
    {
     "data": {
      "text/plain": [
       "[{'recall': 0.9997275018734246,\n",
       "  'f1score': 0.9994551522168494,\n",
       "  'mcc': 0.9989794034966317,\n",
       "  'accuracy': 0.9994919667238205,\n",
       "  'precision': 0.9994724774179512},\n",
       " {'recall': 0.9991825056202739,\n",
       "  'f1score': 0.9990804127924798,\n",
       "  'mcc': 0.9982775048717707,\n",
       "  'accuracy': 0.9991426938464469,\n",
       "  'precision': 0.9991322824755626},\n",
       " {'recall': 0.9979562640506846,\n",
       "  'f1score': 0.9979222725569673,\n",
       "  'mcc': 0.9961083639751759,\n",
       "  'accuracy': 0.9980631231345654,\n",
       "  'precision': 0.9980520279746118},\n",
       " {'recall': 0.9996593773417808,\n",
       "  'f1score': 0.9995231932429671,\n",
       "  'mcc': 0.9991068812929952,\n",
       "  'accuracy': 0.9995554708833428,\n",
       "  'precision': 0.9995448109692207},\n",
       " {'recall': 0.9984331357721916,\n",
       "  'f1score': 0.9986032092120055,\n",
       "  'mcc': 0.9973842916875115,\n",
       "  'accuracy': 0.9986981647297898,\n",
       "  'precision': 0.9987029604320097},\n",
       " {'recall': 0.9997275018734246,\n",
       "  'f1score': 0.9996253533598992,\n",
       "  'mcc': 0.999298253578952,\n",
       "  'accuracy': 0.9996507271226265,\n",
       "  'precision': 0.9996426502135543},\n",
       " {'recall': 0.9994550037468493,\n",
       "  'f1score': 0.9994209612044006,\n",
       "  'mcc': 0.9989154471659052,\n",
       "  'accuracy': 0.9994602146440592,\n",
       "  'precision': 0.9994555634998601},\n",
       " {'recall': 0.9995231282784931,\n",
       "  'f1score': 0.9994210006471169,\n",
       "  'mcc': 0.998915472813759,\n",
       "  'accuracy': 0.9994602146440592,\n",
       "  'precision': 0.9994512623118074},\n",
       " {'recall': 0.9996593773417808,\n",
       "  'f1score': 0.9994891530157,\n",
       "  'mcc': 0.9990431072114799,\n",
       "  'accuracy': 0.9995237188035816,\n",
       "  'precision': 0.9995107723266641},\n",
       " {'recall': 0.998705633898767,\n",
       "  'f1score': 0.9985015665440675,\n",
       "  'mcc': 0.9971930505964168,\n",
       "  'accuracy': 0.9986029084905061,\n",
       "  'precision': 0.998583617864621}]"
      ]
     },
     "execution_count": 31,
     "metadata": {},
     "output_type": "execute_result"
    }
   ],
   "source": [
    "results_valid"
   ]
  },
  {
   "cell_type": "code",
   "execution_count": 32,
   "id": "d47b3a52-0f10-49d2-bcf1-1f05fed08e60",
   "metadata": {},
   "outputs": [],
   "source": [
    "# validation f1-scores\n",
    "values = [results_valid[i][\"f1score\"] for i in range(NUM_SIMS)]"
   ]
  },
  {
   "cell_type": "code",
   "execution_count": 33,
   "id": "6f9591ca-f355-4a3d-ad1b-b2954b24279f",
   "metadata": {},
   "outputs": [
    {
     "data": {
      "text/plain": [
       "(5, 0.9996253533598992)"
      ]
     },
     "execution_count": 33,
     "metadata": {},
     "output_type": "execute_result"
    }
   ],
   "source": [
    "# the best f1-score model\n",
    "ind = np.argmax(np.array(values))\n",
    "ind, np.max(np.array(values))"
   ]
  },
  {
   "cell_type": "code",
   "execution_count": 34,
   "id": "a03c7fde-3e5a-42c3-b585-24b2ad548a55",
   "metadata": {},
   "outputs": [
    {
     "data": {
      "text/plain": [
       "{'recall': 0.6618873217486169,\n",
       " 'f1score': 0.7869551118728865,\n",
       " 'mcc': 0.6453005796817237,\n",
       " 'accuracy': 0.7959989354151881,\n",
       " 'precision': 0.8278254979428858}"
      ]
     },
     "execution_count": 34,
     "metadata": {},
     "output_type": "execute_result"
    }
   ],
   "source": [
    "# results corresponding to the best validation f1-score\n",
    "results_test[ind]"
   ]
  },
  {
   "cell_type": "code",
   "execution_count": 35,
   "id": "b2c0b1b2-75c1-49fe-98d6-4996011a7d82",
   "metadata": {},
   "outputs": [
    {
     "data": {
      "text/plain": [
       "320.44838795000015"
      ]
     },
     "execution_count": 35,
     "metadata": {},
     "output_type": "execute_result"
    }
   ],
   "source": [
    "# average training times\n",
    "np.mean(times_train)"
   ]
  },
  {
   "cell_type": "code",
   "execution_count": 36,
   "id": "d498c7d2-47f8-4f5d-9319-5f6f4490571c",
   "metadata": {},
   "outputs": [
    {
     "data": {
      "text/plain": [
       "2.645695334899938"
      ]
     },
     "execution_count": 36,
     "metadata": {},
     "output_type": "execute_result"
    }
   ],
   "source": [
    "# average inference times\n",
    "np.mean(times_eval)"
   ]
  },
  {
   "cell_type": "code",
   "execution_count": 37,
   "id": "61376cfe-0501-48ed-8ffa-54eb64ab9d6a",
   "metadata": {},
   "outputs": [
    {
     "data": {
      "text/plain": [
       "0.9991042274792454"
      ]
     },
     "execution_count": 37,
     "metadata": {},
     "output_type": "execute_result"
    }
   ],
   "source": [
    "# average validation f1 scores\n",
    "valid_f1score_values = [results_valid[i][\"f1score\"] for i in range(NUM_SIMS)]\n",
    "np.mean(valid_f1score_values)"
   ]
  },
  {
   "cell_type": "code",
   "execution_count": 38,
   "id": "b3a725bb-0466-46af-800d-6e0b429fc863",
   "metadata": {},
   "outputs": [
    {
     "data": {
      "text/plain": [
       "0.7701171332152138"
      ]
     },
     "execution_count": 38,
     "metadata": {},
     "output_type": "execute_result"
    }
   ],
   "source": [
    "# average test f1 scores\n",
    "test_f1score_values = [results_test[i][\"f1score\"] for i in range(NUM_SIMS)]\n",
    "np.mean(test_f1score_values)"
   ]
  },
  {
   "cell_type": "code",
   "execution_count": 39,
   "id": "23436c57-e32a-4958-859f-62633ea99314",
   "metadata": {},
   "outputs": [
    {
     "data": {
      "text/plain": [
       "0.6256581616571211"
      ]
     },
     "execution_count": 39,
     "metadata": {},
     "output_type": "execute_result"
    }
   ],
   "source": [
    "# average test mcc scores\n",
    "test_mcc_values = [results_test[i][\"mcc\"] for i in range(NUM_SIMS)]\n",
    "np.mean(test_mcc_values)"
   ]
  },
  {
   "cell_type": "code",
   "execution_count": 40,
   "id": "33860986-da5e-4ed3-9db7-a01c2d72e296",
   "metadata": {},
   "outputs": [
    {
     "data": {
      "text/plain": [
       "0.7828513129879348"
      ]
     },
     "execution_count": 40,
     "metadata": {},
     "output_type": "execute_result"
    }
   ],
   "source": [
    "# average test accuracy scores\n",
    "test_acc_values = [results_test[i][\"accuracy\"] for i in range(NUM_SIMS)]\n",
    "np.mean(test_acc_values)"
   ]
  },
  {
   "cell_type": "code",
   "execution_count": 41,
   "id": "65c7c47a-130c-420f-a770-385d086b0639",
   "metadata": {},
   "outputs": [
    {
     "data": {
      "text/plain": [
       "0.8198824404163204"
      ]
     },
     "execution_count": 41,
     "metadata": {},
     "output_type": "execute_result"
    }
   ],
   "source": [
    "# average test precision scores\n",
    "test_precision_values = [results_test[i][\"precision\"] for i in range(NUM_SIMS)]\n",
    "np.mean(test_precision_values)"
   ]
  },
  {
   "cell_type": "code",
   "execution_count": 42,
   "id": "681c55ab-7429-4650-89f2-225b87c690c8",
   "metadata": {},
   "outputs": [
    {
     "data": {
      "text/plain": [
       "0.6392425777292916"
      ]
     },
     "execution_count": 42,
     "metadata": {},
     "output_type": "execute_result"
    }
   ],
   "source": [
    "# average test recall scores\n",
    "test_recall_values = [results_test[i][\"recall\"] for i in range(NUM_SIMS)]\n",
    "np.mean(test_recall_values)"
   ]
  }
 ],
 "metadata": {
  "kernelspec": {
   "display_name": "Python 3",
   "language": "python",
   "name": "python3"
  },
  "language_info": {
   "codemirror_mode": {
    "name": "ipython",
    "version": 3
   },
   "file_extension": ".py",
   "mimetype": "text/x-python",
   "name": "python",
   "nbconvert_exporter": "python",
   "pygments_lexer": "ipython3",
   "version": "3.8.8"
  }
 },
 "nbformat": 4,
 "nbformat_minor": 5
}
