{
 "cells": [
  {
   "cell_type": "markdown",
   "id": "a6c85a5a-ba5c-4fb5-bf99-65f5be6642da",
   "metadata": {},
   "source": [
    "# XGBoost"
   ]
  },
  {
   "cell_type": "code",
   "execution_count": 1,
   "id": "1b30fae1-cd4a-4c40-8e8e-1fbdb43c163f",
   "metadata": {},
   "outputs": [
    {
     "name": "stdout",
     "output_type": "stream",
     "text": [
      "Notebook last run (end-to-end): 2024-03-10 10:21:28.702975\n"
     ]
    }
   ],
   "source": [
    "import pandas as pd\n",
    "import numpy as np\n",
    "from sklearn.model_selection import train_test_split\n",
    "from sklearn.preprocessing import MinMaxScaler, RobustScaler, StandardScaler\n",
    "from sklearn.metrics import recall_score\n",
    "from sklearn.model_selection import RandomizedSearchCV\n",
    "from timeit import default_timer\n",
    "import datetime\n",
    "from xgboost import XGBClassifier\n",
    "from sklearn.metrics import matthews_corrcoef, accuracy_score, precision_score, f1_score\n",
    "from imblearn.over_sampling import SMOTE\n",
    "from hyperopt import tpe, STATUS_OK, Trials, hp, fmin, STATUS_OK, space_eval\n",
    "from sklearn.model_selection import PredefinedSplit\n",
    "#from sklearn.model_selection import cross_val_score\n",
    "\n",
    "\n",
    "\n",
    "\n",
    "print(f\"Notebook last run (end-to-end): {datetime.datetime.now()}\")"
   ]
  },
  {
   "cell_type": "code",
   "execution_count": 2,
   "id": "d491cbed-f9df-4849-8c32-32d987376479",
   "metadata": {},
   "outputs": [],
   "source": [
    "SEED_ORIG = 2024\n",
    "SEED = SEED_ORIG\n",
    "NUM_SIMS = 10"
   ]
  },
  {
   "cell_type": "markdown",
   "id": "0448cf0c-7d68-48ba-9f81-cb81455994a5",
   "metadata": {},
   "source": [
    "# Hyperparameter tuning with SMOTE and Hyperopt"
   ]
  },
  {
   "cell_type": "code",
   "execution_count": 3,
   "id": "5c91b9a1-5d00-4450-8034-18d38499deac",
   "metadata": {},
   "outputs": [
    {
     "data": {
      "text/plain": [
       "0    16259\n",
       "1     1639\n",
       "Name: Labels, dtype: int64"
      ]
     },
     "execution_count": 3,
     "metadata": {},
     "output_type": "execute_result"
    }
   ],
   "source": [
    "df = pd.read_csv(\"../data/HTRU_2.csv\",sep=\",\",header=None)\n",
    "labels = df[8]\n",
    "df = df.drop([8],axis=1)\n",
    "df[\"Labels\"] = labels\n",
    "df[\"Labels\"].value_counts()"
   ]
  },
  {
   "cell_type": "code",
   "execution_count": 4,
   "id": "e31784eb-61c2-46a4-a030-0442aa595329",
   "metadata": {},
   "outputs": [],
   "source": [
    "X_train_, X_test = train_test_split(df, test_size=0.1, random_state=SEED_ORIG) # Splitting the test set\n",
    "y_train_ = X_train_[\"Labels\"]\n",
    "X_train_ = X_train_.drop(\"Labels\",axis=1)"
   ]
  },
  {
   "cell_type": "code",
   "execution_count": 5,
   "id": "0cefdccb-e03e-4603-8bee-4f2e5f3fcffb",
   "metadata": {},
   "outputs": [
    {
     "data": {
      "text/plain": [
       "(29282, 29282)"
      ]
     },
     "execution_count": 5,
     "metadata": {},
     "output_type": "execute_result"
    }
   ],
   "source": [
    "sm = SMOTE(random_state=SEED_ORIG)\n",
    "X_resampled,y_resampled= sm.fit_resample(X_train_, y_train_)\n",
    "len(X_resampled), len(y_resampled)"
   ]
  },
  {
   "cell_type": "code",
   "execution_count": 6,
   "id": "2d9fb52b-d19c-49ca-b851-3b07fddd15d1",
   "metadata": {},
   "outputs": [],
   "source": [
    "X_resampled[\"Labels\"] = y_resampled"
   ]
  },
  {
   "cell_type": "code",
   "execution_count": 7,
   "id": "50f16d3f-f3a5-46fd-8587-9e5572c1a274",
   "metadata": {},
   "outputs": [],
   "source": [
    "X_train, X_valid = train_test_split(X_resampled, test_size=0.1, random_state=SEED_ORIG) \n",
    "cols = X_train.columns[:-1]\n"
   ]
  },
  {
   "cell_type": "code",
   "execution_count": 8,
   "id": "1bbd7673-f075-4475-9d02-d07c562e5198",
   "metadata": {},
   "outputs": [
    {
     "data": {
      "text/plain": [
       "(26353, 2929, 1790)"
      ]
     },
     "execution_count": 8,
     "metadata": {},
     "output_type": "execute_result"
    }
   ],
   "source": [
    "len(X_train), len(X_valid), len(X_test)\n"
   ]
  },
  {
   "cell_type": "code",
   "execution_count": 9,
   "id": "0fb43738-d1db-46bb-8e46-4ca9e6a74a45",
   "metadata": {},
   "outputs": [
    {
     "data": {
      "text/html": [
       "<div>\n",
       "<style scoped>\n",
       "    .dataframe tbody tr th:only-of-type {\n",
       "        vertical-align: middle;\n",
       "    }\n",
       "\n",
       "    .dataframe tbody tr th {\n",
       "        vertical-align: top;\n",
       "    }\n",
       "\n",
       "    .dataframe thead th {\n",
       "        text-align: right;\n",
       "    }\n",
       "</style>\n",
       "<table border=\"1\" class=\"dataframe\">\n",
       "  <thead>\n",
       "    <tr style=\"text-align: right;\">\n",
       "      <th></th>\n",
       "      <th>0</th>\n",
       "      <th>1</th>\n",
       "      <th>2</th>\n",
       "      <th>3</th>\n",
       "      <th>4</th>\n",
       "      <th>5</th>\n",
       "      <th>6</th>\n",
       "      <th>7</th>\n",
       "      <th>Labels</th>\n",
       "    </tr>\n",
       "  </thead>\n",
       "  <tbody>\n",
       "    <tr>\n",
       "      <th>23647</th>\n",
       "      <td>88.252228</td>\n",
       "      <td>44.740535</td>\n",
       "      <td>1.334553</td>\n",
       "      <td>2.606667</td>\n",
       "      <td>8.658360</td>\n",
       "      <td>38.102912</td>\n",
       "      <td>4.774594</td>\n",
       "      <td>22.500578</td>\n",
       "      <td>1</td>\n",
       "    </tr>\n",
       "    <tr>\n",
       "      <th>15502</th>\n",
       "      <td>146.093750</td>\n",
       "      <td>46.782148</td>\n",
       "      <td>-0.182414</td>\n",
       "      <td>0.083016</td>\n",
       "      <td>1.823579</td>\n",
       "      <td>18.376583</td>\n",
       "      <td>10.816643</td>\n",
       "      <td>120.463003</td>\n",
       "      <td>0</td>\n",
       "    </tr>\n",
       "    <tr>\n",
       "      <th>18633</th>\n",
       "      <td>35.182888</td>\n",
       "      <td>37.299263</td>\n",
       "      <td>3.901432</td>\n",
       "      <td>16.401026</td>\n",
       "      <td>60.909358</td>\n",
       "      <td>69.969228</td>\n",
       "      <td>1.218334</td>\n",
       "      <td>0.519661</td>\n",
       "      <td>1</td>\n",
       "    </tr>\n",
       "    <tr>\n",
       "      <th>15513</th>\n",
       "      <td>114.156250</td>\n",
       "      <td>41.541289</td>\n",
       "      <td>0.577129</td>\n",
       "      <td>1.516991</td>\n",
       "      <td>1.039298</td>\n",
       "      <td>12.752767</td>\n",
       "      <td>14.106027</td>\n",
       "      <td>217.465501</td>\n",
       "      <td>0</td>\n",
       "    </tr>\n",
       "    <tr>\n",
       "      <th>25596</th>\n",
       "      <td>19.055439</td>\n",
       "      <td>35.070892</td>\n",
       "      <td>5.206158</td>\n",
       "      <td>27.650399</td>\n",
       "      <td>122.016522</td>\n",
       "      <td>74.897721</td>\n",
       "      <td>-0.105256</td>\n",
       "      <td>-1.007368</td>\n",
       "      <td>1</td>\n",
       "    </tr>\n",
       "    <tr>\n",
       "      <th>...</th>\n",
       "      <td>...</td>\n",
       "      <td>...</td>\n",
       "      <td>...</td>\n",
       "      <td>...</td>\n",
       "      <td>...</td>\n",
       "      <td>...</td>\n",
       "      <td>...</td>\n",
       "      <td>...</td>\n",
       "      <td>...</td>\n",
       "    </tr>\n",
       "    <tr>\n",
       "      <th>14875</th>\n",
       "      <td>126.125000</td>\n",
       "      <td>42.971284</td>\n",
       "      <td>-0.059258</td>\n",
       "      <td>0.265109</td>\n",
       "      <td>2.623746</td>\n",
       "      <td>19.325817</td>\n",
       "      <td>8.561876</td>\n",
       "      <td>80.169221</td>\n",
       "      <td>0</td>\n",
       "    </tr>\n",
       "    <tr>\n",
       "      <th>2688</th>\n",
       "      <td>113.398438</td>\n",
       "      <td>40.149397</td>\n",
       "      <td>0.322763</td>\n",
       "      <td>0.532786</td>\n",
       "      <td>2.985786</td>\n",
       "      <td>16.622323</td>\n",
       "      <td>8.176916</td>\n",
       "      <td>83.887394</td>\n",
       "      <td>0</td>\n",
       "    </tr>\n",
       "    <tr>\n",
       "      <th>19040</th>\n",
       "      <td>69.889086</td>\n",
       "      <td>32.188954</td>\n",
       "      <td>3.004694</td>\n",
       "      <td>14.108755</td>\n",
       "      <td>16.239157</td>\n",
       "      <td>47.742230</td>\n",
       "      <td>3.309714</td>\n",
       "      <td>10.573754</td>\n",
       "      <td>1</td>\n",
       "    </tr>\n",
       "    <tr>\n",
       "      <th>19962</th>\n",
       "      <td>65.243681</td>\n",
       "      <td>38.455560</td>\n",
       "      <td>2.207688</td>\n",
       "      <td>7.442995</td>\n",
       "      <td>37.377171</td>\n",
       "      <td>68.128617</td>\n",
       "      <td>1.624815</td>\n",
       "      <td>1.260027</td>\n",
       "      <td>1</td>\n",
       "    </tr>\n",
       "    <tr>\n",
       "      <th>7816</th>\n",
       "      <td>108.382812</td>\n",
       "      <td>49.396850</td>\n",
       "      <td>0.611931</td>\n",
       "      <td>0.044871</td>\n",
       "      <td>2.535117</td>\n",
       "      <td>16.391620</td>\n",
       "      <td>8.444314</td>\n",
       "      <td>86.724906</td>\n",
       "      <td>0</td>\n",
       "    </tr>\n",
       "  </tbody>\n",
       "</table>\n",
       "<p>26353 rows × 9 columns</p>\n",
       "</div>"
      ],
      "text/plain": [
       "                0          1         2          3           4          5  \\\n",
       "23647   88.252228  44.740535  1.334553   2.606667    8.658360  38.102912   \n",
       "15502  146.093750  46.782148 -0.182414   0.083016    1.823579  18.376583   \n",
       "18633   35.182888  37.299263  3.901432  16.401026   60.909358  69.969228   \n",
       "15513  114.156250  41.541289  0.577129   1.516991    1.039298  12.752767   \n",
       "25596   19.055439  35.070892  5.206158  27.650399  122.016522  74.897721   \n",
       "...           ...        ...       ...        ...         ...        ...   \n",
       "14875  126.125000  42.971284 -0.059258   0.265109    2.623746  19.325817   \n",
       "2688   113.398438  40.149397  0.322763   0.532786    2.985786  16.622323   \n",
       "19040   69.889086  32.188954  3.004694  14.108755   16.239157  47.742230   \n",
       "19962   65.243681  38.455560  2.207688   7.442995   37.377171  68.128617   \n",
       "7816   108.382812  49.396850  0.611931   0.044871    2.535117  16.391620   \n",
       "\n",
       "               6           7  Labels  \n",
       "23647   4.774594   22.500578       1  \n",
       "15502  10.816643  120.463003       0  \n",
       "18633   1.218334    0.519661       1  \n",
       "15513  14.106027  217.465501       0  \n",
       "25596  -0.105256   -1.007368       1  \n",
       "...          ...         ...     ...  \n",
       "14875   8.561876   80.169221       0  \n",
       "2688    8.176916   83.887394       0  \n",
       "19040   3.309714   10.573754       1  \n",
       "19962   1.624815    1.260027       1  \n",
       "7816    8.444314   86.724906       0  \n",
       "\n",
       "[26353 rows x 9 columns]"
      ]
     },
     "execution_count": 9,
     "metadata": {},
     "output_type": "execute_result"
    }
   ],
   "source": [
    "X_train"
   ]
  },
  {
   "cell_type": "code",
   "execution_count": 10,
   "id": "6e49b17c-4180-4d98-903f-c1b88f600ae2",
   "metadata": {},
   "outputs": [
    {
     "data": {
      "text/plain": [
       "(1    13189\n",
       " 0    13164\n",
       " Name: Labels, dtype: int64,\n",
       " 0    1477\n",
       " 1    1452\n",
       " Name: Labels, dtype: int64,\n",
       " 0    1618\n",
       " 1     172\n",
       " Name: Labels, dtype: int64)"
      ]
     },
     "execution_count": 10,
     "metadata": {},
     "output_type": "execute_result"
    }
   ],
   "source": [
    "X_train[\"Labels\"].value_counts(), X_valid[\"Labels\"].value_counts(), X_test[\"Labels\"].value_counts()"
   ]
  },
  {
   "cell_type": "code",
   "execution_count": 11,
   "id": "c1880079-baf6-47f8-97b0-6eeb692b547b",
   "metadata": {},
   "outputs": [],
   "source": [
    "y_train = X_train[\"Labels\"]\n",
    "y_valid = X_valid[\"Labels\"]\n",
    "y_test = X_test[\"Labels\"]\n",
    "X_train = X_train.drop(\"Labels\",axis=1)\n",
    "X_valid = X_valid.drop(\"Labels\",axis=1)\n",
    "X_test = X_test.drop(\"Labels\",axis=1)\n"
   ]
  },
  {
   "cell_type": "code",
   "execution_count": 12,
   "id": "870232ca-147c-4360-8d5d-2dfa9bc954f0",
   "metadata": {},
   "outputs": [
    {
     "data": {
      "text/plain": [
       "(26353, 2929)"
      ]
     },
     "execution_count": 12,
     "metadata": {},
     "output_type": "execute_result"
    }
   ],
   "source": [
    "len(X_train), len(X_valid)"
   ]
  },
  {
   "cell_type": "code",
   "execution_count": null,
   "id": "416daefe-394a-40bb-be41-1eef46d3375d",
   "metadata": {},
   "outputs": [],
   "source": []
  },
  {
   "cell_type": "code",
   "execution_count": 13,
   "id": "18b4aad0-01b8-4c6f-999d-4656d8f48ded",
   "metadata": {},
   "outputs": [],
   "source": [
    "X_train_ = pd.concat([X_train,X_valid],axis=0,ignore_index=True)"
   ]
  },
  {
   "cell_type": "code",
   "execution_count": 14,
   "id": "a839f3a8-d48a-49f0-b4da-50c22a61ef0c",
   "metadata": {},
   "outputs": [],
   "source": [
    "y_train_ = pd.concat([y_train,y_valid],axis=0,ignore_index=True)"
   ]
  },
  {
   "cell_type": "code",
   "execution_count": 15,
   "id": "9f3fd3c2-1532-467c-8e69-584773aef34b",
   "metadata": {},
   "outputs": [
    {
     "data": {
      "text/plain": [
       "29282"
      ]
     },
     "execution_count": 15,
     "metadata": {},
     "output_type": "execute_result"
    }
   ],
   "source": [
    "len(y_train_)"
   ]
  },
  {
   "cell_type": "code",
   "execution_count": 16,
   "id": "8d8ad195-7269-474b-9729-59351b3d8e32",
   "metadata": {},
   "outputs": [],
   "source": [
    "# Creating the validation fold\n",
    "valid_fold = np.concatenate([\n",
    "    -np.ones(len(X_train)), # Training set\n",
    "    np.zeros(len(X_valid)) # Validation set\n",
    "])"
   ]
  },
  {
   "cell_type": "code",
   "execution_count": 17,
   "id": "f2c16f36-3ac4-49a8-9689-8f18c02fcd3a",
   "metadata": {},
   "outputs": [
    {
     "data": {
      "text/plain": [
       "(array([-1., -1., -1., -1., -1., -1., -1., -1., -1., -1.]),\n",
       " array([0., 0., 0., 0., 0., 0., 0., 0., 0., 0.]))"
      ]
     },
     "execution_count": 17,
     "metadata": {},
     "output_type": "execute_result"
    }
   ],
   "source": [
    "valid_fold[:10], valid_fold[-10:]"
   ]
  },
  {
   "cell_type": "code",
   "execution_count": 18,
   "id": "54e93fc3-fad7-49d7-8cbc-b7d9cbd017e2",
   "metadata": {},
   "outputs": [],
   "source": [
    "ps = PredefinedSplit(test_fold=valid_fold)"
   ]
  },
  {
   "cell_type": "code",
   "execution_count": null,
   "id": "0e674a08-03ae-49fd-8cff-c8a52837d02d",
   "metadata": {},
   "outputs": [],
   "source": []
  },
  {
   "cell_type": "code",
   "execution_count": 19,
   "id": "01f3785c-f8da-47eb-81c7-00ddb08ede1d",
   "metadata": {},
   "outputs": [],
   "source": [
    "#!pip install hyperopt"
   ]
  },
  {
   "cell_type": "code",
   "execution_count": 20,
   "id": "f21d196b-ddbc-435d-95f2-d89e7dcdac14",
   "metadata": {},
   "outputs": [],
   "source": [
    "# Space\n",
    "space = {\n",
    "    'learning_rate': hp.choice('learning_rate', [0.0001,0.001, 0.01, 0.1, 1]),\n",
    "    'max_depth' : hp.choice('max_depth', range(3,21,3)),\n",
    "    'gamma' : hp.choice('gamma', [i/10.0 for i in range(0,10)]),\n",
    "    'colsample_bytree' : hp.choice('colsample_bytree', [i/10.0 for i in range(3,10)]),\n",
    "    'reg_alpha' : hp.choice('reg_alpha', [1e-5, 1e-2, 0.1, 1, 10, 100]),\n",
    "    'reg_lambda' : hp.choice('reg_lambda', [1e-5, 1e-2, 0.1, 1, 10, 100])\n",
    "}"
   ]
  },
  {
   "cell_type": "code",
   "execution_count": null,
   "id": "2b2dec6b-622e-4ed8-912e-acf7a18ca1b5",
   "metadata": {},
   "outputs": [],
   "source": []
  },
  {
   "cell_type": "code",
   "execution_count": 21,
   "id": "2a995240-cac0-426f-b87f-499936311503",
   "metadata": {},
   "outputs": [],
   "source": [
    "# Objective function\n",
    "def objective(params):\n",
    "\n",
    "    xgboost = XGBClassifier(seed=SEED, **params)\n",
    "    \"\"\"\n",
    "    score = cross_val_score(estimator=xgboost,\n",
    "                            X=X_train_,\n",
    "                            y=y_train_,\n",
    "                            cv=ps,\n",
    "                            scoring='f1',\n",
    "                            n_jobs=-1).mean()\n",
    "    \"\"\"\n",
    "    xgboost.fit(X_train,y_train)\n",
    "    y_pred = xgboost.predict(X_valid)\n",
    "    score = f1_score(y_valid,y_pred)\n",
    "    #score = recall_score(y_valid, y_pred)\n",
    "\n",
    "    # Loss is negative score\n",
    "    loss = - score\n",
    "\n",
    "    # Dictionary with information for evaluation\n",
    "    return {'loss': loss, 'params': params, 'status': STATUS_OK}"
   ]
  },
  {
   "cell_type": "code",
   "execution_count": null,
   "id": "6353ccbf-aa85-420c-8156-26f638413c3d",
   "metadata": {},
   "outputs": [],
   "source": [
    "\n"
   ]
  },
  {
   "cell_type": "code",
   "execution_count": 22,
   "id": "252463cb-87cb-4fb4-9b00-06835ceee01d",
   "metadata": {},
   "outputs": [
    {
     "name": "stdout",
     "output_type": "stream",
     "text": [
      "--------------------------------------------------------------------------------\n",
      "--------------------------------------------------------------------------------\n",
      "Sim id: 0\n",
      "--------------------------------------------------------------------------------\n",
      "100%|██████████| 10/10 [02:10<00:00, 13.06s/trial, best loss: -0.9749742886527255]\n",
      "Training time: 130.59s\n",
      "--------------------------------------------------------------------------------\n",
      "--------------------------------------------------------------------------------\n",
      "Sim id: 1\n",
      "--------------------------------------------------------------------------------\n",
      "100%|██████████| 10/10 [02:31<00:00, 15.18s/trial, best loss: -0.9763293310463123]\n",
      "Training time: 151.78s\n",
      "--------------------------------------------------------------------------------\n",
      "--------------------------------------------------------------------------------\n",
      "Sim id: 2\n",
      "--------------------------------------------------------------------------------\n",
      "100%|██████████| 10/10 [02:02<00:00, 12.25s/trial, best loss: -0.9781121751025993]\n",
      "Training time: 122.51s\n",
      "--------------------------------------------------------------------------------\n",
      "--------------------------------------------------------------------------------\n",
      "Sim id: 3\n",
      "--------------------------------------------------------------------------------\n",
      "100%|██████████| 10/10 [02:36<00:00, 15.70s/trial, best loss: -0.9797875984926345]\n",
      "Training time: 156.97s\n",
      "--------------------------------------------------------------------------------\n",
      "--------------------------------------------------------------------------------\n",
      "Sim id: 4\n",
      "--------------------------------------------------------------------------------\n",
      "100%|██████████| 10/10 [01:36<00:00,  9.69s/trial, best loss: -0.9718019257221459]\n",
      "Training time: 96.94s\n",
      "--------------------------------------------------------------------------------\n",
      "--------------------------------------------------------------------------------\n",
      "Sim id: 5\n",
      "--------------------------------------------------------------------------------\n",
      "100%|██████████| 10/10 [02:00<00:00, 12.02s/trial, best loss: -0.9744289123764065]\n",
      "Training time: 120.20s\n",
      "--------------------------------------------------------------------------------\n",
      "--------------------------------------------------------------------------------\n",
      "Sim id: 6\n",
      "--------------------------------------------------------------------------------\n",
      "100%|██████████| 10/10 [01:55<00:00, 11.59s/trial, best loss: -0.9755929872808526]\n",
      "Training time: 115.87s\n",
      "--------------------------------------------------------------------------------\n",
      "--------------------------------------------------------------------------------\n",
      "Sim id: 7\n",
      "--------------------------------------------------------------------------------\n",
      "100%|██████████| 10/10 [02:15<00:00, 13.52s/trial, best loss: -0.9741646572511196]\n",
      "Training time: 135.24s\n",
      "--------------------------------------------------------------------------------\n",
      "--------------------------------------------------------------------------------\n",
      "Sim id: 8\n",
      "--------------------------------------------------------------------------------\n",
      "100%|██████████| 10/10 [01:43<00:00, 10.34s/trial, best loss: -0.9786795048143053]\n",
      "Training time: 103.46s\n",
      "--------------------------------------------------------------------------------\n",
      "--------------------------------------------------------------------------------\n",
      "Sim id: 9\n",
      "--------------------------------------------------------------------------------\n",
      "100%|██████████| 10/10 [02:01<00:00, 12.19s/trial, best loss: -0.9699689333793579]\n",
      "Training time: 121.89s\n"
     ]
    }
   ],
   "source": [
    "best_models = []\n",
    "times_train = []\n",
    "for i in range(NUM_SIMS):\n",
    "    print(80*\"-\")\n",
    "    print(80*\"-\")\n",
    "    print(f\"Sim id: {i}\")\n",
    "    print(80*\"-\")\n",
    "    start_time = default_timer()\n",
    "    SEED = SEED_ORIG + i\n",
    "    best = fmin(fn = objective, space = space, algo = tpe.suggest, max_evals = 10, trials = Trials())\n",
    "    best_models.append(best)\n",
    "    end_time = default_timer()\n",
    "    times_train.append(end_time-start_time)\n",
    "    print(f\"Training time: {end_time-start_time:.2f}s\")"
   ]
  },
  {
   "cell_type": "code",
   "execution_count": 23,
   "id": "eed62bdc-c306-4ef0-9ebb-093ed54e63a9",
   "metadata": {},
   "outputs": [
    {
     "data": {
      "text/plain": [
       "{'colsample_bytree': 1,\n",
       " 'gamma': 7,\n",
       " 'learning_rate': 3,\n",
       " 'max_depth': 2,\n",
       " 'reg_alpha': 3,\n",
       " 'reg_lambda': 0}"
      ]
     },
     "execution_count": 23,
     "metadata": {},
     "output_type": "execute_result"
    }
   ],
   "source": [
    "# best hyperparameters\n",
    "best"
   ]
  },
  {
   "cell_type": "code",
   "execution_count": 24,
   "id": "e93509c2-f0a3-49a6-8bf2-6d0e2ef1a846",
   "metadata": {},
   "outputs": [
    {
     "name": "stdout",
     "output_type": "stream",
     "text": [
      "--------------------------------------------------------------------------------\n",
      "--------------------------------------------------------------------------------\n",
      "Sim id: 0\n",
      "--------------------------------------------------------------------------------\n",
      "Evaluation time: 0.04s\n",
      "--------------------------------------------------------------------------------\n",
      "--------------------------------------------------------------------------------\n",
      "Sim id: 1\n",
      "--------------------------------------------------------------------------------\n",
      "Evaluation time: 0.03s\n",
      "--------------------------------------------------------------------------------\n",
      "--------------------------------------------------------------------------------\n",
      "Sim id: 2\n",
      "--------------------------------------------------------------------------------\n",
      "Evaluation time: 0.05s\n",
      "--------------------------------------------------------------------------------\n",
      "--------------------------------------------------------------------------------\n",
      "Sim id: 3\n",
      "--------------------------------------------------------------------------------\n",
      "Evaluation time: 0.04s\n",
      "--------------------------------------------------------------------------------\n",
      "--------------------------------------------------------------------------------\n",
      "Sim id: 4\n",
      "--------------------------------------------------------------------------------\n",
      "Evaluation time: 0.04s\n",
      "--------------------------------------------------------------------------------\n",
      "--------------------------------------------------------------------------------\n",
      "Sim id: 5\n",
      "--------------------------------------------------------------------------------\n",
      "Evaluation time: 0.04s\n",
      "--------------------------------------------------------------------------------\n",
      "--------------------------------------------------------------------------------\n",
      "Sim id: 6\n",
      "--------------------------------------------------------------------------------\n",
      "Evaluation time: 0.04s\n",
      "--------------------------------------------------------------------------------\n",
      "--------------------------------------------------------------------------------\n",
      "Sim id: 7\n",
      "--------------------------------------------------------------------------------\n",
      "Evaluation time: 0.04s\n",
      "--------------------------------------------------------------------------------\n",
      "--------------------------------------------------------------------------------\n",
      "Sim id: 8\n",
      "--------------------------------------------------------------------------------\n",
      "Evaluation time: 0.04s\n",
      "--------------------------------------------------------------------------------\n",
      "--------------------------------------------------------------------------------\n",
      "Sim id: 9\n",
      "--------------------------------------------------------------------------------\n",
      "Evaluation time: 0.03s\n"
     ]
    }
   ],
   "source": [
    "results_valid = []\n",
    "results_test = []\n",
    "times_eval = []\n",
    "for i in range(NUM_SIMS):\n",
    "    print(80*\"-\")\n",
    "    print(80*\"-\")\n",
    "    print(f\"Sim id: {i}\")\n",
    "    print(80*\"-\")\n",
    "    \n",
    "    SEED = SEED_ORIG + i\n",
    "    \n",
    "    # Train model using the best parameters\n",
    "    xgboost_bo = XGBClassifier(seed=SEED,\n",
    "                           colsample_bytree=space_eval(space, best_models[i])['colsample_bytree'],\n",
    "                           gamma=space_eval(space, best_models[i])['gamma'],\n",
    "                           learning_rate=space_eval(space, best_models[i])['learning_rate'],\n",
    "                           max_depth=space_eval(space, best_models[i])['max_depth'],\n",
    "                           reg_alpha=space_eval(space, best_models[i])['reg_alpha'],\n",
    "                           reg_lambda=space_eval(space, best_models[i])['reg_lambda']\n",
    "                           ).fit(X_train,y_train)\n",
    "    \n",
    "    start_time = default_timer()\n",
    "    y_pred = xgboost_bo.predict(X_valid)\n",
    "    recall = recall_score(y_valid, y_pred)\n",
    "    f1score = f1_score(y_valid,y_pred)\n",
    "    mcc = matthews_corrcoef(y_valid, y_pred)\n",
    "    acc = accuracy_score(y_valid, y_pred)\n",
    "    precision = precision_score(y_valid, y_pred, average='macro')\n",
    "    results_temp = {}\n",
    "    results_temp[\"recall\"] = recall\n",
    "    results_temp[\"f1score\"] = f1score\n",
    "    results_temp[\"mcc\"] = mcc\n",
    "    results_temp[\"accuracy\"] = acc\n",
    "    results_temp[\"precision\"] = precision\n",
    "    results_valid.append(results_temp)\n",
    "    \n",
    "    y_pred = xgboost_bo.predict(X_test)\n",
    "    recall = recall_score(y_test, y_pred)\n",
    "    f1score = f1_score(y_test,y_pred)\n",
    "    mcc = matthews_corrcoef(y_test, y_pred)\n",
    "    acc = accuracy_score(y_test, y_pred)\n",
    "    precision = precision_score(y_test, y_pred, average='macro')\n",
    "    results_temp = {}\n",
    "    results_temp[\"recall\"] = recall\n",
    "    results_temp[\"f1score\"] = f1score\n",
    "    results_temp[\"mcc\"] = mcc\n",
    "    results_temp[\"accuracy\"] = acc\n",
    "    results_temp[\"precision\"] = precision\n",
    "    results_test.append(results_temp)\n",
    "    \n",
    "    end_time = default_timer()\n",
    "    times_eval.append(end_time-start_time)\n",
    "    print(f\"Evaluation time: {end_time-start_time:.2f}s\")"
   ]
  },
  {
   "cell_type": "code",
   "execution_count": 25,
   "id": "c40aece3-5931-41cf-a59b-d0d91c54a4b4",
   "metadata": {},
   "outputs": [
    {
     "data": {
      "text/plain": [
       "[{'recall': 0.9069767441860465,\n",
       "  'f1score': 0.8342245989304812,\n",
       "  'mcc': 0.8183090279230709,\n",
       "  'accuracy': 0.9653631284916201,\n",
       "  'precision': 0.8811008304860712},\n",
       " {'recall': 0.9127906976744186,\n",
       "  'f1score': 0.8509485094850948,\n",
       "  'mcc': 0.836294234697709,\n",
       "  'accuracy': 0.9692737430167597,\n",
       "  'precision': 0.8937690594319692},\n",
       " {'recall': 0.9011627906976745,\n",
       "  'f1score': 0.842391304347826,\n",
       "  'mcc': 0.8266041224936218,\n",
       "  'accuracy': 0.9675977653631285,\n",
       "  'precision': 0.890075666402069},\n",
       " {'recall': 0.9302325581395349,\n",
       "  'f1score': 0.862533692722372,\n",
       "  'mcc': 0.8495359324648414,\n",
       "  'accuracy': 0.9715083798882681,\n",
       "  'precision': 0.8982388371777177},\n",
       " {'recall': 0.9186046511627907,\n",
       "  'f1score': 0.8272251308900525,\n",
       "  'mcc': 0.8118531433928994,\n",
       "  'accuracy': 0.9631284916201117,\n",
       "  'precision': 0.8717600964436407},\n",
       " {'recall': 0.9127906976744186,\n",
       "  'f1score': 0.8395721925133689,\n",
       "  'mcc': 0.8243000182050482,\n",
       "  'accuracy': 0.9664804469273743,\n",
       "  'precision': 0.8838909394717809},\n",
       " {'recall': 0.9127906976744186,\n",
       "  'f1score': 0.8602739726027396,\n",
       "  'mcc': 0.8462063728498886,\n",
       "  'accuracy': 0.9715083798882681,\n",
       "  'precision': 0.9020394457223875},\n",
       " {'recall': 0.9127906976744186,\n",
       "  'f1score': 0.8602739726027396,\n",
       "  'mcc': 0.8462063728498886,\n",
       "  'accuracy': 0.9715083798882681,\n",
       "  'precision': 0.9020394457223875},\n",
       " {'recall': 0.9069767441860465,\n",
       "  'f1score': 0.8788732394366197,\n",
       "  'mcc': 0.8660664967063675,\n",
       "  'accuracy': 0.975977653631285,\n",
       "  'precision': 0.9212512879104736},\n",
       " {'recall': 0.9186046511627907,\n",
       "  'f1score': 0.858695652173913,\n",
       "  'mcc': 0.8448157437336038,\n",
       "  'accuracy': 0.9709497206703911,\n",
       "  'precision': 0.8986697564847771}]"
      ]
     },
     "execution_count": 25,
     "metadata": {},
     "output_type": "execute_result"
    }
   ],
   "source": [
    "results_test"
   ]
  },
  {
   "cell_type": "code",
   "execution_count": 26,
   "id": "5974f267-3b1b-4a55-9947-cb107ca26ddd",
   "metadata": {},
   "outputs": [
    {
     "data": {
      "text/plain": [
       "[130.59130655899935,\n",
       " 151.78231732700078,\n",
       " 122.5096749150016,\n",
       " 156.9746402460005,\n",
       " 96.94165907000024,\n",
       " 120.19686458400065,\n",
       " 115.87029629200151,\n",
       " 135.239939563,\n",
       " 103.46271597899977,\n",
       " 121.88677141500011]"
      ]
     },
     "execution_count": 26,
     "metadata": {},
     "output_type": "execute_result"
    }
   ],
   "source": [
    "times_train"
   ]
  },
  {
   "cell_type": "code",
   "execution_count": 27,
   "id": "82c24ad0-7d46-4208-8a16-3f312e05908c",
   "metadata": {},
   "outputs": [
    {
     "data": {
      "text/plain": [
       "[{'recall': 0.9793388429752066,\n",
       "  'f1score': 0.9749742886527255,\n",
       "  'mcc': 0.950191217787879,\n",
       "  'accuracy': 0.9750768180266303,\n",
       "  'precision': 0.975078330442567},\n",
       " {'recall': 0.9800275482093664,\n",
       "  'f1score': 0.9763293310463123,\n",
       "  'mcc': 0.9529114126143554,\n",
       "  'accuracy': 0.9764424718333903,\n",
       "  'precision': 0.976438600532088},\n",
       " {'recall': 0.9848484848484849,\n",
       "  'f1score': 0.9781121751025993,\n",
       "  'mcc': 0.9563901685574581,\n",
       "  'accuracy': 0.9781495390918402,\n",
       "  'precision': 0.9781839358718032},\n",
       " {'recall': 0.9848484848484849,\n",
       "  'f1score': 0.9797875984926345,\n",
       "  'mcc': 0.9597641424467812,\n",
       "  'accuracy': 0.9798566063502901,\n",
       "  'precision': 0.9798652899120366},\n",
       " {'recall': 0.9731404958677686,\n",
       "  'f1score': 0.9718019257221459,\n",
       "  'mcc': 0.9440089415167958,\n",
       "  'accuracy': 0.9720040969614203,\n",
       "  'precision': 0.9719952272778138},\n",
       " {'recall': 0.9841597796143251,\n",
       "  'f1score': 0.9744289123764065,\n",
       "  'mcc': 0.9489789450747611,\n",
       "  'accuracy': 0.9743939911232502,\n",
       "  'precision': 0.9745023054454023},\n",
       " {'recall': 0.9772727272727273,\n",
       "  'f1score': 0.9755929872808526,\n",
       "  'mcc': 0.9515227167433953,\n",
       "  'accuracy': 0.9757596449300102,\n",
       "  'precision': 0.9757502667034705},\n",
       " {'recall': 0.9738292011019284,\n",
       "  'f1score': 0.9741646572511196,\n",
       "  'mcc': 0.9487841737829654,\n",
       "  'accuracy': 0.9743939911232502,\n",
       "  'precision': 0.9743949625520731},\n",
       " {'recall': 0.9800275482093664,\n",
       "  'f1score': 0.9786795048143053,\n",
       "  'mcc': 0.957666207100774,\n",
       "  'accuracy': 0.9788323659952202,\n",
       "  'precision': 0.9788237263415471},\n",
       " {'recall': 0.9676308539944903,\n",
       "  'f1score': 0.9699689333793579,\n",
       "  'mcc': 0.9405980543415267,\n",
       "  'accuracy': 0.9702970297029703,\n",
       "  'precision': 0.9703235900353482}]"
      ]
     },
     "execution_count": 27,
     "metadata": {},
     "output_type": "execute_result"
    }
   ],
   "source": [
    "results_valid"
   ]
  },
  {
   "cell_type": "code",
   "execution_count": 28,
   "id": "af3a9631-679c-4b5f-9551-643958d8d1af",
   "metadata": {},
   "outputs": [],
   "source": [
    "# validation f1-scores\n",
    "values = [results_valid[i][\"f1score\"] for i in range(NUM_SIMS)]"
   ]
  },
  {
   "cell_type": "code",
   "execution_count": 29,
   "id": "7b1e5741-47fe-4c23-862b-6a16f435f6f6",
   "metadata": {},
   "outputs": [
    {
     "data": {
      "text/plain": [
       "3"
      ]
     },
     "execution_count": 29,
     "metadata": {},
     "output_type": "execute_result"
    }
   ],
   "source": [
    "# the best f1-score model\n",
    "ind = np.argmax(np.array(values))\n",
    "ind"
   ]
  },
  {
   "cell_type": "code",
   "execution_count": 30,
   "id": "b3c7c216-dc63-4fbf-937a-ab6d6e7c209d",
   "metadata": {},
   "outputs": [
    {
     "data": {
      "text/plain": [
       "{'recall': 0.9302325581395349,\n",
       " 'f1score': 0.862533692722372,\n",
       " 'mcc': 0.8495359324648414,\n",
       " 'accuracy': 0.9715083798882681,\n",
       " 'precision': 0.8982388371777177}"
      ]
     },
     "execution_count": 30,
     "metadata": {},
     "output_type": "execute_result"
    }
   ],
   "source": [
    "# results corresponding to the best validation f1-score\n",
    "results_test[ind]"
   ]
  },
  {
   "cell_type": "code",
   "execution_count": 31,
   "id": "adf374df-8211-4fac-aad9-b6f4691e5e73",
   "metadata": {},
   "outputs": [
    {
     "data": {
      "text/plain": [
       "125.54561859500045"
      ]
     },
     "execution_count": 31,
     "metadata": {},
     "output_type": "execute_result"
    }
   ],
   "source": [
    "# average training times\n",
    "np.mean(times_train)"
   ]
  },
  {
   "cell_type": "code",
   "execution_count": 32,
   "id": "a41959dd-a81f-4ef0-9cca-d892eeef1220",
   "metadata": {},
   "outputs": [
    {
     "data": {
      "text/plain": [
       "0.03658247219991608"
      ]
     },
     "execution_count": 32,
     "metadata": {},
     "output_type": "execute_result"
    }
   ],
   "source": [
    "# average inference times\n",
    "np.mean(times_eval)"
   ]
  },
  {
   "cell_type": "code",
   "execution_count": 33,
   "id": "eecbda3b-6771-4fcf-8257-2302991c470a",
   "metadata": {},
   "outputs": [
    {
     "data": {
      "text/plain": [
       "0.9753840314118459"
      ]
     },
     "execution_count": 33,
     "metadata": {},
     "output_type": "execute_result"
    }
   ],
   "source": [
    "# average validation f1 scores\n",
    "valid_f1score_values = [results_valid[i][\"f1score\"] for i in range(NUM_SIMS)]\n",
    "np.mean(valid_f1score_values)"
   ]
  },
  {
   "cell_type": "code",
   "execution_count": 34,
   "id": "b08a9354-2db1-40c1-8191-15fc9520367c",
   "metadata": {},
   "outputs": [
    {
     "data": {
      "text/plain": [
       "0.8515012265705206"
      ]
     },
     "execution_count": 34,
     "metadata": {},
     "output_type": "execute_result"
    }
   ],
   "source": [
    "# average test f1 scores\n",
    "test_f1score_values = [results_test[i][\"f1score\"] for i in range(NUM_SIMS)]\n",
    "np.mean(test_f1score_values)"
   ]
  },
  {
   "cell_type": "code",
   "execution_count": 35,
   "id": "dc609dfc-1bca-4c54-8251-02d1cd164dd3",
   "metadata": {},
   "outputs": [
    {
     "data": {
      "text/plain": [
       "0.8370191465316941"
      ]
     },
     "execution_count": 35,
     "metadata": {},
     "output_type": "execute_result"
    }
   ],
   "source": [
    "# average test mcc scores\n",
    "test_mcc_values = [results_test[i][\"mcc\"] for i in range(NUM_SIMS)]\n",
    "np.mean(test_mcc_values)"
   ]
  },
  {
   "cell_type": "code",
   "execution_count": 36,
   "id": "1d3b32a0-33c6-4fa7-87c4-a78cde514587",
   "metadata": {},
   "outputs": [
    {
     "data": {
      "text/plain": [
       "0.9693296089385475"
      ]
     },
     "execution_count": 36,
     "metadata": {},
     "output_type": "execute_result"
    }
   ],
   "source": [
    "# average test accuracy scores\n",
    "test_acc_values = [results_test[i][\"accuracy\"] for i in range(NUM_SIMS)]\n",
    "np.mean(test_acc_values)"
   ]
  },
  {
   "cell_type": "code",
   "execution_count": 37,
   "id": "a6fe4844-99ac-49ed-9c49-309c372241e5",
   "metadata": {},
   "outputs": [
    {
     "data": {
      "text/plain": [
       "0.8942835365253273"
      ]
     },
     "execution_count": 37,
     "metadata": {},
     "output_type": "execute_result"
    }
   ],
   "source": [
    "# average test precision scores\n",
    "test_precision_values = [results_test[i][\"precision\"] for i in range(NUM_SIMS)]\n",
    "np.mean(test_precision_values)"
   ]
  },
  {
   "cell_type": "code",
   "execution_count": 38,
   "id": "abfb6191-458b-49e0-8a41-ce1aa5781908",
   "metadata": {},
   "outputs": [
    {
     "data": {
      "text/plain": [
       "0.913372093023256"
      ]
     },
     "execution_count": 38,
     "metadata": {},
     "output_type": "execute_result"
    }
   ],
   "source": [
    "# average test recall scores\n",
    "test_recall_values = [results_test[i][\"recall\"] for i in range(NUM_SIMS)]\n",
    "np.mean(test_recall_values)"
   ]
  },
  {
   "cell_type": "code",
   "execution_count": null,
   "id": "be3512ca-faa2-4eb3-86d4-067c2613eb92",
   "metadata": {},
   "outputs": [],
   "source": []
  }
 ],
 "metadata": {
  "kernelspec": {
   "display_name": "Python 3",
   "language": "python",
   "name": "python3"
  },
  "language_info": {
   "codemirror_mode": {
    "name": "ipython",
    "version": 3
   },
   "file_extension": ".py",
   "mimetype": "text/x-python",
   "name": "python",
   "nbconvert_exporter": "python",
   "pygments_lexer": "ipython3",
   "version": "3.8.8"
  }
 },
 "nbformat": 4,
 "nbformat_minor": 5
}
