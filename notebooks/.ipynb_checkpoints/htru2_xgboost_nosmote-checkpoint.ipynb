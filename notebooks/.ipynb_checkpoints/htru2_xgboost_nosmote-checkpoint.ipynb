{
 "cells": [
  {
   "cell_type": "markdown",
   "id": "a6c85a5a-ba5c-4fb5-bf99-65f5be6642da",
   "metadata": {},
   "source": [
    "# XGBoost"
   ]
  },
  {
   "cell_type": "code",
   "execution_count": 1,
   "id": "1b30fae1-cd4a-4c40-8e8e-1fbdb43c163f",
   "metadata": {},
   "outputs": [
    {
     "name": "stdout",
     "output_type": "stream",
     "text": [
      "Notebook last run (end-to-end): 2024-03-11 12:12:19.846238\n"
     ]
    }
   ],
   "source": [
    "import pandas as pd\n",
    "import numpy as np\n",
    "from sklearn.model_selection import train_test_split\n",
    "from sklearn.preprocessing import MinMaxScaler, RobustScaler, StandardScaler\n",
    "from sklearn.metrics import recall_score\n",
    "from sklearn.model_selection import RandomizedSearchCV\n",
    "from timeit import default_timer\n",
    "import datetime\n",
    "from xgboost import XGBClassifier\n",
    "from sklearn.metrics import matthews_corrcoef, accuracy_score, precision_score, f1_score\n",
    "from imblearn.over_sampling import SMOTE\n",
    "from hyperopt import tpe, STATUS_OK, Trials, hp, fmin, STATUS_OK, space_eval\n",
    "from sklearn.model_selection import PredefinedSplit\n",
    "#from sklearn.model_selection import cross_val_score\n",
    "\n",
    "\n",
    "\n",
    "\n",
    "print(f\"Notebook last run (end-to-end): {datetime.datetime.now()}\")"
   ]
  },
  {
   "cell_type": "code",
   "execution_count": 2,
   "id": "d491cbed-f9df-4849-8c32-32d987376479",
   "metadata": {},
   "outputs": [],
   "source": [
    "SEED_ORIG = 2024\n",
    "SEED_NP = 2023\n",
    "SEED = SEED_ORIG\n",
    "NUM_SIMS = 10\n",
    "rstate = np.random.default_rng(SEED_NP)"
   ]
  },
  {
   "cell_type": "markdown",
   "id": "0448cf0c-7d68-48ba-9f81-cb81455994a5",
   "metadata": {},
   "source": [
    "# Hyperparameter tuning by Hyperopt"
   ]
  },
  {
   "cell_type": "code",
   "execution_count": 3,
   "id": "5c91b9a1-5d00-4450-8034-18d38499deac",
   "metadata": {},
   "outputs": [
    {
     "data": {
      "text/plain": [
       "0    16259\n",
       "1     1639\n",
       "Name: Labels, dtype: int64"
      ]
     },
     "execution_count": 3,
     "metadata": {},
     "output_type": "execute_result"
    }
   ],
   "source": [
    "df = pd.read_csv(\"../data/HTRU_2.csv\",sep=\",\",header=None)\n",
    "labels = df[8]\n",
    "df = df.drop([8],axis=1)\n",
    "df[\"Labels\"] = labels\n",
    "df[\"Labels\"].value_counts()"
   ]
  },
  {
   "cell_type": "code",
   "execution_count": 4,
   "id": "e31784eb-61c2-46a4-a030-0442aa595329",
   "metadata": {},
   "outputs": [],
   "source": [
    "X_train_, X_test = train_test_split(df, test_size=0.1, random_state=SEED_ORIG) # Splitting the test set\n",
    "#y_train_ = X_train_[\"Labels\"]\n",
    "#X_train_ = X_train_.drop(\"Labels\",axis=1)"
   ]
  },
  {
   "cell_type": "code",
   "execution_count": 5,
   "id": "50f16d3f-f3a5-46fd-8587-9e5572c1a274",
   "metadata": {},
   "outputs": [],
   "source": [
    "X_train, X_valid = train_test_split(X_train_, test_size=0.1/0.9, random_state=SEED_ORIG) \n",
    "cols = X_train.columns[:-1]\n"
   ]
  },
  {
   "cell_type": "code",
   "execution_count": 6,
   "id": "1bbd7673-f075-4475-9d02-d07c562e5198",
   "metadata": {},
   "outputs": [
    {
     "data": {
      "text/plain": [
       "(14318, 1790, 1790)"
      ]
     },
     "execution_count": 6,
     "metadata": {},
     "output_type": "execute_result"
    }
   ],
   "source": [
    "len(X_train), len(X_valid), len(X_test)\n"
   ]
  },
  {
   "cell_type": "code",
   "execution_count": 7,
   "id": "0fb43738-d1db-46bb-8e46-4ca9e6a74a45",
   "metadata": {},
   "outputs": [
    {
     "data": {
      "text/html": [
       "<div>\n",
       "<style scoped>\n",
       "    .dataframe tbody tr th:only-of-type {\n",
       "        vertical-align: middle;\n",
       "    }\n",
       "\n",
       "    .dataframe tbody tr th {\n",
       "        vertical-align: top;\n",
       "    }\n",
       "\n",
       "    .dataframe thead th {\n",
       "        text-align: right;\n",
       "    }\n",
       "</style>\n",
       "<table border=\"1\" class=\"dataframe\">\n",
       "  <thead>\n",
       "    <tr style=\"text-align: right;\">\n",
       "      <th></th>\n",
       "      <th>0</th>\n",
       "      <th>1</th>\n",
       "      <th>2</th>\n",
       "      <th>3</th>\n",
       "      <th>4</th>\n",
       "      <th>5</th>\n",
       "      <th>6</th>\n",
       "      <th>7</th>\n",
       "      <th>Labels</th>\n",
       "    </tr>\n",
       "  </thead>\n",
       "  <tbody>\n",
       "    <tr>\n",
       "      <th>10814</th>\n",
       "      <td>134.507812</td>\n",
       "      <td>48.756089</td>\n",
       "      <td>-0.031636</td>\n",
       "      <td>-0.131966</td>\n",
       "      <td>0.764214</td>\n",
       "      <td>11.915867</td>\n",
       "      <td>18.587707</td>\n",
       "      <td>369.896839</td>\n",
       "      <td>0</td>\n",
       "    </tr>\n",
       "    <tr>\n",
       "      <th>8686</th>\n",
       "      <td>113.007812</td>\n",
       "      <td>55.334847</td>\n",
       "      <td>0.127174</td>\n",
       "      <td>0.012195</td>\n",
       "      <td>2.903010</td>\n",
       "      <td>16.116651</td>\n",
       "      <td>7.873506</td>\n",
       "      <td>79.343598</td>\n",
       "      <td>0</td>\n",
       "    </tr>\n",
       "    <tr>\n",
       "      <th>6211</th>\n",
       "      <td>141.195312</td>\n",
       "      <td>41.906529</td>\n",
       "      <td>0.042273</td>\n",
       "      <td>0.392180</td>\n",
       "      <td>2.548495</td>\n",
       "      <td>16.650554</td>\n",
       "      <td>8.976223</td>\n",
       "      <td>95.091538</td>\n",
       "      <td>0</td>\n",
       "    </tr>\n",
       "    <tr>\n",
       "      <th>1162</th>\n",
       "      <td>120.062500</td>\n",
       "      <td>48.030386</td>\n",
       "      <td>-0.028265</td>\n",
       "      <td>0.028709</td>\n",
       "      <td>30.127926</td>\n",
       "      <td>62.095604</td>\n",
       "      <td>1.827059</td>\n",
       "      <td>1.878257</td>\n",
       "      <td>0</td>\n",
       "    </tr>\n",
       "    <tr>\n",
       "      <th>2750</th>\n",
       "      <td>125.609375</td>\n",
       "      <td>51.790780</td>\n",
       "      <td>-0.016635</td>\n",
       "      <td>-0.091361</td>\n",
       "      <td>18.428094</td>\n",
       "      <td>52.283802</td>\n",
       "      <td>2.765830</td>\n",
       "      <td>6.372460</td>\n",
       "      <td>0</td>\n",
       "    </tr>\n",
       "    <tr>\n",
       "      <th>...</th>\n",
       "      <td>...</td>\n",
       "      <td>...</td>\n",
       "      <td>...</td>\n",
       "      <td>...</td>\n",
       "      <td>...</td>\n",
       "      <td>...</td>\n",
       "      <td>...</td>\n",
       "      <td>...</td>\n",
       "      <td>...</td>\n",
       "    </tr>\n",
       "    <tr>\n",
       "      <th>8685</th>\n",
       "      <td>126.125000</td>\n",
       "      <td>42.971284</td>\n",
       "      <td>-0.059258</td>\n",
       "      <td>0.265109</td>\n",
       "      <td>2.623746</td>\n",
       "      <td>19.325817</td>\n",
       "      <td>8.561876</td>\n",
       "      <td>80.169221</td>\n",
       "      <td>0</td>\n",
       "    </tr>\n",
       "    <tr>\n",
       "      <th>1354</th>\n",
       "      <td>113.398438</td>\n",
       "      <td>40.149397</td>\n",
       "      <td>0.322763</td>\n",
       "      <td>0.532786</td>\n",
       "      <td>2.985786</td>\n",
       "      <td>16.622323</td>\n",
       "      <td>8.176916</td>\n",
       "      <td>83.887394</td>\n",
       "      <td>0</td>\n",
       "    </tr>\n",
       "    <tr>\n",
       "      <th>15039</th>\n",
       "      <td>147.390625</td>\n",
       "      <td>43.347296</td>\n",
       "      <td>-0.142813</td>\n",
       "      <td>0.241722</td>\n",
       "      <td>2.954849</td>\n",
       "      <td>18.619306</td>\n",
       "      <td>8.543222</td>\n",
       "      <td>83.139408</td>\n",
       "      <td>0</td>\n",
       "    </tr>\n",
       "    <tr>\n",
       "      <th>16869</th>\n",
       "      <td>121.476562</td>\n",
       "      <td>46.342469</td>\n",
       "      <td>0.148239</td>\n",
       "      <td>0.185344</td>\n",
       "      <td>12.081940</td>\n",
       "      <td>38.737798</td>\n",
       "      <td>3.231075</td>\n",
       "      <td>9.644188</td>\n",
       "      <td>0</td>\n",
       "    </tr>\n",
       "    <tr>\n",
       "      <th>15860</th>\n",
       "      <td>108.382812</td>\n",
       "      <td>49.396850</td>\n",
       "      <td>0.611931</td>\n",
       "      <td>0.044871</td>\n",
       "      <td>2.535117</td>\n",
       "      <td>16.391620</td>\n",
       "      <td>8.444314</td>\n",
       "      <td>86.724906</td>\n",
       "      <td>0</td>\n",
       "    </tr>\n",
       "  </tbody>\n",
       "</table>\n",
       "<p>14318 rows × 9 columns</p>\n",
       "</div>"
      ],
      "text/plain": [
       "                0          1         2         3          4          5  \\\n",
       "10814  134.507812  48.756089 -0.031636 -0.131966   0.764214  11.915867   \n",
       "8686   113.007812  55.334847  0.127174  0.012195   2.903010  16.116651   \n",
       "6211   141.195312  41.906529  0.042273  0.392180   2.548495  16.650554   \n",
       "1162   120.062500  48.030386 -0.028265  0.028709  30.127926  62.095604   \n",
       "2750   125.609375  51.790780 -0.016635 -0.091361  18.428094  52.283802   \n",
       "...           ...        ...       ...       ...        ...        ...   \n",
       "8685   126.125000  42.971284 -0.059258  0.265109   2.623746  19.325817   \n",
       "1354   113.398438  40.149397  0.322763  0.532786   2.985786  16.622323   \n",
       "15039  147.390625  43.347296 -0.142813  0.241722   2.954849  18.619306   \n",
       "16869  121.476562  46.342469  0.148239  0.185344  12.081940  38.737798   \n",
       "15860  108.382812  49.396850  0.611931  0.044871   2.535117  16.391620   \n",
       "\n",
       "               6           7  Labels  \n",
       "10814  18.587707  369.896839       0  \n",
       "8686    7.873506   79.343598       0  \n",
       "6211    8.976223   95.091538       0  \n",
       "1162    1.827059    1.878257       0  \n",
       "2750    2.765830    6.372460       0  \n",
       "...          ...         ...     ...  \n",
       "8685    8.561876   80.169221       0  \n",
       "1354    8.176916   83.887394       0  \n",
       "15039   8.543222   83.139408       0  \n",
       "16869   3.231075    9.644188       0  \n",
       "15860   8.444314   86.724906       0  \n",
       "\n",
       "[14318 rows x 9 columns]"
      ]
     },
     "execution_count": 7,
     "metadata": {},
     "output_type": "execute_result"
    }
   ],
   "source": [
    "X_train"
   ]
  },
  {
   "cell_type": "code",
   "execution_count": 8,
   "id": "6e49b17c-4180-4d98-903f-c1b88f600ae2",
   "metadata": {},
   "outputs": [
    {
     "data": {
      "text/plain": [
       "(0    13014\n",
       " 1     1304\n",
       " Name: Labels, dtype: int64,\n",
       " 0    1627\n",
       " 1     163\n",
       " Name: Labels, dtype: int64,\n",
       " 0    1618\n",
       " 1     172\n",
       " Name: Labels, dtype: int64)"
      ]
     },
     "execution_count": 8,
     "metadata": {},
     "output_type": "execute_result"
    }
   ],
   "source": [
    "X_train[\"Labels\"].value_counts(), X_valid[\"Labels\"].value_counts(), X_test[\"Labels\"].value_counts()"
   ]
  },
  {
   "cell_type": "code",
   "execution_count": 9,
   "id": "c1880079-baf6-47f8-97b0-6eeb692b547b",
   "metadata": {},
   "outputs": [],
   "source": [
    "y_train = X_train[\"Labels\"]\n",
    "y_valid = X_valid[\"Labels\"]\n",
    "y_test = X_test[\"Labels\"]\n",
    "X_train = X_train.drop(\"Labels\",axis=1)\n",
    "X_valid = X_valid.drop(\"Labels\",axis=1)\n",
    "X_test = X_test.drop(\"Labels\",axis=1)\n"
   ]
  },
  {
   "cell_type": "code",
   "execution_count": 10,
   "id": "870232ca-147c-4360-8d5d-2dfa9bc954f0",
   "metadata": {},
   "outputs": [
    {
     "data": {
      "text/plain": [
       "(14318, 1790)"
      ]
     },
     "execution_count": 10,
     "metadata": {},
     "output_type": "execute_result"
    }
   ],
   "source": [
    "len(X_train), len(X_valid)"
   ]
  },
  {
   "cell_type": "code",
   "execution_count": null,
   "id": "416daefe-394a-40bb-be41-1eef46d3375d",
   "metadata": {},
   "outputs": [],
   "source": []
  },
  {
   "cell_type": "code",
   "execution_count": 11,
   "id": "18b4aad0-01b8-4c6f-999d-4656d8f48ded",
   "metadata": {},
   "outputs": [],
   "source": [
    "X_train_ = pd.concat([X_train,X_valid],axis=0,ignore_index=True)"
   ]
  },
  {
   "cell_type": "code",
   "execution_count": 12,
   "id": "a839f3a8-d48a-49f0-b4da-50c22a61ef0c",
   "metadata": {},
   "outputs": [],
   "source": [
    "y_train_ = pd.concat([y_train,y_valid],axis=0,ignore_index=True)"
   ]
  },
  {
   "cell_type": "code",
   "execution_count": 13,
   "id": "9f3fd3c2-1532-467c-8e69-584773aef34b",
   "metadata": {},
   "outputs": [
    {
     "data": {
      "text/plain": [
       "16108"
      ]
     },
     "execution_count": 13,
     "metadata": {},
     "output_type": "execute_result"
    }
   ],
   "source": [
    "len(y_train_)"
   ]
  },
  {
   "cell_type": "code",
   "execution_count": 14,
   "id": "8d8ad195-7269-474b-9729-59351b3d8e32",
   "metadata": {},
   "outputs": [],
   "source": [
    "# Creating the validation fold\n",
    "valid_fold = np.concatenate([\n",
    "    -np.ones(len(X_train)), # Training set\n",
    "    np.zeros(len(X_valid)) # Validation set\n",
    "])"
   ]
  },
  {
   "cell_type": "code",
   "execution_count": 15,
   "id": "f2c16f36-3ac4-49a8-9689-8f18c02fcd3a",
   "metadata": {},
   "outputs": [
    {
     "data": {
      "text/plain": [
       "(array([-1., -1., -1., -1., -1., -1., -1., -1., -1., -1.]),\n",
       " array([0., 0., 0., 0., 0., 0., 0., 0., 0., 0.]))"
      ]
     },
     "execution_count": 15,
     "metadata": {},
     "output_type": "execute_result"
    }
   ],
   "source": [
    "valid_fold[:10], valid_fold[-10:]"
   ]
  },
  {
   "cell_type": "code",
   "execution_count": 16,
   "id": "54e93fc3-fad7-49d7-8cbc-b7d9cbd017e2",
   "metadata": {},
   "outputs": [],
   "source": [
    "ps = PredefinedSplit(test_fold=valid_fold)"
   ]
  },
  {
   "cell_type": "code",
   "execution_count": null,
   "id": "0e674a08-03ae-49fd-8cff-c8a52837d02d",
   "metadata": {},
   "outputs": [],
   "source": []
  },
  {
   "cell_type": "code",
   "execution_count": 17,
   "id": "01f3785c-f8da-47eb-81c7-00ddb08ede1d",
   "metadata": {},
   "outputs": [],
   "source": [
    "#!pip install hyperopt"
   ]
  },
  {
   "cell_type": "code",
   "execution_count": 18,
   "id": "f21d196b-ddbc-435d-95f2-d89e7dcdac14",
   "metadata": {},
   "outputs": [],
   "source": [
    "# Space\n",
    "space = {\n",
    "    'learning_rate': hp.choice('learning_rate', [0.0001,0.001, 0.01, 0.1, 1]),\n",
    "    'max_depth' : hp.choice('max_depth', range(3,21,3)),\n",
    "    'gamma' : hp.choice('gamma', [i/10.0 for i in range(0,10)]),\n",
    "    'colsample_bytree' : hp.choice('colsample_bytree', [i/10.0 for i in range(3,10)]),\n",
    "    'reg_alpha' : hp.choice('reg_alpha', [1e-5, 1e-2, 0.1, 1, 10, 100]),\n",
    "    'reg_lambda' : hp.choice('reg_lambda', [1e-5, 1e-2, 0.1, 1, 10, 100])\n",
    "}"
   ]
  },
  {
   "cell_type": "code",
   "execution_count": null,
   "id": "2b2dec6b-622e-4ed8-912e-acf7a18ca1b5",
   "metadata": {},
   "outputs": [],
   "source": []
  },
  {
   "cell_type": "code",
   "execution_count": 19,
   "id": "2a995240-cac0-426f-b87f-499936311503",
   "metadata": {},
   "outputs": [],
   "source": [
    "# Objective function\n",
    "def objective(params):\n",
    "\n",
    "    xgboost = XGBClassifier(seed=SEED, random_state=SEED, **params)\n",
    "   \n",
    "    xgboost.fit(X_train,y_train)\n",
    "    y_pred = xgboost.predict(X_valid)\n",
    "    score = f1_score(y_valid,y_pred)\n",
    "\n",
    "    # Loss is negative score\n",
    "    loss = - score\n",
    "\n",
    "    # Dictionary with information for evaluation\n",
    "    return {'loss': loss, 'params': params, 'status': STATUS_OK}"
   ]
  },
  {
   "cell_type": "code",
   "execution_count": null,
   "id": "6353ccbf-aa85-420c-8156-26f638413c3d",
   "metadata": {},
   "outputs": [],
   "source": [
    "\n"
   ]
  },
  {
   "cell_type": "code",
   "execution_count": 20,
   "id": "252463cb-87cb-4fb4-9b00-06835ceee01d",
   "metadata": {},
   "outputs": [
    {
     "name": "stdout",
     "output_type": "stream",
     "text": [
      "--------------------------------------------------------------------------------\n",
      "--------------------------------------------------------------------------------\n",
      "Sim id: 0\n",
      "--------------------------------------------------------------------------------\n",
      "100%|██████████| 10/10 [02:45<00:00, 16.51s/trial, best loss: -0.8980891719745223]\n",
      "Training time: 165.14s\n",
      "--------------------------------------------------------------------------------\n",
      "--------------------------------------------------------------------------------\n",
      "Sim id: 1\n",
      "--------------------------------------------------------------------------------\n",
      "100%|██████████| 10/10 [00:35<00:00,  3.53s/trial, best loss: -0.8996763754045307]\n",
      "Training time: 35.36s\n",
      "--------------------------------------------------------------------------------\n",
      "--------------------------------------------------------------------------------\n",
      "Sim id: 2\n",
      "--------------------------------------------------------------------------------\n",
      "100%|██████████| 10/10 [01:28<00:00,  8.88s/trial, best loss: -0.9079365079365079]\n",
      "Training time: 88.86s\n",
      "--------------------------------------------------------------------------------\n",
      "--------------------------------------------------------------------------------\n",
      "Sim id: 3\n",
      "--------------------------------------------------------------------------------\n",
      "100%|██████████| 10/10 [00:35<00:00,  3.53s/trial, best loss: -0.9009584664536742]\n",
      "Training time: 35.28s\n",
      "--------------------------------------------------------------------------------\n",
      "--------------------------------------------------------------------------------\n",
      "Sim id: 4\n",
      "--------------------------------------------------------------------------------\n",
      "100%|██████████| 10/10 [01:45<00:00, 10.52s/trial, best loss: -0.9025974025974026]\n",
      "Training time: 105.20s\n",
      "--------------------------------------------------------------------------------\n",
      "--------------------------------------------------------------------------------\n",
      "Sim id: 5\n",
      "--------------------------------------------------------------------------------\n",
      "100%|██████████| 10/10 [01:12<00:00,  7.23s/trial, best loss: -0.9015873015873016]\n",
      "Training time: 72.31s\n",
      "--------------------------------------------------------------------------------\n",
      "--------------------------------------------------------------------------------\n",
      "Sim id: 6\n",
      "--------------------------------------------------------------------------------\n",
      "100%|██████████| 10/10 [01:07<00:00,  6.76s/trial, best loss: -0.9177215189873417]\n",
      "Training time: 67.65s\n",
      "--------------------------------------------------------------------------------\n",
      "--------------------------------------------------------------------------------\n",
      "Sim id: 7\n",
      "--------------------------------------------------------------------------------\n",
      "100%|██████████| 10/10 [00:09<00:00,  1.02trial/s, best loss: -0.9025974025974026]\n",
      "Training time: 9.81s\n",
      "--------------------------------------------------------------------------------\n",
      "--------------------------------------------------------------------------------\n",
      "Sim id: 8\n",
      "--------------------------------------------------------------------------------\n",
      "100%|██████████| 10/10 [01:33<00:00,  9.32s/trial, best loss: -0.9067524115755626]\n",
      "Training time: 93.26s\n",
      "--------------------------------------------------------------------------------\n",
      "--------------------------------------------------------------------------------\n",
      "Sim id: 9\n",
      "--------------------------------------------------------------------------------\n",
      "100%|██████████| 10/10 [00:13<00:00,  1.37s/trial, best loss: -0.9079365079365079]\n",
      "Training time: 13.72s\n"
     ]
    }
   ],
   "source": [
    "best_models = []\n",
    "times_train = []\n",
    "for i in range(NUM_SIMS):\n",
    "    print(80*\"-\")\n",
    "    print(80*\"-\")\n",
    "    print(f\"Sim id: {i}\")\n",
    "    print(80*\"-\")\n",
    "    start_time = default_timer()\n",
    "    SEED = SEED_ORIG + i\n",
    "    best = fmin(fn = objective, space = space, algo = tpe.suggest, max_evals = 10, trials = Trials(), rstate=rstate)\n",
    "    best_models.append(best)\n",
    "    end_time = default_timer()\n",
    "    times_train.append(end_time-start_time)\n",
    "    print(f\"Training time: {end_time-start_time:.2f}s\")"
   ]
  },
  {
   "cell_type": "code",
   "execution_count": 21,
   "id": "eed62bdc-c306-4ef0-9ebb-093ed54e63a9",
   "metadata": {},
   "outputs": [
    {
     "data": {
      "text/plain": [
       "{'colsample_bytree': 5,\n",
       " 'gamma': 5,\n",
       " 'learning_rate': 3,\n",
       " 'max_depth': 4,\n",
       " 'reg_alpha': 2,\n",
       " 'reg_lambda': 1}"
      ]
     },
     "execution_count": 21,
     "metadata": {},
     "output_type": "execute_result"
    }
   ],
   "source": [
    "# best hyperparameters\n",
    "best"
   ]
  },
  {
   "cell_type": "code",
   "execution_count": 22,
   "id": "e93509c2-f0a3-49a6-8bf2-6d0e2ef1a846",
   "metadata": {},
   "outputs": [
    {
     "name": "stdout",
     "output_type": "stream",
     "text": [
      "--------------------------------------------------------------------------------\n",
      "--------------------------------------------------------------------------------\n",
      "Sim id: 0\n",
      "--------------------------------------------------------------------------------\n",
      "Evaluation time: 0.03s\n",
      "--------------------------------------------------------------------------------\n",
      "--------------------------------------------------------------------------------\n",
      "Sim id: 1\n",
      "--------------------------------------------------------------------------------\n",
      "Evaluation time: 0.03s\n",
      "--------------------------------------------------------------------------------\n",
      "--------------------------------------------------------------------------------\n",
      "Sim id: 2\n",
      "--------------------------------------------------------------------------------\n",
      "Evaluation time: 0.03s\n",
      "--------------------------------------------------------------------------------\n",
      "--------------------------------------------------------------------------------\n",
      "Sim id: 3\n",
      "--------------------------------------------------------------------------------\n",
      "Evaluation time: 0.04s\n",
      "--------------------------------------------------------------------------------\n",
      "--------------------------------------------------------------------------------\n",
      "Sim id: 4\n",
      "--------------------------------------------------------------------------------\n",
      "Evaluation time: 0.03s\n",
      "--------------------------------------------------------------------------------\n",
      "--------------------------------------------------------------------------------\n",
      "Sim id: 5\n",
      "--------------------------------------------------------------------------------\n",
      "Evaluation time: 0.02s\n",
      "--------------------------------------------------------------------------------\n",
      "--------------------------------------------------------------------------------\n",
      "Sim id: 6\n",
      "--------------------------------------------------------------------------------\n",
      "Evaluation time: 0.04s\n",
      "--------------------------------------------------------------------------------\n",
      "--------------------------------------------------------------------------------\n",
      "Sim id: 7\n",
      "--------------------------------------------------------------------------------\n",
      "Evaluation time: 0.02s\n",
      "--------------------------------------------------------------------------------\n",
      "--------------------------------------------------------------------------------\n",
      "Sim id: 8\n",
      "--------------------------------------------------------------------------------\n",
      "Evaluation time: 0.03s\n",
      "--------------------------------------------------------------------------------\n",
      "--------------------------------------------------------------------------------\n",
      "Sim id: 9\n",
      "--------------------------------------------------------------------------------\n",
      "Evaluation time: 0.03s\n"
     ]
    }
   ],
   "source": [
    "results_valid = []\n",
    "results_test = []\n",
    "times_eval = []\n",
    "for i in range(NUM_SIMS):\n",
    "    print(80*\"-\")\n",
    "    print(80*\"-\")\n",
    "    print(f\"Sim id: {i}\")\n",
    "    print(80*\"-\")\n",
    "    \n",
    "    SEED = SEED_ORIG + i\n",
    "    \n",
    "    # Train model using the best parameters\n",
    "    xgboost_bo = XGBClassifier(\n",
    "                           seed=SEED,\n",
    "                           random_state=SEED,\n",
    "                           colsample_bytree=space_eval(space, best_models[i])['colsample_bytree'],\n",
    "                           gamma=space_eval(space, best_models[i])['gamma'],\n",
    "                           learning_rate=space_eval(space, best_models[i])['learning_rate'],\n",
    "                           max_depth=space_eval(space, best_models[i])['max_depth'],\n",
    "                           reg_alpha=space_eval(space, best_models[i])['reg_alpha'],\n",
    "                           reg_lambda=space_eval(space, best_models[i])['reg_lambda']\n",
    "                           ).fit(X_train,y_train)\n",
    "    \n",
    "    start_time = default_timer()\n",
    "    y_pred = xgboost_bo.predict(X_valid)\n",
    "    recall = recall_score(y_valid, y_pred)\n",
    "    f1score = f1_score(y_valid,y_pred)\n",
    "    mcc = matthews_corrcoef(y_valid, y_pred)\n",
    "    acc = accuracy_score(y_valid, y_pred)\n",
    "    precision = precision_score(y_valid, y_pred, average='macro')\n",
    "    results_temp = {}\n",
    "    results_temp[\"recall\"] = recall\n",
    "    results_temp[\"f1score\"] = f1score\n",
    "    results_temp[\"mcc\"] = mcc\n",
    "    results_temp[\"accuracy\"] = acc\n",
    "    results_temp[\"precision\"] = precision\n",
    "    results_valid.append(results_temp)\n",
    "    \n",
    "    y_pred = xgboost_bo.predict(X_test)\n",
    "    recall = recall_score(y_test, y_pred)\n",
    "    f1score = f1_score(y_test,y_pred)\n",
    "    mcc = matthews_corrcoef(y_test, y_pred)\n",
    "    acc = accuracy_score(y_test, y_pred)\n",
    "    precision = precision_score(y_test, y_pred, average='macro')\n",
    "    results_temp = {}\n",
    "    results_temp[\"recall\"] = recall\n",
    "    results_temp[\"f1score\"] = f1score\n",
    "    results_temp[\"mcc\"] = mcc\n",
    "    results_temp[\"accuracy\"] = acc\n",
    "    results_temp[\"precision\"] = precision\n",
    "    results_test.append(results_temp)\n",
    "    \n",
    "    end_time = default_timer()\n",
    "    times_eval.append(end_time-start_time)\n",
    "    print(f\"Evaluation time: {end_time-start_time:.2f}s\")"
   ]
  },
  {
   "cell_type": "code",
   "execution_count": 23,
   "id": "c40aece3-5931-41cf-a59b-d0d91c54a4b4",
   "metadata": {},
   "outputs": [
    {
     "data": {
      "text/plain": [
       "[{'recall': 0.8895348837209303,\n",
       "  'f1score': 0.9134328358208955,\n",
       "  'mcc': 0.9049006223768028,\n",
       "  'accuracy': 0.9837988826815642,\n",
       "  'precision': 0.9634861859495251},\n",
       " {'recall': 0.8546511627906976,\n",
       "  'f1score': 0.901840490797546,\n",
       "  'mcc': 0.8936888405772987,\n",
       "  'accuracy': 0.982122905027933,\n",
       "  'precision': 0.9696321404756613},\n",
       " {'recall': 0.877906976744186,\n",
       "  'f1score': 0.9041916167664672,\n",
       "  'mcc': 0.8948309690307236,\n",
       "  'accuracy': 0.982122905027933,\n",
       "  'precision': 0.9595997512664179},\n",
       " {'recall': 0.8662790697674418,\n",
       "  'f1score': 0.9030303030303031,\n",
       "  'mcc': 0.8941802311286007,\n",
       "  'accuracy': 0.982122905027933,\n",
       "  'precision': 0.9644724187143212},\n",
       " {'recall': 0.8488372093023255,\n",
       "  'f1score': 0.8984615384615385,\n",
       "  'mcc': 0.8902022267257853,\n",
       "  'accuracy': 0.9815642458100559,\n",
       "  'precision': 0.9691828268672569},\n",
       " {'recall': 0.8895348837209303,\n",
       "  'f1score': 0.9080118694362018,\n",
       "  'mcc': 0.8986936416833187,\n",
       "  'accuracy': 0.9826815642458101,\n",
       "  'precision': 0.9577902097902098},\n",
       " {'recall': 0.872093023255814,\n",
       "  'f1score': 0.9009009009009009,\n",
       "  'mcc': 0.8913411329222705,\n",
       "  'accuracy': 0.9815642458100559,\n",
       "  'precision': 0.9590859003542165},\n",
       " {'recall': 0.8372093023255814,\n",
       "  'f1score': 0.8944099378881988,\n",
       "  'mcc': 0.8865271989331928,\n",
       "  'accuracy': 0.9810055865921787,\n",
       "  'precision': 0.9714634146341463},\n",
       " {'recall': 0.8837209302325582,\n",
       "  'f1score': 0.912912912912913,\n",
       "  'mcc': 0.9045923590271413,\n",
       "  'accuracy': 0.9837988826815642,\n",
       "  'precision': 0.9659109540204904},\n",
       " {'recall': 0.8895348837209303,\n",
       "  'f1score': 0.9107142857142858,\n",
       "  'mcc': 0.90178354519195,\n",
       "  'accuracy': 0.9832402234636871,\n",
       "  'precision': 0.9606208562085621}]"
      ]
     },
     "execution_count": 23,
     "metadata": {},
     "output_type": "execute_result"
    }
   ],
   "source": [
    "results_test"
   ]
  },
  {
   "cell_type": "code",
   "execution_count": 24,
   "id": "5974f267-3b1b-4a55-9947-cb107ca26ddd",
   "metadata": {},
   "outputs": [
    {
     "data": {
      "text/plain": [
       "[165.14031284999874,\n",
       " 35.35648063199915,\n",
       " 88.86159053099982,\n",
       " 35.28142888900038,\n",
       " 105.19526144699921,\n",
       " 72.31242844400003,\n",
       " 67.64550412899916,\n",
       " 9.805392934998963,\n",
       " 93.2583920470006,\n",
       " 13.720882215000529]"
      ]
     },
     "execution_count": 24,
     "metadata": {},
     "output_type": "execute_result"
    }
   ],
   "source": [
    "times_train"
   ]
  },
  {
   "cell_type": "code",
   "execution_count": 25,
   "id": "82c24ad0-7d46-4208-8a16-3f312e05908c",
   "metadata": {},
   "outputs": [
    {
     "data": {
      "text/plain": [
       "[{'recall': 0.8650306748466258,\n",
       "  'f1score': 0.8980891719745223,\n",
       "  'mcc': 0.889087162556632,\n",
       "  'accuracy': 0.982122905027933,\n",
       "  'precision': 0.9601760078225698},\n",
       " {'recall': 0.852760736196319,\n",
       "  'f1score': 0.8996763754045307,\n",
       "  'mcc': 0.8918478438664144,\n",
       "  'accuracy': 0.9826815642458101,\n",
       "  'precision': 0.9687281271872813},\n",
       " {'recall': 0.8773006134969326,\n",
       "  'f1score': 0.9079365079365079,\n",
       "  'mcc': 0.8997259313498847,\n",
       "  'accuracy': 0.9837988826815642,\n",
       "  'precision': 0.9642897307370992},\n",
       " {'recall': 0.8650306748466258,\n",
       "  'f1score': 0.9009584664536742,\n",
       "  'mcc': 0.8924120210332045,\n",
       "  'accuracy': 0.9826815642458101,\n",
       "  'precision': 0.9632926829268292},\n",
       " {'recall': 0.852760736196319,\n",
       "  'f1score': 0.9025974025974026,\n",
       "  'mcc': 0.8952939309350089,\n",
       "  'accuracy': 0.9832402234636871,\n",
       "  'precision': 0.9720155120008385},\n",
       " {'recall': 0.8711656441717791,\n",
       "  'f1score': 0.9015873015873016,\n",
       "  'mcc': 0.8927598793886906,\n",
       "  'accuracy': 0.9826815642458101,\n",
       "  'precision': 0.9606950067476383},\n",
       " {'recall': 0.8895705521472392,\n",
       "  'f1score': 0.9177215189873417,\n",
       "  'mcc': 0.9103129832454658,\n",
       "  'accuracy': 0.9854748603351955,\n",
       "  'precision': 0.9683583472077488},\n",
       " {'recall': 0.852760736196319,\n",
       "  'f1score': 0.9025974025974026,\n",
       "  'mcc': 0.8952939309350089,\n",
       "  'accuracy': 0.9832402234636871,\n",
       "  'precision': 0.9720155120008385},\n",
       " {'recall': 0.8650306748466258,\n",
       "  'f1score': 0.9067524115755626,\n",
       "  'mcc': 0.899158420620841,\n",
       "  'accuracy': 0.9837988826815642,\n",
       "  'precision': 0.969652203970109},\n",
       " {'recall': 0.8773006134969326,\n",
       "  'f1score': 0.9079365079365079,\n",
       "  'mcc': 0.8997259313498847,\n",
       "  'accuracy': 0.9837988826815642,\n",
       "  'precision': 0.9642897307370992}]"
      ]
     },
     "execution_count": 25,
     "metadata": {},
     "output_type": "execute_result"
    }
   ],
   "source": [
    "results_valid"
   ]
  },
  {
   "cell_type": "code",
   "execution_count": 26,
   "id": "af3a9631-679c-4b5f-9551-643958d8d1af",
   "metadata": {},
   "outputs": [],
   "source": [
    "# validation f1-scores\n",
    "values = [results_valid[i][\"f1score\"] for i in range(NUM_SIMS)]"
   ]
  },
  {
   "cell_type": "code",
   "execution_count": 27,
   "id": "7b1e5741-47fe-4c23-862b-6a16f435f6f6",
   "metadata": {},
   "outputs": [
    {
     "data": {
      "text/plain": [
       "(6, 0.9177215189873417)"
      ]
     },
     "execution_count": 27,
     "metadata": {},
     "output_type": "execute_result"
    }
   ],
   "source": [
    "# the best f1-score model\n",
    "ind = np.argmax(np.array(values))\n",
    "ind, np.max(np.array(values))"
   ]
  },
  {
   "cell_type": "code",
   "execution_count": 28,
   "id": "b3c7c216-dc63-4fbf-937a-ab6d6e7c209d",
   "metadata": {},
   "outputs": [
    {
     "data": {
      "text/plain": [
       "{'recall': 0.872093023255814,\n",
       " 'f1score': 0.9009009009009009,\n",
       " 'mcc': 0.8913411329222705,\n",
       " 'accuracy': 0.9815642458100559,\n",
       " 'precision': 0.9590859003542165}"
      ]
     },
     "execution_count": 28,
     "metadata": {},
     "output_type": "execute_result"
    }
   ],
   "source": [
    "# results corresponding to the best validation f1-score\n",
    "results_test[ind]"
   ]
  },
  {
   "cell_type": "code",
   "execution_count": 29,
   "id": "adf374df-8211-4fac-aad9-b6f4691e5e73",
   "metadata": {},
   "outputs": [
    {
     "data": {
      "text/plain": [
       "68.65776741189966"
      ]
     },
     "execution_count": 29,
     "metadata": {},
     "output_type": "execute_result"
    }
   ],
   "source": [
    "# average training times\n",
    "np.mean(times_train)"
   ]
  },
  {
   "cell_type": "code",
   "execution_count": 30,
   "id": "a41959dd-a81f-4ef0-9cca-d892eeef1220",
   "metadata": {},
   "outputs": [
    {
     "data": {
      "text/plain": [
       "0.03126396169936925"
      ]
     },
     "execution_count": 30,
     "metadata": {},
     "output_type": "execute_result"
    }
   ],
   "source": [
    "# average inference times\n",
    "np.mean(times_eval)"
   ]
  },
  {
   "cell_type": "code",
   "execution_count": 31,
   "id": "eecbda3b-6771-4fcf-8257-2302991c470a",
   "metadata": {},
   "outputs": [
    {
     "data": {
      "text/plain": [
       "0.9045853067050753"
      ]
     },
     "execution_count": 31,
     "metadata": {},
     "output_type": "execute_result"
    }
   ],
   "source": [
    "# average validation f1 scores\n",
    "valid_f1score_values = [results_valid[i][\"f1score\"] for i in range(NUM_SIMS)]\n",
    "np.mean(valid_f1score_values)"
   ]
  },
  {
   "cell_type": "code",
   "execution_count": 32,
   "id": "b08a9354-2db1-40c1-8191-15fc9520367c",
   "metadata": {},
   "outputs": [
    {
     "data": {
      "text/plain": [
       "0.904790669172925"
      ]
     },
     "execution_count": 32,
     "metadata": {},
     "output_type": "execute_result"
    }
   ],
   "source": [
    "# average test f1 scores\n",
    "test_f1score_values = [results_test[i][\"f1score\"] for i in range(NUM_SIMS)]\n",
    "np.mean(test_f1score_values)"
   ]
  },
  {
   "cell_type": "code",
   "execution_count": 33,
   "id": "dc609dfc-1bca-4c54-8251-02d1cd164dd3",
   "metadata": {},
   "outputs": [
    {
     "data": {
      "text/plain": [
       "0.8960740767597084"
      ]
     },
     "execution_count": 33,
     "metadata": {},
     "output_type": "execute_result"
    }
   ],
   "source": [
    "# average test mcc scores\n",
    "test_mcc_values = [results_test[i][\"mcc\"] for i in range(NUM_SIMS)]\n",
    "np.mean(test_mcc_values)"
   ]
  },
  {
   "cell_type": "code",
   "execution_count": 34,
   "id": "1d3b32a0-33c6-4fa7-87c4-a78cde514587",
   "metadata": {},
   "outputs": [
    {
     "data": {
      "text/plain": [
       "0.9824022346368715"
      ]
     },
     "execution_count": 34,
     "metadata": {},
     "output_type": "execute_result"
    }
   ],
   "source": [
    "# average test accuracy scores\n",
    "test_acc_values = [results_test[i][\"accuracy\"] for i in range(NUM_SIMS)]\n",
    "np.mean(test_acc_values)"
   ]
  },
  {
   "cell_type": "code",
   "execution_count": 35,
   "id": "a6fe4844-99ac-49ed-9c49-309c372241e5",
   "metadata": {},
   "outputs": [
    {
     "data": {
      "text/plain": [
       "0.9641244658280808"
      ]
     },
     "execution_count": 35,
     "metadata": {},
     "output_type": "execute_result"
    }
   ],
   "source": [
    "# average test precision scores\n",
    "test_precision_values = [results_test[i][\"precision\"] for i in range(NUM_SIMS)]\n",
    "np.mean(test_precision_values)"
   ]
  },
  {
   "cell_type": "code",
   "execution_count": 36,
   "id": "abfb6191-458b-49e0-8a41-ce1aa5781908",
   "metadata": {},
   "outputs": [
    {
     "data": {
      "text/plain": [
       "0.8709302325581396"
      ]
     },
     "execution_count": 36,
     "metadata": {},
     "output_type": "execute_result"
    }
   ],
   "source": [
    "# average test recall scores\n",
    "test_recall_values = [results_test[i][\"recall\"] for i in range(NUM_SIMS)]\n",
    "np.mean(test_recall_values)"
   ]
  },
  {
   "cell_type": "code",
   "execution_count": null,
   "id": "be3512ca-faa2-4eb3-86d4-067c2613eb92",
   "metadata": {},
   "outputs": [],
   "source": []
  }
 ],
 "metadata": {
  "kernelspec": {
   "display_name": "Python 3",
   "language": "python",
   "name": "python3"
  },
  "language_info": {
   "codemirror_mode": {
    "name": "ipython",
    "version": 3
   },
   "file_extension": ".py",
   "mimetype": "text/x-python",
   "name": "python",
   "nbconvert_exporter": "python",
   "pygments_lexer": "ipython3",
   "version": "3.8.8"
  }
 },
 "nbformat": 4,
 "nbformat_minor": 5
}
