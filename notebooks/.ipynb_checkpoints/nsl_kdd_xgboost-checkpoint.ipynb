{
 "cells": [
  {
   "cell_type": "code",
   "execution_count": 1,
   "id": "798ee9df-5d3b-483f-9f02-7f92f881a61a",
   "metadata": {},
   "outputs": [
    {
     "name": "stdout",
     "output_type": "stream",
     "text": [
      "Notebook last run (end-to-end): 2024-03-11 19:19:31.336063\n"
     ]
    }
   ],
   "source": [
    "import pandas as pd\n",
    "import numpy as np\n",
    "from sklearn.model_selection import train_test_split\n",
    "from sklearn.preprocessing import MinMaxScaler, RobustScaler, StandardScaler\n",
    "from sklearn.metrics import recall_score\n",
    "from sklearn.model_selection import RandomizedSearchCV\n",
    "from timeit import default_timer\n",
    "import datetime\n",
    "from xgboost import XGBClassifier\n",
    "from sklearn.metrics import matthews_corrcoef, accuracy_score, precision_score, f1_score\n",
    "from imblearn.over_sampling import SMOTE\n",
    "from hyperopt import tpe, STATUS_OK, Trials, hp, fmin, STATUS_OK, space_eval\n",
    "from sklearn.model_selection import PredefinedSplit\n",
    "from sklearn.preprocessing import LabelEncoder\n",
    "import matplotlib.pyplot as plt\n",
    "from sklearn.decomposition import PCA\n",
    "print(f\"Notebook last run (end-to-end): {datetime.datetime.now()}\")"
   ]
  },
  {
   "cell_type": "code",
   "execution_count": 2,
   "id": "99eeb535-e30f-445a-a7e6-b14830bfacbf",
   "metadata": {},
   "outputs": [],
   "source": [
    "SEED_ORIG = 2024\n",
    "SEED_NP = 2023\n",
    "SEED = SEED_ORIG\n",
    "NUM_SIMS = 10\n",
    "rstate = np.random.default_rng(SEED_NP)"
   ]
  },
  {
   "cell_type": "markdown",
   "id": "2278707c-e909-45ea-8ae9-1e20eec30eb7",
   "metadata": {},
   "source": [
    "# Loading the dataset"
   ]
  },
  {
   "cell_type": "code",
   "execution_count": 3,
   "id": "932cb952-d455-4190-be8d-b9d924f64286",
   "metadata": {},
   "outputs": [],
   "source": [
    "Trained_Data = pd.read_csv(\"../data/KDDTrain+.txt\" , header = None)\n",
    "Tested_Data  = pd.read_csv(\"../data/KDDTest+.txt\" , header = None)"
   ]
  },
  {
   "cell_type": "code",
   "execution_count": 4,
   "id": "f5b62a1b-0f81-42ed-9e59-d7d048a3324d",
   "metadata": {},
   "outputs": [],
   "source": [
    "Columns = (['duration','protocol_type','service','flag','src_bytes','dst_bytes','land','wrong_fragment','urgent','hot',\n",
    "            'num_failed_logins','logged_in','num_compromised','root_shell','su_attempted','num_root','num_file_creations',\n",
    "            'num_shells','num_access_files','num_outbound_cmds','is_host_login','is_guest_login','count','srv_count',\n",
    "            'serror_rate','srv_serror_rate','rerror_rate','srv_rerror_rate','same_srv_rate','diff_srv_rate','srv_diff_host_rate',\n",
    "            'dst_host_count','dst_host_srv_count','dst_host_same_srv_rate','dst_host_diff_srv_rate','dst_host_same_src_port_rate',\n",
    "            'dst_host_srv_diff_host_rate','dst_host_serror_rate','dst_host_srv_serror_rate','dst_host_rerror_rate',\n",
    "            'dst_host_srv_rerror_rate','attack','level'])\n",
    "Trained_Data.columns = Columns\n",
    "Tested_Data.columns  = Columns"
   ]
  },
  {
   "cell_type": "code",
   "execution_count": 5,
   "id": "6ecea7eb-7d62-4903-b99c-77e84ca008d2",
   "metadata": {},
   "outputs": [],
   "source": [
    "Trained_attack = Trained_Data.attack.map(lambda a: 0 if a == 'normal' else 1)\n",
    "Tested_attack = Tested_Data.attack.map(lambda a: 0 if a == 'normal' else 1)\n",
    "\n",
    "Trained_Data['attack'] = Trained_attack\n",
    "Tested_Data['attack'] = Tested_attack"
   ]
  },
  {
   "cell_type": "code",
   "execution_count": 6,
   "id": "56775999-9ec6-44c8-b1f3-cb26c5b1b7a6",
   "metadata": {},
   "outputs": [
    {
     "data": {
      "text/plain": [
       "duration                       0\n",
       "protocol_type                  0\n",
       "service                        0\n",
       "flag                           0\n",
       "src_bytes                      0\n",
       "dst_bytes                      0\n",
       "land                           0\n",
       "wrong_fragment                 0\n",
       "urgent                         0\n",
       "hot                            0\n",
       "num_failed_logins              0\n",
       "logged_in                      0\n",
       "num_compromised                0\n",
       "root_shell                     0\n",
       "su_attempted                   0\n",
       "num_root                       0\n",
       "num_file_creations             0\n",
       "num_shells                     0\n",
       "num_access_files               0\n",
       "num_outbound_cmds              0\n",
       "is_host_login                  0\n",
       "is_guest_login                 0\n",
       "count                          0\n",
       "srv_count                      0\n",
       "serror_rate                    0\n",
       "srv_serror_rate                0\n",
       "rerror_rate                    0\n",
       "srv_rerror_rate                0\n",
       "same_srv_rate                  0\n",
       "diff_srv_rate                  0\n",
       "srv_diff_host_rate             0\n",
       "dst_host_count                 0\n",
       "dst_host_srv_count             0\n",
       "dst_host_same_srv_rate         0\n",
       "dst_host_diff_srv_rate         0\n",
       "dst_host_same_src_port_rate    0\n",
       "dst_host_srv_diff_host_rate    0\n",
       "dst_host_serror_rate           0\n",
       "dst_host_srv_serror_rate       0\n",
       "dst_host_rerror_rate           0\n",
       "dst_host_srv_rerror_rate       0\n",
       "attack                         0\n",
       "level                          0\n",
       "dtype: int64"
      ]
     },
     "execution_count": 6,
     "metadata": {},
     "output_type": "execute_result"
    }
   ],
   "source": [
    "Trained_Data.isnull().sum()\n"
   ]
  },
  {
   "cell_type": "code",
   "execution_count": 7,
   "id": "ad1dc148-696b-4ac6-90f5-7a2a3819b30c",
   "metadata": {},
   "outputs": [
    {
     "data": {
      "text/plain": [
       "(9, 3)"
      ]
     },
     "execution_count": 7,
     "metadata": {},
     "output_type": "execute_result"
    }
   ],
   "source": [
    "# duplicates\n",
    "Trained_Data.duplicated().sum(), Tested_Data.duplicated().sum()\n",
    "\n"
   ]
  },
  {
   "cell_type": "code",
   "execution_count": 8,
   "id": "6f9e974d-8518-4646-a9ff-c8aa7d2465a6",
   "metadata": {},
   "outputs": [],
   "source": [
    "cat_columns = ['protocol_type','service','flag']"
   ]
  },
  {
   "cell_type": "code",
   "execution_count": 9,
   "id": "86258de5-2bb6-4f75-9f05-354d841a59cc",
   "metadata": {},
   "outputs": [],
   "source": [
    "Trained_Data = pd.get_dummies(Trained_Data,columns=cat_columns,prefix=\"\",prefix_sep=\"\")\n",
    "Tested_Data = pd.get_dummies(Tested_Data,columns=cat_columns,prefix=\"\",prefix_sep=\"\")"
   ]
  },
  {
   "cell_type": "code",
   "execution_count": 10,
   "id": "1527b2d9-5c55-4451-895d-159ede64500a",
   "metadata": {},
   "outputs": [
    {
     "data": {
      "text/plain": [
       "0         0\n",
       "1         0\n",
       "2         1\n",
       "3         0\n",
       "4         0\n",
       "         ..\n",
       "125968    1\n",
       "125969    0\n",
       "125970    0\n",
       "125971    1\n",
       "125972    0\n",
       "Name: attack, Length: 125973, dtype: int64"
      ]
     },
     "execution_count": 10,
     "metadata": {},
     "output_type": "execute_result"
    }
   ],
   "source": [
    "Trained_Data[\"attack\"]"
   ]
  },
  {
   "cell_type": "code",
   "execution_count": 11,
   "id": "fa6b2171-10cf-45b2-8f40-6bbd1fdaecaf",
   "metadata": {},
   "outputs": [],
   "source": [
    "X_test = Tested_Data.drop(\"attack\",axis=1)\n",
    "y_test = Tested_Data['attack']"
   ]
  },
  {
   "cell_type": "code",
   "execution_count": 12,
   "id": "e17136cb-3964-4360-96af-3528f49168fc",
   "metadata": {},
   "outputs": [],
   "source": [
    "X_train_ = Trained_Data.drop(\"attack\", axis = 1)\n",
    "y_train_ = Trained_Data[\"attack\"]"
   ]
  },
  {
   "cell_type": "code",
   "execution_count": 13,
   "id": "983c93c6-94ef-4fb4-97cd-ca1dcfc50d24",
   "metadata": {},
   "outputs": [],
   "source": [
    "X_train, X_valid, y_train, y_valid = train_test_split(X_train_, y_train_, test_size= 0.25 , random_state=SEED)"
   ]
  },
  {
   "cell_type": "code",
   "execution_count": 14,
   "id": "a0f07d62-b55b-4bca-bc90-b87d8dca6fdb",
   "metadata": {},
   "outputs": [
    {
     "data": {
      "text/html": [
       "<div>\n",
       "<style scoped>\n",
       "    .dataframe tbody tr th:only-of-type {\n",
       "        vertical-align: middle;\n",
       "    }\n",
       "\n",
       "    .dataframe tbody tr th {\n",
       "        vertical-align: top;\n",
       "    }\n",
       "\n",
       "    .dataframe thead th {\n",
       "        text-align: right;\n",
       "    }\n",
       "</style>\n",
       "<table border=\"1\" class=\"dataframe\">\n",
       "  <thead>\n",
       "    <tr style=\"text-align: right;\">\n",
       "      <th></th>\n",
       "      <th>duration</th>\n",
       "      <th>src_bytes</th>\n",
       "      <th>dst_bytes</th>\n",
       "      <th>land</th>\n",
       "      <th>wrong_fragment</th>\n",
       "      <th>urgent</th>\n",
       "      <th>hot</th>\n",
       "      <th>num_failed_logins</th>\n",
       "      <th>logged_in</th>\n",
       "      <th>num_compromised</th>\n",
       "      <th>...</th>\n",
       "      <th>REJ</th>\n",
       "      <th>RSTO</th>\n",
       "      <th>RSTOS0</th>\n",
       "      <th>RSTR</th>\n",
       "      <th>S0</th>\n",
       "      <th>S1</th>\n",
       "      <th>S2</th>\n",
       "      <th>S3</th>\n",
       "      <th>SF</th>\n",
       "      <th>SH</th>\n",
       "    </tr>\n",
       "  </thead>\n",
       "  <tbody>\n",
       "    <tr>\n",
       "      <th>0</th>\n",
       "      <td>0</td>\n",
       "      <td>491</td>\n",
       "      <td>0</td>\n",
       "      <td>0</td>\n",
       "      <td>0</td>\n",
       "      <td>0</td>\n",
       "      <td>0</td>\n",
       "      <td>0</td>\n",
       "      <td>0</td>\n",
       "      <td>0</td>\n",
       "      <td>...</td>\n",
       "      <td>0</td>\n",
       "      <td>0</td>\n",
       "      <td>0</td>\n",
       "      <td>0</td>\n",
       "      <td>0</td>\n",
       "      <td>0</td>\n",
       "      <td>0</td>\n",
       "      <td>0</td>\n",
       "      <td>1</td>\n",
       "      <td>0</td>\n",
       "    </tr>\n",
       "    <tr>\n",
       "      <th>1</th>\n",
       "      <td>0</td>\n",
       "      <td>146</td>\n",
       "      <td>0</td>\n",
       "      <td>0</td>\n",
       "      <td>0</td>\n",
       "      <td>0</td>\n",
       "      <td>0</td>\n",
       "      <td>0</td>\n",
       "      <td>0</td>\n",
       "      <td>0</td>\n",
       "      <td>...</td>\n",
       "      <td>0</td>\n",
       "      <td>0</td>\n",
       "      <td>0</td>\n",
       "      <td>0</td>\n",
       "      <td>0</td>\n",
       "      <td>0</td>\n",
       "      <td>0</td>\n",
       "      <td>0</td>\n",
       "      <td>1</td>\n",
       "      <td>0</td>\n",
       "    </tr>\n",
       "    <tr>\n",
       "      <th>2</th>\n",
       "      <td>0</td>\n",
       "      <td>0</td>\n",
       "      <td>0</td>\n",
       "      <td>0</td>\n",
       "      <td>0</td>\n",
       "      <td>0</td>\n",
       "      <td>0</td>\n",
       "      <td>0</td>\n",
       "      <td>0</td>\n",
       "      <td>0</td>\n",
       "      <td>...</td>\n",
       "      <td>0</td>\n",
       "      <td>0</td>\n",
       "      <td>0</td>\n",
       "      <td>0</td>\n",
       "      <td>1</td>\n",
       "      <td>0</td>\n",
       "      <td>0</td>\n",
       "      <td>0</td>\n",
       "      <td>0</td>\n",
       "      <td>0</td>\n",
       "    </tr>\n",
       "    <tr>\n",
       "      <th>3</th>\n",
       "      <td>0</td>\n",
       "      <td>232</td>\n",
       "      <td>8153</td>\n",
       "      <td>0</td>\n",
       "      <td>0</td>\n",
       "      <td>0</td>\n",
       "      <td>0</td>\n",
       "      <td>0</td>\n",
       "      <td>1</td>\n",
       "      <td>0</td>\n",
       "      <td>...</td>\n",
       "      <td>0</td>\n",
       "      <td>0</td>\n",
       "      <td>0</td>\n",
       "      <td>0</td>\n",
       "      <td>0</td>\n",
       "      <td>0</td>\n",
       "      <td>0</td>\n",
       "      <td>0</td>\n",
       "      <td>1</td>\n",
       "      <td>0</td>\n",
       "    </tr>\n",
       "    <tr>\n",
       "      <th>4</th>\n",
       "      <td>0</td>\n",
       "      <td>199</td>\n",
       "      <td>420</td>\n",
       "      <td>0</td>\n",
       "      <td>0</td>\n",
       "      <td>0</td>\n",
       "      <td>0</td>\n",
       "      <td>0</td>\n",
       "      <td>1</td>\n",
       "      <td>0</td>\n",
       "      <td>...</td>\n",
       "      <td>0</td>\n",
       "      <td>0</td>\n",
       "      <td>0</td>\n",
       "      <td>0</td>\n",
       "      <td>0</td>\n",
       "      <td>0</td>\n",
       "      <td>0</td>\n",
       "      <td>0</td>\n",
       "      <td>1</td>\n",
       "      <td>0</td>\n",
       "    </tr>\n",
       "    <tr>\n",
       "      <th>...</th>\n",
       "      <td>...</td>\n",
       "      <td>...</td>\n",
       "      <td>...</td>\n",
       "      <td>...</td>\n",
       "      <td>...</td>\n",
       "      <td>...</td>\n",
       "      <td>...</td>\n",
       "      <td>...</td>\n",
       "      <td>...</td>\n",
       "      <td>...</td>\n",
       "      <td>...</td>\n",
       "      <td>...</td>\n",
       "      <td>...</td>\n",
       "      <td>...</td>\n",
       "      <td>...</td>\n",
       "      <td>...</td>\n",
       "      <td>...</td>\n",
       "      <td>...</td>\n",
       "      <td>...</td>\n",
       "      <td>...</td>\n",
       "      <td>...</td>\n",
       "    </tr>\n",
       "    <tr>\n",
       "      <th>125968</th>\n",
       "      <td>0</td>\n",
       "      <td>0</td>\n",
       "      <td>0</td>\n",
       "      <td>0</td>\n",
       "      <td>0</td>\n",
       "      <td>0</td>\n",
       "      <td>0</td>\n",
       "      <td>0</td>\n",
       "      <td>0</td>\n",
       "      <td>0</td>\n",
       "      <td>...</td>\n",
       "      <td>0</td>\n",
       "      <td>0</td>\n",
       "      <td>0</td>\n",
       "      <td>0</td>\n",
       "      <td>1</td>\n",
       "      <td>0</td>\n",
       "      <td>0</td>\n",
       "      <td>0</td>\n",
       "      <td>0</td>\n",
       "      <td>0</td>\n",
       "    </tr>\n",
       "    <tr>\n",
       "      <th>125969</th>\n",
       "      <td>8</td>\n",
       "      <td>105</td>\n",
       "      <td>145</td>\n",
       "      <td>0</td>\n",
       "      <td>0</td>\n",
       "      <td>0</td>\n",
       "      <td>0</td>\n",
       "      <td>0</td>\n",
       "      <td>0</td>\n",
       "      <td>0</td>\n",
       "      <td>...</td>\n",
       "      <td>0</td>\n",
       "      <td>0</td>\n",
       "      <td>0</td>\n",
       "      <td>0</td>\n",
       "      <td>0</td>\n",
       "      <td>0</td>\n",
       "      <td>0</td>\n",
       "      <td>0</td>\n",
       "      <td>1</td>\n",
       "      <td>0</td>\n",
       "    </tr>\n",
       "    <tr>\n",
       "      <th>125970</th>\n",
       "      <td>0</td>\n",
       "      <td>2231</td>\n",
       "      <td>384</td>\n",
       "      <td>0</td>\n",
       "      <td>0</td>\n",
       "      <td>0</td>\n",
       "      <td>0</td>\n",
       "      <td>0</td>\n",
       "      <td>1</td>\n",
       "      <td>0</td>\n",
       "      <td>...</td>\n",
       "      <td>0</td>\n",
       "      <td>0</td>\n",
       "      <td>0</td>\n",
       "      <td>0</td>\n",
       "      <td>0</td>\n",
       "      <td>0</td>\n",
       "      <td>0</td>\n",
       "      <td>0</td>\n",
       "      <td>1</td>\n",
       "      <td>0</td>\n",
       "    </tr>\n",
       "    <tr>\n",
       "      <th>125971</th>\n",
       "      <td>0</td>\n",
       "      <td>0</td>\n",
       "      <td>0</td>\n",
       "      <td>0</td>\n",
       "      <td>0</td>\n",
       "      <td>0</td>\n",
       "      <td>0</td>\n",
       "      <td>0</td>\n",
       "      <td>0</td>\n",
       "      <td>0</td>\n",
       "      <td>...</td>\n",
       "      <td>0</td>\n",
       "      <td>0</td>\n",
       "      <td>0</td>\n",
       "      <td>0</td>\n",
       "      <td>1</td>\n",
       "      <td>0</td>\n",
       "      <td>0</td>\n",
       "      <td>0</td>\n",
       "      <td>0</td>\n",
       "      <td>0</td>\n",
       "    </tr>\n",
       "    <tr>\n",
       "      <th>125972</th>\n",
       "      <td>0</td>\n",
       "      <td>151</td>\n",
       "      <td>0</td>\n",
       "      <td>0</td>\n",
       "      <td>0</td>\n",
       "      <td>0</td>\n",
       "      <td>0</td>\n",
       "      <td>0</td>\n",
       "      <td>1</td>\n",
       "      <td>0</td>\n",
       "      <td>...</td>\n",
       "      <td>0</td>\n",
       "      <td>0</td>\n",
       "      <td>0</td>\n",
       "      <td>0</td>\n",
       "      <td>0</td>\n",
       "      <td>0</td>\n",
       "      <td>0</td>\n",
       "      <td>0</td>\n",
       "      <td>1</td>\n",
       "      <td>0</td>\n",
       "    </tr>\n",
       "  </tbody>\n",
       "</table>\n",
       "<p>125973 rows × 124 columns</p>\n",
       "</div>"
      ],
      "text/plain": [
       "        duration  src_bytes  dst_bytes  land  wrong_fragment  urgent  hot  \\\n",
       "0              0        491          0     0               0       0    0   \n",
       "1              0        146          0     0               0       0    0   \n",
       "2              0          0          0     0               0       0    0   \n",
       "3              0        232       8153     0               0       0    0   \n",
       "4              0        199        420     0               0       0    0   \n",
       "...          ...        ...        ...   ...             ...     ...  ...   \n",
       "125968         0          0          0     0               0       0    0   \n",
       "125969         8        105        145     0               0       0    0   \n",
       "125970         0       2231        384     0               0       0    0   \n",
       "125971         0          0          0     0               0       0    0   \n",
       "125972         0        151          0     0               0       0    0   \n",
       "\n",
       "        num_failed_logins  logged_in  num_compromised  ...  REJ  RSTO  RSTOS0  \\\n",
       "0                       0          0                0  ...    0     0       0   \n",
       "1                       0          0                0  ...    0     0       0   \n",
       "2                       0          0                0  ...    0     0       0   \n",
       "3                       0          1                0  ...    0     0       0   \n",
       "4                       0          1                0  ...    0     0       0   \n",
       "...                   ...        ...              ...  ...  ...   ...     ...   \n",
       "125968                  0          0                0  ...    0     0       0   \n",
       "125969                  0          0                0  ...    0     0       0   \n",
       "125970                  0          1                0  ...    0     0       0   \n",
       "125971                  0          0                0  ...    0     0       0   \n",
       "125972                  0          1                0  ...    0     0       0   \n",
       "\n",
       "        RSTR  S0  S1  S2  S3  SF  SH  \n",
       "0          0   0   0   0   0   1   0  \n",
       "1          0   0   0   0   0   1   0  \n",
       "2          0   1   0   0   0   0   0  \n",
       "3          0   0   0   0   0   1   0  \n",
       "4          0   0   0   0   0   1   0  \n",
       "...      ...  ..  ..  ..  ..  ..  ..  \n",
       "125968     0   1   0   0   0   0   0  \n",
       "125969     0   0   0   0   0   1   0  \n",
       "125970     0   0   0   0   0   1   0  \n",
       "125971     0   1   0   0   0   0   0  \n",
       "125972     0   0   0   0   0   1   0  \n",
       "\n",
       "[125973 rows x 124 columns]"
      ]
     },
     "execution_count": 14,
     "metadata": {},
     "output_type": "execute_result"
    }
   ],
   "source": [
    "Trained_Data"
   ]
  },
  {
   "cell_type": "code",
   "execution_count": 15,
   "id": "f5e6ca1e-e9be-4d4a-bcbf-9f49fe556465",
   "metadata": {},
   "outputs": [
    {
     "data": {
      "text/plain": [
       "['duration',\n",
       " 'src_bytes',\n",
       " 'dst_bytes',\n",
       " 'land',\n",
       " 'wrong_fragment',\n",
       " 'urgent',\n",
       " 'hot',\n",
       " 'num_failed_logins',\n",
       " 'logged_in',\n",
       " 'num_compromised',\n",
       " 'root_shell',\n",
       " 'su_attempted',\n",
       " 'num_root',\n",
       " 'num_file_creations',\n",
       " 'num_shells',\n",
       " 'num_access_files',\n",
       " 'num_outbound_cmds',\n",
       " 'is_host_login',\n",
       " 'is_guest_login',\n",
       " 'count',\n",
       " 'srv_count',\n",
       " 'serror_rate',\n",
       " 'srv_serror_rate',\n",
       " 'rerror_rate',\n",
       " 'srv_rerror_rate',\n",
       " 'same_srv_rate',\n",
       " 'diff_srv_rate',\n",
       " 'srv_diff_host_rate',\n",
       " 'dst_host_count',\n",
       " 'dst_host_srv_count',\n",
       " 'dst_host_same_srv_rate',\n",
       " 'dst_host_diff_srv_rate',\n",
       " 'dst_host_same_src_port_rate',\n",
       " 'dst_host_srv_diff_host_rate',\n",
       " 'dst_host_serror_rate',\n",
       " 'dst_host_srv_serror_rate',\n",
       " 'dst_host_rerror_rate',\n",
       " 'dst_host_srv_rerror_rate',\n",
       " 'level',\n",
       " 'icmp',\n",
       " 'tcp',\n",
       " 'udp',\n",
       " 'IRC',\n",
       " 'X11',\n",
       " 'Z39_50',\n",
       " 'aol',\n",
       " 'auth',\n",
       " 'bgp',\n",
       " 'courier',\n",
       " 'csnet_ns',\n",
       " 'ctf',\n",
       " 'daytime',\n",
       " 'discard',\n",
       " 'domain',\n",
       " 'domain_u',\n",
       " 'echo',\n",
       " 'eco_i',\n",
       " 'ecr_i',\n",
       " 'efs',\n",
       " 'exec',\n",
       " 'finger',\n",
       " 'ftp',\n",
       " 'ftp_data',\n",
       " 'gopher',\n",
       " 'harvest',\n",
       " 'hostnames',\n",
       " 'http',\n",
       " 'http_2784',\n",
       " 'http_443',\n",
       " 'http_8001',\n",
       " 'imap4',\n",
       " 'iso_tsap',\n",
       " 'klogin',\n",
       " 'kshell',\n",
       " 'ldap',\n",
       " 'link',\n",
       " 'login',\n",
       " 'mtp',\n",
       " 'name',\n",
       " 'netbios_dgm',\n",
       " 'netbios_ns',\n",
       " 'netbios_ssn',\n",
       " 'netstat',\n",
       " 'nnsp',\n",
       " 'nntp',\n",
       " 'ntp_u',\n",
       " 'other',\n",
       " 'pm_dump',\n",
       " 'pop_2',\n",
       " 'pop_3',\n",
       " 'printer',\n",
       " 'private',\n",
       " 'red_i',\n",
       " 'remote_job',\n",
       " 'rje',\n",
       " 'shell',\n",
       " 'smtp',\n",
       " 'sql_net',\n",
       " 'ssh',\n",
       " 'sunrpc',\n",
       " 'supdup',\n",
       " 'systat',\n",
       " 'telnet',\n",
       " 'tftp_u',\n",
       " 'tim_i',\n",
       " 'time',\n",
       " 'urh_i',\n",
       " 'urp_i',\n",
       " 'uucp',\n",
       " 'uucp_path',\n",
       " 'vmnet',\n",
       " 'whois',\n",
       " 'OTH',\n",
       " 'REJ',\n",
       " 'RSTO',\n",
       " 'RSTOS0',\n",
       " 'RSTR',\n",
       " 'S0',\n",
       " 'S1',\n",
       " 'S2',\n",
       " 'S3',\n",
       " 'SF',\n",
       " 'SH']"
      ]
     },
     "execution_count": 15,
     "metadata": {},
     "output_type": "execute_result"
    }
   ],
   "source": [
    "num_columns = []\n",
    "for col_name in Trained_Data.drop(\"attack\",axis=1).columns:\n",
    "    if col_name not in cat_columns:\n",
    "        num_columns.append(col_name)\n",
    "num_columns"
   ]
  },
  {
   "cell_type": "code",
   "execution_count": 16,
   "id": "ab139221-d33a-41c0-970f-1e1d4bbd9627",
   "metadata": {},
   "outputs": [
    {
     "data": {
      "text/plain": [
       "False"
      ]
     },
     "execution_count": 16,
     "metadata": {},
     "output_type": "execute_result"
    }
   ],
   "source": [
    "\"attack\" in num_columns"
   ]
  },
  {
   "cell_type": "code",
   "execution_count": 17,
   "id": "36473454-4141-4307-9ca5-3ec6c6d4cf9e",
   "metadata": {},
   "outputs": [],
   "source": [
    "#scaler = StandardScaler()"
   ]
  },
  {
   "cell_type": "code",
   "execution_count": 18,
   "id": "fd9efaa7-6abe-477f-95a8-d0323976895d",
   "metadata": {},
   "outputs": [],
   "source": [
    "#scaler.fit(X_train[num_columns])"
   ]
  },
  {
   "cell_type": "code",
   "execution_count": 19,
   "id": "7ec48724-1c10-415c-864f-7b4c192ba894",
   "metadata": {},
   "outputs": [
    {
     "data": {
      "text/plain": [
       "(94479, 31494, 22544, 123, 123, 117)"
      ]
     },
     "execution_count": 19,
     "metadata": {},
     "output_type": "execute_result"
    }
   ],
   "source": [
    "len(X_train), len(X_valid), len(X_test), len(X_train.columns), len(X_valid.columns), len(X_test.columns)"
   ]
  },
  {
   "cell_type": "code",
   "execution_count": 20,
   "id": "1bbcad46-3d3e-4150-b997-1b3d0e1f3410",
   "metadata": {},
   "outputs": [],
   "source": [
    "notintestcols = [col for col in X_train.columns if col not in X_test.columns]"
   ]
  },
  {
   "cell_type": "code",
   "execution_count": 21,
   "id": "5992acf0-7dee-494b-b7b3-dbb437190d4f",
   "metadata": {},
   "outputs": [],
   "source": [
    "X_train = X_train.drop(notintestcols,axis=1)\n",
    "X_valid = X_valid.drop(notintestcols,axis=1)"
   ]
  },
  {
   "cell_type": "code",
   "execution_count": 22,
   "id": "3e19d3b1-45f1-47e6-8772-92433c06e733",
   "metadata": {},
   "outputs": [],
   "source": [
    "notintestcols = [col for col in X_train.columns if col not in X_test.columns]"
   ]
  },
  {
   "cell_type": "code",
   "execution_count": 23,
   "id": "c9996a55-9449-4608-85fb-8f2ba0fe5965",
   "metadata": {},
   "outputs": [
    {
     "data": {
      "text/plain": [
       "[]"
      ]
     },
     "execution_count": 23,
     "metadata": {},
     "output_type": "execute_result"
    }
   ],
   "source": [
    "notintestcols"
   ]
  },
  {
   "cell_type": "code",
   "execution_count": null,
   "id": "eb545f0f-dc41-4ecf-afed-06cace885893",
   "metadata": {},
   "outputs": [],
   "source": []
  },
  {
   "cell_type": "markdown",
   "id": "020be194-42b6-4258-b4f6-0f7e849b8c9b",
   "metadata": {},
   "source": [
    "# XGBoost"
   ]
  },
  {
   "cell_type": "code",
   "execution_count": 24,
   "id": "54b939ef-f95d-4378-815d-4ac6a247d9c0",
   "metadata": {},
   "outputs": [],
   "source": [
    "# Space\n",
    "space = {\n",
    "    'learning_rate': hp.choice('learning_rate', [0.0001,0.001, 0.01, 0.1, 1]),\n",
    "    'max_depth' : hp.choice('max_depth', range(3,21,3)),\n",
    "    'gamma' : hp.choice('gamma', [i/10.0 for i in range(0,10)]),\n",
    "    'colsample_bytree' : hp.choice('colsample_bytree', [i/10.0 for i in range(3,10)]),\n",
    "    'reg_alpha' : hp.choice('reg_alpha', [1e-5, 1e-2, 0.1, 1, 10, 100]),\n",
    "    'reg_lambda' : hp.choice('reg_lambda', [1e-5, 1e-2, 0.1, 1, 10, 100])\n",
    "}"
   ]
  },
  {
   "cell_type": "code",
   "execution_count": null,
   "id": "0a6667a2-c470-4c24-92d5-08ccd011c68f",
   "metadata": {},
   "outputs": [],
   "source": []
  },
  {
   "cell_type": "code",
   "execution_count": 25,
   "id": "2274231c-3a73-4a25-91e8-41915b107374",
   "metadata": {},
   "outputs": [],
   "source": [
    "# Objective function\n",
    "def objective(params):\n",
    "\n",
    "    xgboost = XGBClassifier(seed=SEED, random_state=SEED, **params)\n",
    "   \n",
    "    xgboost.fit(X_train,y_train)\n",
    "    y_pred = xgboost.predict(X_valid)\n",
    "    score = f1_score(y_valid,y_pred)\n",
    "    #score = matthews_corrcoef(y_valid, y_pred)\n",
    "\n",
    "    # Loss is negative score\n",
    "    loss = - score\n",
    "\n",
    "    # Dictionary with information for evaluation\n",
    "    return {'loss': loss, 'params': params, 'status': STATUS_OK}"
   ]
  },
  {
   "cell_type": "code",
   "execution_count": null,
   "id": "a1f40cd1-647a-4060-8463-a46d0c15aeae",
   "metadata": {},
   "outputs": [],
   "source": [
    "\n"
   ]
  },
  {
   "cell_type": "code",
   "execution_count": 26,
   "id": "5b93dcf1-84ed-40e2-96d2-8985f85af1f8",
   "metadata": {},
   "outputs": [
    {
     "name": "stdout",
     "output_type": "stream",
     "text": [
      "--------------------------------------------------------------------------------\n",
      "--------------------------------------------------------------------------------\n",
      "Sim id: 0\n",
      "--------------------------------------------------------------------------------\n",
      "100%|██████████| 10/10 [04:29<00:00, 26.99s/trial, best loss: -0.9996253023129067]\n",
      "Training time: 269.93s\n",
      "--------------------------------------------------------------------------------\n",
      "--------------------------------------------------------------------------------\n",
      "Sim id: 1\n",
      "--------------------------------------------------------------------------------\n",
      "100%|██████████| 10/10 [05:01<00:00, 30.13s/trial, best loss: -0.9995911692559281]\n",
      "Training time: 301.30s\n",
      "--------------------------------------------------------------------------------\n",
      "--------------------------------------------------------------------------------\n",
      "Sim id: 2\n",
      "--------------------------------------------------------------------------------\n",
      "100%|██████████| 10/10 [05:44<00:00, 34.49s/trial, best loss: -0.9995571754607079]\n",
      "Training time: 344.89s\n",
      "--------------------------------------------------------------------------------\n",
      "--------------------------------------------------------------------------------\n",
      "Sim id: 3\n",
      "--------------------------------------------------------------------------------\n",
      "100%|██████████| 10/10 [04:08<00:00, 24.82s/trial, best loss: -0.9996593541354408]\n",
      "Training time: 248.23s\n",
      "--------------------------------------------------------------------------------\n",
      "--------------------------------------------------------------------------------\n",
      "Sim id: 4\n",
      "--------------------------------------------------------------------------------\n",
      "100%|██████████| 10/10 [04:58<00:00, 29.84s/trial, best loss: -0.9994211189430313]\n",
      "Training time: 298.42s\n",
      "--------------------------------------------------------------------------------\n",
      "--------------------------------------------------------------------------------\n",
      "Sim id: 5\n",
      "--------------------------------------------------------------------------------\n",
      "100%|██████████| 10/10 [03:41<00:00, 22.19s/trial, best loss: -0.9996933873880012]\n",
      "Training time: 221.94s\n",
      "--------------------------------------------------------------------------------\n",
      "--------------------------------------------------------------------------------\n",
      "Sim id: 6\n",
      "--------------------------------------------------------------------------------\n",
      "100%|██████████| 10/10 [04:22<00:00, 26.21s/trial, best loss: -0.9991146826477799]\n",
      "Training time: 262.15s\n",
      "--------------------------------------------------------------------------------\n",
      "--------------------------------------------------------------------------------\n",
      "Sim id: 7\n",
      "--------------------------------------------------------------------------------\n",
      "100%|██████████| 10/10 [03:54<00:00, 23.44s/trial, best loss: -0.9997615560173042]\n",
      "Training time: 234.38s\n",
      "--------------------------------------------------------------------------------\n",
      "--------------------------------------------------------------------------------\n",
      "Sim id: 8\n",
      "--------------------------------------------------------------------------------\n",
      "100%|██████████| 10/10 [05:17<00:00, 31.78s/trial, best loss: -0.9996934291651055]\n",
      "Training time: 317.85s\n",
      "--------------------------------------------------------------------------------\n",
      "--------------------------------------------------------------------------------\n",
      "Sim id: 9\n",
      "--------------------------------------------------------------------------------\n",
      "100%|██████████| 10/10 [03:50<00:00, 23.09s/trial, best loss: -0.9995571452904105]\n",
      "Training time: 230.90s\n"
     ]
    }
   ],
   "source": [
    "best_models = []\n",
    "times_train = []\n",
    "for i in range(NUM_SIMS):\n",
    "    print(80*\"-\")\n",
    "    print(80*\"-\")\n",
    "    print(f\"Sim id: {i}\")\n",
    "    print(80*\"-\")\n",
    "    start_time = default_timer()\n",
    "    SEED = SEED_ORIG + i\n",
    "    best = fmin(fn = objective, space = space, algo = tpe.suggest, max_evals = 10, trials = Trials(), rstate=rstate)\n",
    "    best_models.append(best)\n",
    "    end_time = default_timer()\n",
    "    times_train.append(end_time-start_time)\n",
    "    print(f\"Training time: {end_time-start_time:.2f}s\")"
   ]
  },
  {
   "cell_type": "code",
   "execution_count": 27,
   "id": "2e169e44-d160-4cf0-974d-079bb25be066",
   "metadata": {},
   "outputs": [
    {
     "data": {
      "text/plain": [
       "{'colsample_bytree': 5,\n",
       " 'gamma': 5,\n",
       " 'learning_rate': 3,\n",
       " 'max_depth': 4,\n",
       " 'reg_alpha': 2,\n",
       " 'reg_lambda': 1}"
      ]
     },
     "execution_count": 27,
     "metadata": {},
     "output_type": "execute_result"
    }
   ],
   "source": [
    "# best hyperparameters\n",
    "best"
   ]
  },
  {
   "cell_type": "code",
   "execution_count": 28,
   "id": "f57555dc-ce3e-4f88-a98c-782f19b6eda0",
   "metadata": {},
   "outputs": [
    {
     "name": "stdout",
     "output_type": "stream",
     "text": [
      "--------------------------------------------------------------------------------\n",
      "--------------------------------------------------------------------------------\n",
      "Sim id: 0\n",
      "--------------------------------------------------------------------------------\n",
      "Evaluation time: 0.17s\n",
      "--------------------------------------------------------------------------------\n",
      "--------------------------------------------------------------------------------\n",
      "Sim id: 1\n",
      "--------------------------------------------------------------------------------\n",
      "Evaluation time: 0.17s\n",
      "--------------------------------------------------------------------------------\n",
      "--------------------------------------------------------------------------------\n",
      "Sim id: 2\n",
      "--------------------------------------------------------------------------------\n",
      "Evaluation time: 0.18s\n",
      "--------------------------------------------------------------------------------\n",
      "--------------------------------------------------------------------------------\n",
      "Sim id: 3\n",
      "--------------------------------------------------------------------------------\n",
      "Evaluation time: 0.17s\n",
      "--------------------------------------------------------------------------------\n",
      "--------------------------------------------------------------------------------\n",
      "Sim id: 4\n",
      "--------------------------------------------------------------------------------\n",
      "Evaluation time: 0.19s\n",
      "--------------------------------------------------------------------------------\n",
      "--------------------------------------------------------------------------------\n",
      "Sim id: 5\n",
      "--------------------------------------------------------------------------------\n",
      "Evaluation time: 0.13s\n",
      "--------------------------------------------------------------------------------\n",
      "--------------------------------------------------------------------------------\n",
      "Sim id: 6\n",
      "--------------------------------------------------------------------------------\n",
      "Evaluation time: 0.19s\n",
      "--------------------------------------------------------------------------------\n",
      "--------------------------------------------------------------------------------\n",
      "Sim id: 7\n",
      "--------------------------------------------------------------------------------\n",
      "Evaluation time: 0.17s\n",
      "--------------------------------------------------------------------------------\n",
      "--------------------------------------------------------------------------------\n",
      "Sim id: 8\n",
      "--------------------------------------------------------------------------------\n",
      "Evaluation time: 0.15s\n",
      "--------------------------------------------------------------------------------\n",
      "--------------------------------------------------------------------------------\n",
      "Sim id: 9\n",
      "--------------------------------------------------------------------------------\n",
      "Evaluation time: 0.16s\n"
     ]
    }
   ],
   "source": [
    "results_valid = []\n",
    "results_test = []\n",
    "times_eval = []\n",
    "for i in range(NUM_SIMS):\n",
    "    print(80*\"-\")\n",
    "    print(80*\"-\")\n",
    "    print(f\"Sim id: {i}\")\n",
    "    print(80*\"-\")\n",
    "    \n",
    "    SEED = SEED_ORIG + i\n",
    "    \n",
    "    # Train model using the best parameters\n",
    "    xgboost_bo = XGBClassifier(\n",
    "                           seed=SEED,\n",
    "                           random_state=SEED,\n",
    "                           colsample_bytree=space_eval(space, best_models[i])['colsample_bytree'],\n",
    "                           gamma=space_eval(space, best_models[i])['gamma'],\n",
    "                           learning_rate=space_eval(space, best_models[i])['learning_rate'],\n",
    "                           max_depth=space_eval(space, best_models[i])['max_depth'],\n",
    "                           reg_alpha=space_eval(space, best_models[i])['reg_alpha'],\n",
    "                           reg_lambda=space_eval(space, best_models[i])['reg_lambda']\n",
    "                           ).fit(X_train,y_train)\n",
    "    \n",
    "    start_time = default_timer()\n",
    "    y_pred = xgboost_bo.predict(X_valid)\n",
    "    recall = recall_score(y_valid, y_pred)\n",
    "    f1score = f1_score(y_valid,y_pred)\n",
    "    mcc = matthews_corrcoef(y_valid, y_pred)\n",
    "    acc = accuracy_score(y_valid, y_pred)\n",
    "    precision = precision_score(y_valid, y_pred, average='macro')\n",
    "    results_temp = {}\n",
    "    results_temp[\"recall\"] = recall\n",
    "    results_temp[\"f1score\"] = f1score\n",
    "    results_temp[\"mcc\"] = mcc\n",
    "    results_temp[\"accuracy\"] = acc\n",
    "    results_temp[\"precision\"] = precision\n",
    "    results_valid.append(results_temp)\n",
    "    \n",
    "    y_pred = xgboost_bo.predict(X_test)\n",
    "    recall = recall_score(y_test, y_pred)\n",
    "    f1score = f1_score(y_test,y_pred)\n",
    "    mcc = matthews_corrcoef(y_test, y_pred)\n",
    "    acc = accuracy_score(y_test, y_pred)\n",
    "    precision = precision_score(y_test, y_pred, average='macro')\n",
    "    results_temp = {}\n",
    "    results_temp[\"recall\"] = recall\n",
    "    results_temp[\"f1score\"] = f1score\n",
    "    results_temp[\"mcc\"] = mcc\n",
    "    results_temp[\"accuracy\"] = acc\n",
    "    results_temp[\"precision\"] = precision\n",
    "    results_test.append(results_temp)\n",
    "    \n",
    "    end_time = default_timer()\n",
    "    times_eval.append(end_time-start_time)\n",
    "    print(f\"Evaluation time: {end_time-start_time:.2f}s\")"
   ]
  },
  {
   "cell_type": "code",
   "execution_count": 29,
   "id": "7eff9bd0-7abc-4c53-992c-5f68268bb462",
   "metadata": {},
   "outputs": [
    {
     "data": {
      "text/plain": [
       "[{'recall': 0.7111353541650433,\n",
       "  'f1score': 0.8214221422142215,\n",
       "  'mcc': 0.6873445648228398,\n",
       "  'accuracy': 0.8239886444286728,\n",
       "  'precision': 0.8452222152832184},\n",
       " {'recall': 0.7356035221694069,\n",
       "  'f1score': 0.8377335049030483,\n",
       "  'mcc': 0.7084801191669452,\n",
       "  'accuracy': 0.8377838892831796,\n",
       "  'precision': 0.8542711936883143},\n",
       " {'recall': 0.7114470505727422,\n",
       "  'f1score': 0.8211908616657672,\n",
       "  'mcc': 0.6862495305286355,\n",
       "  'accuracy': 0.8236337828246983,\n",
       "  'precision': 0.8445884473123876},\n",
       " {'recall': 0.7331878750097405,\n",
       "  'f1score': 0.8360582903856406,\n",
       "  'mcc': 0.7061184153916997,\n",
       "  'accuracy': 0.8363200851667849,\n",
       "  'precision': 0.8532203602873158},\n",
       " {'recall': 0.7077066936803553,\n",
       "  'f1score': 0.8186407066882999,\n",
       "  'mcc': 0.6829956472415968,\n",
       "  'accuracy': 0.8215046132008517,\n",
       "  'precision': 0.8432070373984377},\n",
       " {'recall': 0.7408244369983636,\n",
       "  'f1score': 0.8411041316464656,\n",
       "  'mcc': 0.7128903832101708,\n",
       "  'accuracy': 0.8406671398154719,\n",
       "  'precision': 0.8561741797995455},\n",
       " {'recall': 0.7738642562144471,\n",
       "  'f1score': 0.8618789325233238,\n",
       "  'mcc': 0.7410341298790852,\n",
       "  'accuracy': 0.8588094393186657,\n",
       "  'precision': 0.8685803076624411},\n",
       " {'recall': 0.7133951531208603,\n",
       "  'f1score': 0.8226994967649174,\n",
       "  'mcc': 0.6885158799419979,\n",
       "  'accuracy': 0.8249645138396026,\n",
       "  'precision': 0.8456224755221814},\n",
       " {'recall': 0.6923556456011845,\n",
       "  'f1score': 0.8076905595200218,\n",
       "  'mcc': 0.6685731905871116,\n",
       "  'accuracy': 0.8123225691980128,\n",
       "  'precision': 0.8369881301301803},\n",
       " {'recall': 0.7575001948102548,\n",
       "  'f1score': 0.8518599658239495,\n",
       "  'mcc': 0.7274881409107611,\n",
       "  'accuracy': 0.850026614620298,\n",
       "  'precision': 0.8625919770335893}]"
      ]
     },
     "execution_count": 29,
     "metadata": {},
     "output_type": "execute_result"
    }
   ],
   "source": [
    "results_test"
   ]
  },
  {
   "cell_type": "code",
   "execution_count": 30,
   "id": "0c7b1914-b56d-4e4e-a19d-7cc8e1d1a16d",
   "metadata": {},
   "outputs": [
    {
     "data": {
      "text/plain": [
       "[269.93486166599905,\n",
       " 301.30401660299685,\n",
       " 344.89328810699953,\n",
       " 248.22954225000285,\n",
       " 298.4247551869994,\n",
       " 221.93865056800132,\n",
       " 262.14909128900035,\n",
       " 234.37547559799714,\n",
       " 317.8525154129966,\n",
       " 230.90246411200496]"
      ]
     },
     "execution_count": 30,
     "metadata": {},
     "output_type": "execute_result"
    }
   ],
   "source": [
    "times_train"
   ]
  },
  {
   "cell_type": "code",
   "execution_count": 31,
   "id": "fb0b9d4b-eefc-4d44-92de-2b38b49f192f",
   "metadata": {},
   "outputs": [
    {
     "data": {
      "text/plain": [
       "[{'recall': 0.9995912528101369,\n",
       "  'f1score': 0.9996253023129067,\n",
       "  'mcc': 0.9992982251643784,\n",
       "  'accuracy': 0.9996507271226265,\n",
       "  'precision': 0.9996512755453608},\n",
       " {'recall': 0.9993868792152054,\n",
       "  'f1score': 0.9995911692559281,\n",
       "  'mcc': 0.9992344818803925,\n",
       "  'accuracy': 0.9996189750428653,\n",
       "  'precision': 0.9996302486774553},\n",
       " {'recall': 0.9995231282784931,\n",
       "  'f1score': 0.9995571754607079,\n",
       "  'mcc': 0.9991706293697044,\n",
       "  'accuracy': 0.9995872229631041,\n",
       "  'precision': 0.999587477371845},\n",
       " {'recall': 0.9995912528101369,\n",
       "  'f1score': 0.9996593541354408,\n",
       "  'mcc': 0.9993620264026466,\n",
       "  'accuracy': 0.9996824792023877,\n",
       "  'precision': 0.9996853414564193},\n",
       " {'recall': 0.9997275018734246,\n",
       "  'f1score': 0.9994211189430313,\n",
       "  'mcc': 0.9989156473227457,\n",
       "  'accuracy': 0.9994602146440592,\n",
       "  'precision': 0.9994384567564183},\n",
       " {'recall': 0.9995231282784931,\n",
       "  'f1score': 0.9996933873880012,\n",
       "  'mcc': 0.9994258598368967,\n",
       "  'accuracy': 0.999714231282149,\n",
       "  'precision': 0.9997237666433241},\n",
       " {'recall': 0.9994550037468493,\n",
       "  'f1score': 0.9991146826477799,\n",
       "  'mcc': 0.9983415367706193,\n",
       "  'accuracy': 0.9991744459262082,\n",
       "  'precision': 0.999149272219015},\n",
       " {'recall': 0.9997275018734246,\n",
       "  'f1score': 0.9997615560173042,\n",
       "  'mcc': 0.9995534167537266,\n",
       "  'accuracy': 0.9997777354416715,\n",
       "  'precision': 0.9997788718923925},\n",
       " {'recall': 0.9996593773417808,\n",
       "  'f1score': 0.9996934291651055,\n",
       "  'mcc': 0.9994258209590525,\n",
       "  'accuracy': 0.999714231282149,\n",
       "  'precision': 0.9997150737188766},\n",
       " {'recall': 0.9994550037468493,\n",
       "  'f1score': 0.9995571452904105,\n",
       "  'mcc': 0.9991706384598696,\n",
       "  'accuracy': 0.9995872229631041,\n",
       "  'precision': 0.9995918134475512}]"
      ]
     },
     "execution_count": 31,
     "metadata": {},
     "output_type": "execute_result"
    }
   ],
   "source": [
    "results_valid"
   ]
  },
  {
   "cell_type": "code",
   "execution_count": 32,
   "id": "c1489cf0-5e1b-4352-ad89-4527a2e385e2",
   "metadata": {},
   "outputs": [],
   "source": [
    "# validation f1-scores\n",
    "values = [results_valid[i][\"f1score\"] for i in range(NUM_SIMS)]"
   ]
  },
  {
   "cell_type": "code",
   "execution_count": 33,
   "id": "ed3be1a2-6e6f-431d-b0cc-d087755e2596",
   "metadata": {},
   "outputs": [
    {
     "data": {
      "text/plain": [
       "(7, 0.9997615560173042)"
      ]
     },
     "execution_count": 33,
     "metadata": {},
     "output_type": "execute_result"
    }
   ],
   "source": [
    "# the best f1-score model\n",
    "ind = np.argmax(np.array(values))\n",
    "ind, np.max(np.array(values))"
   ]
  },
  {
   "cell_type": "code",
   "execution_count": 34,
   "id": "1ea557cb-d0f9-49c3-bc11-6b4e385ace17",
   "metadata": {},
   "outputs": [
    {
     "data": {
      "text/plain": [
       "{'recall': 0.7133951531208603,\n",
       " 'f1score': 0.8226994967649174,\n",
       " 'mcc': 0.6885158799419979,\n",
       " 'accuracy': 0.8249645138396026,\n",
       " 'precision': 0.8456224755221814}"
      ]
     },
     "execution_count": 34,
     "metadata": {},
     "output_type": "execute_result"
    }
   ],
   "source": [
    "# results corresponding to the best validation f1-score\n",
    "results_test[ind]"
   ]
  },
  {
   "cell_type": "code",
   "execution_count": 35,
   "id": "9d84df6e-89bc-42e4-90c0-65b7303bf6b1",
   "metadata": {},
   "outputs": [
    {
     "data": {
      "text/plain": [
       "273.0004660792998"
      ]
     },
     "execution_count": 35,
     "metadata": {},
     "output_type": "execute_result"
    }
   ],
   "source": [
    "# average training times\n",
    "np.mean(times_train)"
   ]
  },
  {
   "cell_type": "code",
   "execution_count": 36,
   "id": "af7be511-d70a-4917-b18e-72a0e5824208",
   "metadata": {},
   "outputs": [
    {
     "data": {
      "text/plain": [
       "0.16963826069841162"
      ]
     },
     "execution_count": 36,
     "metadata": {},
     "output_type": "execute_result"
    }
   ],
   "source": [
    "# average inference times\n",
    "np.mean(times_eval)"
   ]
  },
  {
   "cell_type": "code",
   "execution_count": 37,
   "id": "7ab7edb9-3a1b-4885-b37b-9e0fe74cb236",
   "metadata": {},
   "outputs": [
    {
     "data": {
      "text/plain": [
       "0.9995674320616617"
      ]
     },
     "execution_count": 37,
     "metadata": {},
     "output_type": "execute_result"
    }
   ],
   "source": [
    "# average validation f1 scores\n",
    "valid_f1score_values = [results_valid[i][\"f1score\"] for i in range(NUM_SIMS)]\n",
    "np.mean(valid_f1score_values)"
   ]
  },
  {
   "cell_type": "code",
   "execution_count": 38,
   "id": "55e8cd0d-7f68-473e-84d6-41e37487eb98",
   "metadata": {},
   "outputs": [
    {
     "data": {
      "text/plain": [
       "0.8320278592135655"
      ]
     },
     "execution_count": 38,
     "metadata": {},
     "output_type": "execute_result"
    }
   ],
   "source": [
    "# average test f1 scores\n",
    "test_f1score_values = [results_test[i][\"f1score\"] for i in range(NUM_SIMS)]\n",
    "np.mean(test_f1score_values)"
   ]
  },
  {
   "cell_type": "code",
   "execution_count": 39,
   "id": "cebf00b9-8543-40db-aefd-99c4a1638b03",
   "metadata": {},
   "outputs": [
    {
     "data": {
      "text/plain": [
       "0.7009690001680844"
      ]
     },
     "execution_count": 39,
     "metadata": {},
     "output_type": "execute_result"
    }
   ],
   "source": [
    "# average test mcc scores\n",
    "test_mcc_values = [results_test[i][\"mcc\"] for i in range(NUM_SIMS)]\n",
    "np.mean(test_mcc_values)"
   ]
  },
  {
   "cell_type": "code",
   "execution_count": 40,
   "id": "d51caf98-d760-4fc8-9025-11dff08f8972",
   "metadata": {},
   "outputs": [
    {
     "data": {
      "text/plain": [
       "0.8330021291696239"
      ]
     },
     "execution_count": 40,
     "metadata": {},
     "output_type": "execute_result"
    }
   ],
   "source": [
    "# average test accuracy scores\n",
    "test_acc_values = [results_test[i][\"accuracy\"] for i in range(NUM_SIMS)]\n",
    "np.mean(test_acc_values)"
   ]
  },
  {
   "cell_type": "code",
   "execution_count": 41,
   "id": "1e98e54b-c711-4e5c-b10f-a50c98477e0d",
   "metadata": {},
   "outputs": [
    {
     "data": {
      "text/plain": [
       "0.8510466324117612"
      ]
     },
     "execution_count": 41,
     "metadata": {},
     "output_type": "execute_result"
    }
   ],
   "source": [
    "# average test precision scores\n",
    "test_precision_values = [results_test[i][\"precision\"] for i in range(NUM_SIMS)]\n",
    "np.mean(test_precision_values)"
   ]
  },
  {
   "cell_type": "code",
   "execution_count": 42,
   "id": "1a2dac3b-9d5e-44bc-901c-00f9d4d874f8",
   "metadata": {},
   "outputs": [
    {
     "data": {
      "text/plain": [
       "0.7277020182342397"
      ]
     },
     "execution_count": 42,
     "metadata": {},
     "output_type": "execute_result"
    }
   ],
   "source": [
    "# average test recall scores\n",
    "test_recall_values = [results_test[i][\"recall\"] for i in range(NUM_SIMS)]\n",
    "np.mean(test_recall_values)"
   ]
  }
 ],
 "metadata": {
  "kernelspec": {
   "display_name": "Python 3",
   "language": "python",
   "name": "python3"
  },
  "language_info": {
   "codemirror_mode": {
    "name": "ipython",
    "version": 3
   },
   "file_extension": ".py",
   "mimetype": "text/x-python",
   "name": "python",
   "nbconvert_exporter": "python",
   "pygments_lexer": "ipython3",
   "version": "3.8.8"
  }
 },
 "nbformat": 4,
 "nbformat_minor": 5
}
