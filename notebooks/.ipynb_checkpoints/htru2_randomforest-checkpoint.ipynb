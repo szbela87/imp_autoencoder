{
 "cells": [
  {
   "cell_type": "markdown",
   "id": "a6c85a5a-ba5c-4fb5-bf99-65f5be6642da",
   "metadata": {},
   "source": [
    "# Random Forest"
   ]
  },
  {
   "cell_type": "code",
   "execution_count": 1,
   "id": "1b30fae1-cd4a-4c40-8e8e-1fbdb43c163f",
   "metadata": {},
   "outputs": [
    {
     "name": "stdout",
     "output_type": "stream",
     "text": [
      "Notebook last run (end-to-end): 2024-03-10 21:29:25.723503\n"
     ]
    }
   ],
   "source": [
    "import pandas as pd\n",
    "import numpy as np\n",
    "from sklearn.model_selection import train_test_split\n",
    "from sklearn.preprocessing import MinMaxScaler, RobustScaler, StandardScaler\n",
    "from sklearn.metrics import recall_score\n",
    "from sklearn.model_selection import RandomizedSearchCV\n",
    "from timeit import default_timer\n",
    "import datetime\n",
    "from sklearn.ensemble import RandomForestClassifier\n",
    "from sklearn.metrics import matthews_corrcoef, accuracy_score, precision_score, f1_score\n",
    "from imblearn.over_sampling import SMOTE\n",
    "from hyperopt import tpe, STATUS_OK, Trials, hp, fmin, STATUS_OK, space_eval\n",
    "from sklearn.model_selection import PredefinedSplit\n",
    "#from sklearn.model_selection import cross_val_score\n",
    "\n",
    "\n",
    "\n",
    "\n",
    "print(f\"Notebook last run (end-to-end): {datetime.datetime.now()}\")"
   ]
  },
  {
   "cell_type": "code",
   "execution_count": 2,
   "id": "d491cbed-f9df-4849-8c32-32d987376479",
   "metadata": {},
   "outputs": [],
   "source": [
    "SEED_ORIG = 2024\n",
    "SEED = SEED_ORIG\n",
    "NUM_SIMS = 10\n",
    "rstate = np.random.default_rng(SEED_ORIG)"
   ]
  },
  {
   "cell_type": "markdown",
   "id": "0448cf0c-7d68-48ba-9f81-cb81455994a5",
   "metadata": {},
   "source": [
    "# Hyperparameter tuning with SMOTE and Hyperopt"
   ]
  },
  {
   "cell_type": "code",
   "execution_count": 3,
   "id": "5c91b9a1-5d00-4450-8034-18d38499deac",
   "metadata": {},
   "outputs": [
    {
     "data": {
      "text/plain": [
       "0    16259\n",
       "1     1639\n",
       "Name: Labels, dtype: int64"
      ]
     },
     "execution_count": 3,
     "metadata": {},
     "output_type": "execute_result"
    }
   ],
   "source": [
    "df = pd.read_csv(\"../data/HTRU_2.csv\",sep=\",\",header=None)\n",
    "labels = df[8]\n",
    "df = df.drop([8],axis=1)\n",
    "df[\"Labels\"] = labels\n",
    "df[\"Labels\"].value_counts()"
   ]
  },
  {
   "cell_type": "code",
   "execution_count": 4,
   "id": "e31784eb-61c2-46a4-a030-0442aa595329",
   "metadata": {},
   "outputs": [],
   "source": [
    "X_train_, X_test = train_test_split(df, test_size=0.1, random_state=SEED_ORIG) # Splitting the test set\n",
    "y_train_ = X_train_[\"Labels\"]\n",
    "X_train_ = X_train_.drop(\"Labels\",axis=1)"
   ]
  },
  {
   "cell_type": "code",
   "execution_count": 5,
   "id": "0cefdccb-e03e-4603-8bee-4f2e5f3fcffb",
   "metadata": {},
   "outputs": [
    {
     "data": {
      "text/plain": [
       "(29282, 29282)"
      ]
     },
     "execution_count": 5,
     "metadata": {},
     "output_type": "execute_result"
    }
   ],
   "source": [
    "sm = SMOTE(random_state=SEED_ORIG)\n",
    "X_resampled,y_resampled= sm.fit_resample(X_train_, y_train_)\n",
    "len(X_resampled), len(y_resampled)"
   ]
  },
  {
   "cell_type": "code",
   "execution_count": 6,
   "id": "2d9fb52b-d19c-49ca-b851-3b07fddd15d1",
   "metadata": {},
   "outputs": [],
   "source": [
    "X_resampled[\"Labels\"] = y_resampled"
   ]
  },
  {
   "cell_type": "code",
   "execution_count": 7,
   "id": "50f16d3f-f3a5-46fd-8587-9e5572c1a274",
   "metadata": {},
   "outputs": [],
   "source": [
    "X_train, X_valid = train_test_split(X_resampled, test_size=0.1, random_state=SEED_ORIG) \n",
    "cols = X_train.columns[:-1]\n"
   ]
  },
  {
   "cell_type": "code",
   "execution_count": 8,
   "id": "1bbd7673-f075-4475-9d02-d07c562e5198",
   "metadata": {},
   "outputs": [
    {
     "data": {
      "text/plain": [
       "(26353, 2929, 1790)"
      ]
     },
     "execution_count": 8,
     "metadata": {},
     "output_type": "execute_result"
    }
   ],
   "source": [
    "len(X_train), len(X_valid), len(X_test)\n"
   ]
  },
  {
   "cell_type": "code",
   "execution_count": 9,
   "id": "0fb43738-d1db-46bb-8e46-4ca9e6a74a45",
   "metadata": {},
   "outputs": [
    {
     "data": {
      "text/html": [
       "<div>\n",
       "<style scoped>\n",
       "    .dataframe tbody tr th:only-of-type {\n",
       "        vertical-align: middle;\n",
       "    }\n",
       "\n",
       "    .dataframe tbody tr th {\n",
       "        vertical-align: top;\n",
       "    }\n",
       "\n",
       "    .dataframe thead th {\n",
       "        text-align: right;\n",
       "    }\n",
       "</style>\n",
       "<table border=\"1\" class=\"dataframe\">\n",
       "  <thead>\n",
       "    <tr style=\"text-align: right;\">\n",
       "      <th></th>\n",
       "      <th>0</th>\n",
       "      <th>1</th>\n",
       "      <th>2</th>\n",
       "      <th>3</th>\n",
       "      <th>4</th>\n",
       "      <th>5</th>\n",
       "      <th>6</th>\n",
       "      <th>7</th>\n",
       "      <th>Labels</th>\n",
       "    </tr>\n",
       "  </thead>\n",
       "  <tbody>\n",
       "    <tr>\n",
       "      <th>23647</th>\n",
       "      <td>88.252228</td>\n",
       "      <td>44.740535</td>\n",
       "      <td>1.334553</td>\n",
       "      <td>2.606667</td>\n",
       "      <td>8.658360</td>\n",
       "      <td>38.102912</td>\n",
       "      <td>4.774594</td>\n",
       "      <td>22.500578</td>\n",
       "      <td>1</td>\n",
       "    </tr>\n",
       "    <tr>\n",
       "      <th>15502</th>\n",
       "      <td>146.093750</td>\n",
       "      <td>46.782148</td>\n",
       "      <td>-0.182414</td>\n",
       "      <td>0.083016</td>\n",
       "      <td>1.823579</td>\n",
       "      <td>18.376583</td>\n",
       "      <td>10.816643</td>\n",
       "      <td>120.463003</td>\n",
       "      <td>0</td>\n",
       "    </tr>\n",
       "    <tr>\n",
       "      <th>18633</th>\n",
       "      <td>35.182888</td>\n",
       "      <td>37.299263</td>\n",
       "      <td>3.901432</td>\n",
       "      <td>16.401026</td>\n",
       "      <td>60.909358</td>\n",
       "      <td>69.969228</td>\n",
       "      <td>1.218334</td>\n",
       "      <td>0.519661</td>\n",
       "      <td>1</td>\n",
       "    </tr>\n",
       "    <tr>\n",
       "      <th>15513</th>\n",
       "      <td>114.156250</td>\n",
       "      <td>41.541289</td>\n",
       "      <td>0.577129</td>\n",
       "      <td>1.516991</td>\n",
       "      <td>1.039298</td>\n",
       "      <td>12.752767</td>\n",
       "      <td>14.106027</td>\n",
       "      <td>217.465501</td>\n",
       "      <td>0</td>\n",
       "    </tr>\n",
       "    <tr>\n",
       "      <th>25596</th>\n",
       "      <td>19.055439</td>\n",
       "      <td>35.070892</td>\n",
       "      <td>5.206158</td>\n",
       "      <td>27.650399</td>\n",
       "      <td>122.016522</td>\n",
       "      <td>74.897721</td>\n",
       "      <td>-0.105256</td>\n",
       "      <td>-1.007368</td>\n",
       "      <td>1</td>\n",
       "    </tr>\n",
       "    <tr>\n",
       "      <th>...</th>\n",
       "      <td>...</td>\n",
       "      <td>...</td>\n",
       "      <td>...</td>\n",
       "      <td>...</td>\n",
       "      <td>...</td>\n",
       "      <td>...</td>\n",
       "      <td>...</td>\n",
       "      <td>...</td>\n",
       "      <td>...</td>\n",
       "    </tr>\n",
       "    <tr>\n",
       "      <th>14875</th>\n",
       "      <td>126.125000</td>\n",
       "      <td>42.971284</td>\n",
       "      <td>-0.059258</td>\n",
       "      <td>0.265109</td>\n",
       "      <td>2.623746</td>\n",
       "      <td>19.325817</td>\n",
       "      <td>8.561876</td>\n",
       "      <td>80.169221</td>\n",
       "      <td>0</td>\n",
       "    </tr>\n",
       "    <tr>\n",
       "      <th>2688</th>\n",
       "      <td>113.398438</td>\n",
       "      <td>40.149397</td>\n",
       "      <td>0.322763</td>\n",
       "      <td>0.532786</td>\n",
       "      <td>2.985786</td>\n",
       "      <td>16.622323</td>\n",
       "      <td>8.176916</td>\n",
       "      <td>83.887394</td>\n",
       "      <td>0</td>\n",
       "    </tr>\n",
       "    <tr>\n",
       "      <th>19040</th>\n",
       "      <td>69.889086</td>\n",
       "      <td>32.188954</td>\n",
       "      <td>3.004694</td>\n",
       "      <td>14.108755</td>\n",
       "      <td>16.239157</td>\n",
       "      <td>47.742230</td>\n",
       "      <td>3.309714</td>\n",
       "      <td>10.573754</td>\n",
       "      <td>1</td>\n",
       "    </tr>\n",
       "    <tr>\n",
       "      <th>19962</th>\n",
       "      <td>65.243681</td>\n",
       "      <td>38.455560</td>\n",
       "      <td>2.207688</td>\n",
       "      <td>7.442995</td>\n",
       "      <td>37.377171</td>\n",
       "      <td>68.128617</td>\n",
       "      <td>1.624815</td>\n",
       "      <td>1.260027</td>\n",
       "      <td>1</td>\n",
       "    </tr>\n",
       "    <tr>\n",
       "      <th>7816</th>\n",
       "      <td>108.382812</td>\n",
       "      <td>49.396850</td>\n",
       "      <td>0.611931</td>\n",
       "      <td>0.044871</td>\n",
       "      <td>2.535117</td>\n",
       "      <td>16.391620</td>\n",
       "      <td>8.444314</td>\n",
       "      <td>86.724906</td>\n",
       "      <td>0</td>\n",
       "    </tr>\n",
       "  </tbody>\n",
       "</table>\n",
       "<p>26353 rows × 9 columns</p>\n",
       "</div>"
      ],
      "text/plain": [
       "                0          1         2          3           4          5  \\\n",
       "23647   88.252228  44.740535  1.334553   2.606667    8.658360  38.102912   \n",
       "15502  146.093750  46.782148 -0.182414   0.083016    1.823579  18.376583   \n",
       "18633   35.182888  37.299263  3.901432  16.401026   60.909358  69.969228   \n",
       "15513  114.156250  41.541289  0.577129   1.516991    1.039298  12.752767   \n",
       "25596   19.055439  35.070892  5.206158  27.650399  122.016522  74.897721   \n",
       "...           ...        ...       ...        ...         ...        ...   \n",
       "14875  126.125000  42.971284 -0.059258   0.265109    2.623746  19.325817   \n",
       "2688   113.398438  40.149397  0.322763   0.532786    2.985786  16.622323   \n",
       "19040   69.889086  32.188954  3.004694  14.108755   16.239157  47.742230   \n",
       "19962   65.243681  38.455560  2.207688   7.442995   37.377171  68.128617   \n",
       "7816   108.382812  49.396850  0.611931   0.044871    2.535117  16.391620   \n",
       "\n",
       "               6           7  Labels  \n",
       "23647   4.774594   22.500578       1  \n",
       "15502  10.816643  120.463003       0  \n",
       "18633   1.218334    0.519661       1  \n",
       "15513  14.106027  217.465501       0  \n",
       "25596  -0.105256   -1.007368       1  \n",
       "...          ...         ...     ...  \n",
       "14875   8.561876   80.169221       0  \n",
       "2688    8.176916   83.887394       0  \n",
       "19040   3.309714   10.573754       1  \n",
       "19962   1.624815    1.260027       1  \n",
       "7816    8.444314   86.724906       0  \n",
       "\n",
       "[26353 rows x 9 columns]"
      ]
     },
     "execution_count": 9,
     "metadata": {},
     "output_type": "execute_result"
    }
   ],
   "source": [
    "X_train"
   ]
  },
  {
   "cell_type": "code",
   "execution_count": 10,
   "id": "6e49b17c-4180-4d98-903f-c1b88f600ae2",
   "metadata": {},
   "outputs": [
    {
     "data": {
      "text/plain": [
       "(1    13189\n",
       " 0    13164\n",
       " Name: Labels, dtype: int64,\n",
       " 0    1477\n",
       " 1    1452\n",
       " Name: Labels, dtype: int64,\n",
       " 0    1618\n",
       " 1     172\n",
       " Name: Labels, dtype: int64)"
      ]
     },
     "execution_count": 10,
     "metadata": {},
     "output_type": "execute_result"
    }
   ],
   "source": [
    "X_train[\"Labels\"].value_counts(), X_valid[\"Labels\"].value_counts(), X_test[\"Labels\"].value_counts()"
   ]
  },
  {
   "cell_type": "code",
   "execution_count": 11,
   "id": "c1880079-baf6-47f8-97b0-6eeb692b547b",
   "metadata": {},
   "outputs": [],
   "source": [
    "y_train = X_train[\"Labels\"]\n",
    "y_valid = X_valid[\"Labels\"]\n",
    "y_test = X_test[\"Labels\"]\n",
    "X_train = X_train.drop(\"Labels\",axis=1)\n",
    "X_valid = X_valid.drop(\"Labels\",axis=1)\n",
    "X_test = X_test.drop(\"Labels\",axis=1)\n"
   ]
  },
  {
   "cell_type": "code",
   "execution_count": 12,
   "id": "870232ca-147c-4360-8d5d-2dfa9bc954f0",
   "metadata": {},
   "outputs": [
    {
     "data": {
      "text/plain": [
       "(26353, 2929)"
      ]
     },
     "execution_count": 12,
     "metadata": {},
     "output_type": "execute_result"
    }
   ],
   "source": [
    "len(X_train), len(X_valid)"
   ]
  },
  {
   "cell_type": "code",
   "execution_count": null,
   "id": "416daefe-394a-40bb-be41-1eef46d3375d",
   "metadata": {},
   "outputs": [],
   "source": []
  },
  {
   "cell_type": "code",
   "execution_count": 13,
   "id": "18b4aad0-01b8-4c6f-999d-4656d8f48ded",
   "metadata": {},
   "outputs": [],
   "source": [
    "X_train_ = pd.concat([X_train,X_valid],axis=0,ignore_index=True)"
   ]
  },
  {
   "cell_type": "code",
   "execution_count": 14,
   "id": "a839f3a8-d48a-49f0-b4da-50c22a61ef0c",
   "metadata": {},
   "outputs": [],
   "source": [
    "y_train_ = pd.concat([y_train,y_valid],axis=0,ignore_index=True)"
   ]
  },
  {
   "cell_type": "code",
   "execution_count": 15,
   "id": "9f3fd3c2-1532-467c-8e69-584773aef34b",
   "metadata": {},
   "outputs": [
    {
     "data": {
      "text/plain": [
       "29282"
      ]
     },
     "execution_count": 15,
     "metadata": {},
     "output_type": "execute_result"
    }
   ],
   "source": [
    "len(y_train_)"
   ]
  },
  {
   "cell_type": "code",
   "execution_count": 16,
   "id": "8d8ad195-7269-474b-9729-59351b3d8e32",
   "metadata": {},
   "outputs": [],
   "source": [
    "# Creating the validation fold\n",
    "valid_fold = np.concatenate([\n",
    "    -np.ones(len(X_train)), # Training set\n",
    "    np.zeros(len(X_valid)) # Validation set\n",
    "])"
   ]
  },
  {
   "cell_type": "code",
   "execution_count": 17,
   "id": "f2c16f36-3ac4-49a8-9689-8f18c02fcd3a",
   "metadata": {},
   "outputs": [
    {
     "data": {
      "text/plain": [
       "(array([-1., -1., -1., -1., -1., -1., -1., -1., -1., -1.]),\n",
       " array([0., 0., 0., 0., 0., 0., 0., 0., 0., 0.]))"
      ]
     },
     "execution_count": 17,
     "metadata": {},
     "output_type": "execute_result"
    }
   ],
   "source": [
    "valid_fold[:10], valid_fold[-10:]"
   ]
  },
  {
   "cell_type": "code",
   "execution_count": 18,
   "id": "54e93fc3-fad7-49d7-8cbc-b7d9cbd017e2",
   "metadata": {},
   "outputs": [],
   "source": [
    "ps = PredefinedSplit(test_fold=valid_fold)"
   ]
  },
  {
   "cell_type": "code",
   "execution_count": null,
   "id": "0e674a08-03ae-49fd-8cff-c8a52837d02d",
   "metadata": {},
   "outputs": [],
   "source": []
  },
  {
   "cell_type": "code",
   "execution_count": 19,
   "id": "01f3785c-f8da-47eb-81c7-00ddb08ede1d",
   "metadata": {},
   "outputs": [],
   "source": [
    "#!pip install hyperopt"
   ]
  },
  {
   "cell_type": "code",
   "execution_count": 20,
   "id": "f21d196b-ddbc-435d-95f2-d89e7dcdac14",
   "metadata": {},
   "outputs": [],
   "source": [
    "# Space\n",
    "space = {\n",
    "    'n_estimators': hp.choice('n_estimators', [int(x) for x in np.linspace(start = 50, stop = 1000, num = 10)]),\n",
    "    'max_depth' : hp.choice('max_depth', range(3,21,3)),\n",
    "    'min_samples_split' : hp.choice('min_samples_split', [2, 5, 10, 14]),\n",
    "    'min_samples_leaf' : hp.choice('min_samples_leaf', [1, 2, 4, 6, 8]),\n",
    "}"
   ]
  },
  {
   "cell_type": "code",
   "execution_count": null,
   "id": "2b2dec6b-622e-4ed8-912e-acf7a18ca1b5",
   "metadata": {},
   "outputs": [],
   "source": []
  },
  {
   "cell_type": "code",
   "execution_count": 21,
   "id": "2a995240-cac0-426f-b87f-499936311503",
   "metadata": {},
   "outputs": [],
   "source": [
    "# Objective function\n",
    "def objective(params):\n",
    "\n",
    "    rf=RandomForestClassifier(random_state=SEED,**params)\n",
    "\n",
    "    \"\"\"\n",
    "    score = cross_val_score(estimator=xgboost,\n",
    "                            X=X_train_,\n",
    "                            y=y_train_,\n",
    "                            cv=ps,\n",
    "                            scoring='f1',\n",
    "                            n_jobs=-1).mean()\n",
    "    \"\"\"\n",
    "    rf.fit(X_train,y_train)\n",
    "    y_pred = rf.predict(X_valid)\n",
    "    score = f1_score(y_valid,y_pred)\n",
    "    #score = recall_score(y_valid, y_pred)\n",
    "\n",
    "    # Loss is negative score\n",
    "    loss = - score\n",
    "\n",
    "    # Dictionary with information for evaluation\n",
    "    return {'loss': loss, 'params': params, 'status': STATUS_OK}"
   ]
  },
  {
   "cell_type": "code",
   "execution_count": null,
   "id": "6353ccbf-aa85-420c-8156-26f638413c3d",
   "metadata": {},
   "outputs": [],
   "source": [
    "\n"
   ]
  },
  {
   "cell_type": "code",
   "execution_count": 22,
   "id": "252463cb-87cb-4fb4-9b00-06835ceee01d",
   "metadata": {},
   "outputs": [
    {
     "name": "stdout",
     "output_type": "stream",
     "text": [
      "--------------------------------------------------------------------------------\n",
      "--------------------------------------------------------------------------------\n",
      "Sim id: 0\n",
      "--------------------------------------------------------------------------------\n",
      "100%|██████████| 10/10 [02:47<00:00, 16.79s/trial, best loss: -0.9723947550034506]\n",
      "Training time: 167.91s\n",
      "--------------------------------------------------------------------------------\n",
      "--------------------------------------------------------------------------------\n",
      "Sim id: 1\n",
      "--------------------------------------------------------------------------------\n",
      "100%|██████████| 10/10 [02:47<00:00, 16.78s/trial, best loss: -0.9734391169368747]\n",
      "Training time: 167.80s\n",
      "--------------------------------------------------------------------------------\n",
      "--------------------------------------------------------------------------------\n",
      "Sim id: 2\n",
      "--------------------------------------------------------------------------------\n",
      "100%|██████████| 10/10 [03:16<00:00, 19.62s/trial, best loss: -0.9713891761461565]\n",
      "Training time: 196.20s\n",
      "--------------------------------------------------------------------------------\n",
      "--------------------------------------------------------------------------------\n",
      "Sim id: 3\n",
      "--------------------------------------------------------------------------------\n",
      "100%|██████████| 10/10 [03:06<00:00, 18.62s/trial, best loss: -0.9737931034482759]\n",
      "Training time: 186.19s\n",
      "--------------------------------------------------------------------------------\n",
      "--------------------------------------------------------------------------------\n",
      "Sim id: 4\n",
      "--------------------------------------------------------------------------------\n",
      "100%|██████████| 10/10 [02:46<00:00, 16.66s/trial, best loss: -0.970010341261634]\n",
      "Training time: 166.57s\n",
      "--------------------------------------------------------------------------------\n",
      "--------------------------------------------------------------------------------\n",
      "Sim id: 5\n",
      "--------------------------------------------------------------------------------\n",
      "100%|██████████| 10/10 [02:17<00:00, 13.73s/trial, best loss: -0.9604441360166551]\n",
      "Training time: 137.32s\n",
      "--------------------------------------------------------------------------------\n",
      "--------------------------------------------------------------------------------\n",
      "Sim id: 6\n",
      "--------------------------------------------------------------------------------\n",
      "100%|██████████| 10/10 [03:45<00:00, 22.52s/trial, best loss: -0.9710344827586207]\n",
      "Training time: 225.21s\n",
      "--------------------------------------------------------------------------------\n",
      "--------------------------------------------------------------------------------\n",
      "Sim id: 7\n",
      "--------------------------------------------------------------------------------\n",
      "100%|██████████| 10/10 [03:12<00:00, 19.28s/trial, best loss: -0.9772883688919477]\n",
      "Training time: 192.85s\n",
      "--------------------------------------------------------------------------------\n",
      "--------------------------------------------------------------------------------\n",
      "Sim id: 8\n",
      "--------------------------------------------------------------------------------\n",
      "100%|██████████| 10/10 [04:21<00:00, 26.12s/trial, best loss: -0.9654218533886585]\n",
      "Training time: 261.20s\n",
      "--------------------------------------------------------------------------------\n",
      "--------------------------------------------------------------------------------\n",
      "Sim id: 9\n",
      "--------------------------------------------------------------------------------\n",
      "100%|██████████| 10/10 [02:48<00:00, 16.90s/trial, best loss: -0.9759615384615385]\n",
      "Training time: 168.96s\n"
     ]
    }
   ],
   "source": [
    "best_models = []\n",
    "times_train = []\n",
    "for i in range(NUM_SIMS):\n",
    "    print(80*\"-\")\n",
    "    print(80*\"-\")\n",
    "    print(f\"Sim id: {i}\")\n",
    "    print(80*\"-\")\n",
    "    start_time = default_timer()\n",
    "    SEED = SEED_ORIG + i\n",
    "    best = fmin(fn = objective, space = space, algo = tpe.suggest, max_evals = 10, trials = Trials(), rstate=rstate)\n",
    "    best_models.append(best)\n",
    "    end_time = default_timer()\n",
    "    times_train.append(end_time-start_time)\n",
    "    print(f\"Training time: {end_time-start_time:.2f}s\")"
   ]
  },
  {
   "cell_type": "code",
   "execution_count": 23,
   "id": "eed62bdc-c306-4ef0-9ebb-093ed54e63a9",
   "metadata": {},
   "outputs": [
    {
     "data": {
      "text/plain": [
       "{'max_depth': 5,\n",
       " 'min_samples_leaf': 0,\n",
       " 'min_samples_split': 1,\n",
       " 'n_estimators': 0}"
      ]
     },
     "execution_count": 23,
     "metadata": {},
     "output_type": "execute_result"
    }
   ],
   "source": [
    "# best hyperparameters\n",
    "best"
   ]
  },
  {
   "cell_type": "code",
   "execution_count": 24,
   "id": "e93509c2-f0a3-49a6-8bf2-6d0e2ef1a846",
   "metadata": {},
   "outputs": [
    {
     "name": "stdout",
     "output_type": "stream",
     "text": [
      "--------------------------------------------------------------------------------\n",
      "--------------------------------------------------------------------------------\n",
      "Sim id: 0\n",
      "--------------------------------------------------------------------------------\n",
      "Evaluation time: 0.22s\n",
      "--------------------------------------------------------------------------------\n",
      "--------------------------------------------------------------------------------\n",
      "Sim id: 1\n",
      "--------------------------------------------------------------------------------\n",
      "Evaluation time: 0.39s\n",
      "--------------------------------------------------------------------------------\n",
      "--------------------------------------------------------------------------------\n",
      "Sim id: 2\n",
      "--------------------------------------------------------------------------------\n",
      "Evaluation time: 0.06s\n",
      "--------------------------------------------------------------------------------\n",
      "--------------------------------------------------------------------------------\n",
      "Sim id: 3\n",
      "--------------------------------------------------------------------------------\n",
      "Evaluation time: 0.48s\n",
      "--------------------------------------------------------------------------------\n",
      "--------------------------------------------------------------------------------\n",
      "Sim id: 4\n",
      "--------------------------------------------------------------------------------\n",
      "Evaluation time: 0.63s\n",
      "--------------------------------------------------------------------------------\n",
      "--------------------------------------------------------------------------------\n",
      "Sim id: 5\n",
      "--------------------------------------------------------------------------------\n",
      "Evaluation time: 0.22s\n",
      "--------------------------------------------------------------------------------\n",
      "--------------------------------------------------------------------------------\n",
      "Sim id: 6\n",
      "--------------------------------------------------------------------------------\n",
      "Evaluation time: 0.71s\n",
      "--------------------------------------------------------------------------------\n",
      "--------------------------------------------------------------------------------\n",
      "Sim id: 7\n",
      "--------------------------------------------------------------------------------\n",
      "Evaluation time: 0.44s\n",
      "--------------------------------------------------------------------------------\n",
      "--------------------------------------------------------------------------------\n",
      "Sim id: 8\n",
      "--------------------------------------------------------------------------------\n",
      "Evaluation time: 0.54s\n",
      "--------------------------------------------------------------------------------\n",
      "--------------------------------------------------------------------------------\n",
      "Sim id: 9\n",
      "--------------------------------------------------------------------------------\n",
      "Evaluation time: 0.06s\n"
     ]
    }
   ],
   "source": [
    "results_valid = []\n",
    "results_test = []\n",
    "times_eval = []\n",
    "for i in range(NUM_SIMS):\n",
    "    print(80*\"-\")\n",
    "    print(80*\"-\")\n",
    "    print(f\"Sim id: {i}\")\n",
    "    print(80*\"-\")\n",
    "    \n",
    "    SEED = SEED_ORIG + i\n",
    "    \n",
    "    # Train model using the best parameters\n",
    "    rf_bo = RandomForestClassifier(random_state=SEED,\n",
    "                               n_estimators=space_eval(space, best_models[i])[\"n_estimators\"],\n",
    "                               max_depth=space_eval(space,best_models[i])[\"max_depth\"],\n",
    "                               min_samples_split=space_eval(space,best_models[i])[\"min_samples_split\"],\n",
    "                               min_samples_leaf=space_eval(space,best_models[i])[\"min_samples_leaf\"]\n",
    "                              ).fit(X_train,y_train)\n",
    "    \n",
    "    start_time = default_timer()\n",
    "    y_pred = rf_bo.predict(X_valid)\n",
    "    recall = recall_score(y_valid, y_pred)\n",
    "    f1score = f1_score(y_valid,y_pred)\n",
    "    mcc = matthews_corrcoef(y_valid, y_pred)\n",
    "    acc = accuracy_score(y_valid, y_pred)\n",
    "    precision = precision_score(y_valid, y_pred, average='macro')\n",
    "    results_temp = {}\n",
    "    results_temp[\"recall\"] = recall\n",
    "    results_temp[\"f1score\"] = f1score\n",
    "    results_temp[\"mcc\"] = mcc\n",
    "    results_temp[\"accuracy\"] = acc\n",
    "    results_temp[\"precision\"] = precision\n",
    "    results_valid.append(results_temp)\n",
    "    \n",
    "    y_pred = rf_bo.predict(X_test)\n",
    "    recall = recall_score(y_test, y_pred)\n",
    "    f1score = f1_score(y_test,y_pred)\n",
    "    mcc = matthews_corrcoef(y_test, y_pred)\n",
    "    acc = accuracy_score(y_test, y_pred)\n",
    "    precision = precision_score(y_test, y_pred, average='macro')\n",
    "    results_temp = {}\n",
    "    results_temp[\"recall\"] = recall\n",
    "    results_temp[\"f1score\"] = f1score\n",
    "    results_temp[\"mcc\"] = mcc\n",
    "    results_temp[\"accuracy\"] = acc\n",
    "    results_temp[\"precision\"] = precision\n",
    "    results_test.append(results_temp)\n",
    "    \n",
    "    end_time = default_timer()\n",
    "    times_eval.append(end_time-start_time)\n",
    "    print(f\"Evaluation time: {end_time-start_time:.2f}s\")"
   ]
  },
  {
   "cell_type": "code",
   "execution_count": 25,
   "id": "c40aece3-5931-41cf-a59b-d0d91c54a4b4",
   "metadata": {},
   "outputs": [
    {
     "data": {
      "text/plain": [
       "[{'recall': 0.9127906976744186,\n",
       "  'f1score': 0.8674033149171271,\n",
       "  'mcc': 0.8538348765499884,\n",
       "  'accuracy': 0.9731843575418995,\n",
       "  'precision': 0.9084703947368421},\n",
       " {'recall': 0.9127906976744186,\n",
       "  'f1score': 0.8626373626373627,\n",
       "  'mcc': 0.8487302940523799,\n",
       "  'accuracy': 0.9720670391061452,\n",
       "  'precision': 0.9041607999582812},\n",
       " {'recall': 0.9127906976744186,\n",
       "  'f1score': 0.8650137741046832,\n",
       "  'mcc': 0.8512730466213766,\n",
       "  'accuracy': 0.9726256983240223,\n",
       "  'precision': 0.9063043328782059},\n",
       " {'recall': 0.9127906976744186,\n",
       "  'f1score': 0.8698060941828255,\n",
       "  'mcc': 0.8564160343643948,\n",
       "  'accuracy': 0.9737430167597766,\n",
       "  'precision': 0.9106593432015044},\n",
       " {'recall': 0.9127906976744186,\n",
       "  'f1score': 0.8602739726027396,\n",
       "  'mcc': 0.8462063728498886,\n",
       "  'accuracy': 0.9715083798882681,\n",
       "  'precision': 0.9020394457223875},\n",
       " {'recall': 0.9127906976744186,\n",
       "  'f1score': 0.8486486486486486,\n",
       "  'mcc': 0.8338609318958874,\n",
       "  'accuracy': 0.9687150837988827,\n",
       "  'precision': 0.8917535911882646},\n",
       " {'recall': 0.9127906976744186,\n",
       "  'f1score': 0.8650137741046832,\n",
       "  'mcc': 0.8512730466213766,\n",
       "  'accuracy': 0.9726256983240223,\n",
       "  'precision': 0.9063043328782059},\n",
       " {'recall': 0.9127906976744186,\n",
       "  'f1score': 0.8674033149171271,\n",
       "  'mcc': 0.8538348765499884,\n",
       "  'accuracy': 0.9731843575418995,\n",
       "  'precision': 0.9084703947368421},\n",
       " {'recall': 0.9127906976744186,\n",
       "  'f1score': 0.8532608695652174,\n",
       "  'mcc': 0.8387452033202765,\n",
       "  'accuracy': 0.9698324022346368,\n",
       "  'precision': 0.895805059790541},\n",
       " {'recall': 0.9069767441860465,\n",
       "  'f1score': 0.861878453038674,\n",
       "  'mcc': 0.8476808019414742,\n",
       "  'accuracy': 0.9720670391061452,\n",
       "  'precision': 0.9055263157894737}]"
      ]
     },
     "execution_count": 25,
     "metadata": {},
     "output_type": "execute_result"
    }
   ],
   "source": [
    "results_test"
   ]
  },
  {
   "cell_type": "code",
   "execution_count": 26,
   "id": "5974f267-3b1b-4a55-9947-cb107ca26ddd",
   "metadata": {},
   "outputs": [
    {
     "data": {
      "text/plain": [
       "[167.9142983749989,\n",
       " 167.80324730799475,\n",
       " 196.19739941100124,\n",
       " 186.19431457899918,\n",
       " 166.5695278409985,\n",
       " 137.320864789006,\n",
       " 225.20823816600023,\n",
       " 192.8496089409964,\n",
       " 261.19711980399734,\n",
       " 168.96166101699782]"
      ]
     },
     "execution_count": 26,
     "metadata": {},
     "output_type": "execute_result"
    }
   ],
   "source": [
    "times_train"
   ]
  },
  {
   "cell_type": "code",
   "execution_count": 27,
   "id": "82c24ad0-7d46-4208-8a16-3f312e05908c",
   "metadata": {},
   "outputs": [
    {
     "data": {
      "text/plain": [
       "[{'recall': 0.9703856749311295,\n",
       "  'f1score': 0.9723947550034506,\n",
       "  'mcc': 0.9453758931086814,\n",
       "  'accuracy': 0.9726869238648003,\n",
       "  'precision': 0.9727084458347206},\n",
       " {'recall': 0.971763085399449,\n",
       "  'f1score': 0.9734391169368747,\n",
       "  'mcc': 0.9474224882212003,\n",
       "  'accuracy': 0.9737111642198703,\n",
       "  'precision': 0.9737278113683017},\n",
       " {'recall': 0.9703856749311295,\n",
       "  'f1score': 0.9713891761461565,\n",
       "  'mcc': 0.9433222263510977,\n",
       "  'accuracy': 0.9716626835097303,\n",
       "  'precision': 0.9716703504746983},\n",
       " {'recall': 0.9724517906336089,\n",
       "  'f1score': 0.9737931034482759,\n",
       "  'mcc': 0.9481037015497042,\n",
       "  'accuracy': 0.9740525776715603,\n",
       "  'precision': 0.9740646718470796},\n",
       " {'recall': 0.96900826446281,\n",
       "  'f1score': 0.970010341261634,\n",
       "  'mcc': 0.9405906662464595,\n",
       "  'accuracy': 0.9702970297029703,\n",
       "  'precision': 0.9703045436741089},\n",
       " {'recall': 0.953168044077135,\n",
       "  'f1score': 0.9604441360166551,\n",
       "  'mcc': 0.9222461856655704,\n",
       "  'accuracy': 0.9610788665073404,\n",
       "  'precision': 0.9612342960575115},\n",
       " {'recall': 0.9696969696969697,\n",
       "  'f1score': 0.9710344827586207,\n",
       "  'mcc': 0.9426405405803033,\n",
       "  'accuracy': 0.9713212700580403,\n",
       "  'precision': 0.9713330174848263},\n",
       " {'recall': 0.977961432506887,\n",
       "  'f1score': 0.9772883688919477,\n",
       "  'mcc': 0.9549315569177171,\n",
       "  'accuracy': 0.9774667121884603,\n",
       "  'precision': 0.9774606579162102},\n",
       " {'recall': 0.9614325068870524,\n",
       "  'f1score': 0.9654218533886585,\n",
       "  'mcc': 0.9317388463002416,\n",
       "  'accuracy': 0.9658586548310003,\n",
       "  'precision': 0.9659176553988509},\n",
       " {'recall': 0.9786501377410468,\n",
       "  'f1score': 0.9759615384615385,\n",
       "  'mcc': 0.9522150711281292,\n",
       "  'accuracy': 0.9761010583817002,\n",
       "  'precision': 0.9760924401092906}]"
      ]
     },
     "execution_count": 27,
     "metadata": {},
     "output_type": "execute_result"
    }
   ],
   "source": [
    "results_valid"
   ]
  },
  {
   "cell_type": "code",
   "execution_count": 28,
   "id": "af3a9631-679c-4b5f-9551-643958d8d1af",
   "metadata": {},
   "outputs": [],
   "source": [
    "# validation f1-scores\n",
    "values = [results_valid[i][\"f1score\"] for i in range(NUM_SIMS)]"
   ]
  },
  {
   "cell_type": "code",
   "execution_count": 29,
   "id": "7b1e5741-47fe-4c23-862b-6a16f435f6f6",
   "metadata": {},
   "outputs": [
    {
     "data": {
      "text/plain": [
       "(7, 0.9772883688919477)"
      ]
     },
     "execution_count": 29,
     "metadata": {},
     "output_type": "execute_result"
    }
   ],
   "source": [
    "# the best f1-score model\n",
    "ind = np.argmax(np.array(values))\n",
    "ind, np.max(np.array(values))"
   ]
  },
  {
   "cell_type": "code",
   "execution_count": 30,
   "id": "b3c7c216-dc63-4fbf-937a-ab6d6e7c209d",
   "metadata": {},
   "outputs": [
    {
     "data": {
      "text/plain": [
       "{'recall': 0.9127906976744186,\n",
       " 'f1score': 0.8674033149171271,\n",
       " 'mcc': 0.8538348765499884,\n",
       " 'accuracy': 0.9731843575418995,\n",
       " 'precision': 0.9084703947368421}"
      ]
     },
     "execution_count": 30,
     "metadata": {},
     "output_type": "execute_result"
    }
   ],
   "source": [
    "# results corresponding to the best validation f1-score\n",
    "results_test[ind]"
   ]
  },
  {
   "cell_type": "code",
   "execution_count": 31,
   "id": "adf374df-8211-4fac-aad9-b6f4691e5e73",
   "metadata": {},
   "outputs": [
    {
     "data": {
      "text/plain": [
       "187.02162802309903"
      ]
     },
     "execution_count": 31,
     "metadata": {},
     "output_type": "execute_result"
    }
   ],
   "source": [
    "# average training times\n",
    "np.mean(times_train)"
   ]
  },
  {
   "cell_type": "code",
   "execution_count": 32,
   "id": "a41959dd-a81f-4ef0-9cca-d892eeef1220",
   "metadata": {},
   "outputs": [
    {
     "data": {
      "text/plain": [
       "0.3746520758984843"
      ]
     },
     "execution_count": 32,
     "metadata": {},
     "output_type": "execute_result"
    }
   ],
   "source": [
    "# average inference times\n",
    "np.mean(times_eval)"
   ]
  },
  {
   "cell_type": "code",
   "execution_count": 33,
   "id": "eecbda3b-6771-4fcf-8257-2302991c470a",
   "metadata": {},
   "outputs": [
    {
     "data": {
      "text/plain": [
       "0.9711176872313813"
      ]
     },
     "execution_count": 33,
     "metadata": {},
     "output_type": "execute_result"
    }
   ],
   "source": [
    "# average validation f1 scores\n",
    "valid_f1score_values = [results_valid[i][\"f1score\"] for i in range(NUM_SIMS)]\n",
    "np.mean(valid_f1score_values)"
   ]
  },
  {
   "cell_type": "code",
   "execution_count": 34,
   "id": "b08a9354-2db1-40c1-8191-15fc9520367c",
   "metadata": {},
   "outputs": [
    {
     "data": {
      "text/plain": [
       "0.8621339578719087"
      ]
     },
     "execution_count": 34,
     "metadata": {},
     "output_type": "execute_result"
    }
   ],
   "source": [
    "# average test f1 scores\n",
    "test_f1score_values = [results_test[i][\"f1score\"] for i in range(NUM_SIMS)]\n",
    "np.mean(test_f1score_values)"
   ]
  },
  {
   "cell_type": "code",
   "execution_count": 35,
   "id": "dc609dfc-1bca-4c54-8251-02d1cd164dd3",
   "metadata": {},
   "outputs": [
    {
     "data": {
      "text/plain": [
       "0.8481855484767031"
      ]
     },
     "execution_count": 35,
     "metadata": {},
     "output_type": "execute_result"
    }
   ],
   "source": [
    "# average test mcc scores\n",
    "test_mcc_values = [results_test[i][\"mcc\"] for i in range(NUM_SIMS)]\n",
    "np.mean(test_mcc_values)"
   ]
  },
  {
   "cell_type": "code",
   "execution_count": 36,
   "id": "1d3b32a0-33c6-4fa7-87c4-a78cde514587",
   "metadata": {},
   "outputs": [
    {
     "data": {
      "text/plain": [
       "0.9719553072625698"
      ]
     },
     "execution_count": 36,
     "metadata": {},
     "output_type": "execute_result"
    }
   ],
   "source": [
    "# average test accuracy scores\n",
    "test_acc_values = [results_test[i][\"accuracy\"] for i in range(NUM_SIMS)]\n",
    "np.mean(test_acc_values)"
   ]
  },
  {
   "cell_type": "code",
   "execution_count": 37,
   "id": "a6fe4844-99ac-49ed-9c49-309c372241e5",
   "metadata": {},
   "outputs": [
    {
     "data": {
      "text/plain": [
       "0.9039494010880549"
      ]
     },
     "execution_count": 37,
     "metadata": {},
     "output_type": "execute_result"
    }
   ],
   "source": [
    "# average test precision scores\n",
    "test_precision_values = [results_test[i][\"precision\"] for i in range(NUM_SIMS)]\n",
    "np.mean(test_precision_values)"
   ]
  },
  {
   "cell_type": "code",
   "execution_count": 38,
   "id": "abfb6191-458b-49e0-8a41-ce1aa5781908",
   "metadata": {},
   "outputs": [
    {
     "data": {
      "text/plain": [
       "0.9122093023255813"
      ]
     },
     "execution_count": 38,
     "metadata": {},
     "output_type": "execute_result"
    }
   ],
   "source": [
    "# average test recall scores\n",
    "test_recall_values = [results_test[i][\"recall\"] for i in range(NUM_SIMS)]\n",
    "np.mean(test_recall_values)"
   ]
  },
  {
   "cell_type": "code",
   "execution_count": null,
   "id": "be3512ca-faa2-4eb3-86d4-067c2613eb92",
   "metadata": {},
   "outputs": [],
   "source": []
  }
 ],
 "metadata": {
  "kernelspec": {
   "display_name": "Python 3",
   "language": "python",
   "name": "python3"
  },
  "language_info": {
   "codemirror_mode": {
    "name": "ipython",
    "version": 3
   },
   "file_extension": ".py",
   "mimetype": "text/x-python",
   "name": "python",
   "nbconvert_exporter": "python",
   "pygments_lexer": "ipython3",
   "version": "3.8.8"
  }
 },
 "nbformat": 4,
 "nbformat_minor": 5
}
